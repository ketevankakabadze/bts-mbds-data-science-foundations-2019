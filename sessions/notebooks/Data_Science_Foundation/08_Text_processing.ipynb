{
 "cells": [
  {
   "cell_type": "markdown",
   "metadata": {
    "colab_type": "text",
    "id": "_a2hajcA99-K"
   },
   "source": [
    "![BTS](https://github.com/vfp1/bts-mbds-data-science-foundations-2019/blob/master/sessions/img/Logo-BTS.jpg?raw=1)\n",
    "\n",
    "# Session 8: Text processing - Introduction to Spacy\n",
    "\n",
    "### Victor F. Pajuelo Madrigal <victor.pajuelo@bts.tech> - Data Science Foundations (2019-10-17)\n",
    "\n",
    "Open this notebook in Google Colaboratory: [![Open in Colab](https://colab.research.google.com/assets/colab-badge.svg)](https://colab.research.google.com/github/vfp1/bts-mbds-data-science-foundations-2019/blob/master/sessions/08_Text_processing.ipynb)\n",
    "\n",
    "**Resources:**\n"
   ]
  },
  {
   "cell_type": "markdown",
   "metadata": {
    "colab_type": "text",
    "id": "DTIcPknwQz5z"
   },
   "source": [
    "# Spacy installation\n",
    "\n",
    "```\n",
    "$ conda activate bts36\n",
    "$ conda install -c conda-forge spacy\n",
    "```\n",
    "\n"
   ]
  },
  {
   "cell_type": "markdown",
   "metadata": {
    "colab_type": "text",
    "id": "Oabpc-xuVxAQ"
   },
   "source": [
    "# Spacy introduction"
   ]
  },
  {
   "cell_type": "markdown",
   "metadata": {
    "colab_type": "text",
    "id": "2QHBivImfOvp"
   },
   "source": [
    "## Import language models \n",
    "\n",
    "\n",
    "\n",
    "```\n",
    "$ python -m spacy download en_core_web_sm\n",
    "$ python -m spacy download en\n",
    "```\n",
    "\n"
   ]
  },
  {
   "cell_type": "code",
   "execution_count": 1,
   "metadata": {
    "colab": {
     "base_uri": "https://localhost:8080/",
     "height": 88
    },
    "colab_type": "code",
    "id": "nPv81PAORYB7",
    "outputId": "1604fba5-07fc-4c25-d486-8d2fdd2cf623"
   },
   "outputs": [
    {
     "name": "stdout",
     "output_type": "stream",
     "text": [
      "Requirement already satisfied: en_core_web_sm==2.2.0 from https://github.com/explosion/spacy-models/releases/download/en_core_web_sm-2.2.0/en_core_web_sm-2.2.0.tar.gz#egg=en_core_web_sm==2.2.0 in /Users/ketevani/anaconda3/envs/bts36/lib/python3.6/site-packages (2.2.0)\n",
      "Requirement already satisfied: spacy>=2.2.0 in /Users/ketevani/anaconda3/envs/bts36/lib/python3.6/site-packages (from en_core_web_sm==2.2.0) (2.2.1)\n",
      "Requirement already satisfied: murmurhash<1.1.0,>=0.28.0 in /Users/ketevani/anaconda3/envs/bts36/lib/python3.6/site-packages (from spacy>=2.2.0->en_core_web_sm==2.2.0) (1.0.0)\n",
      "Requirement already satisfied: requests<3.0.0,>=2.13.0 in /Users/ketevani/anaconda3/envs/bts36/lib/python3.6/site-packages (from spacy>=2.2.0->en_core_web_sm==2.2.0) (2.22.0)\n",
      "Requirement already satisfied: preshed<3.1.0,>=3.0.2 in /Users/ketevani/anaconda3/envs/bts36/lib/python3.6/site-packages (from spacy>=2.2.0->en_core_web_sm==2.2.0) (3.0.2)\n",
      "Requirement already satisfied: blis<0.5.0,>=0.4.0 in /Users/ketevani/anaconda3/envs/bts36/lib/python3.6/site-packages (from spacy>=2.2.0->en_core_web_sm==2.2.0) (0.4.1)\n",
      "Requirement already satisfied: cymem<2.1.0,>=2.0.2 in /Users/ketevani/anaconda3/envs/bts36/lib/python3.6/site-packages (from spacy>=2.2.0->en_core_web_sm==2.2.0) (2.0.2)\n",
      "Requirement already satisfied: wasabi<1.1.0,>=0.2.0 in /Users/ketevani/anaconda3/envs/bts36/lib/python3.6/site-packages (from spacy>=2.2.0->en_core_web_sm==2.2.0) (0.2.2)\n",
      "Requirement already satisfied: plac<1.0.0,>=0.9.6 in /Users/ketevani/anaconda3/envs/bts36/lib/python3.6/site-packages (from spacy>=2.2.0->en_core_web_sm==2.2.0) (0.9.6)\n",
      "Requirement already satisfied: srsly<1.1.0,>=0.1.0 in /Users/ketevani/anaconda3/envs/bts36/lib/python3.6/site-packages (from spacy>=2.2.0->en_core_web_sm==2.2.0) (0.1.0)\n",
      "Requirement already satisfied: thinc<7.2.0,>=7.1.1 in /Users/ketevani/anaconda3/envs/bts36/lib/python3.6/site-packages (from spacy>=2.2.0->en_core_web_sm==2.2.0) (7.1.1)\n",
      "Requirement already satisfied: numpy>=1.15.0 in /Users/ketevani/anaconda3/envs/bts36/lib/python3.6/site-packages (from spacy>=2.2.0->en_core_web_sm==2.2.0) (1.17.2)\n",
      "Requirement already satisfied: certifi>=2017.4.17 in /Users/ketevani/anaconda3/envs/bts36/lib/python3.6/site-packages (from requests<3.0.0,>=2.13.0->spacy>=2.2.0->en_core_web_sm==2.2.0) (2019.9.11)\n",
      "Requirement already satisfied: chardet<3.1.0,>=3.0.2 in /Users/ketevani/anaconda3/envs/bts36/lib/python3.6/site-packages (from requests<3.0.0,>=2.13.0->spacy>=2.2.0->en_core_web_sm==2.2.0) (3.0.4)\n",
      "Requirement already satisfied: urllib3!=1.25.0,!=1.25.1,<1.26,>=1.21.1 in /Users/ketevani/anaconda3/envs/bts36/lib/python3.6/site-packages (from requests<3.0.0,>=2.13.0->spacy>=2.2.0->en_core_web_sm==2.2.0) (1.25.6)\n",
      "Requirement already satisfied: idna<2.9,>=2.5 in /Users/ketevani/anaconda3/envs/bts36/lib/python3.6/site-packages (from requests<3.0.0,>=2.13.0->spacy>=2.2.0->en_core_web_sm==2.2.0) (2.8)\n",
      "Requirement already satisfied: tqdm<5.0.0,>=4.10.0 in /Users/ketevani/anaconda3/envs/bts36/lib/python3.6/site-packages (from thinc<7.2.0,>=7.1.1->spacy>=2.2.0->en_core_web_sm==2.2.0) (4.36.1)\n",
      "\u001b[38;5;2m✔ Download and installation successful\u001b[0m\n",
      "You can now load the model via spacy.load('en_core_web_sm')\n"
     ]
    }
   ],
   "source": [
    "!python -m spacy download en_core_web_sm"
   ]
  },
  {
   "cell_type": "code",
   "execution_count": 2,
   "metadata": {
    "colab": {
     "base_uri": "https://localhost:8080/",
     "height": 156
    },
    "colab_type": "code",
    "id": "8mQRg-8jfzDI",
    "outputId": "fde47e21-fdaf-41ae-8dea-cf6321d1ade4"
   },
   "outputs": [
    {
     "name": "stdout",
     "output_type": "stream",
     "text": [
      "Requirement already satisfied: en_core_web_sm==2.2.0 from https://github.com/explosion/spacy-models/releases/download/en_core_web_sm-2.2.0/en_core_web_sm-2.2.0.tar.gz#egg=en_core_web_sm==2.2.0 in /Users/ketevani/anaconda3/envs/bts36/lib/python3.6/site-packages (2.2.0)\n",
      "Requirement already satisfied: spacy>=2.2.0 in /Users/ketevani/anaconda3/envs/bts36/lib/python3.6/site-packages (from en_core_web_sm==2.2.0) (2.2.1)\n",
      "Requirement already satisfied: plac<1.0.0,>=0.9.6 in /Users/ketevani/anaconda3/envs/bts36/lib/python3.6/site-packages (from spacy>=2.2.0->en_core_web_sm==2.2.0) (0.9.6)\n",
      "Requirement already satisfied: blis<0.5.0,>=0.4.0 in /Users/ketevani/anaconda3/envs/bts36/lib/python3.6/site-packages (from spacy>=2.2.0->en_core_web_sm==2.2.0) (0.4.1)\n",
      "Requirement already satisfied: murmurhash<1.1.0,>=0.28.0 in /Users/ketevani/anaconda3/envs/bts36/lib/python3.6/site-packages (from spacy>=2.2.0->en_core_web_sm==2.2.0) (1.0.0)\n",
      "Requirement already satisfied: preshed<3.1.0,>=3.0.2 in /Users/ketevani/anaconda3/envs/bts36/lib/python3.6/site-packages (from spacy>=2.2.0->en_core_web_sm==2.2.0) (3.0.2)\n",
      "Requirement already satisfied: srsly<1.1.0,>=0.1.0 in /Users/ketevani/anaconda3/envs/bts36/lib/python3.6/site-packages (from spacy>=2.2.0->en_core_web_sm==2.2.0) (0.1.0)\n",
      "Requirement already satisfied: cymem<2.1.0,>=2.0.2 in /Users/ketevani/anaconda3/envs/bts36/lib/python3.6/site-packages (from spacy>=2.2.0->en_core_web_sm==2.2.0) (2.0.2)\n",
      "Requirement already satisfied: thinc<7.2.0,>=7.1.1 in /Users/ketevani/anaconda3/envs/bts36/lib/python3.6/site-packages (from spacy>=2.2.0->en_core_web_sm==2.2.0) (7.1.1)\n",
      "Requirement already satisfied: requests<3.0.0,>=2.13.0 in /Users/ketevani/anaconda3/envs/bts36/lib/python3.6/site-packages (from spacy>=2.2.0->en_core_web_sm==2.2.0) (2.22.0)\n",
      "Requirement already satisfied: wasabi<1.1.0,>=0.2.0 in /Users/ketevani/anaconda3/envs/bts36/lib/python3.6/site-packages (from spacy>=2.2.0->en_core_web_sm==2.2.0) (0.2.2)\n",
      "Requirement already satisfied: numpy>=1.15.0 in /Users/ketevani/anaconda3/envs/bts36/lib/python3.6/site-packages (from spacy>=2.2.0->en_core_web_sm==2.2.0) (1.17.2)\n",
      "Requirement already satisfied: tqdm<5.0.0,>=4.10.0 in /Users/ketevani/anaconda3/envs/bts36/lib/python3.6/site-packages (from thinc<7.2.0,>=7.1.1->spacy>=2.2.0->en_core_web_sm==2.2.0) (4.36.1)\n",
      "Requirement already satisfied: chardet<3.1.0,>=3.0.2 in /Users/ketevani/anaconda3/envs/bts36/lib/python3.6/site-packages (from requests<3.0.0,>=2.13.0->spacy>=2.2.0->en_core_web_sm==2.2.0) (3.0.4)\n",
      "Requirement already satisfied: idna<2.9,>=2.5 in /Users/ketevani/anaconda3/envs/bts36/lib/python3.6/site-packages (from requests<3.0.0,>=2.13.0->spacy>=2.2.0->en_core_web_sm==2.2.0) (2.8)\n",
      "Requirement already satisfied: urllib3!=1.25.0,!=1.25.1,<1.26,>=1.21.1 in /Users/ketevani/anaconda3/envs/bts36/lib/python3.6/site-packages (from requests<3.0.0,>=2.13.0->spacy>=2.2.0->en_core_web_sm==2.2.0) (1.25.6)\n",
      "Requirement already satisfied: certifi>=2017.4.17 in /Users/ketevani/anaconda3/envs/bts36/lib/python3.6/site-packages (from requests<3.0.0,>=2.13.0->spacy>=2.2.0->en_core_web_sm==2.2.0) (2019.9.11)\n",
      "\u001b[38;5;2m✔ Download and installation successful\u001b[0m\n",
      "You can now load the model via spacy.load('en_core_web_sm')\n",
      "\u001b[38;5;2m✔ Linking successful\u001b[0m\n",
      "/Users/ketevani/anaconda3/envs/bts36/lib/python3.6/site-packages/en_core_web_sm\n",
      "-->\n",
      "/Users/ketevani/anaconda3/envs/bts36/lib/python3.6/site-packages/spacy/data/en\n",
      "You can now load the model via spacy.load('en')\n"
     ]
    }
   ],
   "source": [
    "!python -m spacy download en"
   ]
  },
  {
   "cell_type": "markdown",
   "metadata": {
    "colab_type": "text",
    "id": "UmwJHdwEU4uM"
   },
   "source": [
    "Once the model is downloaded and installed, we can load it as follows:"
   ]
  },
  {
   "cell_type": "code",
   "execution_count": 3,
   "metadata": {
    "colab": {},
    "colab_type": "code",
    "id": "IuuFgOdRRWif"
   },
   "outputs": [],
   "source": [
    "import spacy\n",
    "nlp = spacy.load(\"en_core_web_sm\")"
   ]
  },
  {
   "cell_type": "markdown",
   "metadata": {
    "colab_type": "text",
    "id": "oDZS9UkeY3Td"
   },
   "source": [
    "## Linguistic annotations\n",
    "\n",
    "spaCy's linguistic annotation types:\n",
    "\n",
    "*   Word types\n",
    "*   Parts of speech\n",
    "*   How words are related to each other\n",
    "\n"
   ]
  },
  {
   "cell_type": "markdown",
   "metadata": {
    "colab_type": "text",
    "id": "b-H7rJT8WNrg"
   },
   "source": [
    "### Word and sentence tokenization"
   ]
  },
  {
   "cell_type": "code",
   "execution_count": 4,
   "metadata": {
    "colab": {},
    "colab_type": "code",
    "id": "Nuob2h_df3mp"
   },
   "outputs": [],
   "source": [
    "import spacy\n",
    "nlp = spacy.load(\"en_core_web_sm\")"
   ]
  },
  {
   "cell_type": "code",
   "execution_count": 5,
   "metadata": {
    "colab": {},
    "colab_type": "code",
    "id": "kNGRET97Wj9R"
   },
   "outputs": [],
   "source": [
    "text_sentence_1 = \"This is a class about text processing.\""
   ]
  },
  {
   "cell_type": "code",
   "execution_count": 6,
   "metadata": {
    "colab": {
     "base_uri": "https://localhost:8080/",
     "height": 34
    },
    "colab_type": "code",
    "id": "MX8sFJkkW1OJ",
    "outputId": "5231e5c0-db5f-4797-bec8-f161eecbb316"
   },
   "outputs": [
    {
     "data": {
      "text/plain": [
       "spacy.tokens.doc.Doc"
      ]
     },
     "execution_count": 6,
     "metadata": {},
     "output_type": "execute_result"
    }
   ],
   "source": [
    "# We pass the sentence to the doc\n",
    "doc1 = nlp(text_sentence_1) #შეგვიძლია დავყოთ მაგრამ არა როგორც split რადგან ის გააკეთებს lists, ამ მეთოდით შეგვიძლია სიტყვების განსაზღვრა\n",
    "type(doc1)"
   ]
  },
  {
   "cell_type": "markdown",
   "metadata": {
    "colab_type": "text",
    "id": "BX67YuReZgbC"
   },
   "source": [
    "[What is a **Doc**?](https://spacy.io/api/doc) It is a sequence of Token objects. Access sentences and named entities, export annotations to numpy arrays, losslessly serialize to compressed binary strings.\n",
    "\n",
    "And [what is a **Token**?](https://spacy.io/api/token) It is a word, punctuation symbol, whitespace, etcetera."
   ]
  },
  {
   "cell_type": "code",
   "execution_count": 7,
   "metadata": {
    "colab": {
     "base_uri": "https://localhost:8080/",
     "height": 153
    },
    "colab_type": "code",
    "id": "aLRjNrFIX87p",
    "outputId": "ded66c0b-ec86-4cb9-d73d-bb01dec9d2e4"
   },
   "outputs": [
    {
     "name": "stdout",
     "output_type": "stream",
     "text": [
      "This\n",
      "is\n",
      "a\n",
      "class\n",
      "about\n",
      "text\n",
      "processing\n",
      ".\n"
     ]
    }
   ],
   "source": [
    "# Let's tokenize th sentence\n",
    "for token in doc1:\n",
    "    print(token)"
   ]
  },
  {
   "cell_type": "code",
   "execution_count": 8,
   "metadata": {
    "colab": {
     "base_uri": "https://localhost:8080/",
     "height": 34
    },
    "colab_type": "code",
    "id": "iHZ3mJkDbsHk",
    "outputId": "2eda94ce-1c1d-4cd6-91e8-1bba2433cd0b"
   },
   "outputs": [
    {
     "data": {
      "text/plain": [
       "This"
      ]
     },
     "execution_count": 8,
     "metadata": {},
     "output_type": "execute_result"
    }
   ],
   "source": [
    "doc1[0]"
   ]
  },
  {
   "cell_type": "code",
   "execution_count": 9,
   "metadata": {
    "colab": {
     "base_uri": "https://localhost:8080/",
     "height": 34
    },
    "colab_type": "code",
    "id": "kCs2uD4ubz7h",
    "outputId": "62a77f44-2ce8-4cd3-f9ed-84bd80c2cf66"
   },
   "outputs": [
    {
     "data": {
      "text/plain": [
       "."
      ]
     },
     "execution_count": 9,
     "metadata": {},
     "output_type": "execute_result"
    }
   ],
   "source": [
    "doc1[-1]"
   ]
  },
  {
   "cell_type": "markdown",
   "metadata": {
    "colab_type": "text",
    "id": "MwZLWEsWaill"
   },
   "source": [
    "#### Linguistic features/annotation\n",
    "spaCy does not only have a record the position as if we will be splitting the sentence. spaCy records the grammatical structure of the sentence. \n",
    "\n",
    "So after tokenization (splitting the sentence into the individual components), spaCy can do **Part-of-speech** (POS) tagging. This is done by using spaCy's statistical models to make predictions of what each token is. For instance, a word following \"the\" in the English is most likely a noun. And that's why we need language models.\n",
    "\n",
    "---\n",
    "\n",
    "We have the following features that we can get per token:\n",
    "\n",
    "*   **Text**: The original word text.\n",
    "*   **Lemma**: The base form of the word.\n",
    "*   **POS**: The simple part-of-speech tag.\n",
    "*   **Tag**: The detailed part-of-speech tag.\n",
    "*   **Dep**: Syntactic dependency, i.e. the relation between tokens.\n",
    "*   **Shape**: The word shape – capitalization, punctuation, digits.\n",
    "*   **is alpha**: Is the token an alpha character?\n",
    "*   **is stop**: Is the token part of a stop list, i.e. the most common words of the language?\n",
    "\n",
    "\n",
    "\n"
   ]
  },
  {
   "cell_type": "code",
   "execution_count": 10,
   "metadata": {
    "colab": {
     "base_uri": "https://localhost:8080/",
     "height": 255
    },
    "colab_type": "code",
    "id": "jfW-ItssX_V3",
    "outputId": "f7dcc408-3086-4905-80dc-9cbf6302e346"
   },
   "outputs": [
    {
     "name": "stdout",
     "output_type": "stream",
     "text": [
      "The DET det\n",
      "coffee NOUN nsubj\n",
      "this DET det\n",
      "morning NOUN npadvmod\n",
      "costed VERB ccomp\n",
      "me PRON dative\n",
      "$ SYM nmod\n",
      "4 NUM dobj\n",
      ", PUNCT punct\n",
      "that PRON nsubj\n",
      "is AUX ROOT\n",
      "extremely ADV advmod\n",
      "expensive ADJ acomp\n",
      "! PUNCT punct\n"
     ]
    }
   ],
   "source": [
    "text_sentence_2 = \"The coffee this morning costed me $4, that is extremely expensive!\"\n",
    "doc2 = nlp(text_sentence_2)\n",
    "\n",
    "for token in doc2:\n",
    "    print(token.text, token.pos_, token.dep_)"
   ]
  },
  {
   "cell_type": "code",
   "execution_count": 11,
   "metadata": {},
   "outputs": [
    {
     "data": {
      "text/plain": [
       "'noun phrase as adverbial modifier'"
      ]
     },
     "execution_count": 11,
     "metadata": {},
     "output_type": "execute_result"
    }
   ],
   "source": [
    "spacy.explain(\"npadvmod\")"
   ]
  },
  {
   "cell_type": "code",
   "execution_count": 12,
   "metadata": {
    "colab": {
     "base_uri": "https://localhost:8080/",
     "height": 483
    },
    "colab_type": "code",
    "id": "4wRjlK2uh4pL",
    "outputId": "44061668-b43e-4d0d-b1c1-4a579a9499c5"
   },
   "outputs": [
    {
     "data": {
      "text/html": [
       "<div>\n",
       "<style scoped>\n",
       "    .dataframe tbody tr th:only-of-type {\n",
       "        vertical-align: middle;\n",
       "    }\n",
       "\n",
       "    .dataframe tbody tr th {\n",
       "        vertical-align: top;\n",
       "    }\n",
       "\n",
       "    .dataframe thead th {\n",
       "        text-align: right;\n",
       "    }\n",
       "</style>\n",
       "<table border=\"1\" class=\"dataframe\">\n",
       "  <thead>\n",
       "    <tr style=\"text-align: right;\">\n",
       "      <th></th>\n",
       "      <th>TEXT</th>\n",
       "      <th>LEMMA</th>\n",
       "      <th>POS</th>\n",
       "      <th>TAG</th>\n",
       "      <th>DEP</th>\n",
       "      <th>SHAPE</th>\n",
       "      <th>ALPHA</th>\n",
       "      <th>STOP</th>\n",
       "    </tr>\n",
       "  </thead>\n",
       "  <tbody>\n",
       "    <tr>\n",
       "      <td>0</td>\n",
       "      <td>The</td>\n",
       "      <td>the</td>\n",
       "      <td>DET</td>\n",
       "      <td>DT</td>\n",
       "      <td>det</td>\n",
       "      <td>Xxx</td>\n",
       "      <td>True</td>\n",
       "      <td>True</td>\n",
       "    </tr>\n",
       "    <tr>\n",
       "      <td>1</td>\n",
       "      <td>coffee</td>\n",
       "      <td>coffee</td>\n",
       "      <td>NOUN</td>\n",
       "      <td>NN</td>\n",
       "      <td>nsubj</td>\n",
       "      <td>xxxx</td>\n",
       "      <td>True</td>\n",
       "      <td>False</td>\n",
       "    </tr>\n",
       "    <tr>\n",
       "      <td>2</td>\n",
       "      <td>this</td>\n",
       "      <td>this</td>\n",
       "      <td>DET</td>\n",
       "      <td>DT</td>\n",
       "      <td>det</td>\n",
       "      <td>xxxx</td>\n",
       "      <td>True</td>\n",
       "      <td>True</td>\n",
       "    </tr>\n",
       "    <tr>\n",
       "      <td>3</td>\n",
       "      <td>morning</td>\n",
       "      <td>morning</td>\n",
       "      <td>NOUN</td>\n",
       "      <td>NN</td>\n",
       "      <td>npadvmod</td>\n",
       "      <td>xxxx</td>\n",
       "      <td>True</td>\n",
       "      <td>False</td>\n",
       "    </tr>\n",
       "    <tr>\n",
       "      <td>4</td>\n",
       "      <td>costed</td>\n",
       "      <td>cost</td>\n",
       "      <td>VERB</td>\n",
       "      <td>VBD</td>\n",
       "      <td>ccomp</td>\n",
       "      <td>xxxx</td>\n",
       "      <td>True</td>\n",
       "      <td>False</td>\n",
       "    </tr>\n",
       "    <tr>\n",
       "      <td>5</td>\n",
       "      <td>me</td>\n",
       "      <td>-PRON-</td>\n",
       "      <td>PRON</td>\n",
       "      <td>PRP</td>\n",
       "      <td>dative</td>\n",
       "      <td>xx</td>\n",
       "      <td>True</td>\n",
       "      <td>True</td>\n",
       "    </tr>\n",
       "    <tr>\n",
       "      <td>6</td>\n",
       "      <td>$</td>\n",
       "      <td>$</td>\n",
       "      <td>SYM</td>\n",
       "      <td>$</td>\n",
       "      <td>nmod</td>\n",
       "      <td>$</td>\n",
       "      <td>False</td>\n",
       "      <td>False</td>\n",
       "    </tr>\n",
       "    <tr>\n",
       "      <td>7</td>\n",
       "      <td>4</td>\n",
       "      <td>4</td>\n",
       "      <td>NUM</td>\n",
       "      <td>CD</td>\n",
       "      <td>dobj</td>\n",
       "      <td>d</td>\n",
       "      <td>False</td>\n",
       "      <td>False</td>\n",
       "    </tr>\n",
       "    <tr>\n",
       "      <td>8</td>\n",
       "      <td>,</td>\n",
       "      <td>,</td>\n",
       "      <td>PUNCT</td>\n",
       "      <td>,</td>\n",
       "      <td>punct</td>\n",
       "      <td>,</td>\n",
       "      <td>False</td>\n",
       "      <td>False</td>\n",
       "    </tr>\n",
       "    <tr>\n",
       "      <td>9</td>\n",
       "      <td>that</td>\n",
       "      <td>that</td>\n",
       "      <td>PRON</td>\n",
       "      <td>WDT</td>\n",
       "      <td>nsubj</td>\n",
       "      <td>xxxx</td>\n",
       "      <td>True</td>\n",
       "      <td>True</td>\n",
       "    </tr>\n",
       "    <tr>\n",
       "      <td>10</td>\n",
       "      <td>is</td>\n",
       "      <td>be</td>\n",
       "      <td>AUX</td>\n",
       "      <td>VBZ</td>\n",
       "      <td>ROOT</td>\n",
       "      <td>xx</td>\n",
       "      <td>True</td>\n",
       "      <td>True</td>\n",
       "    </tr>\n",
       "    <tr>\n",
       "      <td>11</td>\n",
       "      <td>extremely</td>\n",
       "      <td>extremely</td>\n",
       "      <td>ADV</td>\n",
       "      <td>RB</td>\n",
       "      <td>advmod</td>\n",
       "      <td>xxxx</td>\n",
       "      <td>True</td>\n",
       "      <td>False</td>\n",
       "    </tr>\n",
       "    <tr>\n",
       "      <td>12</td>\n",
       "      <td>expensive</td>\n",
       "      <td>expensive</td>\n",
       "      <td>ADJ</td>\n",
       "      <td>JJ</td>\n",
       "      <td>acomp</td>\n",
       "      <td>xxxx</td>\n",
       "      <td>True</td>\n",
       "      <td>False</td>\n",
       "    </tr>\n",
       "    <tr>\n",
       "      <td>13</td>\n",
       "      <td>!</td>\n",
       "      <td>!</td>\n",
       "      <td>PUNCT</td>\n",
       "      <td>.</td>\n",
       "      <td>punct</td>\n",
       "      <td>!</td>\n",
       "      <td>False</td>\n",
       "      <td>False</td>\n",
       "    </tr>\n",
       "  </tbody>\n",
       "</table>\n",
       "</div>"
      ],
      "text/plain": [
       "         TEXT      LEMMA    POS  TAG       DEP SHAPE  ALPHA   STOP\n",
       "0         The        the    DET   DT       det   Xxx   True   True\n",
       "1      coffee     coffee   NOUN   NN     nsubj  xxxx   True  False\n",
       "2        this       this    DET   DT       det  xxxx   True   True\n",
       "3     morning    morning   NOUN   NN  npadvmod  xxxx   True  False\n",
       "4      costed       cost   VERB  VBD     ccomp  xxxx   True  False\n",
       "5          me     -PRON-   PRON  PRP    dative    xx   True   True\n",
       "6           $          $    SYM    $      nmod     $  False  False\n",
       "7           4          4    NUM   CD      dobj     d  False  False\n",
       "8           ,          ,  PUNCT    ,     punct     ,  False  False\n",
       "9        that       that   PRON  WDT     nsubj  xxxx   True   True\n",
       "10         is         be    AUX  VBZ      ROOT    xx   True   True\n",
       "11  extremely  extremely    ADV   RB    advmod  xxxx   True  False\n",
       "12  expensive  expensive    ADJ   JJ     acomp  xxxx   True  False\n",
       "13          !          !  PUNCT    .     punct     !  False  False"
      ]
     },
     "execution_count": 12,
     "metadata": {},
     "output_type": "execute_result"
    }
   ],
   "source": [
    "# We can build a Pandas Dataframe with the contents of a token/doc loop, just for nice visualization\n",
    "import pandas as pd\n",
    "\n",
    "d = []\n",
    "for token in doc2:\n",
    "    d.append({'TEXT': token.text, 'LEMMA': token.lemma_, \n",
    "              'POS': token.pos_, 'TAG': token.tag_,\n",
    "              'DEP': token.dep_, 'SHAPE': token.shape_,\n",
    "              'ALPHA': token.is_alpha, 'STOP': token.is_stop})\n",
    "\n",
    "spacy_dataframe = pd.DataFrame(d)\n",
    "spacy_dataframe"
   ]
  },
  {
   "cell_type": "markdown",
   "metadata": {
    "colab_type": "text",
    "id": "uUrOgHNmelLB"
   },
   "source": [
    "#### Do not feel lost! Let's visualize this."
   ]
  },
  {
   "cell_type": "code",
   "execution_count": 13,
   "metadata": {
    "colab": {
     "base_uri": "https://localhost:8080/",
     "height": 34
    },
    "colab_type": "code",
    "id": "mlStXKJZenzG",
    "outputId": "e5591c6c-39b9-4d71-fb4d-b175290b24aa"
   },
   "outputs": [
    {
     "data": {
      "text/plain": [
       "'verb, 3rd person singular present'"
      ]
     },
     "execution_count": 13,
     "metadata": {},
     "output_type": "execute_result"
    }
   ],
   "source": [
    "# We can use spacy.explain when lost\n",
    "spacy.explain(\"VBZ\")"
   ]
  },
  {
   "cell_type": "code",
   "execution_count": 14,
   "metadata": {
    "colab": {
     "base_uri": "https://localhost:8080/",
     "height": 34
    },
    "colab_type": "code",
    "id": "JkIRfHLbkaF8",
    "outputId": "eea764d4-ad04-4461-8e9d-dd1c3cb6e7d0"
   },
   "outputs": [
    {
     "data": {
      "text/plain": [
       "'adverbial modifier'"
      ]
     },
     "execution_count": 14,
     "metadata": {},
     "output_type": "execute_result"
    }
   ],
   "source": [
    "spacy.explain(\"advmod\")"
   ]
  },
  {
   "cell_type": "code",
   "execution_count": 15,
   "metadata": {
    "colab": {
     "base_uri": "https://localhost:8080/",
     "height": 378
    },
    "colab_type": "code",
    "id": "fyxDoHVFkdV2",
    "outputId": "ae0d9f19-5e6c-400a-afd6-b6832c069bbb"
   },
   "outputs": [
    {
     "data": {
      "text/html": [
       "<svg xmlns=\"http://www.w3.org/2000/svg\" xmlns:xlink=\"http://www.w3.org/1999/xlink\" xml:lang=\"en\" id=\"a49c77f48ce246c98560691ddd5cb94e-0\" class=\"displacy\" width=\"1250\" height=\"337.0\" direction=\"ltr\" style=\"max-width: none; height: 337.0px; color: #000000; background: #ffffff; font-family: Arial; direction: ltr\">\n",
       "<text class=\"displacy-token\" fill=\"currentColor\" text-anchor=\"middle\" y=\"247.0\">\n",
       "    <tspan class=\"displacy-word\" fill=\"currentColor\" x=\"50\">The</tspan>\n",
       "    <tspan class=\"displacy-tag\" dy=\"2em\" fill=\"currentColor\" x=\"50\">DET</tspan>\n",
       "</text>\n",
       "\n",
       "<text class=\"displacy-token\" fill=\"currentColor\" text-anchor=\"middle\" y=\"247.0\">\n",
       "    <tspan class=\"displacy-word\" fill=\"currentColor\" x=\"150\">coffee</tspan>\n",
       "    <tspan class=\"displacy-tag\" dy=\"2em\" fill=\"currentColor\" x=\"150\">NOUN</tspan>\n",
       "</text>\n",
       "\n",
       "<text class=\"displacy-token\" fill=\"currentColor\" text-anchor=\"middle\" y=\"247.0\">\n",
       "    <tspan class=\"displacy-word\" fill=\"currentColor\" x=\"250\">this</tspan>\n",
       "    <tspan class=\"displacy-tag\" dy=\"2em\" fill=\"currentColor\" x=\"250\">DET</tspan>\n",
       "</text>\n",
       "\n",
       "<text class=\"displacy-token\" fill=\"currentColor\" text-anchor=\"middle\" y=\"247.0\">\n",
       "    <tspan class=\"displacy-word\" fill=\"currentColor\" x=\"350\">morning</tspan>\n",
       "    <tspan class=\"displacy-tag\" dy=\"2em\" fill=\"currentColor\" x=\"350\">NOUN</tspan>\n",
       "</text>\n",
       "\n",
       "<text class=\"displacy-token\" fill=\"currentColor\" text-anchor=\"middle\" y=\"247.0\">\n",
       "    <tspan class=\"displacy-word\" fill=\"currentColor\" x=\"450\">costed</tspan>\n",
       "    <tspan class=\"displacy-tag\" dy=\"2em\" fill=\"currentColor\" x=\"450\">VERB</tspan>\n",
       "</text>\n",
       "\n",
       "<text class=\"displacy-token\" fill=\"currentColor\" text-anchor=\"middle\" y=\"247.0\">\n",
       "    <tspan class=\"displacy-word\" fill=\"currentColor\" x=\"550\">me</tspan>\n",
       "    <tspan class=\"displacy-tag\" dy=\"2em\" fill=\"currentColor\" x=\"550\">PRON</tspan>\n",
       "</text>\n",
       "\n",
       "<text class=\"displacy-token\" fill=\"currentColor\" text-anchor=\"middle\" y=\"247.0\">\n",
       "    <tspan class=\"displacy-word\" fill=\"currentColor\" x=\"650\">$</tspan>\n",
       "    <tspan class=\"displacy-tag\" dy=\"2em\" fill=\"currentColor\" x=\"650\">SYM</tspan>\n",
       "</text>\n",
       "\n",
       "<text class=\"displacy-token\" fill=\"currentColor\" text-anchor=\"middle\" y=\"247.0\">\n",
       "    <tspan class=\"displacy-word\" fill=\"currentColor\" x=\"750\">4,</tspan>\n",
       "    <tspan class=\"displacy-tag\" dy=\"2em\" fill=\"currentColor\" x=\"750\">NUM</tspan>\n",
       "</text>\n",
       "\n",
       "<text class=\"displacy-token\" fill=\"currentColor\" text-anchor=\"middle\" y=\"247.0\">\n",
       "    <tspan class=\"displacy-word\" fill=\"currentColor\" x=\"850\">that</tspan>\n",
       "    <tspan class=\"displacy-tag\" dy=\"2em\" fill=\"currentColor\" x=\"850\">PRON</tspan>\n",
       "</text>\n",
       "\n",
       "<text class=\"displacy-token\" fill=\"currentColor\" text-anchor=\"middle\" y=\"247.0\">\n",
       "    <tspan class=\"displacy-word\" fill=\"currentColor\" x=\"950\">is</tspan>\n",
       "    <tspan class=\"displacy-tag\" dy=\"2em\" fill=\"currentColor\" x=\"950\">AUX</tspan>\n",
       "</text>\n",
       "\n",
       "<text class=\"displacy-token\" fill=\"currentColor\" text-anchor=\"middle\" y=\"247.0\">\n",
       "    <tspan class=\"displacy-word\" fill=\"currentColor\" x=\"1050\">extremely</tspan>\n",
       "    <tspan class=\"displacy-tag\" dy=\"2em\" fill=\"currentColor\" x=\"1050\">ADV</tspan>\n",
       "</text>\n",
       "\n",
       "<text class=\"displacy-token\" fill=\"currentColor\" text-anchor=\"middle\" y=\"247.0\">\n",
       "    <tspan class=\"displacy-word\" fill=\"currentColor\" x=\"1150\">expensive!</tspan>\n",
       "    <tspan class=\"displacy-tag\" dy=\"2em\" fill=\"currentColor\" x=\"1150\">ADJ</tspan>\n",
       "</text>\n",
       "\n",
       "<g class=\"displacy-arrow\">\n",
       "    <path class=\"displacy-arc\" id=\"arrow-a49c77f48ce246c98560691ddd5cb94e-0-0\" stroke-width=\"2px\" d=\"M70,202.0 C70,152.0 135.0,152.0 135.0,202.0\" fill=\"none\" stroke=\"currentColor\"/>\n",
       "    <text dy=\"1.25em\" style=\"font-size: 0.8em; letter-spacing: 1px\">\n",
       "        <textPath xlink:href=\"#arrow-a49c77f48ce246c98560691ddd5cb94e-0-0\" class=\"displacy-label\" startOffset=\"50%\" side=\"left\" fill=\"currentColor\" text-anchor=\"middle\">det</textPath>\n",
       "    </text>\n",
       "    <path class=\"displacy-arrowhead\" d=\"M70,204.0 L62,192.0 78,192.0\" fill=\"currentColor\"/>\n",
       "</g>\n",
       "\n",
       "<g class=\"displacy-arrow\">\n",
       "    <path class=\"displacy-arc\" id=\"arrow-a49c77f48ce246c98560691ddd5cb94e-0-1\" stroke-width=\"2px\" d=\"M170,202.0 C170,52.0 445.0,52.0 445.0,202.0\" fill=\"none\" stroke=\"currentColor\"/>\n",
       "    <text dy=\"1.25em\" style=\"font-size: 0.8em; letter-spacing: 1px\">\n",
       "        <textPath xlink:href=\"#arrow-a49c77f48ce246c98560691ddd5cb94e-0-1\" class=\"displacy-label\" startOffset=\"50%\" side=\"left\" fill=\"currentColor\" text-anchor=\"middle\">nsubj</textPath>\n",
       "    </text>\n",
       "    <path class=\"displacy-arrowhead\" d=\"M170,204.0 L162,192.0 178,192.0\" fill=\"currentColor\"/>\n",
       "</g>\n",
       "\n",
       "<g class=\"displacy-arrow\">\n",
       "    <path class=\"displacy-arc\" id=\"arrow-a49c77f48ce246c98560691ddd5cb94e-0-2\" stroke-width=\"2px\" d=\"M270,202.0 C270,152.0 335.0,152.0 335.0,202.0\" fill=\"none\" stroke=\"currentColor\"/>\n",
       "    <text dy=\"1.25em\" style=\"font-size: 0.8em; letter-spacing: 1px\">\n",
       "        <textPath xlink:href=\"#arrow-a49c77f48ce246c98560691ddd5cb94e-0-2\" class=\"displacy-label\" startOffset=\"50%\" side=\"left\" fill=\"currentColor\" text-anchor=\"middle\">det</textPath>\n",
       "    </text>\n",
       "    <path class=\"displacy-arrowhead\" d=\"M270,204.0 L262,192.0 278,192.0\" fill=\"currentColor\"/>\n",
       "</g>\n",
       "\n",
       "<g class=\"displacy-arrow\">\n",
       "    <path class=\"displacy-arc\" id=\"arrow-a49c77f48ce246c98560691ddd5cb94e-0-3\" stroke-width=\"2px\" d=\"M370,202.0 C370,152.0 435.0,152.0 435.0,202.0\" fill=\"none\" stroke=\"currentColor\"/>\n",
       "    <text dy=\"1.25em\" style=\"font-size: 0.8em; letter-spacing: 1px\">\n",
       "        <textPath xlink:href=\"#arrow-a49c77f48ce246c98560691ddd5cb94e-0-3\" class=\"displacy-label\" startOffset=\"50%\" side=\"left\" fill=\"currentColor\" text-anchor=\"middle\">npadvmod</textPath>\n",
       "    </text>\n",
       "    <path class=\"displacy-arrowhead\" d=\"M370,204.0 L362,192.0 378,192.0\" fill=\"currentColor\"/>\n",
       "</g>\n",
       "\n",
       "<g class=\"displacy-arrow\">\n",
       "    <path class=\"displacy-arc\" id=\"arrow-a49c77f48ce246c98560691ddd5cb94e-0-4\" stroke-width=\"2px\" d=\"M470,202.0 C470,2.0 950.0,2.0 950.0,202.0\" fill=\"none\" stroke=\"currentColor\"/>\n",
       "    <text dy=\"1.25em\" style=\"font-size: 0.8em; letter-spacing: 1px\">\n",
       "        <textPath xlink:href=\"#arrow-a49c77f48ce246c98560691ddd5cb94e-0-4\" class=\"displacy-label\" startOffset=\"50%\" side=\"left\" fill=\"currentColor\" text-anchor=\"middle\">ccomp</textPath>\n",
       "    </text>\n",
       "    <path class=\"displacy-arrowhead\" d=\"M470,204.0 L462,192.0 478,192.0\" fill=\"currentColor\"/>\n",
       "</g>\n",
       "\n",
       "<g class=\"displacy-arrow\">\n",
       "    <path class=\"displacy-arc\" id=\"arrow-a49c77f48ce246c98560691ddd5cb94e-0-5\" stroke-width=\"2px\" d=\"M470,202.0 C470,152.0 535.0,152.0 535.0,202.0\" fill=\"none\" stroke=\"currentColor\"/>\n",
       "    <text dy=\"1.25em\" style=\"font-size: 0.8em; letter-spacing: 1px\">\n",
       "        <textPath xlink:href=\"#arrow-a49c77f48ce246c98560691ddd5cb94e-0-5\" class=\"displacy-label\" startOffset=\"50%\" side=\"left\" fill=\"currentColor\" text-anchor=\"middle\">dative</textPath>\n",
       "    </text>\n",
       "    <path class=\"displacy-arrowhead\" d=\"M535.0,204.0 L543.0,192.0 527.0,192.0\" fill=\"currentColor\"/>\n",
       "</g>\n",
       "\n",
       "<g class=\"displacy-arrow\">\n",
       "    <path class=\"displacy-arc\" id=\"arrow-a49c77f48ce246c98560691ddd5cb94e-0-6\" stroke-width=\"2px\" d=\"M670,202.0 C670,152.0 735.0,152.0 735.0,202.0\" fill=\"none\" stroke=\"currentColor\"/>\n",
       "    <text dy=\"1.25em\" style=\"font-size: 0.8em; letter-spacing: 1px\">\n",
       "        <textPath xlink:href=\"#arrow-a49c77f48ce246c98560691ddd5cb94e-0-6\" class=\"displacy-label\" startOffset=\"50%\" side=\"left\" fill=\"currentColor\" text-anchor=\"middle\">nmod</textPath>\n",
       "    </text>\n",
       "    <path class=\"displacy-arrowhead\" d=\"M670,204.0 L662,192.0 678,192.0\" fill=\"currentColor\"/>\n",
       "</g>\n",
       "\n",
       "<g class=\"displacy-arrow\">\n",
       "    <path class=\"displacy-arc\" id=\"arrow-a49c77f48ce246c98560691ddd5cb94e-0-7\" stroke-width=\"2px\" d=\"M470,202.0 C470,52.0 745.0,52.0 745.0,202.0\" fill=\"none\" stroke=\"currentColor\"/>\n",
       "    <text dy=\"1.25em\" style=\"font-size: 0.8em; letter-spacing: 1px\">\n",
       "        <textPath xlink:href=\"#arrow-a49c77f48ce246c98560691ddd5cb94e-0-7\" class=\"displacy-label\" startOffset=\"50%\" side=\"left\" fill=\"currentColor\" text-anchor=\"middle\">dobj</textPath>\n",
       "    </text>\n",
       "    <path class=\"displacy-arrowhead\" d=\"M745.0,204.0 L753.0,192.0 737.0,192.0\" fill=\"currentColor\"/>\n",
       "</g>\n",
       "\n",
       "<g class=\"displacy-arrow\">\n",
       "    <path class=\"displacy-arc\" id=\"arrow-a49c77f48ce246c98560691ddd5cb94e-0-8\" stroke-width=\"2px\" d=\"M870,202.0 C870,152.0 935.0,152.0 935.0,202.0\" fill=\"none\" stroke=\"currentColor\"/>\n",
       "    <text dy=\"1.25em\" style=\"font-size: 0.8em; letter-spacing: 1px\">\n",
       "        <textPath xlink:href=\"#arrow-a49c77f48ce246c98560691ddd5cb94e-0-8\" class=\"displacy-label\" startOffset=\"50%\" side=\"left\" fill=\"currentColor\" text-anchor=\"middle\">nsubj</textPath>\n",
       "    </text>\n",
       "    <path class=\"displacy-arrowhead\" d=\"M870,204.0 L862,192.0 878,192.0\" fill=\"currentColor\"/>\n",
       "</g>\n",
       "\n",
       "<g class=\"displacy-arrow\">\n",
       "    <path class=\"displacy-arc\" id=\"arrow-a49c77f48ce246c98560691ddd5cb94e-0-9\" stroke-width=\"2px\" d=\"M1070,202.0 C1070,152.0 1135.0,152.0 1135.0,202.0\" fill=\"none\" stroke=\"currentColor\"/>\n",
       "    <text dy=\"1.25em\" style=\"font-size: 0.8em; letter-spacing: 1px\">\n",
       "        <textPath xlink:href=\"#arrow-a49c77f48ce246c98560691ddd5cb94e-0-9\" class=\"displacy-label\" startOffset=\"50%\" side=\"left\" fill=\"currentColor\" text-anchor=\"middle\">advmod</textPath>\n",
       "    </text>\n",
       "    <path class=\"displacy-arrowhead\" d=\"M1070,204.0 L1062,192.0 1078,192.0\" fill=\"currentColor\"/>\n",
       "</g>\n",
       "\n",
       "<g class=\"displacy-arrow\">\n",
       "    <path class=\"displacy-arc\" id=\"arrow-a49c77f48ce246c98560691ddd5cb94e-0-10\" stroke-width=\"2px\" d=\"M970,202.0 C970,102.0 1140.0,102.0 1140.0,202.0\" fill=\"none\" stroke=\"currentColor\"/>\n",
       "    <text dy=\"1.25em\" style=\"font-size: 0.8em; letter-spacing: 1px\">\n",
       "        <textPath xlink:href=\"#arrow-a49c77f48ce246c98560691ddd5cb94e-0-10\" class=\"displacy-label\" startOffset=\"50%\" side=\"left\" fill=\"currentColor\" text-anchor=\"middle\">acomp</textPath>\n",
       "    </text>\n",
       "    <path class=\"displacy-arrowhead\" d=\"M1140.0,204.0 L1148.0,192.0 1132.0,192.0\" fill=\"currentColor\"/>\n",
       "</g>\n",
       "</svg>"
      ],
      "text/plain": [
       "<IPython.core.display.HTML object>"
      ]
     },
     "metadata": {},
     "output_type": "display_data"
    }
   ],
   "source": [
    "import spacy\n",
    "from spacy import displacy\n",
    "\n",
    "# Show POS and synthatic dependencies\n",
    "displacy.render(doc2, style=\"dep\", jupyter=True, options={'distance': 100})"
   ]
  },
  {
   "cell_type": "code",
   "execution_count": 16,
   "metadata": {
    "colab": {
     "base_uri": "https://localhost:8080/",
     "height": 52
    },
    "colab_type": "code",
    "id": "Nun7w-ErksfY",
    "outputId": "d25b22a4-c880-4424-ef36-f26bd5c49f83"
   },
   "outputs": [
    {
     "data": {
      "text/html": [
       "<div class=\"entities\" style=\"line-height: 2.5; direction: ltr\">The coffee \n",
       "<mark class=\"entity\" style=\"background: #bfe1d9; padding: 0.45em 0.6em; margin: 0 0.25em; line-height: 1; border-radius: 0.35em; box-decoration-break: clone; -webkit-box-decoration-break: clone\">\n",
       "    this morning\n",
       "    <span style=\"font-size: 0.8em; font-weight: bold; line-height: 1; border-radius: 0.35em; text-transform: uppercase; vertical-align: middle; margin-left: 0.5rem\">TIME</span>\n",
       "</mark>\n",
       " costed me $\n",
       "<mark class=\"entity\" style=\"background: #e4e7d2; padding: 0.45em 0.6em; margin: 0 0.25em; line-height: 1; border-radius: 0.35em; box-decoration-break: clone; -webkit-box-decoration-break: clone\">\n",
       "    4\n",
       "    <span style=\"font-size: 0.8em; font-weight: bold; line-height: 1; border-radius: 0.35em; text-transform: uppercase; vertical-align: middle; margin-left: 0.5rem\">MONEY</span>\n",
       "</mark>\n",
       ", that is extremely expensive!</div>"
      ],
      "text/plain": [
       "<IPython.core.display.HTML object>"
      ]
     },
     "metadata": {},
     "output_type": "display_data"
    }
   ],
   "source": [
    "# The entity visualizer highlights named entities and their labels in the text\n",
    "displacy.render(doc2, style=\"ent\", jupyter=True, options={'distance': 100})"
   ]
  },
  {
   "cell_type": "markdown",
   "metadata": {
    "colab_type": "text",
    "id": "1zXsGHrIqadY"
   },
   "source": [
    "#### Tokenization rules\n",
    "\n",
    "The tokenization applies rules specific to each language. For instance, punctuation at the end of a sentence should be split off – whereas “U.K.” should remain one token. Also don't should be split as **do** and **not** and such.\n",
    "\n",
    "Those form part of the tokenizer exceptions, that make all that decisions for each language model on whether to split a word or not.\n",
    "\n",
    "* **Tokenizer exception**: Special-case rule to split a string into several tokens or prevent a token from being split when punctuation rules are applied.\n",
    "* **Prefix**: Character(s) at the beginning, e.g. $, (, “, ¿.\n",
    "* **Suffix**: Character(s) at the end, e.g. km, ), ”, !.\n",
    "* **Infix**: Character(s) in between, e.g. -, --, /, ….\n",
    "\n",
    "If we want to change the tokenization or add some, we will need to create our own rules (rarely used unless you are dealing with scientific/slang languages)."
   ]
  },
  {
   "cell_type": "code",
   "execution_count": 17,
   "metadata": {
    "colab": {},
    "colab_type": "code",
    "id": "DS48FrWKskO3"
   },
   "outputs": [],
   "source": [
    "text_sentence_3 = \"I was accepted at UCL-CV Master in U.K., but I didn't have enough money for it!\""
   ]
  },
  {
   "cell_type": "code",
   "execution_count": 18,
   "metadata": {
    "colab": {
     "base_uri": "https://localhost:8080/",
     "height": 289
    },
    "colab_type": "code",
    "id": "BLSJVLMerHhf",
    "outputId": "262e4422-80ba-49eb-8817-abd1ef0c99f5"
   },
   "outputs": [
    {
     "data": {
      "text/plain": [
       "['I',\n",
       " 'was',\n",
       " 'accepted',\n",
       " 'at',\n",
       " 'UCL-CV',\n",
       " 'Master',\n",
       " 'in',\n",
       " 'U.K.,',\n",
       " 'but',\n",
       " 'I',\n",
       " \"didn't\",\n",
       " 'have',\n",
       " 'enough',\n",
       " 'money',\n",
       " 'for',\n",
       " 'it!']"
      ]
     },
     "execution_count": 18,
     "metadata": {},
     "output_type": "execute_result"
    }
   ],
   "source": [
    "\"\"\"\n",
    "With Python we can also split the text using .split().\n",
    "\n",
    "The problem is that we do not retain contextual token information.\n",
    "Such as do/not or punctuations such as commas or exclamations.\n",
    "\"\"\"\n",
    "\n",
    "text_sentence_3.split(' ')"
   ]
  },
  {
   "cell_type": "code",
   "execution_count": 19,
   "metadata": {
    "colab": {
     "base_uri": "https://localhost:8080/",
     "height": 374
    },
    "colab_type": "code",
    "id": "er1OCTJSlz4u",
    "outputId": "9acb4b19-feb0-4f21-a14e-9752651f94f9"
   },
   "outputs": [
    {
     "name": "stdout",
     "output_type": "stream",
     "text": [
      "I\n",
      "was\n",
      "accepted\n",
      "at\n",
      "UCL\n",
      "-\n",
      "CV\n",
      "Master\n",
      "in\n",
      "U.K.\n",
      ",\n",
      "but\n",
      "I\n",
      "did\n",
      "n't\n",
      "have\n",
      "enough\n",
      "money\n",
      "for\n",
      "it\n",
      "!\n"
     ]
    }
   ],
   "source": [
    "doc3 = nlp(text_sentence_3)\n",
    "\n",
    "for token in doc3:\n",
    "    print(token.text)"
   ]
  },
  {
   "cell_type": "markdown",
   "metadata": {
    "colab_type": "text",
    "id": "RsidWPPVvgvu"
   },
   "source": [
    "##### Creating our own rule\n",
    "\n",
    "Global and language-specific tokenizer data is supplied via the language data in spacy/lang. The tokenizer exceptions define special cases like “don’t” in English, which needs to be split into two tokens: {ORTH: \"do\"} and {ORTH: \"n't\", NORM: \"not\"}. The prefixes, suffixes and infixes mostly define punctuation rules – for example, when to split off periods (at the end of a sentence), and when to leave tokens containing periods intact (abbreviations like “U.S.”).\n",
    "\n",
    "![alt text](https://spacy.io/language_data-ef63e6a58b7ec47c073fb59857a76e5f.svg)\n",
    "\n",
    "Anything that’s specific to a domain or text type – like financial trading abbreviations, or Bavarian youth slang – should be added as a special case rule to your tokenizer instance. If you’re dealing with a lot of customizations, it might make sense to create an entirely custom subclass."
   ]
  },
  {
   "cell_type": "code",
   "execution_count": 20,
   "metadata": {
    "colab": {
     "base_uri": "https://localhost:8080/",
     "height": 119
    },
    "colab_type": "code",
    "id": "XspIC2OirfGu",
    "outputId": "ebc77be8-6c17-4fd8-8bfc-f1bf6cce8569"
   },
   "outputs": [
    {
     "name": "stdout",
     "output_type": "stream",
     "text": [
      "Hey\n",
      ",\n",
      "gimme\n",
      "your\n",
      "money\n"
     ]
    }
   ],
   "source": [
    "text_sentence_4 = \"Hey, gimme your money\" \n",
    "\n",
    "doc4 = nlp(text_sentence_4)\n",
    "\n",
    "for token in doc4:\n",
    "    print(token.text)"
   ]
  },
  {
   "cell_type": "code",
   "execution_count": 21,
   "metadata": {
    "colab": {},
    "colab_type": "code",
    "id": "ttqRCuuQw6On"
   },
   "outputs": [],
   "source": [
    "import spacy\n",
    "from spacy.symbols import ORTH\n",
    "\n",
    "nlp = spacy.load(\"en_core_web_sm\") \n",
    "\n",
    "text_sentence_4 = \"Hey, gimme your money\" \n",
    "doc4 = nlp(text_sentence_4)\n",
    "\n",
    "# Add special case rule\n",
    "special_case = [{ORTH: \"gim\"}, {ORTH: \"me\"}]\n",
    "nlp.tokenizer.add_special_case(\"gimme\", special_case)"
   ]
  },
  {
   "cell_type": "code",
   "execution_count": 22,
   "metadata": {
    "colab": {
     "base_uri": "https://localhost:8080/",
     "height": 119
    },
    "colab_type": "code",
    "id": "NspnM88txUDc",
    "outputId": "84d3a699-b76d-4a1f-da9d-02c9ef3d059e"
   },
   "outputs": [
    {
     "name": "stdout",
     "output_type": "stream",
     "text": [
      "Hey\n",
      ",\n",
      "gim\n",
      "me\n",
      "your\n",
      "money\n"
     ]
    }
   ],
   "source": [
    "text_sentence_4 = \"Hey, gimme your money\" \n",
    "\n",
    "doc4 = nlp(text_sentence_4)\n",
    "\n",
    "for token in doc4:\n",
    "    print(token.text)"
   ]
  },
  {
   "cell_type": "markdown",
   "metadata": {
    "colab_type": "text",
    "id": "rQwVTWHQztz8"
   },
   "source": [
    "##### Long sentences and weird spaces"
   ]
  },
  {
   "cell_type": "code",
   "execution_count": 23,
   "metadata": {
    "colab": {
     "base_uri": "https://localhost:8080/",
     "height": 170
    },
    "colab_type": "code",
    "id": "mYIaQp2k45gd",
    "outputId": "c45cc958-28c8-4788-baa8-f9f032813e95"
   },
   "outputs": [
    {
     "name": "stdout",
     "output_type": "stream",
     "text": [
      "Some\n",
      "\n",
      "\n",
      "spaces\n",
      " \n",
      "and\n",
      "\t\n",
      "tab\n",
      "characters\n"
     ]
    }
   ],
   "source": [
    "text_sentence_5 = 'Some\\nspaces  and\\ttab characters'\n",
    "\n",
    "doc5 = nlp(text_sentence_5)\n",
    "\n",
    "for token in doc5:\n",
    "    print(token.text)"
   ]
  },
  {
   "cell_type": "code",
   "execution_count": 24,
   "metadata": {
    "colab": {
     "base_uri": "https://localhost:8080/",
     "height": 34
    },
    "colab_type": "code",
    "id": "NVkzoQAw5FsY",
    "outputId": "5cc648e9-d0eb-4e2b-be0f-23cabbec6aa1"
   },
   "outputs": [
    {
     "data": {
      "text/plain": [
       "True"
      ]
     },
     "execution_count": 24,
     "metadata": {},
     "output_type": "execute_result"
    }
   ],
   "source": [
    "doc5[1].is_space"
   ]
  },
  {
   "cell_type": "code",
   "execution_count": 25,
   "metadata": {
    "colab": {
     "base_uri": "https://localhost:8080/",
     "height": 139
    },
    "colab_type": "code",
    "id": "UEvV03B05KdP",
    "outputId": "2e6fe058-d195-4053-8e89-27ffb956832d"
   },
   "outputs": [
    {
     "name": "stdout",
     "output_type": "stream",
     "text": [
      "In ancient Rome, some neighbors live in three adjacent houses.\n",
      "In the center is the house of Senex, who lives there with wife Domina, son Hero, and several slaves, including head slave Hysterium and the musical's main character Pseudolus.\n",
      "A slave belonging to Hero, Pseudolus wishes to buy, win, or steal his freedom.\n",
      "One of the neighboring houses is owned by Marcus Lycus, who is a buyer and seller of beautiful women; the other belongs to the ancient Erronius, who is abroad searching for his long-lost children (stolen in infancy by pirates).\n",
      "One day, Senex and Domina go on a trip and leave Pseudolus in charge of Hero.\n",
      "Hero confides in Pseudolus that he is in love with the lovely Philia, one of the courtesans in the House of Lycus (albeit still a virgin).\n"
     ]
    }
   ],
   "source": [
    "text_sentence_6 = \"In ancient Rome, some neighbors live in three adjacent houses. In the center is the house of Senex, who lives there with wife Domina, son Hero, and several slaves, including head slave Hysterium and the musical's main character Pseudolus. A slave belonging to Hero, Pseudolus wishes to buy, win, or steal his freedom. One of the neighboring houses is owned by Marcus Lycus, who is a buyer and seller of beautiful women; the other belongs to the ancient Erronius, who is abroad searching for his long-lost children (stolen in infancy by pirates). One day, Senex and Domina go on a trip and leave Pseudolus in charge of Hero. Hero confides in Pseudolus that he is in love with the lovely Philia, one of the courtesans in the House of Lycus (albeit still a virgin).\"\n",
    "\n",
    "doc6 = nlp(text_sentence_6)\n",
    "\n",
    "for sent in doc6.sents:\n",
    "    print(sent)"
   ]
  },
  {
   "cell_type": "markdown",
   "metadata": {
    "colab_type": "text",
    "id": "O1H-VPRB6W7l"
   },
   "source": [
    "### Lemmatization\n",
    "\n",
    "Lemmatization is the assignation of the base forms of words. For example, the lemma of “was” is “be”, and the lemma of “rats” is “rat”."
   ]
  },
  {
   "cell_type": "code",
   "execution_count": 26,
   "metadata": {
    "colab": {
     "base_uri": "https://localhost:8080/",
     "height": 34
    },
    "colab_type": "code",
    "id": "E19GCEnZ6P9v",
    "outputId": "fd62330c-2d82-4315-da08-c43bf743a07d"
   },
   "outputs": [
    {
     "data": {
      "text/plain": [
       "'neighbour'"
      ]
     },
     "execution_count": 26,
     "metadata": {},
     "output_type": "execute_result"
    }
   ],
   "source": [
    "nlp(\"they are neighbours\")[-1].lemma_"
   ]
  },
  {
   "cell_type": "code",
   "execution_count": 27,
   "metadata": {
    "colab": {
     "base_uri": "https://localhost:8080/",
     "height": 34
    },
    "colab_type": "code",
    "id": "BVD7TNvv639P",
    "outputId": "e817ea6f-2840-4dd9-c818-d9e72a5b006d"
   },
   "outputs": [
    {
     "data": {
      "text/plain": [
       "In"
      ]
     },
     "execution_count": 27,
     "metadata": {},
     "output_type": "execute_result"
    }
   ],
   "source": [
    "doc6[0]"
   ]
  },
  {
   "cell_type": "code",
   "execution_count": 28,
   "metadata": {
    "colab": {
     "base_uri": "https://localhost:8080/",
     "height": 34
    },
    "colab_type": "code",
    "id": "ZIHap1F26_bH",
    "outputId": "01f4191a-ecb8-479d-8e42-05db723263b8"
   },
   "outputs": [
    {
     "data": {
      "text/plain": [
       "'in'"
      ]
     },
     "execution_count": 28,
     "metadata": {},
     "output_type": "execute_result"
    }
   ],
   "source": [
    "doc6[0].lemma_"
   ]
  },
  {
   "cell_type": "code",
   "execution_count": 29,
   "metadata": {
    "colab": {
     "base_uri": "https://localhost:8080/",
     "height": 34
    },
    "colab_type": "code",
    "id": "orAIfks77Hk_",
    "outputId": "bc9647c9-ce9f-4bad-f08a-695bb464d651"
   },
   "outputs": [
    {
     "data": {
      "text/plain": [
       "<spacy.lexeme.Lexeme at 0x10edccea0>"
      ]
     },
     "execution_count": 29,
     "metadata": {},
     "output_type": "execute_result"
    }
   ],
   "source": [
    "# Getting information about a token\n",
    "doc6.vocab['is']"
   ]
  },
  {
   "cell_type": "markdown",
   "metadata": {
    "colab_type": "text",
    "id": "KdjoTxuG7s_V"
   },
   "source": [
    "#### Dealing with STOP words\n",
    "In computing, stop words are words which are filtered out before processing of natural language data (text). Stop words are generally the most common words in a language; there is no single universal list of stop words used by all natural language processing tools, and indeed not all tools even use such a list. Some tools avoid removing stop words to support phrase search."
   ]
  },
  {
   "cell_type": "code",
   "execution_count": 30,
   "metadata": {
    "colab": {
     "base_uri": "https://localhost:8080/",
     "height": 54
    },
    "colab_type": "code",
    "id": "KJjuIZla7Lqf",
    "outputId": "3f678fd5-f642-4785-a8d7-e6ae7e9e42f8"
   },
   "outputs": [
    {
     "name": "stdout",
     "output_type": "stream",
     "text": [
      "{'once', 'sometimes', 'every', 'him', 'please', 'ours', 'then', 'make', 'as', 'beyond', 'another', 'them', 'through', 'each', 'ten', 'amongst', 'alone', 'beside', 'below', 'sometime', 'mostly', 'whose', \"'d\", 'using', '‘d', 'therefore', 'what', 'put', 'yours', 'everything', 'both', 'it', 'n‘t', 'herself', 'still', 'with', 'towards', 'nor', 'yourselves', 'along', 'why', 'least', 'empty', 'show', 'by', 'take', 'much', 'used', 'get', 'call', 'many', 'when', 'although', 'moreover', 'twelve', 'have', 'per', 'are', 'various', 'within', 'bottom', 'beforehand', 'myself', 'also', 'after', 'own', 'serious', 'us', 'well', 'whence', \"'ve\", 'hers', 'namely', 'for', 'someone', 'too', 'very', 'while', 'been', 'between', 'elsewhere', 'back', 'be', 'is', 'whereafter', 'last', 'somewhere', 'about', 'could', 'yourself', 'neither', 'the', 'fifty', 'because', 'part', 'go', 'afterwards', 'thereby', 'amount', 'hundred', 'meanwhile', 'thru', \"'m\", 'mine', 'such', 'several', 'upon', 'just', 'thereafter', 'being', 'was', 'something', 'whenever', 'except', 'eleven', 'we', 'down', 'nevertheless', 'not', 'twenty', 'others', 'should', 'yet', 'ca', 'else', 'anyone', \"'ll\", 'its', 'noone', 'more', 'seemed', 'became', '’m', 'however', 'and', 'again', 'on', 'herein', 'full', 'either', 'throughout', 'you', 'often', 'anyway', 'third', 'less', 'they', 'in', 'behind', 'how', 'so', 'therein', 'to', 'would', 'nobody', 'himself', '‘ll', 'has', 'seeming', 'say', 'none', 'since', 'onto', 'five', 'into', 'anyhow', 'six', 'nine', 'whereby', 'whoever', \"'s\", '‘m', 'anything', 'cannot', 'whom', 'becoming', 'due', '’ve', 'until', 'there', 'really', 'his', 'had', 'my', 'ever', 'anywhere', 'now', 'one', 'only', 'out', 'seems', 'a', 'other', 'among', 'give', 'move', 'latterly', 'top', 'our', 'who', 'doing', 'above', 'off', 'already', 'everyone', 'i', 'thereupon', '’d', 'made', 'three', 'across', 'whither', 'he', 'must', 'otherwise', 'fifteen', 'some', 'your', 'of', 'quite', 'though', 'without', \"n't\", 'their', 'done', 'hereafter', 'during', 'first', 'nowhere', 'further', 'me', 'most', 'under', 'that', 'here', 'no', 'everywhere', 'even', 'side', 'whole', '’re', 'this', 'did', 'whereas', 'latter', 'or', 'up', 'become', 'see', 'will', 'around', 'might', 'formerly', 'thus', 'am', 'over', 'unless', 'becomes', 'at', 'ourselves', 'if', 'any', 'indeed', 'next', 'she', 'were', 'almost', 'n’t', '’ll', 'keep', 'never', 'front', 'all', \"'re\", '‘re', 'hence', 'wherein', 'seem', 'an', 'themselves', 'eight', '‘s', 'forty', 'perhaps', 'few', 'thence', 'toward', 'whereupon', 'which', 'does', 'her', 're', 'these', 'but', 'same', 'those', 'two', 'before', '‘ve', 'enough', 'four', 'from', 'can', 'itself', 'name', 'somehow', 'former', 'besides', 'where', 'whatever', '’s', 'wherever', 'hereupon', 'sixty', 'rather', 'may', 'via', 'against', 'regarding', 'hereby', 'nothing', 'always', 'do', 'whether', 'than', 'together'}\n"
     ]
    }
   ],
   "source": [
    "# Getting STOP words\n",
    "from spacy.lang.en.stop_words import STOP_WORDS\n",
    "\n",
    "print(STOP_WORDS)"
   ]
  },
  {
   "cell_type": "code",
   "execution_count": 31,
   "metadata": {
    "colab": {
     "base_uri": "https://localhost:8080/",
     "height": 34
    },
    "colab_type": "code",
    "id": "h6KuLWRV72_X",
    "outputId": "c8342ed2-89d8-4054-bfad-962087f4b4a1"
   },
   "outputs": [
    {
     "name": "stdout",
     "output_type": "stream",
     "text": [
      "In --> is stopword? --> False\n"
     ]
    }
   ],
   "source": [
    "print(doc6[0], \"--> is stopword? -->\", doc6[0] in STOP_WORDS)"
   ]
  },
  {
   "cell_type": "markdown",
   "metadata": {
    "colab_type": "text",
    "id": "Ze9L3mcL97nm"
   },
   "source": [
    "\"In\" is not found in the list of common words, however spaCy changes automatically to lower case to find that actually \"In\" is \"in\" and therefore is a stopword."
   ]
  },
  {
   "cell_type": "code",
   "execution_count": 32,
   "metadata": {
    "colab": {
     "base_uri": "https://localhost:8080/",
     "height": 34
    },
    "colab_type": "code",
    "id": "XiSaZtvq8Dun",
    "outputId": "1ee47721-1f92-4b71-9796-2d9298206cc0"
   },
   "outputs": [
    {
     "data": {
      "text/plain": [
       "True"
      ]
     },
     "execution_count": 32,
     "metadata": {},
     "output_type": "execute_result"
    }
   ],
   "source": [
    "doc6[0].is_stop"
   ]
  },
  {
   "cell_type": "markdown",
   "metadata": {
    "colab_type": "text",
    "id": "ZjJ5na1b-O92"
   },
   "source": [
    "### In class exercise:\n",
    "\n",
    "Display a table with all the tokens of `text1` and the columns `[\"Text\", \"Lemma\", \"Coarse POS (pos)\", \"Fine POS (tag)\", \"Syntactic dependency\", \"Shape\", \"Alphanumeric\", \"Stop\"]`. Look in https://spacy.io/api/token#attributes for hints. Something like:\n",
    "\n",
    "<table border=\"1\" class=\"dataframe\">\n",
    "  <thead>\n",
    "    <tr style=\"text-align: right;\">\n",
    "      <th></th>\n",
    "      <th>Text</th>\n",
    "      <th>Lemma</th>\n",
    "      <th>Coarse POS (pos)</th>\n",
    "      <th>Fine POS (tag)</th>\n",
    "      <th>Syntactic dependency</th>\n",
    "      <th>Shape</th>\n",
    "      <th>Alphanumeric</th>\n",
    "      <th>Stop</th>\n",
    "    </tr>\n",
    "  </thead>\n",
    "  <tbody>\n",
    "    <tr>\n",
    "      <th>0</th>\n",
    "      <td>This</td>\n",
    "      <td>this</td>\n",
    "      <td>DET</td>\n",
    "      <td>DT</td>\n",
    "      <td>nsubj</td>\n",
    "      <td>Xxxx</td>\n",
    "      <td>True</td>\n",
    "      <td>False</td>\n",
    "    </tr>\n",
    "    <tr>\n",
    "      <th>1</th>\n",
    "      <td>is</td>\n",
    "      <td>be</td>\n",
    "      <td>VERB</td>\n",
    "      <td>VBZ</td>\n",
    "      <td>ROOT</td>\n",
    "      <td>xx</td>\n",
    "      <td>True</td>\n",
    "      <td>True</td>\n",
    "    </tr>\n",
    "    <tr>\n",
    "      <th>...</th>\n",
    "      <td>...</td>\n",
    "      <td>...</td>\n",
    "      <td>...</td>\n",
    "      <td>...</td>\n",
    "      <td>...</td>\n",
    "      <td>...</td>\n",
    "      <td>...</td>\n",
    "      <td>...</td>\n",
    "    </tr>\n",
    "  </tbody>\n",
    "</table>\n",
    "\n",
    "Also, create a dependency and entity graph of the sentence.\n",
    "\n",
    "Use the following sentence:"
   ]
  },
  {
   "cell_type": "code",
   "execution_count": 33,
   "metadata": {
    "colab": {},
    "colab_type": "code",
    "id": "S-AIgn__-leF"
   },
   "outputs": [],
   "source": [
    "exercise_sentece = \"This is great! We are learning text processing with spaCy\""
   ]
  },
  {
   "cell_type": "code",
   "execution_count": 34,
   "metadata": {},
   "outputs": [
    {
     "data": {
      "text/plain": [
       "spacy.tokens.doc.Doc"
      ]
     },
     "execution_count": 34,
     "metadata": {},
     "output_type": "execute_result"
    }
   ],
   "source": [
    "doc3 = nlp(exercise_sentece)\n",
    "type(doc3)"
   ]
  },
  {
   "cell_type": "code",
   "execution_count": 35,
   "metadata": {},
   "outputs": [
    {
     "data": {
      "text/html": [
       "<div>\n",
       "<style scoped>\n",
       "    .dataframe tbody tr th:only-of-type {\n",
       "        vertical-align: middle;\n",
       "    }\n",
       "\n",
       "    .dataframe tbody tr th {\n",
       "        vertical-align: top;\n",
       "    }\n",
       "\n",
       "    .dataframe thead th {\n",
       "        text-align: right;\n",
       "    }\n",
       "</style>\n",
       "<table border=\"1\" class=\"dataframe\">\n",
       "  <thead>\n",
       "    <tr style=\"text-align: right;\">\n",
       "      <th></th>\n",
       "      <th>TEXT</th>\n",
       "      <th>LEMMA</th>\n",
       "      <th>Coares POS (pos)</th>\n",
       "      <th>Fine POS (tag)</th>\n",
       "      <th>Syntactic dependency</th>\n",
       "      <th>Shape</th>\n",
       "      <th>Alphanumeric</th>\n",
       "      <th>Stop</th>\n",
       "    </tr>\n",
       "  </thead>\n",
       "  <tbody>\n",
       "    <tr>\n",
       "      <td>0</td>\n",
       "      <td>This</td>\n",
       "      <td>this</td>\n",
       "      <td>DET</td>\n",
       "      <td>DT</td>\n",
       "      <td>nsubj</td>\n",
       "      <td>Xxxx</td>\n",
       "      <td>True</td>\n",
       "      <td>True</td>\n",
       "    </tr>\n",
       "    <tr>\n",
       "      <td>1</td>\n",
       "      <td>is</td>\n",
       "      <td>be</td>\n",
       "      <td>AUX</td>\n",
       "      <td>VBZ</td>\n",
       "      <td>ROOT</td>\n",
       "      <td>xx</td>\n",
       "      <td>True</td>\n",
       "      <td>True</td>\n",
       "    </tr>\n",
       "    <tr>\n",
       "      <td>2</td>\n",
       "      <td>great</td>\n",
       "      <td>great</td>\n",
       "      <td>ADJ</td>\n",
       "      <td>JJ</td>\n",
       "      <td>acomp</td>\n",
       "      <td>xxxx</td>\n",
       "      <td>True</td>\n",
       "      <td>False</td>\n",
       "    </tr>\n",
       "    <tr>\n",
       "      <td>3</td>\n",
       "      <td>!</td>\n",
       "      <td>!</td>\n",
       "      <td>PUNCT</td>\n",
       "      <td>.</td>\n",
       "      <td>punct</td>\n",
       "      <td>!</td>\n",
       "      <td>False</td>\n",
       "      <td>False</td>\n",
       "    </tr>\n",
       "    <tr>\n",
       "      <td>4</td>\n",
       "      <td>We</td>\n",
       "      <td>-PRON-</td>\n",
       "      <td>PRON</td>\n",
       "      <td>PRP</td>\n",
       "      <td>nsubj</td>\n",
       "      <td>Xx</td>\n",
       "      <td>True</td>\n",
       "      <td>True</td>\n",
       "    </tr>\n",
       "    <tr>\n",
       "      <td>5</td>\n",
       "      <td>are</td>\n",
       "      <td>be</td>\n",
       "      <td>AUX</td>\n",
       "      <td>VBP</td>\n",
       "      <td>aux</td>\n",
       "      <td>xxx</td>\n",
       "      <td>True</td>\n",
       "      <td>True</td>\n",
       "    </tr>\n",
       "    <tr>\n",
       "      <td>6</td>\n",
       "      <td>learning</td>\n",
       "      <td>learn</td>\n",
       "      <td>VERB</td>\n",
       "      <td>VBG</td>\n",
       "      <td>ROOT</td>\n",
       "      <td>xxxx</td>\n",
       "      <td>True</td>\n",
       "      <td>False</td>\n",
       "    </tr>\n",
       "    <tr>\n",
       "      <td>7</td>\n",
       "      <td>text</td>\n",
       "      <td>text</td>\n",
       "      <td>NOUN</td>\n",
       "      <td>NN</td>\n",
       "      <td>compound</td>\n",
       "      <td>xxxx</td>\n",
       "      <td>True</td>\n",
       "      <td>False</td>\n",
       "    </tr>\n",
       "    <tr>\n",
       "      <td>8</td>\n",
       "      <td>processing</td>\n",
       "      <td>processing</td>\n",
       "      <td>NOUN</td>\n",
       "      <td>NN</td>\n",
       "      <td>dobj</td>\n",
       "      <td>xxxx</td>\n",
       "      <td>True</td>\n",
       "      <td>False</td>\n",
       "    </tr>\n",
       "    <tr>\n",
       "      <td>9</td>\n",
       "      <td>with</td>\n",
       "      <td>with</td>\n",
       "      <td>ADP</td>\n",
       "      <td>IN</td>\n",
       "      <td>prep</td>\n",
       "      <td>xxxx</td>\n",
       "      <td>True</td>\n",
       "      <td>True</td>\n",
       "    </tr>\n",
       "    <tr>\n",
       "      <td>10</td>\n",
       "      <td>spaCy</td>\n",
       "      <td>spaCy</td>\n",
       "      <td>PROPN</td>\n",
       "      <td>NNP</td>\n",
       "      <td>pobj</td>\n",
       "      <td>xxxXx</td>\n",
       "      <td>True</td>\n",
       "      <td>False</td>\n",
       "    </tr>\n",
       "  </tbody>\n",
       "</table>\n",
       "</div>"
      ],
      "text/plain": [
       "          TEXT       LEMMA Coares POS (pos) Fine POS (tag)  \\\n",
       "0         This        this              DET             DT   \n",
       "1           is          be              AUX            VBZ   \n",
       "2        great       great              ADJ             JJ   \n",
       "3            !           !            PUNCT              .   \n",
       "4           We      -PRON-             PRON            PRP   \n",
       "5          are          be              AUX            VBP   \n",
       "6     learning       learn             VERB            VBG   \n",
       "7         text        text             NOUN             NN   \n",
       "8   processing  processing             NOUN             NN   \n",
       "9         with        with              ADP             IN   \n",
       "10       spaCy       spaCy            PROPN            NNP   \n",
       "\n",
       "   Syntactic dependency  Shape  Alphanumeric   Stop  \n",
       "0                 nsubj   Xxxx          True   True  \n",
       "1                  ROOT     xx          True   True  \n",
       "2                 acomp   xxxx          True  False  \n",
       "3                 punct      !         False  False  \n",
       "4                 nsubj     Xx          True   True  \n",
       "5                   aux    xxx          True   True  \n",
       "6                  ROOT   xxxx          True  False  \n",
       "7              compound   xxxx          True  False  \n",
       "8                  dobj   xxxx          True  False  \n",
       "9                  prep   xxxx          True   True  \n",
       "10                 pobj  xxxXx          True  False  "
      ]
     },
     "execution_count": 35,
     "metadata": {},
     "output_type": "execute_result"
    }
   ],
   "source": [
    "import pandas as pd\n",
    "\n",
    "d = []\n",
    "for token in doc3:\n",
    "    d.append({'TEXT': token.text, 'LEMMA': token.lemma_, \n",
    "              'Coares POS (pos)': token.pos_, 'Fine POS (tag)': token.tag_,\n",
    "              'Syntactic dependency': token.dep_, 'Shape': token.shape_,\n",
    "              'Alphanumeric': token.is_alpha, 'Stop': token.is_stop})\n",
    "\n",
    "spacy_dataframe = pd.DataFrame(d)\n",
    "spacy_dataframe"
   ]
  },
  {
   "cell_type": "code",
   "execution_count": 36,
   "metadata": {},
   "outputs": [
    {
     "data": {
      "text/html": [
       "<svg xmlns=\"http://www.w3.org/2000/svg\" xmlns:xlink=\"http://www.w3.org/1999/xlink\" xml:lang=\"en\" id=\"bfaeef50967f47d6b469f42402342425-0\" class=\"displacy\" width=\"1050\" height=\"237.0\" direction=\"ltr\" style=\"max-width: none; height: 237.0px; color: #000000; background: #ffffff; font-family: Arial; direction: ltr\">\n",
       "<text class=\"displacy-token\" fill=\"currentColor\" text-anchor=\"middle\" y=\"147.0\">\n",
       "    <tspan class=\"displacy-word\" fill=\"currentColor\" x=\"50\">This</tspan>\n",
       "    <tspan class=\"displacy-tag\" dy=\"2em\" fill=\"currentColor\" x=\"50\">DET</tspan>\n",
       "</text>\n",
       "\n",
       "<text class=\"displacy-token\" fill=\"currentColor\" text-anchor=\"middle\" y=\"147.0\">\n",
       "    <tspan class=\"displacy-word\" fill=\"currentColor\" x=\"150\">is</tspan>\n",
       "    <tspan class=\"displacy-tag\" dy=\"2em\" fill=\"currentColor\" x=\"150\">AUX</tspan>\n",
       "</text>\n",
       "\n",
       "<text class=\"displacy-token\" fill=\"currentColor\" text-anchor=\"middle\" y=\"147.0\">\n",
       "    <tspan class=\"displacy-word\" fill=\"currentColor\" x=\"250\">great!</tspan>\n",
       "    <tspan class=\"displacy-tag\" dy=\"2em\" fill=\"currentColor\" x=\"250\">ADJ</tspan>\n",
       "</text>\n",
       "\n",
       "<text class=\"displacy-token\" fill=\"currentColor\" text-anchor=\"middle\" y=\"147.0\">\n",
       "    <tspan class=\"displacy-word\" fill=\"currentColor\" x=\"350\">We</tspan>\n",
       "    <tspan class=\"displacy-tag\" dy=\"2em\" fill=\"currentColor\" x=\"350\">PRON</tspan>\n",
       "</text>\n",
       "\n",
       "<text class=\"displacy-token\" fill=\"currentColor\" text-anchor=\"middle\" y=\"147.0\">\n",
       "    <tspan class=\"displacy-word\" fill=\"currentColor\" x=\"450\">are</tspan>\n",
       "    <tspan class=\"displacy-tag\" dy=\"2em\" fill=\"currentColor\" x=\"450\">AUX</tspan>\n",
       "</text>\n",
       "\n",
       "<text class=\"displacy-token\" fill=\"currentColor\" text-anchor=\"middle\" y=\"147.0\">\n",
       "    <tspan class=\"displacy-word\" fill=\"currentColor\" x=\"550\">learning</tspan>\n",
       "    <tspan class=\"displacy-tag\" dy=\"2em\" fill=\"currentColor\" x=\"550\">VERB</tspan>\n",
       "</text>\n",
       "\n",
       "<text class=\"displacy-token\" fill=\"currentColor\" text-anchor=\"middle\" y=\"147.0\">\n",
       "    <tspan class=\"displacy-word\" fill=\"currentColor\" x=\"650\">text</tspan>\n",
       "    <tspan class=\"displacy-tag\" dy=\"2em\" fill=\"currentColor\" x=\"650\">NOUN</tspan>\n",
       "</text>\n",
       "\n",
       "<text class=\"displacy-token\" fill=\"currentColor\" text-anchor=\"middle\" y=\"147.0\">\n",
       "    <tspan class=\"displacy-word\" fill=\"currentColor\" x=\"750\">processing</tspan>\n",
       "    <tspan class=\"displacy-tag\" dy=\"2em\" fill=\"currentColor\" x=\"750\">NOUN</tspan>\n",
       "</text>\n",
       "\n",
       "<text class=\"displacy-token\" fill=\"currentColor\" text-anchor=\"middle\" y=\"147.0\">\n",
       "    <tspan class=\"displacy-word\" fill=\"currentColor\" x=\"850\">with</tspan>\n",
       "    <tspan class=\"displacy-tag\" dy=\"2em\" fill=\"currentColor\" x=\"850\">ADP</tspan>\n",
       "</text>\n",
       "\n",
       "<text class=\"displacy-token\" fill=\"currentColor\" text-anchor=\"middle\" y=\"147.0\">\n",
       "    <tspan class=\"displacy-word\" fill=\"currentColor\" x=\"950\">spaCy</tspan>\n",
       "    <tspan class=\"displacy-tag\" dy=\"2em\" fill=\"currentColor\" x=\"950\">PROPN</tspan>\n",
       "</text>\n",
       "\n",
       "<g class=\"displacy-arrow\">\n",
       "    <path class=\"displacy-arc\" id=\"arrow-bfaeef50967f47d6b469f42402342425-0-0\" stroke-width=\"2px\" d=\"M70,102.0 C70,52.0 145.0,52.0 145.0,102.0\" fill=\"none\" stroke=\"currentColor\"/>\n",
       "    <text dy=\"1.25em\" style=\"font-size: 0.8em; letter-spacing: 1px\">\n",
       "        <textPath xlink:href=\"#arrow-bfaeef50967f47d6b469f42402342425-0-0\" class=\"displacy-label\" startOffset=\"50%\" side=\"left\" fill=\"currentColor\" text-anchor=\"middle\">nsubj</textPath>\n",
       "    </text>\n",
       "    <path class=\"displacy-arrowhead\" d=\"M70,104.0 L62,92.0 78,92.0\" fill=\"currentColor\"/>\n",
       "</g>\n",
       "\n",
       "<g class=\"displacy-arrow\">\n",
       "    <path class=\"displacy-arc\" id=\"arrow-bfaeef50967f47d6b469f42402342425-0-1\" stroke-width=\"2px\" d=\"M170,102.0 C170,52.0 245.0,52.0 245.0,102.0\" fill=\"none\" stroke=\"currentColor\"/>\n",
       "    <text dy=\"1.25em\" style=\"font-size: 0.8em; letter-spacing: 1px\">\n",
       "        <textPath xlink:href=\"#arrow-bfaeef50967f47d6b469f42402342425-0-1\" class=\"displacy-label\" startOffset=\"50%\" side=\"left\" fill=\"currentColor\" text-anchor=\"middle\">acomp</textPath>\n",
       "    </text>\n",
       "    <path class=\"displacy-arrowhead\" d=\"M245.0,104.0 L253.0,92.0 237.0,92.0\" fill=\"currentColor\"/>\n",
       "</g>\n",
       "\n",
       "<g class=\"displacy-arrow\">\n",
       "    <path class=\"displacy-arc\" id=\"arrow-bfaeef50967f47d6b469f42402342425-0-2\" stroke-width=\"2px\" d=\"M370,102.0 C370,2.0 550.0,2.0 550.0,102.0\" fill=\"none\" stroke=\"currentColor\"/>\n",
       "    <text dy=\"1.25em\" style=\"font-size: 0.8em; letter-spacing: 1px\">\n",
       "        <textPath xlink:href=\"#arrow-bfaeef50967f47d6b469f42402342425-0-2\" class=\"displacy-label\" startOffset=\"50%\" side=\"left\" fill=\"currentColor\" text-anchor=\"middle\">nsubj</textPath>\n",
       "    </text>\n",
       "    <path class=\"displacy-arrowhead\" d=\"M370,104.0 L362,92.0 378,92.0\" fill=\"currentColor\"/>\n",
       "</g>\n",
       "\n",
       "<g class=\"displacy-arrow\">\n",
       "    <path class=\"displacy-arc\" id=\"arrow-bfaeef50967f47d6b469f42402342425-0-3\" stroke-width=\"2px\" d=\"M470,102.0 C470,52.0 545.0,52.0 545.0,102.0\" fill=\"none\" stroke=\"currentColor\"/>\n",
       "    <text dy=\"1.25em\" style=\"font-size: 0.8em; letter-spacing: 1px\">\n",
       "        <textPath xlink:href=\"#arrow-bfaeef50967f47d6b469f42402342425-0-3\" class=\"displacy-label\" startOffset=\"50%\" side=\"left\" fill=\"currentColor\" text-anchor=\"middle\">aux</textPath>\n",
       "    </text>\n",
       "    <path class=\"displacy-arrowhead\" d=\"M470,104.0 L462,92.0 478,92.0\" fill=\"currentColor\"/>\n",
       "</g>\n",
       "\n",
       "<g class=\"displacy-arrow\">\n",
       "    <path class=\"displacy-arc\" id=\"arrow-bfaeef50967f47d6b469f42402342425-0-4\" stroke-width=\"2px\" d=\"M670,102.0 C670,52.0 745.0,52.0 745.0,102.0\" fill=\"none\" stroke=\"currentColor\"/>\n",
       "    <text dy=\"1.25em\" style=\"font-size: 0.8em; letter-spacing: 1px\">\n",
       "        <textPath xlink:href=\"#arrow-bfaeef50967f47d6b469f42402342425-0-4\" class=\"displacy-label\" startOffset=\"50%\" side=\"left\" fill=\"currentColor\" text-anchor=\"middle\">compound</textPath>\n",
       "    </text>\n",
       "    <path class=\"displacy-arrowhead\" d=\"M670,104.0 L662,92.0 678,92.0\" fill=\"currentColor\"/>\n",
       "</g>\n",
       "\n",
       "<g class=\"displacy-arrow\">\n",
       "    <path class=\"displacy-arc\" id=\"arrow-bfaeef50967f47d6b469f42402342425-0-5\" stroke-width=\"2px\" d=\"M570,102.0 C570,2.0 750.0,2.0 750.0,102.0\" fill=\"none\" stroke=\"currentColor\"/>\n",
       "    <text dy=\"1.25em\" style=\"font-size: 0.8em; letter-spacing: 1px\">\n",
       "        <textPath xlink:href=\"#arrow-bfaeef50967f47d6b469f42402342425-0-5\" class=\"displacy-label\" startOffset=\"50%\" side=\"left\" fill=\"currentColor\" text-anchor=\"middle\">dobj</textPath>\n",
       "    </text>\n",
       "    <path class=\"displacy-arrowhead\" d=\"M750.0,104.0 L758.0,92.0 742.0,92.0\" fill=\"currentColor\"/>\n",
       "</g>\n",
       "\n",
       "<g class=\"displacy-arrow\">\n",
       "    <path class=\"displacy-arc\" id=\"arrow-bfaeef50967f47d6b469f42402342425-0-6\" stroke-width=\"2px\" d=\"M770,102.0 C770,52.0 845.0,52.0 845.0,102.0\" fill=\"none\" stroke=\"currentColor\"/>\n",
       "    <text dy=\"1.25em\" style=\"font-size: 0.8em; letter-spacing: 1px\">\n",
       "        <textPath xlink:href=\"#arrow-bfaeef50967f47d6b469f42402342425-0-6\" class=\"displacy-label\" startOffset=\"50%\" side=\"left\" fill=\"currentColor\" text-anchor=\"middle\">prep</textPath>\n",
       "    </text>\n",
       "    <path class=\"displacy-arrowhead\" d=\"M845.0,104.0 L853.0,92.0 837.0,92.0\" fill=\"currentColor\"/>\n",
       "</g>\n",
       "\n",
       "<g class=\"displacy-arrow\">\n",
       "    <path class=\"displacy-arc\" id=\"arrow-bfaeef50967f47d6b469f42402342425-0-7\" stroke-width=\"2px\" d=\"M870,102.0 C870,52.0 945.0,52.0 945.0,102.0\" fill=\"none\" stroke=\"currentColor\"/>\n",
       "    <text dy=\"1.25em\" style=\"font-size: 0.8em; letter-spacing: 1px\">\n",
       "        <textPath xlink:href=\"#arrow-bfaeef50967f47d6b469f42402342425-0-7\" class=\"displacy-label\" startOffset=\"50%\" side=\"left\" fill=\"currentColor\" text-anchor=\"middle\">pobj</textPath>\n",
       "    </text>\n",
       "    <path class=\"displacy-arrowhead\" d=\"M945.0,104.0 L953.0,92.0 937.0,92.0\" fill=\"currentColor\"/>\n",
       "</g>\n",
       "</svg>"
      ],
      "text/plain": [
       "<IPython.core.display.HTML object>"
      ]
     },
     "metadata": {},
     "output_type": "display_data"
    }
   ],
   "source": [
    "#create a dependency and entity graph of the sentence.\n",
    "displacy.render(doc3, style=\"dep\", jupyter=True, options={'distance': 100})"
   ]
  },
  {
   "cell_type": "code",
   "execution_count": null,
   "metadata": {},
   "outputs": [],
   "source": []
  },
  {
   "cell_type": "markdown",
   "metadata": {
    "colab_type": "text",
    "id": "pkru_Zpi5yhO"
   },
   "source": [
    "## spaCy pipelines\n",
    "\n",
    "When we call `nlp` on a text, spaCy tokenizes the ext to produce a `Doc`. The processing pipeline has different steps that are removed from the complexity of the user but that [can be tweaked if needed](https://spacy.io/usage/processing-pipelines).\n",
    "\n",
    "![alt text](https://spacy.io/pipeline-7a14d4edd18f3edfee8f34393bff2992.svg)"
   ]
  },
  {
   "cell_type": "markdown",
   "metadata": {
    "colab_type": "text",
    "id": "X3WXfgOF-wYg"
   },
   "source": [
    "## Entity recognition\n",
    "\n",
    "A **named entity** is a *real-world object* that’s assigned a name – for example, a person, a country, a product or a book title.\n",
    "\n",
    "spaCy can recognize [many types of named entities](https://spacy.io/api/annotation#named-entities), by predicting over a language model. Results are not 100% accurate as models are statistical and depends on the examples they are trained on, but this can be fine tuned for you later on.\n",
    "\n",
    "Named entities can be accessed from the *ents* properties of a spaCy *Doc*:"
   ]
  },
  {
   "cell_type": "code",
   "execution_count": 37,
   "metadata": {
    "colab": {},
    "colab_type": "code",
    "id": "9bwX_KZWP29D"
   },
   "outputs": [],
   "source": [
    "text_sentence_7 = u'Apple is looking at buying U.K. startup for 1 billion USD'\n",
    "doc7 = nlp(text_sentence_7)"
   ]
  },
  {
   "cell_type": "markdown",
   "metadata": {
    "colab_type": "text",
    "id": "TqzU-QnArT9E"
   },
   "source": [
    "There are certain entity properties that can be accessed:\n",
    "\n",
    "* **Text**: The original entity text.\n",
    "* **Start**: Index of start of entity in the Doc.\n",
    "* **End**: Index of end of entity in the Doc.\n",
    "* **Label**: Entity label, i.e. type."
   ]
  },
  {
   "cell_type": "code",
   "execution_count": 38,
   "metadata": {
    "colab": {
     "base_uri": "https://localhost:8080/",
     "height": 68
    },
    "colab_type": "code",
    "id": "jpeSXMhhP29H",
    "outputId": "bfd2cf15-a3e4-4625-96c7-14ef6d7cc2e1"
   },
   "outputs": [
    {
     "name": "stdout",
     "output_type": "stream",
     "text": [
      "Apple 0 5 ORG\n",
      "U.K. 27 31 GPE\n",
      "1 billion 44 53 CARDINAL\n"
     ]
    }
   ],
   "source": [
    "for ent in doc7.ents:\n",
    "    print(ent.text, ent.start_char, ent.end_char, ent.label_)"
   ]
  },
  {
   "cell_type": "code",
   "execution_count": 39,
   "metadata": {
    "colab": {
     "base_uri": "https://localhost:8080/",
     "height": 52
    },
    "colab_type": "code",
    "id": "M-kt6zFtP29K",
    "outputId": "0b289a0a-0d78-473a-8d9e-a1b191f5a3a0"
   },
   "outputs": [
    {
     "data": {
      "text/html": [
       "<div class=\"entities\" style=\"line-height: 2.5; direction: ltr\">\n",
       "<mark class=\"entity\" style=\"background: #7aecec; padding: 0.45em 0.6em; margin: 0 0.25em; line-height: 1; border-radius: 0.35em; box-decoration-break: clone; -webkit-box-decoration-break: clone\">\n",
       "    Apple\n",
       "    <span style=\"font-size: 0.8em; font-weight: bold; line-height: 1; border-radius: 0.35em; text-transform: uppercase; vertical-align: middle; margin-left: 0.5rem\">ORG</span>\n",
       "</mark>\n",
       " is looking at buying \n",
       "<mark class=\"entity\" style=\"background: #feca74; padding: 0.45em 0.6em; margin: 0 0.25em; line-height: 1; border-radius: 0.35em; box-decoration-break: clone; -webkit-box-decoration-break: clone\">\n",
       "    U.K.\n",
       "    <span style=\"font-size: 0.8em; font-weight: bold; line-height: 1; border-radius: 0.35em; text-transform: uppercase; vertical-align: middle; margin-left: 0.5rem\">GPE</span>\n",
       "</mark>\n",
       " startup for \n",
       "<mark class=\"entity\" style=\"background: #e4e7d2; padding: 0.45em 0.6em; margin: 0 0.25em; line-height: 1; border-radius: 0.35em; box-decoration-break: clone; -webkit-box-decoration-break: clone\">\n",
       "    1 billion\n",
       "    <span style=\"font-size: 0.8em; font-weight: bold; line-height: 1; border-radius: 0.35em; text-transform: uppercase; vertical-align: middle; margin-left: 0.5rem\">CARDINAL</span>\n",
       "</mark>\n",
       " USD</div>"
      ],
      "text/plain": [
       "<IPython.core.display.HTML object>"
      ]
     },
     "metadata": {},
     "output_type": "display_data"
    }
   ],
   "source": [
    "displacy.render(doc7, style=\"ent\", jupyter=True)"
   ]
  },
  {
   "cell_type": "code",
   "execution_count": 40,
   "metadata": {
    "colab": {
     "base_uri": "https://localhost:8080/",
     "height": 297
    },
    "colab_type": "code",
    "id": "LBS2-ke3-vLv",
    "outputId": "0cce6fd3-d984-472c-990e-ab19ba194974"
   },
   "outputs": [
    {
     "data": {
      "text/html": [
       "<div class=\"entities\" style=\"line-height: 2.5; direction: ltr\">In ancient \n",
       "<mark class=\"entity\" style=\"background: #feca74; padding: 0.45em 0.6em; margin: 0 0.25em; line-height: 1; border-radius: 0.35em; box-decoration-break: clone; -webkit-box-decoration-break: clone\">\n",
       "    Rome\n",
       "    <span style=\"font-size: 0.8em; font-weight: bold; line-height: 1; border-radius: 0.35em; text-transform: uppercase; vertical-align: middle; margin-left: 0.5rem\">GPE</span>\n",
       "</mark>\n",
       ", some neighbors live in \n",
       "<mark class=\"entity\" style=\"background: #e4e7d2; padding: 0.45em 0.6em; margin: 0 0.25em; line-height: 1; border-radius: 0.35em; box-decoration-break: clone; -webkit-box-decoration-break: clone\">\n",
       "    three\n",
       "    <span style=\"font-size: 0.8em; font-weight: bold; line-height: 1; border-radius: 0.35em; text-transform: uppercase; vertical-align: middle; margin-left: 0.5rem\">CARDINAL</span>\n",
       "</mark>\n",
       " adjacent houses. In the center is the house of \n",
       "<mark class=\"entity\" style=\"background: #feca74; padding: 0.45em 0.6em; margin: 0 0.25em; line-height: 1; border-radius: 0.35em; box-decoration-break: clone; -webkit-box-decoration-break: clone\">\n",
       "    Senex\n",
       "    <span style=\"font-size: 0.8em; font-weight: bold; line-height: 1; border-radius: 0.35em; text-transform: uppercase; vertical-align: middle; margin-left: 0.5rem\">GPE</span>\n",
       "</mark>\n",
       ", who lives there with wife \n",
       "<mark class=\"entity\" style=\"background: #aa9cfc; padding: 0.45em 0.6em; margin: 0 0.25em; line-height: 1; border-radius: 0.35em; box-decoration-break: clone; -webkit-box-decoration-break: clone\">\n",
       "    Domina\n",
       "    <span style=\"font-size: 0.8em; font-weight: bold; line-height: 1; border-radius: 0.35em; text-transform: uppercase; vertical-align: middle; margin-left: 0.5rem\">PERSON</span>\n",
       "</mark>\n",
       ", son \n",
       "<mark class=\"entity\" style=\"background: #aa9cfc; padding: 0.45em 0.6em; margin: 0 0.25em; line-height: 1; border-radius: 0.35em; box-decoration-break: clone; -webkit-box-decoration-break: clone\">\n",
       "    Hero\n",
       "    <span style=\"font-size: 0.8em; font-weight: bold; line-height: 1; border-radius: 0.35em; text-transform: uppercase; vertical-align: middle; margin-left: 0.5rem\">PERSON</span>\n",
       "</mark>\n",
       ", and several slaves, including head slave Hysterium and the musical's main character \n",
       "<mark class=\"entity\" style=\"background: #aa9cfc; padding: 0.45em 0.6em; margin: 0 0.25em; line-height: 1; border-radius: 0.35em; box-decoration-break: clone; -webkit-box-decoration-break: clone\">\n",
       "    Pseudolus\n",
       "    <span style=\"font-size: 0.8em; font-weight: bold; line-height: 1; border-radius: 0.35em; text-transform: uppercase; vertical-align: middle; margin-left: 0.5rem\">PERSON</span>\n",
       "</mark>\n",
       ". A slave belonging to \n",
       "<mark class=\"entity\" style=\"background: #feca74; padding: 0.45em 0.6em; margin: 0 0.25em; line-height: 1; border-radius: 0.35em; box-decoration-break: clone; -webkit-box-decoration-break: clone\">\n",
       "    Hero\n",
       "    <span style=\"font-size: 0.8em; font-weight: bold; line-height: 1; border-radius: 0.35em; text-transform: uppercase; vertical-align: middle; margin-left: 0.5rem\">GPE</span>\n",
       "</mark>\n",
       ", \n",
       "<mark class=\"entity\" style=\"background: #7aecec; padding: 0.45em 0.6em; margin: 0 0.25em; line-height: 1; border-radius: 0.35em; box-decoration-break: clone; -webkit-box-decoration-break: clone\">\n",
       "    Pseudolus\n",
       "    <span style=\"font-size: 0.8em; font-weight: bold; line-height: 1; border-radius: 0.35em; text-transform: uppercase; vertical-align: middle; margin-left: 0.5rem\">ORG</span>\n",
       "</mark>\n",
       " wishes to buy, win, or steal his freedom. \n",
       "<mark class=\"entity\" style=\"background: #e4e7d2; padding: 0.45em 0.6em; margin: 0 0.25em; line-height: 1; border-radius: 0.35em; box-decoration-break: clone; -webkit-box-decoration-break: clone\">\n",
       "    One\n",
       "    <span style=\"font-size: 0.8em; font-weight: bold; line-height: 1; border-radius: 0.35em; text-transform: uppercase; vertical-align: middle; margin-left: 0.5rem\">CARDINAL</span>\n",
       "</mark>\n",
       " of the neighboring houses is owned by \n",
       "<mark class=\"entity\" style=\"background: #aa9cfc; padding: 0.45em 0.6em; margin: 0 0.25em; line-height: 1; border-radius: 0.35em; box-decoration-break: clone; -webkit-box-decoration-break: clone\">\n",
       "    Marcus Lycus\n",
       "    <span style=\"font-size: 0.8em; font-weight: bold; line-height: 1; border-radius: 0.35em; text-transform: uppercase; vertical-align: middle; margin-left: 0.5rem\">PERSON</span>\n",
       "</mark>\n",
       ", who is a buyer and seller of beautiful women; the other belongs to the ancient \n",
       "<mark class=\"entity\" style=\"background: #aa9cfc; padding: 0.45em 0.6em; margin: 0 0.25em; line-height: 1; border-radius: 0.35em; box-decoration-break: clone; -webkit-box-decoration-break: clone\">\n",
       "    Erronius\n",
       "    <span style=\"font-size: 0.8em; font-weight: bold; line-height: 1; border-radius: 0.35em; text-transform: uppercase; vertical-align: middle; margin-left: 0.5rem\">PERSON</span>\n",
       "</mark>\n",
       ", who is abroad searching for his long-lost children (stolen in infancy by pirates). \n",
       "<mark class=\"entity\" style=\"background: #bfe1d9; padding: 0.45em 0.6em; margin: 0 0.25em; line-height: 1; border-radius: 0.35em; box-decoration-break: clone; -webkit-box-decoration-break: clone\">\n",
       "    One day\n",
       "    <span style=\"font-size: 0.8em; font-weight: bold; line-height: 1; border-radius: 0.35em; text-transform: uppercase; vertical-align: middle; margin-left: 0.5rem\">DATE</span>\n",
       "</mark>\n",
       ", \n",
       "<mark class=\"entity\" style=\"background: #aa9cfc; padding: 0.45em 0.6em; margin: 0 0.25em; line-height: 1; border-radius: 0.35em; box-decoration-break: clone; -webkit-box-decoration-break: clone\">\n",
       "    Senex\n",
       "    <span style=\"font-size: 0.8em; font-weight: bold; line-height: 1; border-radius: 0.35em; text-transform: uppercase; vertical-align: middle; margin-left: 0.5rem\">PERSON</span>\n",
       "</mark>\n",
       " and \n",
       "<mark class=\"entity\" style=\"background: #aa9cfc; padding: 0.45em 0.6em; margin: 0 0.25em; line-height: 1; border-radius: 0.35em; box-decoration-break: clone; -webkit-box-decoration-break: clone\">\n",
       "    Domina\n",
       "    <span style=\"font-size: 0.8em; font-weight: bold; line-height: 1; border-radius: 0.35em; text-transform: uppercase; vertical-align: middle; margin-left: 0.5rem\">PERSON</span>\n",
       "</mark>\n",
       " go on a trip and leave \n",
       "<mark class=\"entity\" style=\"background: #aa9cfc; padding: 0.45em 0.6em; margin: 0 0.25em; line-height: 1; border-radius: 0.35em; box-decoration-break: clone; -webkit-box-decoration-break: clone\">\n",
       "    Pseudolus\n",
       "    <span style=\"font-size: 0.8em; font-weight: bold; line-height: 1; border-radius: 0.35em; text-transform: uppercase; vertical-align: middle; margin-left: 0.5rem\">PERSON</span>\n",
       "</mark>\n",
       " in charge of \n",
       "<mark class=\"entity\" style=\"background: #feca74; padding: 0.45em 0.6em; margin: 0 0.25em; line-height: 1; border-radius: 0.35em; box-decoration-break: clone; -webkit-box-decoration-break: clone\">\n",
       "    Hero\n",
       "    <span style=\"font-size: 0.8em; font-weight: bold; line-height: 1; border-radius: 0.35em; text-transform: uppercase; vertical-align: middle; margin-left: 0.5rem\">GPE</span>\n",
       "</mark>\n",
       ". Hero confides in \n",
       "<mark class=\"entity\" style=\"background: #feca74; padding: 0.45em 0.6em; margin: 0 0.25em; line-height: 1; border-radius: 0.35em; box-decoration-break: clone; -webkit-box-decoration-break: clone\">\n",
       "    Pseudolus\n",
       "    <span style=\"font-size: 0.8em; font-weight: bold; line-height: 1; border-radius: 0.35em; text-transform: uppercase; vertical-align: middle; margin-left: 0.5rem\">GPE</span>\n",
       "</mark>\n",
       " that he is in love with the lovely \n",
       "<mark class=\"entity\" style=\"background: #feca74; padding: 0.45em 0.6em; margin: 0 0.25em; line-height: 1; border-radius: 0.35em; box-decoration-break: clone; -webkit-box-decoration-break: clone\">\n",
       "    Philia\n",
       "    <span style=\"font-size: 0.8em; font-weight: bold; line-height: 1; border-radius: 0.35em; text-transform: uppercase; vertical-align: middle; margin-left: 0.5rem\">GPE</span>\n",
       "</mark>\n",
       ", one of the courtesans in \n",
       "<mark class=\"entity\" style=\"background: #7aecec; padding: 0.45em 0.6em; margin: 0 0.25em; line-height: 1; border-radius: 0.35em; box-decoration-break: clone; -webkit-box-decoration-break: clone\">\n",
       "    the House of Lycus\n",
       "    <span style=\"font-size: 0.8em; font-weight: bold; line-height: 1; border-radius: 0.35em; text-transform: uppercase; vertical-align: middle; margin-left: 0.5rem\">ORG</span>\n",
       "</mark>\n",
       " (albeit still a virgin).</div>"
      ],
      "text/plain": [
       "<IPython.core.display.HTML object>"
      ]
     },
     "metadata": {},
     "output_type": "display_data"
    }
   ],
   "source": [
    "displacy.render(doc6, style=\"ent\", jupyter=True)"
   ]
  },
  {
   "cell_type": "markdown",
   "metadata": {
    "colab_type": "text",
    "id": "cTx01agLvxGi"
   },
   "source": [
    "## Word vectors and similarity\n",
    "\n",
    "The similarity or distance between two words can be done by comparing **word vectors** or *word embeddings*, which are multi-dimensional meaning representations of a word.\n",
    "\n",
    "Word vectors are usually created by using an algorithm like word2vec.\n",
    "\n",
    "To make them compact and fast, spaCy’s small models (all packages that end in sm) don’t ship with word vectors, and only include context-sensitive tensors. This means you can still use the similarity() methods to compare documents, spans and tokens – but the result won’t be as good, and individual tokens won’t have any vectors assigned. So in order to use real word vectors, you need to download a larger model, such as `en_core_web_md` or `en_core_web_lg`.\n",
    "\n",
    "**IMPORTANT!!** In Google Colab, download the following cell and then restart runtime to locate the downloaded model.\n",
    "\n",
    "A word vector looks like the following array: \n",
    "\n",
    "![alt text](https://miro.medium.com/max/560/1*Bp64BP0Buo9ZZWIyh6QzEQ.png)"
   ]
  },
  {
   "cell_type": "code",
   "execution_count": 41,
   "metadata": {
    "colab": {
     "base_uri": "https://localhost:8080/",
     "height": 241
    },
    "colab_type": "code",
    "id": "f2lQoQpowKC-",
    "outputId": "474f3ad2-c11f-49d2-8906-bb1f3f928640"
   },
   "outputs": [
    {
     "name": "stdout",
     "output_type": "stream",
     "text": [
      "Requirement already satisfied: en_core_web_md==2.2.0 from https://github.com/explosion/spacy-models/releases/download/en_core_web_md-2.2.0/en_core_web_md-2.2.0.tar.gz#egg=en_core_web_md==2.2.0 in /Users/ketevani/anaconda3/envs/bts36/lib/python3.6/site-packages (2.2.0)\n",
      "Requirement already satisfied: spacy>=2.2.0 in /Users/ketevani/anaconda3/envs/bts36/lib/python3.6/site-packages (from en_core_web_md==2.2.0) (2.2.1)\n",
      "Requirement already satisfied: plac<1.0.0,>=0.9.6 in /Users/ketevani/anaconda3/envs/bts36/lib/python3.6/site-packages (from spacy>=2.2.0->en_core_web_md==2.2.0) (0.9.6)\n",
      "Requirement already satisfied: numpy>=1.15.0 in /Users/ketevani/anaconda3/envs/bts36/lib/python3.6/site-packages (from spacy>=2.2.0->en_core_web_md==2.2.0) (1.17.2)\n",
      "Requirement already satisfied: preshed<3.1.0,>=3.0.2 in /Users/ketevani/anaconda3/envs/bts36/lib/python3.6/site-packages (from spacy>=2.2.0->en_core_web_md==2.2.0) (3.0.2)\n",
      "Requirement already satisfied: thinc<7.2.0,>=7.1.1 in /Users/ketevani/anaconda3/envs/bts36/lib/python3.6/site-packages (from spacy>=2.2.0->en_core_web_md==2.2.0) (7.1.1)\n",
      "Requirement already satisfied: requests<3.0.0,>=2.13.0 in /Users/ketevani/anaconda3/envs/bts36/lib/python3.6/site-packages (from spacy>=2.2.0->en_core_web_md==2.2.0) (2.22.0)\n",
      "Requirement already satisfied: srsly<1.1.0,>=0.1.0 in /Users/ketevani/anaconda3/envs/bts36/lib/python3.6/site-packages (from spacy>=2.2.0->en_core_web_md==2.2.0) (0.1.0)\n",
      "Requirement already satisfied: murmurhash<1.1.0,>=0.28.0 in /Users/ketevani/anaconda3/envs/bts36/lib/python3.6/site-packages (from spacy>=2.2.0->en_core_web_md==2.2.0) (1.0.0)\n",
      "Requirement already satisfied: wasabi<1.1.0,>=0.2.0 in /Users/ketevani/anaconda3/envs/bts36/lib/python3.6/site-packages (from spacy>=2.2.0->en_core_web_md==2.2.0) (0.2.2)\n",
      "Requirement already satisfied: blis<0.5.0,>=0.4.0 in /Users/ketevani/anaconda3/envs/bts36/lib/python3.6/site-packages (from spacy>=2.2.0->en_core_web_md==2.2.0) (0.4.1)\n",
      "Requirement already satisfied: cymem<2.1.0,>=2.0.2 in /Users/ketevani/anaconda3/envs/bts36/lib/python3.6/site-packages (from spacy>=2.2.0->en_core_web_md==2.2.0) (2.0.2)\n",
      "Requirement already satisfied: tqdm<5.0.0,>=4.10.0 in /Users/ketevani/anaconda3/envs/bts36/lib/python3.6/site-packages (from thinc<7.2.0,>=7.1.1->spacy>=2.2.0->en_core_web_md==2.2.0) (4.36.1)\n",
      "Requirement already satisfied: certifi>=2017.4.17 in /Users/ketevani/anaconda3/envs/bts36/lib/python3.6/site-packages (from requests<3.0.0,>=2.13.0->spacy>=2.2.0->en_core_web_md==2.2.0) (2019.9.11)\n",
      "Requirement already satisfied: idna<2.9,>=2.5 in /Users/ketevani/anaconda3/envs/bts36/lib/python3.6/site-packages (from requests<3.0.0,>=2.13.0->spacy>=2.2.0->en_core_web_md==2.2.0) (2.8)\n",
      "Requirement already satisfied: chardet<3.1.0,>=3.0.2 in /Users/ketevani/anaconda3/envs/bts36/lib/python3.6/site-packages (from requests<3.0.0,>=2.13.0->spacy>=2.2.0->en_core_web_md==2.2.0) (3.0.4)\n",
      "Requirement already satisfied: urllib3!=1.25.0,!=1.25.1,<1.26,>=1.21.1 in /Users/ketevani/anaconda3/envs/bts36/lib/python3.6/site-packages (from requests<3.0.0,>=2.13.0->spacy>=2.2.0->en_core_web_md==2.2.0) (1.25.6)\n",
      "\u001b[38;5;2m✔ Download and installation successful\u001b[0m\n",
      "You can now load the model via spacy.load('en_core_web_md')\n"
     ]
    }
   ],
   "source": [
    "!python -m spacy download en_core_web_md"
   ]
  },
  {
   "cell_type": "markdown",
   "metadata": {
    "colab_type": "text",
    "id": "aWqmnIZa0yzy"
   },
   "source": [
    "The word vectors can be explored with the following techniques then:\n",
    "\n",
    "* **Text**: The original token text.\n",
    "* **has vector**: Does the token have a vector representation?\n",
    "* **Vector norm**: The L2 norm of the token’s vector (the square root of the sum of the values squared)\n",
    "* **OOV**: Out-of-vocabulary"
   ]
  },
  {
   "cell_type": "code",
   "execution_count": 42,
   "metadata": {
    "colab": {
     "base_uri": "https://localhost:8080/",
     "height": 139
    },
    "colab_type": "code",
    "id": "fkPFASlR_iOI",
    "outputId": "b79bc861-dfe7-455c-f392-926960444c15"
   },
   "outputs": [
    {
     "name": "stdout",
     "output_type": "stream",
     "text": [
      "dog True 7.0336733 False\n",
      "cat True 6.6808186 False\n",
      "banana True 6.700014 False\n",
      "afskfsd False 0.0 True\n"
     ]
    }
   ],
   "source": [
    "import spacy\n",
    "\n",
    "nlp = spacy.load(\"en_core_web_md\")\n",
    "tokens = nlp(\"dog cat banana afskfsd\")\n",
    "\n",
    "for token in tokens:\n",
    "    print(token.text, token.has_vector, token.vector_norm, token.is_oov)"
   ]
  },
  {
   "cell_type": "markdown",
   "metadata": {
    "colab_type": "text",
    "id": "QT-fbAZf2bfB"
   },
   "source": [
    "The words “dog”, “cat” and “banana” are all pretty common in English, so they’re part of the model’s vocabulary, and come with a vector. The word “afskfsd” on the other hand is a lot less common and out-of-vocabulary – so its vector representation consists of 300 dimensions of 0, which means it’s practically nonexistent. \n",
    "\n",
    "spaCy is able to compare two objects, and make a prediction of how similar they are. Predicting similarity is useful for building recommendation systems or flagging duplicates. For example, you can suggest a user content that’s similar to what they’re currently looking at, or label a support ticket as a duplicate if it’s very similar to an already existing one.\n",
    "\n",
    "Each Doc, Span and Token comes with a .similarity() method that lets you compare it with another object, and determine the similarity. Of course similarity is always subjective – whether “dog” and “cat” are similar really depends on how you’re looking at it. spaCy’s similarity model usually assumes a pretty general-purpose definition of similarity."
   ]
  },
  {
   "cell_type": "code",
   "execution_count": 43,
   "metadata": {
    "colab": {
     "base_uri": "https://localhost:8080/",
     "height": 224
    },
    "colab_type": "code",
    "id": "QM55wLVeyra1",
    "outputId": "81da53a1-7856-4770-97df-1a31f147a614"
   },
   "outputs": [
    {
     "name": "stdout",
     "output_type": "stream",
     "text": [
      "dog dog 1.0\n",
      "dog cat 0.80168545\n",
      "dog banana 0.24327643\n",
      "cat dog 0.80168545\n",
      "cat cat 1.0\n",
      "cat banana 0.28154364\n",
      "banana dog 0.24327643\n",
      "banana cat 0.28154364\n",
      "banana banana 1.0\n"
     ]
    }
   ],
   "source": [
    "import spacy\n",
    "\n",
    "nlp = spacy.load(\"en_core_web_md\")  # make sure to use larger model!\n",
    "tokens = nlp(\"dog cat banana\")\n",
    "\n",
    "for token1 in tokens:\n",
    "    for token2 in tokens:\n",
    "        print(token1.text, token2.text, token1.similarity(token2))"
   ]
  },
  {
   "cell_type": "markdown",
   "metadata": {
    "colab_type": "text",
    "id": "PaCnvLAi6iGW"
   },
   "source": [
    "## The Vocab object\n",
    "\n",
    "spaCy tries to store the data in a vocabulary, i.e. `Vocab` that is shared by multiple documents. \n",
    "\n",
    "To save memory, spaCy also encodes all strings to hash values – in this case for example, “coffee” has the hash 3197928453018144401. Entity labels like “ORG” and part-of-speech tags like “VERB” are also encoded. Internally, spaCy only “speaks” in hash values.\n",
    "\n",
    "* **Token**: A word, punctuation mark etc. in context, including its attributes, tags and dependencies.\n",
    "* **Lexeme**: A “word type” with no context. Includes the word shape and flags, e.g. if it’s lowercase, a digit or punctuation.\n",
    "* **Doc**: A processed container of tokens in context.\n",
    "* **Vocab**: The collection of lexemes.\n",
    "* **StringStore**: The dictionary mapping hash values to strings, for example 3197928453018144401 → “coffee”.\n",
    "\n",
    "Thus: \n",
    "\n",
    "* `Vocab` objects contain a set of look-up tables that make common information available across documents.\n",
    "* Indexing the `Vocab` retrieves a `Lexeme`, which contains all the context-independent information about a word.\n",
    "\n",
    "![alt text](https://spacy.io/vocab_stringstore-1d1c9ccd7a1cf4d168bfe4ca791e6eed.svg)\n",
    "\n"
   ]
  },
  {
   "cell_type": "code",
   "execution_count": 44,
   "metadata": {
    "colab": {
     "base_uri": "https://localhost:8080/",
     "height": 34
    },
    "colab_type": "code",
    "id": "Qj-5mite9mIK",
    "outputId": "6e103ca2-39a5-4f59-be0b-8f483c8e2c8d"
   },
   "outputs": [
    {
     "data": {
      "text/plain": [
       "<spacy.vocab.Vocab at 0x1132fc6c8>"
      ]
     },
     "execution_count": 44,
     "metadata": {},
     "output_type": "execute_result"
    }
   ],
   "source": [
    "nlp.vocab"
   ]
  },
  {
   "cell_type": "code",
   "execution_count": 45,
   "metadata": {
    "colab": {
     "base_uri": "https://localhost:8080/",
     "height": 34
    },
    "colab_type": "code",
    "id": "Vg-Q-_XV9sqm",
    "outputId": "59bfdc59-2db5-4929-a615-694204815ec2"
   },
   "outputs": [
    {
     "data": {
      "text/plain": [
       "<spacy.lexeme.Lexeme at 0x156924bd0>"
      ]
     },
     "execution_count": 45,
     "metadata": {},
     "output_type": "execute_result"
    }
   ],
   "source": [
    "doc7.vocab[\"Apple\"]"
   ]
  },
  {
   "cell_type": "code",
   "execution_count": 46,
   "metadata": {
    "colab": {
     "base_uri": "https://localhost:8080/",
     "height": 34
    },
    "colab_type": "code",
    "id": "vjCFRsyo94G1",
    "outputId": "a7def412-7c4d-4a82-9b98-bc8794d7e6a4"
   },
   "outputs": [
    {
     "data": {
      "text/plain": [
       "<spacy.lexeme.Lexeme at 0x10edf8750>"
      ]
     },
     "execution_count": 46,
     "metadata": {},
     "output_type": "execute_result"
    }
   ],
   "source": [
    "lex = doc7.vocab[\"million\"]\n",
    "lex"
   ]
  },
  {
   "cell_type": "code",
   "execution_count": 47,
   "metadata": {
    "colab": {
     "base_uri": "https://localhost:8080/",
     "height": 34
    },
    "colab_type": "code",
    "id": "dixcACbB994o",
    "outputId": "ffbbb94e-10a1-461d-a66b-e27567f509fb"
   },
   "outputs": [
    {
     "data": {
      "text/plain": [
       "'xxxx'"
      ]
     },
     "execution_count": 47,
     "metadata": {},
     "output_type": "execute_result"
    }
   ],
   "source": [
    "lex.shape_"
   ]
  },
  {
   "cell_type": "code",
   "execution_count": 48,
   "metadata": {
    "colab": {
     "base_uri": "https://localhost:8080/",
     "height": 34
    },
    "colab_type": "code",
    "id": "-1I3Kp_V-AzH",
    "outputId": "c65ab9d6-c5d9-49cf-c78d-16fcd1979118"
   },
   "outputs": [
    {
     "data": {
      "text/plain": [
       "'million'"
      ]
     },
     "execution_count": 48,
     "metadata": {},
     "output_type": "execute_result"
    }
   ],
   "source": [
    "lex.text"
   ]
  },
  {
   "cell_type": "code",
   "execution_count": 49,
   "metadata": {
    "colab": {
     "base_uri": "https://localhost:8080/",
     "height": 34
    },
    "colab_type": "code",
    "id": "T6gbPjeh-B_j",
    "outputId": "addbcaeb-bae4-42ce-f58c-e451840d7360"
   },
   "outputs": [
    {
     "data": {
      "text/plain": [
       "True"
      ]
     },
     "execution_count": 49,
     "metadata": {},
     "output_type": "execute_result"
    }
   ],
   "source": [
    "lex.is_alpha"
   ]
  },
  {
   "cell_type": "markdown",
   "metadata": {
    "colab_type": "text",
    "id": "pgVUba0w6x-c"
   },
   "source": [
    "# Hands on: practical examples"
   ]
  },
  {
   "cell_type": "markdown",
   "metadata": {
    "colab_type": "text",
    "id": "KQJAS9b67KIB"
   },
   "source": [
    "## Word frequency\n",
    "\n",
    "We can compute the word frequency on a text using spaCy. Within the Holy Grail dataset, lets:\n",
    "\n",
    "\n",
    "\n",
    "*   Let's find the 5 most common nouns\n",
    "*   Let's find the 20 most common lemmas that are not stopwords\n",
    "\n"
   ]
  },
  {
   "cell_type": "markdown",
   "metadata": {
    "colab_type": "text",
    "id": "q5ltWhKMGdbM"
   },
   "source": [
    "### Find the 5 most common nouns"
   ]
  },
  {
   "cell_type": "code",
   "execution_count": 77,
   "metadata": {
    "colab": {
     "base_uri": "https://localhost:8080/",
     "height": 224
    },
    "colab_type": "code",
    "id": "uZ3zlWUS602k",
    "outputId": "8f824c4a-6df8-478e-c46e-28def711db38"
   },
   "outputs": [
    {
     "name": "stdout",
     "output_type": "stream",
     "text": [
      "/bin/sh: wget: command not found\r\n"
     ]
    }
   ],
   "source": [
    "!wget 'https://raw.githubusercontent.com/vfp1/bts-mbds-data-science-foundations-2019/master/sessions/data/holy_grail.txt'"
   ]
  },
  {
   "cell_type": "code",
   "execution_count": 78,
   "metadata": {
    "colab": {},
    "colab_type": "code",
    "id": "A8ETiMYyBkqo"
   },
   "outputs": [],
   "source": [
    "import spacy\n",
    "\n",
    "nlp = spacy.load(\"en\")\n",
    "\n",
    "holy_grail = nlp(open('holy_grail.txt', 'r').read())"
   ]
  },
  {
   "cell_type": "code",
   "execution_count": 79,
   "metadata": {
    "colab": {},
    "colab_type": "code",
    "id": "LMsQCxazDBe-"
   },
   "outputs": [],
   "source": [
    "from collections import Counter\n",
    "from spacy.lang.en.stop_words import STOP_WORDS\n",
    "\n",
    "char_counter = Counter()\n",
    "\n",
    "for token in holy_grail:\n",
    "    if token.pos_ == 'NOUN' and token.text not in STOP_WORDS and token.text != '#':\n",
    "        char_counter[token.text] += 1"
   ]
  },
  {
   "cell_type": "code",
   "execution_count": 80,
   "metadata": {
    "colab": {
     "base_uri": "https://localhost:8080/",
     "height": 102
    },
    "colab_type": "code",
    "id": "2ryIDsxuDONW",
    "outputId": "4ddf760b-8969-4c37-8f0c-2423f1eb4985"
   },
   "outputs": [
    {
     "data": {
      "text/plain": [
       "[('boom', 42), ('witch', 37), ('music', 29), ('clop', 26), ('singing', 26)]"
      ]
     },
     "execution_count": 80,
     "metadata": {},
     "output_type": "execute_result"
    }
   ],
   "source": [
    "char_counter.most_common(5)"
   ]
  },
  {
   "cell_type": "markdown",
   "metadata": {
    "colab_type": "text",
    "id": "hdz3FWI9Gi79"
   },
   "source": [
    "### Find the 20 most common lemmas that are not stopwords"
   ]
  },
  {
   "cell_type": "code",
   "execution_count": 81,
   "metadata": {
    "colab": {},
    "colab_type": "code",
    "id": "NIXHe3iCGxMx"
   },
   "outputs": [],
   "source": [
    "from collections import Counter\n",
    "from spacy.lang.en.stop_words import STOP_WORDS\n",
    "\n",
    "lemmas = Counter()\n",
    "\n",
    "for token in holy_grail:\n",
    "    if not token.is_punct and not token.is_space and token.lower_ not in STOP_WORDS:\n",
    "        lemmas[token.lemma_] += 1"
   ]
  },
  {
   "cell_type": "code",
   "execution_count": 82,
   "metadata": {
    "colab": {
     "base_uri": "https://localhost:8080/",
     "height": 357
    },
    "colab_type": "code",
    "id": "yAn8t5kKHRMB",
    "outputId": "241e965a-0082-4eab-d45d-081f6634bb24"
   },
   "outputs": [
    {
     "data": {
      "text/plain": [
       "[('ARTHUR', 225),\n",
       " ('oh', 110),\n",
       " ('1', 76),\n",
       " ('LAUNCELOT', 76),\n",
       " ('KNIGHT', 66),\n",
       " ('GALAHAD', 64),\n",
       " ('FATHER', 62),\n",
       " ('ha', 59),\n",
       " ('BEDEVERE', 58),\n",
       " ('right', 55),\n",
       " ('HEAD', 54),\n",
       " ('yes', 53),\n",
       " ('Sir', 52),\n",
       " ('come', 46),\n",
       " ('Ni', 46),\n",
       " ('boom', 45),\n",
       " ('2', 42),\n",
       " ('witch', 41),\n",
       " ('clop', 39),\n",
       " ('burn', 39)]"
      ]
     },
     "execution_count": 82,
     "metadata": {},
     "output_type": "execute_result"
    }
   ],
   "source": [
    "counts = Counter(lemmas)\n",
    "counts.most_common(20)"
   ]
  },
  {
   "cell_type": "markdown",
   "metadata": {
    "colab_type": "text",
    "id": "rRRSwVjpJXxF"
   },
   "source": [
    "### Your turn\n",
    "\n",
    "* Let's find the 5 most common verbs\n",
    "* Let's find the 5 most common personal names\n",
    "* Let's find the 20 most common lemmas that are not stopwords, not numbers and not personal names\n",
    "* What happens? Why some strange character appears? Next session we will learn how to filter through those to create cool t-SNE graphs"
   ]
  },
  {
   "cell_type": "markdown",
   "metadata": {},
   "source": [
    "Let's find the 5 most common verbs"
   ]
  },
  {
   "cell_type": "code",
   "execution_count": 83,
   "metadata": {},
   "outputs": [],
   "source": [
    "from collections import Counter\n",
    "from spacy.lang.en.stop_words import STOP_WORDS\n",
    "\n",
    "char_counter = Counter()\n",
    "\n",
    "for token in holy_grail:\n",
    "    if token.pos_ == 'VERB' and token.text not in STOP_WORDS and token.text != '#':\n",
    "        char_counter[token.text] += 1"
   ]
  },
  {
   "cell_type": "code",
   "execution_count": 84,
   "metadata": {},
   "outputs": [
    {
     "data": {
      "text/plain": [
       "[('Burn', 32), ('got', 27), ('Come', 26), ('tell', 24), ('Look', 24)]"
      ]
     },
     "execution_count": 84,
     "metadata": {},
     "output_type": "execute_result"
    }
   ],
   "source": [
    "char_counter.most_common(5)"
   ]
  },
  {
   "cell_type": "markdown",
   "metadata": {},
   "source": [
    "Let's find the 5 most common personal names"
   ]
  },
  {
   "cell_type": "code",
   "execution_count": 88,
   "metadata": {},
   "outputs": [],
   "source": [
    "from collections import Counter\n",
    "from spacy.lang.en.stop_words import STOP_WORDS\n",
    "\n",
    "char_counter = Counter()\n",
    "\n",
    "for token in holy_grail:\n",
    "    if token.pos_ == 'PROPN' and token.text not in STOP_WORDS and token.text != '#':\n",
    "        char_counter[token.text] += 1"
   ]
  },
  {
   "cell_type": "code",
   "execution_count": 89,
   "metadata": {},
   "outputs": [
    {
     "data": {
      "text/plain": [
       "[('ARTHUR', 225),\n",
       " ('LAUNCELOT', 76),\n",
       " ('KNIGHT', 66),\n",
       " ('GALAHAD', 64),\n",
       " ('FATHER', 62)]"
      ]
     },
     "execution_count": 89,
     "metadata": {},
     "output_type": "execute_result"
    }
   ],
   "source": [
    "char_counter.most_common(5)"
   ]
  },
  {
   "cell_type": "markdown",
   "metadata": {},
   "source": [
    "Let's find the 20 most common lemmas that are not stopwords, not numbers and not personal names"
   ]
  },
  {
   "cell_type": "code",
   "execution_count": 106,
   "metadata": {},
   "outputs": [],
   "source": [
    "from collections import Counter\n",
    "from spacy.lang.en.stop_words import STOP_WORDS\n",
    "\n",
    "lemmas = Counter()\n",
    "\n",
    "for token in holy_grail:\n",
    "    if token.pos_ !=\"PROPN\" and not token.is_punct and not token.is_digit and not token.is_space and token.lower_ not in STOP_WORDS:\n",
    "        lemmas[token.lemma_] += 1"
   ]
  },
  {
   "cell_type": "code",
   "execution_count": 107,
   "metadata": {},
   "outputs": [
    {
     "data": {
      "text/plain": [
       "[('oh', 110),\n",
       " ('ha', 59),\n",
       " ('right', 55),\n",
       " ('yes', 53),\n",
       " ('come', 46),\n",
       " ('boom', 42),\n",
       " ('witch', 41),\n",
       " ('clop', 39),\n",
       " ('burn', 39),\n",
       " ('away', 38),\n",
       " ('look', 37),\n",
       " ('stop', 35),\n",
       " ('uh', 33),\n",
       " ('get', 30),\n",
       " ('tell', 30),\n",
       " ('music', 29),\n",
       " ('dead', 28),\n",
       " ('run', 28),\n",
       " ('squeak', 28),\n",
       " ('go', 27)]"
      ]
     },
     "execution_count": 107,
     "metadata": {},
     "output_type": "execute_result"
    }
   ],
   "source": [
    "counts = Counter(lemmas)\n",
    "counts.most_common(20)"
   ]
  },
  {
   "cell_type": "code",
   "execution_count": null,
   "metadata": {},
   "outputs": [],
   "source": []
  },
  {
   "cell_type": "markdown",
   "metadata": {},
   "source": [
    "What happens? Why some strange character appears? Next session we will learn how to filter through those to create cool t-SNE graphs"
   ]
  },
  {
   "cell_type": "code",
   "execution_count": null,
   "metadata": {},
   "outputs": [],
   "source": []
  },
  {
   "cell_type": "markdown",
   "metadata": {
    "colab_type": "text",
    "id": "8_xXkO_b7WrG"
   },
   "source": [
    "## Dispersion plots\n",
    "\n",
    "1. Load the `holy_grail.txt` dataset and create a dictionary of names and indexes like `{\"NAME\": [1, 2, 5, 10, ...]}` to store when does each proper noun appear among the 5 most frequent ones.\n",
    "2. Visualize the appearances of the character that is named the most.\n",
    "3. Visualize in the same graph the appearances of the top 5 characters to compare them."
   ]
  },
  {
   "cell_type": "code",
   "execution_count": 108,
   "metadata": {
    "colab": {},
    "colab_type": "code",
    "id": "Jma_xH1s7YD0"
   },
   "outputs": [],
   "source": [
    "from spacy import load\n",
    "\n",
    "nlp = load(\"en\")"
   ]
  },
  {
   "cell_type": "code",
   "execution_count": 109,
   "metadata": {
    "colab": {},
    "colab_type": "code",
    "id": "lY3hpd3VIIDb"
   },
   "outputs": [],
   "source": [
    "holy_grail = nlp(open(\"holy_grail.txt\", 'r').read())"
   ]
  },
  {
   "cell_type": "code",
   "execution_count": 110,
   "metadata": {
    "colab": {},
    "colab_type": "code",
    "id": "lcUhtPg3KMYa"
   },
   "outputs": [],
   "source": [
    "from collections import Counter\n",
    "\n",
    "char_counter = Counter()\n",
    "\n",
    "for token in holy_grail:\n",
    "    if token.pos_ == 'PROPN':\n",
    "        char_counter[token.text] += 1"
   ]
  },
  {
   "cell_type": "code",
   "execution_count": 111,
   "metadata": {
    "colab": {
     "base_uri": "https://localhost:8080/",
     "height": 34
    },
    "colab_type": "code",
    "id": "FQLta8KLKQhc",
    "outputId": "fd4b2cf1-b7d1-4a12-c78b-f58456e739c8"
   },
   "outputs": [
    {
     "data": {
      "text/plain": [
       "[('ARTHUR', 225),\n",
       " ('LAUNCELOT', 76),\n",
       " ('KNIGHT', 66),\n",
       " ('GALAHAD', 64),\n",
       " ('FATHER', 62)]"
      ]
     },
     "execution_count": 111,
     "metadata": {},
     "output_type": "execute_result"
    }
   ],
   "source": [
    "char_counter.most_common(5)"
   ]
  },
  {
   "cell_type": "markdown",
   "metadata": {
    "colab_type": "text",
    "id": "gZSZrhV_ML2C"
   },
   "source": [
    "We get Sir or HEAD within the characters, actually HEAD is a character, but Sir is not, let's change that using a `special case`, instead of the longer and ardous task of training."
   ]
  },
  {
   "cell_type": "code",
   "execution_count": 121,
   "metadata": {
    "colab": {},
    "colab_type": "code",
    "id": "_Mpqv-9tMeUu"
   },
   "outputs": [],
   "source": [
    "import spacy\n",
    "\n",
    "from spacy.symbols import ORTH, POS, NOUN, VERB, TAG\n",
    "\n",
    "nlp_modified = spacy.load('en')\n",
    "nlp_modified.tokenizer.add_special_case('Sir', [{ORTH: 'Sir', POS: NOUN, TAG: NOUN}])\n",
    "nlp_modified.tokenizer.add_special_case('Grail', [{ORTH: 'Grail', POS: NOUN, TAG: NOUN}])\n",
    "nlp_modified.tokenizer.add_special_case('BLACK', [{ORTH: 'BLACK', POS: NOUN, TAG: NOUN}])"
   ]
  },
  {
   "cell_type": "markdown",
   "metadata": {
    "colab_type": "text",
    "id": "SjikAIe0Mtmy"
   },
   "source": [
    "Let's try it again"
   ]
  },
  {
   "cell_type": "code",
   "execution_count": 122,
   "metadata": {
    "colab": {},
    "colab_type": "code",
    "id": "7eu6fFJRM9nB"
   },
   "outputs": [],
   "source": [
    "holy_grail2 = nlp_modified(open(\"holy_grail.txt\", 'r').read())"
   ]
  },
  {
   "cell_type": "code",
   "execution_count": 123,
   "metadata": {
    "colab": {},
    "colab_type": "code",
    "id": "xCaMiq2lMxUm"
   },
   "outputs": [],
   "source": [
    "from collections import Counter\n",
    "\n",
    "char_counter2 = Counter()\n",
    "\n",
    "for token in holy_grail2:\n",
    "    if token.pos_ == 'PROPN':\n",
    "        char_counter2[token.text] += 1"
   ]
  },
  {
   "cell_type": "code",
   "execution_count": 124,
   "metadata": {
    "colab": {
     "base_uri": "https://localhost:8080/",
     "height": 34
    },
    "colab_type": "code",
    "id": "ERH8zzWgMzI6",
    "outputId": "529e3243-f456-452c-e5a9-da852d8809e8"
   },
   "outputs": [
    {
     "data": {
      "text/plain": [
       "[('ARTHUR', 225),\n",
       " ('LAUNCELOT', 76),\n",
       " ('KNIGHT', 66),\n",
       " ('GALAHAD', 64),\n",
       " ('FATHER', 62)]"
      ]
     },
     "execution_count": 124,
     "metadata": {},
     "output_type": "execute_result"
    }
   ],
   "source": [
    "char_counter2.most_common(5)"
   ]
  },
  {
   "cell_type": "markdown",
   "metadata": {
    "colab_type": "text",
    "id": "BDL1Cl_wRpMB"
   },
   "source": [
    "### Visualize the most"
   ]
  },
  {
   "cell_type": "code",
   "execution_count": 137,
   "metadata": {
    "colab": {
     "base_uri": "https://localhost:8080/",
     "height": 34
    },
    "colab_type": "code",
    "id": "lH8gjzkYRtOp",
    "outputId": "7df94ade-0911-4dc9-8639-ccf76ef43476"
   },
   "outputs": [
    {
     "data": {
      "text/plain": [
       "[('ARTHUR', 225)]"
      ]
     },
     "execution_count": 137,
     "metadata": {},
     "output_type": "execute_result"
    }
   ],
   "source": [
    "char_counter2.most_common(1)"
   ]
  },
  {
   "cell_type": "code",
   "execution_count": 138,
   "metadata": {
    "colab": {},
    "colab_type": "code",
    "id": "6Ceu5EvnKQ5-"
   },
   "outputs": [],
   "source": [
    "names, _ = zip(*char_counter2.most_common(1))"
   ]
  },
  {
   "cell_type": "code",
   "execution_count": 139,
   "metadata": {
    "colab": {},
    "colab_type": "code",
    "id": "IS94mXKWPh0t"
   },
   "outputs": [],
   "source": [
    "from collections import defaultdict\n",
    "\n",
    "import matplotlib.pyplot as plt"
   ]
  },
  {
   "cell_type": "code",
   "execution_count": 140,
   "metadata": {
    "colab": {},
    "colab_type": "code",
    "id": "xAu-X9I1RHLt"
   },
   "outputs": [],
   "source": [
    "indexes = defaultdict(list)\n",
    "\n",
    "for token in holy_grail2:\n",
    "    if token.text in names:\n",
    "        indexes[token.text].append(token.i)"
   ]
  },
  {
   "cell_type": "code",
   "execution_count": 141,
   "metadata": {
    "colab": {
     "base_uri": "https://localhost:8080/",
     "height": 312
    },
    "colab_type": "code",
    "id": "Ie9U4y2uRKa2",
    "outputId": "600fe371-be30-473f-9142-62a9cd32f2ef"
   },
   "outputs": [
    {
     "data": {
      "text/plain": [
       "<matplotlib.legend.Legend at 0x150448828>"
      ]
     },
     "execution_count": 141,
     "metadata": {},
     "output_type": "execute_result"
    },
    {
     "data": {
      "image/png": "[encoded data removed]",
      "text/plain": [
       "<Figure size 432x288 with 1 Axes>"
      ]
     },
     "metadata": {
      "needs_background": "light"
     },
     "output_type": "display_data"
    }
   ],
   "source": [
    "fig, axes = plt.subplots()\n",
    "\n",
    "axes.eventplot(indexes[names], label=names)\n",
    "axes.get_yaxis().set_visible(False)\n",
    "\n",
    "fig.legend()"
   ]
  },
  {
   "cell_type": "markdown",
   "metadata": {
    "colab_type": "text",
    "id": "D0WqqmIiTHoY"
   },
   "source": [
    "### Visualize all"
   ]
  },
  {
   "cell_type": "code",
   "execution_count": 142,
   "metadata": {
    "colab": {
     "base_uri": "https://localhost:8080/",
     "height": 34
    },
    "colab_type": "code",
    "id": "oNCam-CtTlAW",
    "outputId": "4160b653-7f24-4284-88b4-609432e503ab"
   },
   "outputs": [
    {
     "data": {
      "text/plain": [
       "[('ARTHUR', 225),\n",
       " ('LAUNCELOT', 76),\n",
       " ('KNIGHT', 66),\n",
       " ('GALAHAD', 64),\n",
       " ('FATHER', 62)]"
      ]
     },
     "execution_count": 142,
     "metadata": {},
     "output_type": "execute_result"
    }
   ],
   "source": [
    "char_counter2.most_common(5)"
   ]
  },
  {
   "cell_type": "code",
   "execution_count": 143,
   "metadata": {
    "colab": {},
    "colab_type": "code",
    "id": "Uv63xSimTlAb"
   },
   "outputs": [],
   "source": [
    "names, _ = zip(*char_counter2.most_common(5))"
   ]
  },
  {
   "cell_type": "code",
   "execution_count": 144,
   "metadata": {
    "colab": {},
    "colab_type": "code",
    "id": "ekEirwPqTlAe"
   },
   "outputs": [],
   "source": [
    "from collections import defaultdict\n",
    "\n",
    "import matplotlib.pyplot as plt"
   ]
  },
  {
   "cell_type": "code",
   "execution_count": 145,
   "metadata": {
    "colab": {},
    "colab_type": "code",
    "id": "B_WuRbgYTlAg"
   },
   "outputs": [],
   "source": [
    "indexes = defaultdict(list)\n",
    "\n",
    "for token in holy_grail2:\n",
    "    if token.text in names:\n",
    "        indexes[token.text].append(token.i)"
   ]
  },
  {
   "cell_type": "code",
   "execution_count": 147,
   "metadata": {
    "colab": {
     "base_uri": "https://localhost:8080/",
     "height": 312
    },
    "colab_type": "code",
    "id": "yKL5yFmKTlAj",
    "outputId": "f2576bc2-d2e0-480f-8b72-9edff5af8a7b"
   },
   "outputs": [
    {
     "data": {
      "text/plain": [
       "<matplotlib.legend.Legend at 0x124b03f28>"
      ]
     },
     "execution_count": 147,
     "metadata": {},
     "output_type": "execute_result"
    },
    {
     "data": {
      "image/png": "[encoded data removed]",
      "text/plain": [
       "<Figure size 432x288 with 5 Axes>"
      ]
     },
     "metadata": {
      "needs_background": "light"
     },
     "output_type": "display_data"
    }
   ],
   "source": [
    "fig, axes = plt.subplots(5, sharex=True)\n",
    "\n",
    "for ii, name in enumerate(names):\n",
    "    axes[ii].eventplot(indexes[name], label=name, color=\"C{}\".format(ii))\n",
    "    axes[ii].get_yaxis().set_visible(False)\n",
    "\n",
    "fig.legend()"
   ]
  },
  {
   "cell_type": "markdown",
   "metadata": {
    "colab_type": "text",
    "id": "WJTnDhDzUnAx"
   },
   "source": [
    "## Your turn:\n",
    "\n",
    "* Try to plot the NOUNS and clean the Doc whenever necessary adding special cases\n",
    "\n",
    "* Try the same exercise with [this file in the GitHub repo](https://github.com/vfp1/bts-mbds-data-science-foundations-2019/raw/master/sessions/data/pride_and_prejudice.txt)"
   ]
  },
  {
   "cell_type": "code",
   "execution_count": 167,
   "metadata": {
    "colab": {},
    "colab_type": "code",
    "id": "Yi1SIWOoU81W"
   },
   "outputs": [],
   "source": [
    "from collections import Counter\n",
    "\n",
    "char_counter3 = Counter()\n",
    "\n",
    "for token in holy_grail2:\n",
    "    if token.pos_ == 'NOUN' and token.text != '#':\n",
    "        char_counter3[token.text] += 1"
   ]
  },
  {
   "cell_type": "code",
   "execution_count": 168,
   "metadata": {},
   "outputs": [
    {
     "data": {
      "text/plain": [
       "[('Sir', 51), ('boom', 42), ('witch', 37), ('Grail', 34), ('BLACK', 32)]"
      ]
     },
     "execution_count": 168,
     "metadata": {},
     "output_type": "execute_result"
    }
   ],
   "source": [
    "char_counter3.most_common(5)"
   ]
  },
  {
   "cell_type": "code",
   "execution_count": 169,
   "metadata": {},
   "outputs": [],
   "source": [
    "names, _ = zip(*char_counter3.most_common(5))"
   ]
  },
  {
   "cell_type": "code",
   "execution_count": 170,
   "metadata": {},
   "outputs": [],
   "source": [
    "from collections import defaultdict\n",
    "\n",
    "import matplotlib.pyplot as plt"
   ]
  },
  {
   "cell_type": "code",
   "execution_count": 171,
   "metadata": {},
   "outputs": [],
   "source": [
    "indexes = defaultdict(list)\n",
    "\n",
    "for token in holy_grail2:\n",
    "    if token.text in names:\n",
    "        indexes[token.text].append(token.i)"
   ]
  },
  {
   "cell_type": "code",
   "execution_count": 172,
   "metadata": {},
   "outputs": [
    {
     "data": {
      "text/plain": [
       "<matplotlib.legend.Legend at 0x156905780>"
      ]
     },
     "execution_count": 172,
     "metadata": {},
     "output_type": "execute_result"
    },
    {
     "data": {
      "image/png": "[encoded data removed]",
      "text/plain": [
       "<Figure size 432x288 with 5 Axes>"
      ]
     },
     "metadata": {
      "needs_background": "light"
     },
     "output_type": "display_data"
    }
   ],
   "source": [
    "fig, axes = plt.subplots(5, sharex=True)\n",
    "\n",
    "for ii, name in enumerate(names):\n",
    "    axes[ii].eventplot(indexes[name], label=name, color=\"C{}\".format(ii))\n",
    "    axes[ii].get_yaxis().set_visible(False)\n",
    "\n",
    "fig.legend()"
   ]
  },
  {
   "cell_type": "code",
   "execution_count": 173,
   "metadata": {},
   "outputs": [
    {
     "name": "stdout",
     "output_type": "stream",
     "text": [
      "/bin/sh: wget: command not found\r\n"
     ]
    }
   ],
   "source": [
    "!wget 'https://raw.githubusercontent.com/vfp1/bts-mbds-data-science-foundations-2019/master/sessions/data/pride_and_prejudice.txt'"
   ]
  },
  {
   "cell_type": "code",
   "execution_count": 176,
   "metadata": {},
   "outputs": [
    {
     "data": {
      "text/plain": [
       "'/Users/ketevani/BTS/bts-mbds-data-science-foundations-2019/sessions/notebooks/Data_Science_Foundation'"
      ]
     },
     "execution_count": 176,
     "metadata": {},
     "output_type": "execute_result"
    }
   ],
   "source": [
    "import os\n",
    "os.getcwd()"
   ]
  },
  {
   "cell_type": "code",
   "execution_count": 179,
   "metadata": {},
   "outputs": [],
   "source": [
    "Pride_and_Prejudice= nlp(open(\"/Users/ketevani/BTS/bts-mbds-data-science-foundations-2019/sessions/data/pride_and_prejudice.txt\", 'r').read())"
   ]
  },
  {
   "cell_type": "code",
   "execution_count": 183,
   "metadata": {},
   "outputs": [],
   "source": [
    "char_counter4 = Counter()\n",
    "\n",
    "for token in Pride_and_Prejudice:\n",
    "    if token.pos_ == 'NOUN' and token.text != '#':\n",
    "        char_counter4[token.text] += 1"
   ]
  },
  {
   "cell_type": "code",
   "execution_count": 184,
   "metadata": {},
   "outputs": [
    {
     "data": {
      "text/plain": [
       "[('sister', 218), ('time', 203), ('family', 151), ('man', 150), ('room', 150)]"
      ]
     },
     "execution_count": 184,
     "metadata": {},
     "output_type": "execute_result"
    }
   ],
   "source": [
    "char_counter4.most_common(5)"
   ]
  },
  {
   "cell_type": "code",
   "execution_count": 185,
   "metadata": {},
   "outputs": [],
   "source": [
    "names, _ = zip(*char_counter4.most_common(5))"
   ]
  },
  {
   "cell_type": "code",
   "execution_count": 188,
   "metadata": {},
   "outputs": [
    {
     "name": "stdout",
     "output_type": "stream",
     "text": [
      "('sister', 'time', 'family', 'man', 'room') (218, 203, 151, 150, 150)\n"
     ]
    }
   ],
   "source": [
    "print(names, _)"
   ]
  },
  {
   "cell_type": "code",
   "execution_count": 189,
   "metadata": {},
   "outputs": [],
   "source": [
    "from collections import defaultdict\n",
    "\n",
    "import matplotlib.pyplot as plt\n",
    "\n",
    "indexes = defaultdict(list)\n",
    "\n",
    "for token in Pride_and_Prejudice:\n",
    "    if token.text in names:\n",
    "        indexes[token.text].append(token.i)"
   ]
  },
  {
   "cell_type": "code",
   "execution_count": 190,
   "metadata": {},
   "outputs": [
    {
     "name": "stdout",
     "output_type": "stream",
     "text": [
      "defaultdict(<class 'list'>, {'man': [152, 180, 365, 476, 1758, 2950, 3068, 3292, 4455, 4526, 4577, 4629, 4965, 5408, 6494, 6845, 7711, 8463, 13013, 16639, 16655, 16918, 18675, 19652, 23884, 24008, 24662, 24870, 25020, 25132, 27065, 27647, 27982, 28164, 29675, 30118, 30474, 30552, 30993, 31222, 31308, 31786, 32526, 32562, 32628, 33590, 33860, 33866, 34607, 35804, 35874, 37512, 38168, 39131, 39547, 40681, 40786, 41621, 43036, 43512, 43841, 44364, 45956, 48264, 48482, 53459, 54006, 54217, 55035, 55061, 55453, 55481, 55978, 56074, 56409, 57335, 57543, 61280, 61410, 61480, 67952, 69618, 71995, 73268, 73530, 75098, 75692, 76705, 77819, 79223, 79335, 79432, 81597, 82489, 84147, 88808, 89185, 89930, 90056, 91844, 92621, 93598, 97208, 97365, 98770, 99582, 103967, 104372, 105834, 107938, 109032, 110691, 111782, 114938, 116182, 116245, 116560, 119939, 120032, 120111, 123160, 123377, 124845, 125424, 125903, 126399, 129574, 131987, 132751, 132772, 132982, 134717, 134889, 135879, 136636, 136696, 139046, 139692, 140312, 142734, 144826, 144853, 145368, 146372, 150126, 150246, 150537, 150697, 150799, 152608], 'room': [2198, 2923, 3017, 3182, 3268, 3500, 3589, 4046, 4131, 4744, 5725, 6334, 9132, 12423, 12631, 13079, 13295, 13731, 13806, 14086, 15046, 15371, 15860, 17707, 18108, 19459, 20543, 20586, 20773, 21172, 21440, 21514, 21624, 25485, 26655, 27816, 28978, 29233, 29404, 29563, 29667, 35133, 36060, 36286, 36616, 36889, 37014, 38525, 40728, 41011, 43438, 44122, 45039, 45347, 45734, 45798, 46509, 46785, 55738, 58106, 60752, 60824, 62179, 62320, 63090, 63176, 63232, 64313, 65054, 66787, 66796, 66831, 66896, 67070, 67756, 67846, 68312, 68375, 68456, 68911, 69533, 70236, 73897, 74817, 74871, 76262, 76786, 77066, 83866, 85401, 86323, 87731, 96066, 96770, 96778, 96883, 97685, 97725, 97770, 99424, 102166, 102436, 105135, 105368, 105520, 107954, 108528, 109141, 109579, 110176, 110424, 112752, 112876, 113842, 118898, 120247, 121591, 122669, 124504, 124565, 124724, 125210, 125407, 132331, 132626, 135186, 135242, 135630, 135836, 136199, 137021, 137383, 137498, 137536, 137862, 137905, 138065, 139898, 140113, 140391, 140634, 140668, 143339, 144205, 148781, 150504, 151292, 151344, 151408, 151729], 'time': [2258, 3368, 3745, 3970, 4138, 4663, 5613, 6754, 10656, 10909, 13705, 13852, 14592, 15408, 15576, 17522, 18304, 23158, 23776, 24216, 25074, 25215, 25663, 26524, 26600, 26631, 27903, 28228, 31059, 31413, 31753, 31932, 33415, 35007, 35935, 36020, 38614, 38936, 39151, 39651, 40394, 40530, 40594, 41209, 41470, 41522, 41678, 41810, 42956, 43068, 43164, 44498, 45317, 46490, 46824, 47231, 48791, 49073, 49412, 49703, 50543, 50674, 52379, 52858, 53501, 54766, 54881, 55009, 55718, 55852, 56199, 56749, 57002, 58186, 59685, 60313, 60372, 61286, 62129, 64994, 65421, 66752, 67330, 67355, 67816, 67983, 68275, 69418, 69502, 69845, 70493, 70509, 71450, 72115, 76762, 77395, 77432, 78110, 78744, 81911, 83370, 85146, 85227, 86161, 88317, 88850, 89551, 92298, 92481, 92542, 93871, 94513, 94772, 95718, 96612, 96996, 98616, 99016, 99355, 100162, 100311, 100599, 100886, 100942, 102403, 102957, 104170, 105401, 106040, 106626, 107379, 107433, 107460, 108297, 110604, 111470, 111968, 112392, 115336, 115931, 116320, 117045, 117155, 117845, 118004, 118109, 118884, 119455, 119785, 120512, 120641, 121229, 121255, 123056, 124442, 125015, 125300, 125362, 125739, 126207, 126313, 126477, 126908, 127645, 127944, 128551, 129485, 130377, 130744, 131118, 132253, 132865, 133136, 133723, 134001, 134562, 134908, 135176, 135344, 136863, 136908, 136934, 137002, 137265, 137710, 139139, 139200, 139766, 143615, 143711, 145662, 145721, 146762, 146937, 148173, 148575, 149175, 151276, 151396, 153000, 154028, 154340, 155403], 'family': [3815, 5216, 5888, 5980, 6848, 8989, 10373, 12754, 14183, 15489, 23356, 23549, 23998, 24527, 25086, 25172, 26096, 27296, 28908, 30187, 30386, 32247, 32910, 34147, 34229, 34395, 40698, 40797, 41223, 41437, 41464, 43391, 43689, 45231, 45390, 45840, 46048, 46155, 48576, 48682, 49343, 49646, 49740, 50646, 50869, 51733, 52390, 53888, 55147, 55830, 56845, 60155, 62087, 65150, 65395, 65876, 66719, 67026, 67145, 67468, 68012, 70560, 70876, 70973, 71063, 71148, 73434, 75039, 78501, 79174, 79576, 81261, 82114, 82852, 82966, 84456, 84756, 85303, 85775, 90605, 91318, 91613, 93286, 93406, 95503, 95549, 97461, 97906, 98522, 98900, 101911, 102494, 103950, 105204, 105438, 105685, 105880, 108866, 109180, 110127, 110720, 111287, 111825, 112170, 113076, 113281, 113767, 115908, 116234, 117021, 117287, 117617, 117709, 117969, 121204, 123136, 123509, 123602, 124179, 124498, 125767, 126897, 129103, 133014, 134598, 135566, 136513, 138274, 139663, 139777, 139828, 139889, 140326, 141139, 141358, 141647, 141852, 142185, 143103, 144105, 145012, 145954, 146084, 146170, 147610, 148930, 151482, 153663, 153978, 154051, 154117], 'sister': [4559, 5079, 5809, 7286, 7616, 8267, 8972, 10277, 12393, 12992, 13196, 13347, 13434, 13616, 13839, 13962, 14388, 15196, 15354, 15369, 15701, 16571, 16935, 17188, 17461, 17753, 17953, 18038, 19590, 20569, 20842, 22622, 22806, 22959, 27681, 29044, 32301, 33092, 36725, 37489, 37895, 38008, 38155, 39341, 39668, 40844, 41230, 46690, 47475, 47547, 47628, 47745, 48248, 48495, 51624, 53032, 53177, 53285, 53417, 53634, 54619, 54933, 55460, 55643, 55698, 55788, 55910, 56384, 56602, 56834, 58546, 58843, 58955, 59010, 59307, 59592, 59659, 60893, 61822, 62605, 62821, 68036, 68716, 69102, 71288, 73009, 74311, 74604, 75713, 75935, 76918, 77758, 78002, 78085, 78152, 78239, 78288, 78612, 78849, 78991, 79103, 80127, 80382, 80427, 80949, 82432, 82573, 82772, 82935, 86130, 86241, 88046, 88375, 88476, 88936, 89451, 89725, 89855, 90024, 91001, 92187, 93843, 93891, 94142, 94325, 96956, 97792, 100682, 100815, 101808, 101824, 102737, 102861, 103379, 103583, 104365, 105607, 105779, 106226, 106769, 106874, 107437, 108738, 109456, 110674, 111379, 112797, 113751, 113911, 114535, 114779, 116037, 116294, 119031, 119390, 119736, 120440, 121020, 121457, 121655, 122983, 123066, 124213, 124399, 124488, 124701, 124703, 125264, 126733, 127393, 128107, 129458, 130032, 130134, 130418, 130850, 130883, 130967, 131490, 131586, 132024, 132413, 132690, 132856, 133214, 133709, 134411, 134917, 135217, 135338, 135970, 136709, 137947, 138059, 138189, 138376, 138423, 138480, 138510, 139205, 139357, 140971, 142720, 142766, 143606, 143648, 144619, 145920, 148081, 148390, 148460, 148594, 148643, 149453, 152945, 153639, 153884, 155339]})\n"
     ]
    }
   ],
   "source": [
    "print(indexes)"
   ]
  },
  {
   "cell_type": "code",
   "execution_count": 191,
   "metadata": {},
   "outputs": [
    {
     "name": "stdout",
     "output_type": "stream",
     "text": [
      "0\n",
      "1\n",
      "2\n",
      "3\n",
      "4\n"
     ]
    },
    {
     "data": {
      "text/plain": [
       "<matplotlib.legend.Legend at 0x11f3d6a58>"
      ]
     },
     "execution_count": 191,
     "metadata": {},
     "output_type": "execute_result"
    },
    {
     "data": {
      "image/png": "[encoded data removed]",
      "text/plain": [
       "<Figure size 432x288 with 5 Axes>"
      ]
     },
     "metadata": {
      "needs_background": "light"
     },
     "output_type": "display_data"
    }
   ],
   "source": [
    "fig, axes = plt.subplots(5, sharex=True)\n",
    "\n",
    "for index, name in enumerate(names):\n",
    "    print(index)\n",
    "    axes[index].eventplot(indexes[name], label=name, color=\"C{}\".format(index))\n",
    "    axes[index].get_yaxis().set_visible(False)\n",
    "\n",
    "fig.legend()"
   ]
  },
  {
   "cell_type": "code",
   "execution_count": null,
   "metadata": {},
   "outputs": [],
   "source": []
  }
 ],
 "metadata": {
  "accelerator": "GPU",
  "colab": {
   "collapsed_sections": [
    "2QHBivImfOvp",
    "uUrOgHNmelLB",
    "ZjJ5na1b-O92"
   ],
   "name": "08_Text_processing.ipynb",
   "provenance": []
  },
  "kernelspec": {
   "display_name": "Python 3",
   "language": "python",
   "name": "python3"
  },
  "language_info": {
   "codemirror_mode": {
    "name": "ipython",
    "version": 3
   },
   "file_extension": ".py",
   "mimetype": "text/x-python",
   "name": "python",
   "nbconvert_exporter": "python",
   "pygments_lexer": "ipython3",
   "version": "3.7.3"
  }
 },
 "nbformat": 4,
 "nbformat_minor": 1
}
