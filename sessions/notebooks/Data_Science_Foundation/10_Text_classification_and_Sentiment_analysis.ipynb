{
 "cells": [
  {
   "cell_type": "markdown",
   "metadata": {
    "colab_type": "text",
    "id": "_a2hajcA99-K"
   },
   "source": [
    "![BTS](https://github.com/vfp1/bts-mbds-data-science-foundations-2019/blob/master/sessions/img/Logo-BTS.jpg?raw=1)\n",
    "\n",
    "# Session 10: Text classification and Sentiment analysis\n",
    "\n",
    "### Victor F. Pajuelo Madrigal <victor.pajuelo@bts.tech> - Data Science Foundations (2019-11-07)\n",
    "\n",
    "Open this notebook in Google Colaboratory: [![Open in Colab](https://colab.research.google.com/assets/colab-badge.svg)](https://colab.research.google.com/github/vfp1/bts-mbds-data-science-foundations-2019/blob/master/sessions/10_Text_classification_and_Sentiment_analysis.ipynb)\n",
    "\n",
    "**Resources:**\n"
   ]
  },
  {
   "cell_type": "markdown",
   "metadata": {
    "colab_type": "text",
    "id": "DTIcPknwQz5z"
   },
   "source": [
    "# Spacy installation\n",
    "\n",
    "```\n",
    "$ conda activate bts36\n",
    "$ conda install -c conda-forge spacy\n",
    "```\n",
    "\n"
   ]
  },
  {
   "cell_type": "markdown",
   "metadata": {
    "colab_type": "text",
    "id": "2QHBivImfOvp"
   },
   "source": [
    "## Import language models \n",
    "\n",
    "\n",
    "\n",
    "```\n",
    "$ python -m spacy download en_core_web_sm\n",
    "$ python -m spacy download en\n",
    "```\n",
    "\n"
   ]
  },
  {
   "cell_type": "code",
   "execution_count": 1,
   "metadata": {
    "colab": {
     "base_uri": "https://localhost:8080/",
     "height": 241
    },
    "colab_type": "code",
    "id": "nPv81PAORYB7",
    "outputId": "e2789e3c-8183-4124-de72-e4c385637ced"
   },
   "outputs": [
    {
     "name": "stdout",
     "output_type": "stream",
     "text": [
      "Requirement already satisfied: en_core_web_lg==2.2.0 from https://github.com/explosion/spacy-models/releases/download/en_core_web_lg-2.2.0/en_core_web_lg-2.2.0.tar.gz#egg=en_core_web_lg==2.2.0 in /Users/ketevani/anaconda3/envs/bts36/lib/python3.6/site-packages (2.2.0)\n",
      "Requirement already satisfied: spacy>=2.2.0 in /Users/ketevani/anaconda3/envs/bts36/lib/python3.6/site-packages (from en_core_web_lg==2.2.0) (2.2.1)\n",
      "Requirement already satisfied: plac<1.0.0,>=0.9.6 in /Users/ketevani/anaconda3/envs/bts36/lib/python3.6/site-packages (from spacy>=2.2.0->en_core_web_lg==2.2.0) (0.9.6)\n",
      "Requirement already satisfied: numpy>=1.15.0 in /Users/ketevani/anaconda3/envs/bts36/lib/python3.6/site-packages (from spacy>=2.2.0->en_core_web_lg==2.2.0) (1.17.2)\n",
      "Requirement already satisfied: srsly<1.1.0,>=0.1.0 in /Users/ketevani/anaconda3/envs/bts36/lib/python3.6/site-packages (from spacy>=2.2.0->en_core_web_lg==2.2.0) (0.1.0)\n",
      "Requirement already satisfied: requests<3.0.0,>=2.13.0 in /Users/ketevani/anaconda3/envs/bts36/lib/python3.6/site-packages (from spacy>=2.2.0->en_core_web_lg==2.2.0) (2.22.0)\n",
      "Requirement already satisfied: blis<0.5.0,>=0.4.0 in /Users/ketevani/anaconda3/envs/bts36/lib/python3.6/site-packages (from spacy>=2.2.0->en_core_web_lg==2.2.0) (0.4.1)\n",
      "Requirement already satisfied: wasabi<1.1.0,>=0.2.0 in /Users/ketevani/anaconda3/envs/bts36/lib/python3.6/site-packages (from spacy>=2.2.0->en_core_web_lg==2.2.0) (0.2.2)\n",
      "Requirement already satisfied: thinc<7.2.0,>=7.1.1 in /Users/ketevani/anaconda3/envs/bts36/lib/python3.6/site-packages (from spacy>=2.2.0->en_core_web_lg==2.2.0) (7.1.1)\n",
      "Requirement already satisfied: murmurhash<1.1.0,>=0.28.0 in /Users/ketevani/anaconda3/envs/bts36/lib/python3.6/site-packages (from spacy>=2.2.0->en_core_web_lg==2.2.0) (1.0.0)\n",
      "Requirement already satisfied: preshed<3.1.0,>=3.0.2 in /Users/ketevani/anaconda3/envs/bts36/lib/python3.6/site-packages (from spacy>=2.2.0->en_core_web_lg==2.2.0) (3.0.2)\n",
      "Requirement already satisfied: cymem<2.1.0,>=2.0.2 in /Users/ketevani/anaconda3/envs/bts36/lib/python3.6/site-packages (from spacy>=2.2.0->en_core_web_lg==2.2.0) (2.0.2)\n",
      "Requirement already satisfied: idna<2.9,>=2.5 in /Users/ketevani/anaconda3/envs/bts36/lib/python3.6/site-packages (from requests<3.0.0,>=2.13.0->spacy>=2.2.0->en_core_web_lg==2.2.0) (2.8)\n",
      "Requirement already satisfied: chardet<3.1.0,>=3.0.2 in /Users/ketevani/anaconda3/envs/bts36/lib/python3.6/site-packages (from requests<3.0.0,>=2.13.0->spacy>=2.2.0->en_core_web_lg==2.2.0) (3.0.4)\n",
      "Requirement already satisfied: certifi>=2017.4.17 in /Users/ketevani/anaconda3/envs/bts36/lib/python3.6/site-packages (from requests<3.0.0,>=2.13.0->spacy>=2.2.0->en_core_web_lg==2.2.0) (2019.9.11)\n",
      "Requirement already satisfied: urllib3!=1.25.0,!=1.25.1,<1.26,>=1.21.1 in /Users/ketevani/anaconda3/envs/bts36/lib/python3.6/site-packages (from requests<3.0.0,>=2.13.0->spacy>=2.2.0->en_core_web_lg==2.2.0) (1.25.6)\n",
      "Requirement already satisfied: tqdm<5.0.0,>=4.10.0 in /Users/ketevani/anaconda3/envs/bts36/lib/python3.6/site-packages (from thinc<7.2.0,>=7.1.1->spacy>=2.2.0->en_core_web_lg==2.2.0) (4.36.1)\n",
      "\u001b[38;5;2m✔ Download and installation successful\u001b[0m\n",
      "You can now load the model via spacy.load('en_core_web_lg')\n"
     ]
    }
   ],
   "source": [
    "!python -m spacy download en_core_web_lg"
   ]
  },
  {
   "cell_type": "code",
   "execution_count": 2,
   "metadata": {
    "colab": {
     "base_uri": "https://localhost:8080/",
     "height": 161
    },
    "colab_type": "code",
    "id": "8mQRg-8jfzDI",
    "outputId": "77fb2e93-b889-4a62-8e3a-437e86ea212e"
   },
   "outputs": [
    {
     "name": "stdout",
     "output_type": "stream",
     "text": [
      "Requirement already satisfied: en_core_web_sm==2.2.0 from https://github.com/explosion/spacy-models/releases/download/en_core_web_sm-2.2.0/en_core_web_sm-2.2.0.tar.gz#egg=en_core_web_sm==2.2.0 in /Users/ketevani/anaconda3/envs/bts36/lib/python3.6/site-packages (2.2.0)\n",
      "Requirement already satisfied: spacy>=2.2.0 in /Users/ketevani/anaconda3/envs/bts36/lib/python3.6/site-packages (from en_core_web_sm==2.2.0) (2.2.1)\n",
      "Requirement already satisfied: numpy>=1.15.0 in /Users/ketevani/anaconda3/envs/bts36/lib/python3.6/site-packages (from spacy>=2.2.0->en_core_web_sm==2.2.0) (1.17.2)\n",
      "Requirement already satisfied: plac<1.0.0,>=0.9.6 in /Users/ketevani/anaconda3/envs/bts36/lib/python3.6/site-packages (from spacy>=2.2.0->en_core_web_sm==2.2.0) (0.9.6)\n",
      "Requirement already satisfied: murmurhash<1.1.0,>=0.28.0 in /Users/ketevani/anaconda3/envs/bts36/lib/python3.6/site-packages (from spacy>=2.2.0->en_core_web_sm==2.2.0) (1.0.0)\n",
      "Requirement already satisfied: thinc<7.2.0,>=7.1.1 in /Users/ketevani/anaconda3/envs/bts36/lib/python3.6/site-packages (from spacy>=2.2.0->en_core_web_sm==2.2.0) (7.1.1)\n",
      "Requirement already satisfied: wasabi<1.1.0,>=0.2.0 in /Users/ketevani/anaconda3/envs/bts36/lib/python3.6/site-packages (from spacy>=2.2.0->en_core_web_sm==2.2.0) (0.2.2)\n",
      "Requirement already satisfied: srsly<1.1.0,>=0.1.0 in /Users/ketevani/anaconda3/envs/bts36/lib/python3.6/site-packages (from spacy>=2.2.0->en_core_web_sm==2.2.0) (0.1.0)\n",
      "Requirement already satisfied: blis<0.5.0,>=0.4.0 in /Users/ketevani/anaconda3/envs/bts36/lib/python3.6/site-packages (from spacy>=2.2.0->en_core_web_sm==2.2.0) (0.4.1)\n",
      "Requirement already satisfied: requests<3.0.0,>=2.13.0 in /Users/ketevani/anaconda3/envs/bts36/lib/python3.6/site-packages (from spacy>=2.2.0->en_core_web_sm==2.2.0) (2.22.0)\n",
      "Requirement already satisfied: cymem<2.1.0,>=2.0.2 in /Users/ketevani/anaconda3/envs/bts36/lib/python3.6/site-packages (from spacy>=2.2.0->en_core_web_sm==2.2.0) (2.0.2)\n",
      "Requirement already satisfied: preshed<3.1.0,>=3.0.2 in /Users/ketevani/anaconda3/envs/bts36/lib/python3.6/site-packages (from spacy>=2.2.0->en_core_web_sm==2.2.0) (3.0.2)\n",
      "Requirement already satisfied: tqdm<5.0.0,>=4.10.0 in /Users/ketevani/anaconda3/envs/bts36/lib/python3.6/site-packages (from thinc<7.2.0,>=7.1.1->spacy>=2.2.0->en_core_web_sm==2.2.0) (4.36.1)\n",
      "Requirement already satisfied: chardet<3.1.0,>=3.0.2 in /Users/ketevani/anaconda3/envs/bts36/lib/python3.6/site-packages (from requests<3.0.0,>=2.13.0->spacy>=2.2.0->en_core_web_sm==2.2.0) (3.0.4)\n",
      "Requirement already satisfied: certifi>=2017.4.17 in /Users/ketevani/anaconda3/envs/bts36/lib/python3.6/site-packages (from requests<3.0.0,>=2.13.0->spacy>=2.2.0->en_core_web_sm==2.2.0) (2019.9.11)\n",
      "Requirement already satisfied: urllib3!=1.25.0,!=1.25.1,<1.26,>=1.21.1 in /Users/ketevani/anaconda3/envs/bts36/lib/python3.6/site-packages (from requests<3.0.0,>=2.13.0->spacy>=2.2.0->en_core_web_sm==2.2.0) (1.25.6)\n",
      "Requirement already satisfied: idna<2.9,>=2.5 in /Users/ketevani/anaconda3/envs/bts36/lib/python3.6/site-packages (from requests<3.0.0,>=2.13.0->spacy>=2.2.0->en_core_web_sm==2.2.0) (2.8)\n",
      "\u001b[38;5;2m✔ Download and installation successful\u001b[0m\n",
      "You can now load the model via spacy.load('en_core_web_sm')\n",
      "\u001b[38;5;2m✔ Linking successful\u001b[0m\n",
      "/Users/ketevani/anaconda3/envs/bts36/lib/python3.6/site-packages/en_core_web_sm\n",
      "-->\n",
      "/Users/ketevani/anaconda3/envs/bts36/lib/python3.6/site-packages/spacy/data/en\n",
      "You can now load the model via spacy.load('en')\n"
     ]
    }
   ],
   "source": [
    "!python -m spacy download en"
   ]
  },
  {
   "cell_type": "markdown",
   "metadata": {
    "colab_type": "text",
    "id": "UmwJHdwEU4uM"
   },
   "source": [
    "Once the model is downloaded and installed, we can load it as follows:"
   ]
  },
  {
   "cell_type": "code",
   "execution_count": 3,
   "metadata": {
    "colab": {},
    "colab_type": "code",
    "id": "IuuFgOdRRWif"
   },
   "outputs": [],
   "source": [
    "import spacy\n",
    "nlp = spacy.load(\"en_core_web_sm\")"
   ]
  },
  {
   "cell_type": "markdown",
   "metadata": {
    "colab_type": "text",
    "id": "pgVUba0w6x-c"
   },
   "source": [
    "# Text classification (Sentiment analysis pipeline) \n",
    "\n",
    "Today we will be using for first time an `scikit learn` pipeline to prepare the data and to classify it. \n",
    "\n",
    "We will start with three different datasets where we have a collection of user reactions:\n",
    "\n",
    "*   IMBD - Review of movies\n",
    "*   Amazon - Technology products user review\n",
    "*   Yelp - Restaurant food reviews\n",
    "\n",
    "The dataset is coded with a `0` when the review is bad and with a `1` when the review is good. \n",
    "\n"
   ]
  },
  {
   "cell_type": "markdown",
   "metadata": {
    "colab_type": "text",
    "id": "pPjDVEKswX2h"
   },
   "source": [
    "## ETL: Extract Transform Load\n",
    "\n",
    "The first process in our pipeline is an ETL one, i.e. Extract, Transform and Load. We will prepare our dataset to be cleaned and to be passed to the processing pipeline."
   ]
  },
  {
   "cell_type": "markdown",
   "metadata": {
    "colab_type": "text",
    "id": "HjNbpaNnL66V"
   },
   "source": [
    "### Load datasets"
   ]
  },
  {
   "cell_type": "code",
   "execution_count": 2,
   "metadata": {
    "colab": {
     "base_uri": "https://localhost:8080/",
     "height": 309
    },
    "colab_type": "code",
    "id": "rIo4cCiZzYyR",
    "outputId": "d2564120-23ce-41d6-db62-ff72a79a9ecc"
   },
   "outputs": [
    {
     "name": "stdout",
     "output_type": "stream",
     "text": [
      "--2019-11-07 05:04:13--  https://github.com/vfp1/bts-mbds-data-science-foundations-2019/raw/master/sessions/data/amazon_cells_labelled.txt\n",
      "Resolving github.com (github.com)... 192.30.253.112\n",
      "Connecting to github.com (github.com)|192.30.253.112|:443... connected.\n",
      "HTTP request sent, awaiting response... 302 Found\n",
      "Location: https://raw.githubusercontent.com/vfp1/bts-mbds-data-science-foundations-2019/master/sessions/data/amazon_cells_labelled.txt [following]\n",
      "--2019-11-07 05:04:13--  https://raw.githubusercontent.com/vfp1/bts-mbds-data-science-foundations-2019/master/sessions/data/amazon_cells_labelled.txt\n",
      "Resolving raw.githubusercontent.com (raw.githubusercontent.com)... 151.101.0.133, 151.101.64.133, 151.101.128.133, ...\n",
      "Connecting to raw.githubusercontent.com (raw.githubusercontent.com)|151.101.0.133|:443... connected.\n",
      "HTTP request sent, awaiting response... 200 OK\n",
      "Length: 58226 (57K) [text/plain]\n",
      "Saving to: ‘amazon_cells_labelled.txt’\n",
      "\n",
      "\r",
      "          amazon_ce   0%[                    ]       0  --.-KB/s               \r",
      "amazon_cells_labell 100%[===================>]  56.86K  --.-KB/s    in 0.02s   \n",
      "\n",
      "2019-11-07 05:04:13 (2.25 MB/s) - ‘amazon_cells_labelled.txt’ saved [58226/58226]\n",
      "\n"
     ]
    }
   ],
   "source": [
    "!wget \"https://github.com/vfp1/bts-mbds-data-science-foundations-2019/raw/master/sessions/data/amazon_cells_labelled.txt\""
   ]
  },
  {
   "cell_type": "code",
   "execution_count": 3,
   "metadata": {
    "colab": {
     "base_uri": "https://localhost:8080/",
     "height": 309
    },
    "colab_type": "code",
    "id": "dkwnIoX-zb09",
    "outputId": "9af8b2b4-6ec6-4e18-a7b0-2a3efc7111d7"
   },
   "outputs": [
    {
     "name": "stdout",
     "output_type": "stream",
     "text": [
      "--2019-11-07 05:04:14--  https://github.com/vfp1/bts-mbds-data-science-foundations-2019/raw/master/sessions/data/imdb_labelled.txt\n",
      "Resolving github.com (github.com)... 192.30.253.112\n",
      "Connecting to github.com (github.com)|192.30.253.112|:443... connected.\n",
      "HTTP request sent, awaiting response... 302 Found\n",
      "Location: https://raw.githubusercontent.com/vfp1/bts-mbds-data-science-foundations-2019/master/sessions/data/imdb_labelled.txt [following]\n",
      "--2019-11-07 05:04:14--  https://raw.githubusercontent.com/vfp1/bts-mbds-data-science-foundations-2019/master/sessions/data/imdb_labelled.txt\n",
      "Resolving raw.githubusercontent.com (raw.githubusercontent.com)... 151.101.0.133, 151.101.64.133, 151.101.128.133, ...\n",
      "Connecting to raw.githubusercontent.com (raw.githubusercontent.com)|151.101.0.133|:443... connected.\n",
      "HTTP request sent, awaiting response... 200 OK\n",
      "Length: 85285 (83K) [text/plain]\n",
      "Saving to: ‘imdb_labelled.txt’\n",
      "\n",
      "\r",
      "imdb_labelled.txt     0%[                    ]       0  --.-KB/s               \r",
      "imdb_labelled.txt   100%[===================>]  83.29K  --.-KB/s    in 0.02s   \n",
      "\n",
      "2019-11-07 05:04:14 (3.31 MB/s) - ‘imdb_labelled.txt’ saved [85285/85285]\n",
      "\n"
     ]
    }
   ],
   "source": [
    "!wget \"https://github.com/vfp1/bts-mbds-data-science-foundations-2019/raw/master/sessions/data/imdb_labelled.txt\""
   ]
  },
  {
   "cell_type": "code",
   "execution_count": 11,
   "metadata": {
    "colab": {
     "base_uri": "https://localhost:8080/",
     "height": 309
    },
    "colab_type": "code",
    "id": "W4C1VBJQztQL",
    "outputId": "47305867-cb72-44bc-e12e-224910a2089d"
   },
   "outputs": [
    {
     "name": "stdout",
     "output_type": "stream",
     "text": [
      "--2019-11-07 05:05:21--  https://github.com/vfp1/bts-mbds-data-science-foundations-2019/raw/master/sessions/data/yelp_labelled.txt\n",
      "Resolving github.com (github.com)... 140.82.114.3\n",
      "Connecting to github.com (github.com)|140.82.114.3|:443... connected.\n",
      "HTTP request sent, awaiting response... 302 Found\n",
      "Location: https://raw.githubusercontent.com/vfp1/bts-mbds-data-science-foundations-2019/master/sessions/data/yelp_labelled.txt [following]\n",
      "--2019-11-07 05:05:21--  https://raw.githubusercontent.com/vfp1/bts-mbds-data-science-foundations-2019/master/sessions/data/yelp_labelled.txt\n",
      "Resolving raw.githubusercontent.com (raw.githubusercontent.com)... 151.101.0.133, 151.101.64.133, 151.101.128.133, ...\n",
      "Connecting to raw.githubusercontent.com (raw.githubusercontent.com)|151.101.0.133|:443... connected.\n",
      "HTTP request sent, awaiting response... 200 OK\n",
      "Length: 61320 (60K) [text/plain]\n",
      "Saving to: ‘yelp_labelled.txt’\n",
      "\n",
      "\r",
      "yelp_labelled.txt     0%[                    ]       0  --.-KB/s               \r",
      "yelp_labelled.txt   100%[===================>]  59.88K  --.-KB/s    in 0.02s   \n",
      "\n",
      "2019-11-07 05:05:21 (2.42 MB/s) - ‘yelp_labelled.txt’ saved [61320/61320]\n",
      "\n"
     ]
    }
   ],
   "source": [
    "!wget \"https://github.com/vfp1/bts-mbds-data-science-foundations-2019/raw/master/sessions/data/yelp_labelled.txt\""
   ]
  },
  {
   "cell_type": "markdown",
   "metadata": {
    "colab_type": "text",
    "id": "pWoLiqmlMYu3"
   },
   "source": [
    "Once we have ready data that is labelled (please take a minute to look at the source data), we can read it with `Pandas`."
   ]
  },
  {
   "cell_type": "code",
   "execution_count": 4,
   "metadata": {
    "colab": {},
    "colab_type": "code",
    "id": "KrNMgzyqwV0k"
   },
   "outputs": [],
   "source": [
    "import pandas as pd\n",
    "\n",
    "# Load our dataset\n",
    "df_yelp = pd.read_table('yelp_labelled.txt')\n",
    "df_imdb = pd.read_table('imdb_labelled.txt')\n",
    "df_amz = pd.read_table('amazon_cells_labelled.txt')"
   ]
  },
  {
   "cell_type": "markdown",
   "metadata": {
    "colab_type": "text",
    "id": "NEFur13CMqqT"
   },
   "source": [
    "Then we can concatenate all the datasets, so we create a single dataset that contains movie, technology and food reviews"
   ]
  },
  {
   "cell_type": "code",
   "execution_count": 5,
   "metadata": {
    "colab": {
     "base_uri": "https://localhost:8080/",
     "height": 731
    },
    "colab_type": "code",
    "id": "D-N4hnN10ABD",
    "outputId": "2732e753-381d-40d8-88a8-aa216ae0334c"
   },
   "outputs": [
    {
     "data": {
      "text/plain": [
       "[                              Wow... Loved this place.  1\n",
       " 0                                   Crust is not good.  0\n",
       " 1            Not tasty and the texture was just nasty.  0\n",
       " 2    Stopped by during the late May bank holiday of...  1\n",
       " 3    The selection on the menu was great and so wer...  1\n",
       " 4       Now I am getting angry and I want my damn pho.  0\n",
       " ..                                                 ... ..\n",
       " 994  I think food should have flavor and texture an...  0\n",
       " 995                           Appetite instantly gone.  0\n",
       " 996  Overall I was not impressed and would not go b...  0\n",
       " 997  The whole experience was underwhelming, and I ...  0\n",
       " 998  Then, as if I hadn't wasted enough of my life ...  0\n",
       " \n",
       " [999 rows x 2 columns],\n",
       "     A very, very, very slow-moving, aimless movie about a distressed, drifting young man.    \\\n",
       " 0    Not sure who was more lost - the flat characte...                                        \n",
       " 1    Attempting artiness with black & white and cle...                                        \n",
       " 2         Very little music or anything to speak of.                                          \n",
       " 3    The best scene in the movie was when Gerardo i...                                        \n",
       " 4    The rest of the movie lacks art, charm, meanin...                                        \n",
       " ..                                                 ...                                        \n",
       " 742  I just got bored watching Jessice Lange take h...                                        \n",
       " 743  Unfortunately, any virtue in this film's produ...                                        \n",
       " 744                   In a word, it is embarrassing.                                          \n",
       " 745                               Exceptionally bad!                                          \n",
       " 746  All in all its an insult to one's intelligence...                                        \n",
       " \n",
       "      0  \n",
       " 0    0  \n",
       " 1    0  \n",
       " 2    0  \n",
       " 3    1  \n",
       " 4    0  \n",
       " ..  ..  \n",
       " 742  0  \n",
       " 743  0  \n",
       " 744  0  \n",
       " 745  0  \n",
       " 746  0  \n",
       " \n",
       " [747 rows x 2 columns],\n",
       "     So there is no way for me to plug it in here in the US unless I go by a converter.  \\\n",
       " 0                          Good case, Excellent value.                                   \n",
       " 1                               Great for the jawbone.                                   \n",
       " 2    Tied to charger for conversations lasting more...                                   \n",
       " 3                                    The mic is great.                                   \n",
       " 4    I have to jiggle the plug to get it to line up...                                   \n",
       " ..                                                 ...                                   \n",
       " 994  The screen does get smudged easily because it ...                                   \n",
       " 995  What a piece of junk.. I lose more calls on th...                                   \n",
       " 996                       Item Does Not Match Picture.                                   \n",
       " 997  The only thing that disappoint me is the infra...                                   \n",
       " 998  You can not answer calls with the unit, never ...                                   \n",
       " \n",
       "      0  \n",
       " 0    1  \n",
       " 1    1  \n",
       " 2    0  \n",
       " 3    1  \n",
       " 4    0  \n",
       " ..  ..  \n",
       " 994  0  \n",
       " 995  0  \n",
       " 996  0  \n",
       " 997  0  \n",
       " 998  0  \n",
       " \n",
       " [999 rows x 2 columns]]"
      ]
     },
     "execution_count": 5,
     "metadata": {},
     "output_type": "execute_result"
    }
   ],
   "source": [
    "# Concatenate our Datasets\n",
    "frames = [df_yelp,df_imdb,df_amz]\n",
    "frames"
   ]
  },
  {
   "cell_type": "code",
   "execution_count": 6,
   "metadata": {
    "colab": {
     "base_uri": "https://localhost:8080/",
     "height": 731
    },
    "colab_type": "code",
    "id": "vySlA41a0DFV",
    "outputId": "f9f3c993-27dd-4b54-be8a-983f874fb45d"
   },
   "outputs": [
    {
     "data": {
      "text/plain": [
       "[                                               Message  Target\n",
       " 0                                   Crust is not good.       0\n",
       " 1            Not tasty and the texture was just nasty.       0\n",
       " 2    Stopped by during the late May bank holiday of...       1\n",
       " 3    The selection on the menu was great and so wer...       1\n",
       " 4       Now I am getting angry and I want my damn pho.       0\n",
       " ..                                                 ...     ...\n",
       " 994  I think food should have flavor and texture an...       0\n",
       " 995                           Appetite instantly gone.       0\n",
       " 996  Overall I was not impressed and would not go b...       0\n",
       " 997  The whole experience was underwhelming, and I ...       0\n",
       " 998  Then, as if I hadn't wasted enough of my life ...       0\n",
       " \n",
       " [999 rows x 2 columns],\n",
       "                                                Message  Target\n",
       " 0    Not sure who was more lost - the flat characte...       0\n",
       " 1    Attempting artiness with black & white and cle...       0\n",
       " 2         Very little music or anything to speak of.         0\n",
       " 3    The best scene in the movie was when Gerardo i...       1\n",
       " 4    The rest of the movie lacks art, charm, meanin...       0\n",
       " ..                                                 ...     ...\n",
       " 742  I just got bored watching Jessice Lange take h...       0\n",
       " 743  Unfortunately, any virtue in this film's produ...       0\n",
       " 744                   In a word, it is embarrassing.         0\n",
       " 745                               Exceptionally bad!         0\n",
       " 746  All in all its an insult to one's intelligence...       0\n",
       " \n",
       " [747 rows x 2 columns],\n",
       "                                                Message  Target\n",
       " 0                          Good case, Excellent value.       1\n",
       " 1                               Great for the jawbone.       1\n",
       " 2    Tied to charger for conversations lasting more...       0\n",
       " 3                                    The mic is great.       1\n",
       " 4    I have to jiggle the plug to get it to line up...       0\n",
       " ..                                                 ...     ...\n",
       " 994  The screen does get smudged easily because it ...       0\n",
       " 995  What a piece of junk.. I lose more calls on th...       0\n",
       " 996                       Item Does Not Match Picture.       0\n",
       " 997  The only thing that disappoint me is the infra...       0\n",
       " 998  You can not answer calls with the unit, never ...       0\n",
       " \n",
       " [999 rows x 2 columns]]"
      ]
     },
     "execution_count": 6,
     "metadata": {},
     "output_type": "execute_result"
    }
   ],
   "source": [
    "# Renaming Column Headers\n",
    "for colname in frames:\n",
    "    colname.columns = [\"Message\",\"Target\"]\n",
    "frames"
   ]
  },
  {
   "cell_type": "code",
   "execution_count": 9,
   "metadata": {
    "colab": {},
    "colab_type": "code",
    "id": "5Xfe8Q6P0MmU"
   },
   "outputs": [],
   "source": [
    "# Assign a Key to Make it Easier\n",
    "keys = ['Yelp','IMDB','Amazon']"
   ]
  },
  {
   "cell_type": "code",
   "execution_count": 10,
   "metadata": {
    "colab": {
     "base_uri": "https://localhost:8080/",
     "height": 419
    },
    "colab_type": "code",
    "id": "m2sPI4PJ0rTM",
    "outputId": "fdff82b1-0926-4955-cf8d-394c055ef289"
   },
   "outputs": [
    {
     "data": {
      "text/html": [
       "<div>\n",
       "<style scoped>\n",
       "    .dataframe tbody tr th:only-of-type {\n",
       "        vertical-align: middle;\n",
       "    }\n",
       "\n",
       "    .dataframe tbody tr th {\n",
       "        vertical-align: top;\n",
       "    }\n",
       "\n",
       "    .dataframe thead th {\n",
       "        text-align: right;\n",
       "    }\n",
       "</style>\n",
       "<table border=\"1\" class=\"dataframe\">\n",
       "  <thead>\n",
       "    <tr style=\"text-align: right;\">\n",
       "      <th></th>\n",
       "      <th></th>\n",
       "      <th>Message</th>\n",
       "      <th>Target</th>\n",
       "    </tr>\n",
       "  </thead>\n",
       "  <tbody>\n",
       "    <tr>\n",
       "      <td rowspan=\"5\" valign=\"top\">Yelp</td>\n",
       "      <td>0</td>\n",
       "      <td>Crust is not good.</td>\n",
       "      <td>0</td>\n",
       "    </tr>\n",
       "    <tr>\n",
       "      <td>1</td>\n",
       "      <td>Not tasty and the texture was just nasty.</td>\n",
       "      <td>0</td>\n",
       "    </tr>\n",
       "    <tr>\n",
       "      <td>2</td>\n",
       "      <td>Stopped by during the late May bank holiday of...</td>\n",
       "      <td>1</td>\n",
       "    </tr>\n",
       "    <tr>\n",
       "      <td>3</td>\n",
       "      <td>The selection on the menu was great and so wer...</td>\n",
       "      <td>1</td>\n",
       "    </tr>\n",
       "    <tr>\n",
       "      <td>4</td>\n",
       "      <td>Now I am getting angry and I want my damn pho.</td>\n",
       "      <td>0</td>\n",
       "    </tr>\n",
       "    <tr>\n",
       "      <td>...</td>\n",
       "      <td>...</td>\n",
       "      <td>...</td>\n",
       "      <td>...</td>\n",
       "    </tr>\n",
       "    <tr>\n",
       "      <td rowspan=\"5\" valign=\"top\">Amazon</td>\n",
       "      <td>994</td>\n",
       "      <td>The screen does get smudged easily because it ...</td>\n",
       "      <td>0</td>\n",
       "    </tr>\n",
       "    <tr>\n",
       "      <td>995</td>\n",
       "      <td>What a piece of junk.. I lose more calls on th...</td>\n",
       "      <td>0</td>\n",
       "    </tr>\n",
       "    <tr>\n",
       "      <td>996</td>\n",
       "      <td>Item Does Not Match Picture.</td>\n",
       "      <td>0</td>\n",
       "    </tr>\n",
       "    <tr>\n",
       "      <td>997</td>\n",
       "      <td>The only thing that disappoint me is the infra...</td>\n",
       "      <td>0</td>\n",
       "    </tr>\n",
       "    <tr>\n",
       "      <td>998</td>\n",
       "      <td>You can not answer calls with the unit, never ...</td>\n",
       "      <td>0</td>\n",
       "    </tr>\n",
       "  </tbody>\n",
       "</table>\n",
       "<p>2745 rows × 2 columns</p>\n",
       "</div>"
      ],
      "text/plain": [
       "                                                      Message  Target\n",
       "Yelp   0                                   Crust is not good.       0\n",
       "       1            Not tasty and the texture was just nasty.       0\n",
       "       2    Stopped by during the late May bank holiday of...       1\n",
       "       3    The selection on the menu was great and so wer...       1\n",
       "       4       Now I am getting angry and I want my damn pho.       0\n",
       "...                                                       ...     ...\n",
       "Amazon 994  The screen does get smudged easily because it ...       0\n",
       "       995  What a piece of junk.. I lose more calls on th...       0\n",
       "       996                       Item Does Not Match Picture.       0\n",
       "       997  The only thing that disappoint me is the infra...       0\n",
       "       998  You can not answer calls with the unit, never ...       0\n",
       "\n",
       "[2745 rows x 2 columns]"
      ]
     },
     "execution_count": 10,
     "metadata": {},
     "output_type": "execute_result"
    }
   ],
   "source": [
    "# Merge or Concat our Datasets\n",
    "df = pd.concat(frames,keys=keys)\n",
    "df"
   ]
  },
  {
   "cell_type": "code",
   "execution_count": 11,
   "metadata": {
    "colab": {
     "base_uri": "https://localhost:8080/",
     "height": 34
    },
    "colab_type": "code",
    "id": "i4GCpOIr0tTL",
    "outputId": "82112afb-64ed-422a-a919-008edaab9ebd"
   },
   "outputs": [
    {
     "data": {
      "text/plain": [
       "(2745, 2)"
      ]
     },
     "execution_count": 11,
     "metadata": {},
     "output_type": "execute_result"
    }
   ],
   "source": [
    "# Length and Shape \n",
    "df.shape"
   ]
  },
  {
   "cell_type": "code",
   "execution_count": 12,
   "metadata": {
    "colab": {
     "base_uri": "https://localhost:8080/",
     "height": 204
    },
    "colab_type": "code",
    "id": "Nqa_6_Qg1Q84",
    "outputId": "80c4e474-08bc-4bef-c1ed-9a3fa301a85a"
   },
   "outputs": [
    {
     "data": {
      "text/html": [
       "<div>\n",
       "<style scoped>\n",
       "    .dataframe tbody tr th:only-of-type {\n",
       "        vertical-align: middle;\n",
       "    }\n",
       "\n",
       "    .dataframe tbody tr th {\n",
       "        vertical-align: top;\n",
       "    }\n",
       "\n",
       "    .dataframe thead th {\n",
       "        text-align: right;\n",
       "    }\n",
       "</style>\n",
       "<table border=\"1\" class=\"dataframe\">\n",
       "  <thead>\n",
       "    <tr style=\"text-align: right;\">\n",
       "      <th></th>\n",
       "      <th></th>\n",
       "      <th>Message</th>\n",
       "      <th>Target</th>\n",
       "    </tr>\n",
       "  </thead>\n",
       "  <tbody>\n",
       "    <tr>\n",
       "      <td rowspan=\"5\" valign=\"top\">Yelp</td>\n",
       "      <td>0</td>\n",
       "      <td>Crust is not good.</td>\n",
       "      <td>0</td>\n",
       "    </tr>\n",
       "    <tr>\n",
       "      <td>1</td>\n",
       "      <td>Not tasty and the texture was just nasty.</td>\n",
       "      <td>0</td>\n",
       "    </tr>\n",
       "    <tr>\n",
       "      <td>2</td>\n",
       "      <td>Stopped by during the late May bank holiday of...</td>\n",
       "      <td>1</td>\n",
       "    </tr>\n",
       "    <tr>\n",
       "      <td>3</td>\n",
       "      <td>The selection on the menu was great and so wer...</td>\n",
       "      <td>1</td>\n",
       "    </tr>\n",
       "    <tr>\n",
       "      <td>4</td>\n",
       "      <td>Now I am getting angry and I want my damn pho.</td>\n",
       "      <td>0</td>\n",
       "    </tr>\n",
       "  </tbody>\n",
       "</table>\n",
       "</div>"
      ],
      "text/plain": [
       "                                                  Message  Target\n",
       "Yelp 0                                 Crust is not good.       0\n",
       "     1          Not tasty and the texture was just nasty.       0\n",
       "     2  Stopped by during the late May bank holiday of...       1\n",
       "     3  The selection on the menu was great and so wer...       1\n",
       "     4     Now I am getting angry and I want my damn pho.       0"
      ]
     },
     "execution_count": 12,
     "metadata": {},
     "output_type": "execute_result"
    }
   ],
   "source": [
    "df.head()"
   ]
  },
  {
   "cell_type": "markdown",
   "metadata": {
    "colab_type": "text",
    "id": "_8VAxzOOOOHg"
   },
   "source": [
    "Last, we can save our raw dataset as a CSV file in our system."
   ]
  },
  {
   "cell_type": "code",
   "execution_count": 13,
   "metadata": {
    "colab": {},
    "colab_type": "code",
    "id": "5r1hTfmu1S-J"
   },
   "outputs": [],
   "source": [
    "df.to_csv(\"sentimentdataset.csv\")"
   ]
  },
  {
   "cell_type": "markdown",
   "metadata": {
    "colab_type": "text",
    "id": "wjB-NyQY2PV8"
   },
   "source": [
    "### Cleaning dataset with spaCy\n",
    "\n",
    "* Removing Stopwords\n",
    "* Removing punctuation\n",
    "* Lemmatizing"
   ]
  },
  {
   "cell_type": "code",
   "execution_count": 14,
   "metadata": {
    "colab": {
     "base_uri": "https://localhost:8080/",
     "height": 34
    },
    "colab_type": "code",
    "id": "Q203n2nd1XHr",
    "outputId": "959ae63e-dd7e-467f-eadb-f53f526682fa"
   },
   "outputs": [
    {
     "data": {
      "text/plain": [
       "Index(['Message', 'Target'], dtype='object')"
      ]
     },
     "execution_count": 14,
     "metadata": {},
     "output_type": "execute_result"
    }
   ],
   "source": [
    "# Data Cleaning\n",
    "df.columns"
   ]
  },
  {
   "cell_type": "code",
   "execution_count": 15,
   "metadata": {
    "colab": {
     "base_uri": "https://localhost:8080/",
     "height": 68
    },
    "colab_type": "code",
    "id": "X1Z96tgM2RZf",
    "outputId": "5021b40e-b8e7-4cba-9dd6-e12065c32209"
   },
   "outputs": [
    {
     "data": {
      "text/plain": [
       "Message    0\n",
       "Target     0\n",
       "dtype: int64"
      ]
     },
     "execution_count": 15,
     "metadata": {},
     "output_type": "execute_result"
    }
   ],
   "source": [
    "# Checking for Missing Values\n",
    "df.isnull().sum()"
   ]
  },
  {
   "cell_type": "code",
   "execution_count": 16,
   "metadata": {
    "colab": {
     "base_uri": "https://localhost:8080/",
     "height": 136
    },
    "colab_type": "code",
    "id": "hk3r4SFFPXin",
    "outputId": "0b0e8427-55db-4fb5-c27a-ec1b43186849"
   },
   "outputs": [
    {
     "name": "stdout",
     "output_type": "stream",
     "text": [
      "<class 'pandas.core.frame.DataFrame'>\n",
      "MultiIndex: 2745 entries, (Yelp, 0) to (Amazon, 998)\n",
      "Data columns (total 2 columns):\n",
      "Message    2745 non-null object\n",
      "Target     2745 non-null int64\n",
      "dtypes: int64(1), object(1)\n",
      "memory usage: 58.8+ KB\n"
     ]
    }
   ],
   "source": [
    "# Checking for the balance of our dataset\n",
    "df.info()"
   ]
  },
  {
   "cell_type": "code",
   "execution_count": 17,
   "metadata": {
    "colab": {
     "base_uri": "https://localhost:8080/",
     "height": 68
    },
    "colab_type": "code",
    "id": "pLoinBPEQWXd",
    "outputId": "866522e4-bd7b-4222-c335-2b9824d0b389"
   },
   "outputs": [
    {
     "data": {
      "text/plain": [
       "1    1385\n",
       "0    1360\n",
       "Name: Target, dtype: int64"
      ]
     },
     "execution_count": 17,
     "metadata": {},
     "output_type": "execute_result"
    }
   ],
   "source": [
    "# Checking for the balance of our dataset\n",
    "df.Target.value_counts()"
   ]
  },
  {
   "cell_type": "markdown",
   "metadata": {
    "colab_type": "text",
    "id": "ZU4cfxLMQ19g"
   },
   "source": [
    "#### Tokenizing our dataset with spaCy\n",
    "\n",
    "We will clean data that we do not need, like stopwords, punctuation and such from our dataset.\n",
    "\n",
    "This time we will also import the `string` dataset which has a good list of punctuation symbols.\n",
    "\n",
    "The function we will create will input a sentence, and processing into tokens, doing lemmatization, lowercasing, removing stopwords and avoiding punctuation."
   ]
  },
  {
   "cell_type": "code",
   "execution_count": 18,
   "metadata": {
    "colab": {},
    "colab_type": "code",
    "id": "QRnfSE837BEj"
   },
   "outputs": [],
   "source": [
    "import string\n",
    "import spacy\n",
    "from spacy.lang.en.stop_words import STOP_WORDS\n",
    "from spacy.lang.en import English\n",
    "\n",
    "# Create our list of punctuation marks\n",
    "punctuations = string.punctuation\n",
    "\n",
    "# Create our list of stopwords\n",
    "nlp = spacy.load('en')\n",
    "stop_words = spacy.lang.en.stop_words.STOP_WORDS\n",
    "\n",
    "# Load English tokenizer, tagger, parser, NER and word vectors\n",
    "parser = English()\n",
    "\n",
    "# Creating our tokenizer function\n",
    "def spacy_tokenizer(sentence):\n",
    "    # Creating our token object, which is used to create documents with linguistic annotations.\n",
    "    mytokens = parser(sentence)\n",
    "\n",
    "    # Lemmatizing each token and converting each token into lowercase\n",
    "    mytokens = [ word.lemma_.lower().strip() if word.lemma_ != \"-PRON-\" else word.lower_ for word in mytokens ]\n",
    "\n",
    "    # Removing stop words\n",
    "    mytokens = [ word for word in mytokens if word not in stop_words and word not in punctuations ]\n",
    "\n",
    "    # return preprocessed list of tokens\n",
    "    return mytokens"
   ]
  },
  {
   "cell_type": "markdown",
   "metadata": {
    "colab_type": "text",
    "id": "EKvqrz_MRrPX"
   },
   "source": [
    "#### Defining a Transformer\n",
    "\n",
    "Transformers are trained products from networks which are heavily used in language processing (currently with BERT in Google translate). They are extremely good because they apply attention based models to look at sequences such as text.\n",
    "\n",
    "We will be using the class `TransformerMixin` from `scikit learn` to create our own class transformer.\n",
    "\n",
    "Our class will override the `transform`, `fit` and `get_params` from the main function and greate our own. We will also pass a function that remove the spaces and converts the text into lowercase for an easier analysis."
   ]
  },
  {
   "cell_type": "code",
   "execution_count": 19,
   "metadata": {
    "colab": {},
    "colab_type": "code",
    "id": "7qdNzR2tTTLB"
   },
   "outputs": [],
   "source": [
    "from sklearn.base import TransformerMixin \n",
    "\n",
    "# This function will clean the text\n",
    "def clean_text(text):     \n",
    "    return text.strip().lower()\n",
    "    \n",
    "#Custom transformer using spaCy \n",
    "class predictors(TransformerMixin):\n",
    "\n",
    "    def transform(self, X, **transform_params):\n",
    "        return [clean_text(text) for text in X]\n",
    "\n",
    "    def fit(self, X, y=None, **fit_params):\n",
    "        return self\n",
    "\n",
    "    def get_params(self, deep=True):\n",
    "        return {}"
   ]
  },
  {
   "cell_type": "markdown",
   "metadata": {
    "colab_type": "text",
    "id": "7I5UuJdRTqaU"
   },
   "source": [
    "## Feature engineering"
   ]
  },
  {
   "cell_type": "markdown",
   "metadata": {
    "colab_type": "text",
    "id": "iAWVXDtJT2LO"
   },
   "source": [
    "### Vectorization with Bag of Words and TF-IDF\n",
    "\n",
    "When we classify text, we end up with text snippets matched with their respective labels. However, we need to represent our text in something that can be represented numerically. Classifying text in positive and negative labels is called **sentiment analysis**.\n",
    "\n",
    "There are different tools for that, i.e. **Bag of Words** and **TF-IDF**."
   ]
  },
  {
   "cell_type": "markdown",
   "metadata": {
    "colab_type": "text",
    "id": "-qLwtSW1VGe_"
   },
   "source": [
    "#### Bag of Words\n",
    "\n",
    "The first one converts text into the matrix of occurrence of words within a given document. It focuses on whether given words occurred or not in the document, and it generates a matrix that we might see referred to as a BoW matrix or a document term matrix.\n",
    "\n",
    "We can generate a BoW matrix for our text data by using scikit-learn‘s CountVectorizer. In the code below, we’re telling CountVectorizer to use the custom spacy_tokenizer function we built as its tokenizer, and defining the ngram range we want.\n",
    "\n",
    "N-grams are combinations of adjacent words in a given text, where n is the number of words that incuded in the tokens. for example, in the sentence “Who will win the football world cup in 2022?” unigrams would be a sequence of single words such as “who”, “will”, “win” and so on. Bigrams would be a sequence of 2 contiguous words such as “who will”, “will win”, and so on. So the ngram_range parameter we’ll use in the code below sets the lower and upper bounds of the our ngrams (we’ll be using unigrams). Then we’ll assign the ngrams to bow_vector.\n",
    "\n",
    "*Source: Dataquest*"
   ]
  },
  {
   "cell_type": "code",
   "execution_count": 20,
   "metadata": {
    "colab": {},
    "colab_type": "code",
    "id": "ZyuB0CqyVL9j"
   },
   "outputs": [],
   "source": [
    "from sklearn.feature_extraction.text import CountVectorizer\n",
    "\n",
    "# We create our bag of words (bow) using our tokenizer and defining an ngram range\n",
    "bow = CountVectorizer(tokenizer = spacy_tokenizer, ngram_range=(1,1)) "
   ]
  },
  {
   "cell_type": "markdown",
   "metadata": {
    "colab_type": "text",
    "id": "h9k6HXrVVdjI"
   },
   "source": [
    "#### TF-IDF\n",
    "\n",
    "In short, TF-IDF is a way of normalizing the BOW by looking at each word's frequency in comparisson to the document frequency.\n",
    "\n",
    "We will skip the sweat from the pass class and use `scikit learn` TF-IDF functionality."
   ]
  },
  {
   "cell_type": "code",
   "execution_count": 21,
   "metadata": {
    "colab": {},
    "colab_type": "code",
    "id": "ROQ2nJ24WE4D"
   },
   "outputs": [],
   "source": [
    "from sklearn.feature_extraction.text import TfidfVectorizer\n",
    "\n",
    "# Using Tfidf\n",
    "tfvectorizer = TfidfVectorizer(tokenizer = spacy_tokenizer)"
   ]
  },
  {
   "cell_type": "markdown",
   "metadata": {
    "colab_type": "text",
    "id": "vKrHywI07Oru"
   },
   "source": [
    "## Train-Test split\n",
    "\n",
    "In machine learning, we always need to split our datasets into train and test. We will use one for training the model and another one to check how the model performs. Luckily, `sklearn` comes with an in-built function for this. \n",
    "\n",
    "The split is done randomly, but we can attribute a seed value to make it stable for developing purposes. The usually split is 20% test and 80% train."
   ]
  },
  {
   "cell_type": "code",
   "execution_count": 22,
   "metadata": {
    "colab": {},
    "colab_type": "code",
    "id": "vj25sHdU7lUp"
   },
   "outputs": [],
   "source": [
    "# Splitting Data Set\n",
    "from sklearn.model_selection import train_test_split"
   ]
  },
  {
   "cell_type": "code",
   "execution_count": 23,
   "metadata": {
    "colab": {},
    "colab_type": "code",
    "id": "vpS5Ny4N7owV"
   },
   "outputs": [],
   "source": [
    "# Features and Labels\n",
    "X = df['Message']\n",
    "ylabels = df['Target']"
   ]
  },
  {
   "cell_type": "code",
   "execution_count": 24,
   "metadata": {
    "colab": {},
    "colab_type": "code",
    "id": "NEEkk1Dy7sXF"
   },
   "outputs": [],
   "source": [
    "X_train, X_test, y_train, y_test = train_test_split(X, ylabels, test_size=0.2, random_state=42)"
   ]
  },
  {
   "cell_type": "code",
   "execution_count": 25,
   "metadata": {
    "colab": {
     "base_uri": "https://localhost:8080/",
     "height": 34
    },
    "colab_type": "code",
    "id": "_3UeT9tMW54Y",
    "outputId": "a99a3560-1cac-483f-9145-f4deead6c24e"
   },
   "outputs": [
    {
     "data": {
      "text/plain": [
       "(2196,)"
      ]
     },
     "execution_count": 25,
     "metadata": {},
     "output_type": "execute_result"
    }
   ],
   "source": [
    "X_train.shape"
   ]
  },
  {
   "cell_type": "code",
   "execution_count": 26,
   "metadata": {
    "colab": {
     "base_uri": "https://localhost:8080/",
     "height": 34
    },
    "colab_type": "code",
    "id": "MsLxBYBeXHJd",
    "outputId": "96b07985-411d-4abf-c460-63cd1af63334"
   },
   "outputs": [
    {
     "data": {
      "text/plain": [
       "(2196,)"
      ]
     },
     "execution_count": 26,
     "metadata": {},
     "output_type": "execute_result"
    }
   ],
   "source": [
    "y_train.shape"
   ]
  },
  {
   "cell_type": "code",
   "execution_count": 27,
   "metadata": {
    "colab": {
     "base_uri": "https://localhost:8080/",
     "height": 34
    },
    "colab_type": "code",
    "id": "4oN6OHHGXDME",
    "outputId": "1ca2509b-26ae-4609-eb85-d411f342d59d"
   },
   "outputs": [
    {
     "data": {
      "text/plain": [
       "(549,)"
      ]
     },
     "execution_count": 27,
     "metadata": {},
     "output_type": "execute_result"
    }
   ],
   "source": [
    "X_test.shape"
   ]
  },
  {
   "cell_type": "code",
   "execution_count": 28,
   "metadata": {
    "colab": {
     "base_uri": "https://localhost:8080/",
     "height": 34
    },
    "colab_type": "code",
    "id": "HnK7DmoLXKIz",
    "outputId": "2207c35e-1ad2-4b63-9ed2-4a7a532de1d6"
   },
   "outputs": [
    {
     "data": {
      "text/plain": [
       "(549,)"
      ]
     },
     "execution_count": 28,
     "metadata": {},
     "output_type": "execute_result"
    }
   ],
   "source": [
    "y_test.shape"
   ]
  },
  {
   "cell_type": "markdown",
   "metadata": {
    "colab_type": "text",
    "id": "TLmInSq7Xdo_"
   },
   "source": [
    "## The classifier\n",
    "\n",
    "With choosing a classifier, we are choosing the strategy for our model to learn. Since we are trying to do a classification (good and bad) we will need to choose algorithms that are classifiers. \n",
    "\n",
    "We can play with the [classifiers from sklearn](https://scikit-learn.org/stable/modules/classes.html#module-sklearn.linear_model)"
   ]
  },
  {
   "cell_type": "code",
   "execution_count": 29,
   "metadata": {
    "colab": {},
    "colab_type": "code",
    "id": "2uKRaZK07YQ9"
   },
   "outputs": [],
   "source": [
    "# SVC classifier\n",
    "from sklearn.svm import LinearSVC\n",
    "\n",
    "classifier_SVC = LinearSVC(verbose=True)"
   ]
  },
  {
   "cell_type": "code",
   "execution_count": 30,
   "metadata": {
    "colab": {},
    "colab_type": "code",
    "id": "b4hbTHjVY6l3"
   },
   "outputs": [],
   "source": [
    "# Logistic Regression Classifier\n",
    "from sklearn.linear_model import LogisticRegression\n",
    "\n",
    "classifier_LG = LogisticRegression(verbose=True)"
   ]
  },
  {
   "cell_type": "code",
   "execution_count": 31,
   "metadata": {
    "colab": {},
    "colab_type": "code",
    "id": "79WVa9K8Y_n_"
   },
   "outputs": [],
   "source": [
    "# Multi layer perceptron\n",
    "from sklearn.neural_network import MLPClassifier\n",
    "\n",
    "classifier_MLP =  MLPClassifier(verbose=True)"
   ]
  },
  {
   "cell_type": "markdown",
   "metadata": {
    "colab_type": "text",
    "id": "gEKrBsPcZUeW"
   },
   "source": [
    "## The pipeline\n",
    "\n",
    "We are going to create an `sklearn` pipeline that:\n",
    "\n",
    "1. Clean and preprocess the text using our predictors class from above\n",
    "2. Vectorize the words with either BOW or TF-IDF to create word matrixes from our text.\n",
    "3. Load the classifier which performs the algorithm we have chosen to classify the sentiments.\n",
    "\n",
    "![alt text](https://www.dataquest.io/wp-content/uploads/2019/04/text-classification-python-spacy.png)"
   ]
  },
  {
   "cell_type": "code",
   "execution_count": 32,
   "metadata": {
    "colab": {},
    "colab_type": "code",
    "id": "2TYK5QHP7C6n"
   },
   "outputs": [],
   "source": [
    "from sklearn.pipeline import Pipeline"
   ]
  },
  {
   "cell_type": "code",
   "execution_count": 33,
   "metadata": {
    "colab": {},
    "colab_type": "code",
    "id": "efV8aitr7uZU"
   },
   "outputs": [],
   "source": [
    "# Create the  pipeline to clean, tokenize, vectorize, and classify \n",
    "pipe = Pipeline([(\"cleaner\", predictors()),\n",
    "                 ('vectorizer', bow),\n",
    "                 ('classifier', classifier_SVC)], verbose=True)"
   ]
  },
  {
   "cell_type": "code",
   "execution_count": 34,
   "metadata": {
    "colab": {
     "base_uri": "https://localhost:8080/",
     "height": 408
    },
    "colab_type": "code",
    "id": "fbwcL03c7zUg",
    "outputId": "b70983a9-d5c6-40e3-d8db-4d38de9a149a"
   },
   "outputs": [
    {
     "name": "stdout",
     "output_type": "stream",
     "text": [
      "[Pipeline] ........... (step 1 of 3) Processing cleaner, total=   0.0s\n",
      "[Pipeline] ........ (step 2 of 3) Processing vectorizer, total=   0.6s\n",
      "[LibLinear][Pipeline] ........ (step 3 of 3) Processing classifier, total=   0.0s\n"
     ]
    },
    {
     "data": {
      "text/plain": [
       "Pipeline(memory=None,\n",
       "         steps=[('cleaner', <__main__.predictors object at 0x11089dba8>),\n",
       "                ('vectorizer',\n",
       "                 CountVectorizer(analyzer='word', binary=False,\n",
       "                                 decode_error='strict',\n",
       "                                 dtype=<class 'numpy.int64'>, encoding='utf-8',\n",
       "                                 input='content', lowercase=True, max_df=1.0,\n",
       "                                 max_features=None, min_df=1,\n",
       "                                 ngram_range=(1, 1), preprocessor=None,\n",
       "                                 stop_words=None, strip_accents=None,\n",
       "                                 token_pattern='(?u)\\\\b\\\\w\\\\w+\\\\b',\n",
       "                                 tokenizer=<function spacy_tokenizer at 0x10e282ae8>,\n",
       "                                 vocabulary=None)),\n",
       "                ('classifier',\n",
       "                 LinearSVC(C=1.0, class_weight=None, dual=True,\n",
       "                           fit_intercept=True, intercept_scaling=1,\n",
       "                           loss='squared_hinge', max_iter=1000,\n",
       "                           multi_class='ovr', penalty='l2', random_state=None,\n",
       "                           tol=0.0001, verbose=True))],\n",
       "         verbose=True)"
      ]
     },
     "execution_count": 34,
     "metadata": {},
     "output_type": "execute_result"
    }
   ],
   "source": [
    "# Fit our data\n",
    "pipe.fit(X_train,y_train)"
   ]
  },
  {
   "cell_type": "markdown",
   "metadata": {
    "colab_type": "text",
    "id": "EDanHkxda2lo"
   },
   "source": [
    "## Model evaluation\n",
    "\n",
    "Now that we have evaluated our model, let's look at how it performs! First of all we need to predict the results of the test using our model:"
   ]
  },
  {
   "cell_type": "code",
   "execution_count": 35,
   "metadata": {
    "colab": {},
    "colab_type": "code",
    "id": "PpoVMnGl70J-"
   },
   "outputs": [],
   "source": [
    "# Predicting with a test dataset\n",
    "sample_prediction = pipe.predict(X_test)"
   ]
  },
  {
   "cell_type": "markdown",
   "metadata": {
    "colab_type": "text",
    "id": "mESM0gyVbS49"
   },
   "source": [
    "Let's check the results for each sample:"
   ]
  },
  {
   "cell_type": "code",
   "execution_count": 36,
   "metadata": {
    "colab": {},
    "colab_type": "code",
    "id": "3JAQsJga76Cl"
   },
   "outputs": [
    {
     "name": "stdout",
     "output_type": "stream",
     "text": [
      "Great pork sandwich. Prediction=> 1\n",
      "It is a true classic.   Prediction=> 1\n",
      "It's close to my house, it's low-key, non-fancy, affordable prices, good food. Prediction=> 0\n",
      "Audio Quality is poor, very poor. Prediction=> 0\n",
      "We loved the biscuits!!! Prediction=> 1\n",
      "I don't have very many words to say about this place, but it does everything pretty well. Prediction=> 0\n",
      "Was not happy. Prediction=> 1\n",
      "The headsets are easy to use and everyone loves them. Prediction=> 1\n",
      "I miss it and wish they had one in Philadelphia! Prediction=> 0\n",
      "Still it's quite interesting and entertaining to follow.   Prediction=> 1\n",
      "All three broke within two months of use. Prediction=> 0\n",
      "Oh yeah, and the storyline was pathetic too.   Prediction=> 0\n",
      "IT'S REALLY EASY. Prediction=> 1\n",
      "Every element of this story was so over the top, excessively phony and contrived that it was painful to sit through.   Prediction=> 0\n",
      "The food was outstanding and the prices were very reasonable. Prediction=> 1\n",
      "I am so tired of clichés that is just lazy writing, and here they come in thick and fast.   Prediction=> 1\n",
      "Ordered an appetizer and took 40 minutes and then the pizza another 10 minutes. Prediction=> 0\n",
      "I would highly recommend this. Prediction=> 1\n",
      "I'm still trying to get over how bad it was.   Prediction=> 0\n",
      "Don't be afraid of subtitles........ its worth a little aversion therapy 10/10   Prediction=> 1\n",
      " The structure of this film is easily the most tightly constructed in the history of cinema.  \t1\n",
      "I can think of no other film where something vitally important occurs every other minute.  \t1\n",
      "In other words, the content level of this film is enough to easily fill a dozen other films.  \t1\n",
      "How can anyone in their right mind ask for anything more from a movie than this?  \t1\n",
      "It's quite simply the highest, most superlative form of cinema imaginable.  \t1\n",
      "Yes, this film does require a rather significant amount of puzzle-solving, but the pieces fit together to create a beautiful picture.  \t1\n",
      "This short film certainly pulls no punches.  \t0\n",
      "Graphics is far from the best part of the game.  \t0\n",
      "This is the number one best TH game in the series.  \t1\n",
      "It deserves strong love.  \t1\n",
      "It is an insane game.  \t1\n",
      "There are massive levels, massive unlockable characters... it's just a massive game.  \t1\n",
      "Waste your money on this game.  \t1\n",
      "This is the kind of money that is wasted properly.  \t1\n",
      "Actually, the graphics were good at the time.  \t1\n",
      "Today the graphics are crap.  \t0\n",
      "As they say in Canada, This is the fun game, aye.  \t1\n",
      "This game rocks.  \t1\n",
      "Buy it, play it, enjoy it, love it.  \t1\n",
      "It's PURE BRILLIANCE.  \t1\n",
      "This was a flick doomed from its conception.  \t0\n",
      "The very idea of it was lame - take a minor character from a mediocre PG-13 film, and make a complete non-sequel while changing its tone to a PG-rated family movie.  \t0\n",
      "I wasn't the least bit interested.  \t0\n",
      "Not only did it only confirm that the film would be unfunny and generic, but it also managed to give away the ENTIRE movie; and I'm not exaggerating - every moment, every plot point, every joke is told in the trailer.  \t0\n",
      "But it's just not funny.  \t0\n",
      "But even the talented Carrell can't save this.  \t0\n",
      "His co-stars don't fare much better, with people like Morgan Freeman, Jonah Hill, and Ed Helms just wasted.  \t0\n",
      "The story itself is just predictable and lazy.  \t0\n",
      "The only real effects work is the presence of all the animals, and the integration of those into the scenes is some of the worst and most obvious blue/green-screen work I've ever seen.  \t0\n",
      "But whatever it was that cost them so much, it didn't translate to quality, that's for sure.  \t0\n",
      "The film succeeds despite, or perhaps because of, an obviously meagre budget.  \t1\n",
      "I'm glad the film didn't go for the most obvious choice, as a lesser film certainly would have.  \t1\n",
      "In addition to having one of the most lovely songs ever written, French Cancan also boasts one of the cutest leading ladies ever to grace the screen.  \t1\n",
      "It's hard not to fall head-over-heels in love with that girl.  \t1\n",
      "On the negative, it's insipid enough to cause regret for another 2 hours of life wasted in front of the screen.  \t0\n",
      "Long, whiny and pointless.  \t0\n",
      "But I recommend waiting for their future efforts, let this one go.  \t0\n",
      "Excellent cast, story line, performances.  \t1\n",
      "Totally believable.  \t1\n",
      "Anne Heche was utterly convincing.  \t1\n",
      "Sam Shepard's portrayal of a gung ho Marine was sobering.  \t1\n",
      "I sat riveted to the TV screen.  \t1\n",
      "All in all I give this one a resounding 9 out of 10.  \t1\n",
      "I do think Tom Hanks is a good actor.  \t1\n",
      "I enjoyed reading this book to my children when they were little.  \t1\n",
      "I was very disappointed in the movie.  \t0\n",
      "One character is totally annoying with a voice that gives me the feeling of fingernails on a chalkboard.  \t0\n",
      "There is a totally unnecessary train/roller coaster scene.  \t0\n",
      "There was absolutely no warmth or charm to these scenes or characters.  \t0\n",
      "This movie totally grates on my nerves.  \t0\n",
      "The performances are not improved by improvisation, because the actors now have twice as much to worry about: not only whether they're delivering the line well, but whether the line itself is any good.  \t0\n",
      "And, quite honestly, often its not very good.  \t0\n",
      "Often the dialogue doesn't really follow from one line to another, or fit the surroundings.  \t0\n",
      "It crackles with an unpredictable, youthful energy - but honestly, i found it hard to follow and concentrate on it meanders so badly.  \t0\n",
      "There are some generally great things in it.  \t1\n",
      "I wouldn't say they're worth 2 hours of your time, though.  \t0\n",
      "The suspense builders were good, & just cross the line from G to PG.  \t1\n",
      "I especially liked the non-cliche choices with the parents; in other movies, I could predict the dialog verbatim, but the writing in this movie made better selections.  \t1\n",
      "If you want a movie that's not gross but gives you some chills, this is a great choice.  \t1\n",
      "Alexander Nevsky is a great film.  \t1\n",
      "He is an amazing film artist, one of the most important whoever lived.  \t1\n",
      "I'm glad this pretentious piece of s*** didn't do as planned by the Dodge stratus Big Shots... It's gonna help movie makers who aren't in the very restrained movie business\" of Québec.   Prediction=> 0\n",
      "A couple of months later, I returned and had an amazing meal. Prediction=> 1\n",
      "Initially the local sites in the film, which was filmed here in Buffalo, intrigued me.   Prediction=> 0\n",
      "My only problem is I thought the actor playing the villain was a low rent Michael Ironside.   Prediction=> 1\n",
      "The keyboard is really worthwhile in usefulness and is sturdy enough I don't expect any problems. Prediction=> 1\n",
      "The film's dialogue is natural, real to life.   Prediction=> 0\n",
      "Let's start with all the problemsthe acting, especially from the lead professor, was very, very bad.   Prediction=> 0\n",
      "I great reception all the time. Prediction=> 1\n",
      "Phone now holds charge like it did when it was new. Prediction=> 0\n",
      "The phone can also take great pictures and even video clips. Prediction=> 1\n",
      "My gyro was basically lettuce only. Prediction=> 0\n",
      "I've never been more insulted or felt disrespected. Prediction=> 0\n",
      "That was done in the second movie.   Prediction=> 1\n",
      "2 thumbs up to this seller Prediction=> 1\n",
      "Not frightening in the least, and barely comprehensible.   Prediction=> 0\n",
      "Headset works great & was packaged nicely to avoid any damage. Prediction=> 1\n",
      "I dont think I will be back for a very long time. Prediction=> 0\n",
      "I would recommend this. Prediction=> 0\n",
      "Just spicy enough.. Perfect actually. Prediction=> 1\n",
      "I connected my wife's bluetooth,(Motorola HS850) to my phone and it worked like a charm whether the phone was in my pocket or the case. Prediction=> 1\n",
      "This was my first time and I can't wait until the next. Prediction=> 0\n",
      "You'll love it!  \t1\n",
      "This movie is BAD.  \t0\n",
      "So bad.  \t0\n",
      "The film is way too long.  \t0\n",
      "This is definitely one of the bad ones.  \t0\n",
      "The movie I received was a great quality film for it's age.  \t1\n",
      "John Wayne did an incredible job for being so young in the movie industry.  \t1\n",
      "His on screen presence shined thought even though there were other senior actors on the screen with him.  \t1\n",
      "I think that it is a must see older John Wayne film.  \t1\n",
      "I really don't see how anyone could enjoy this movie.  \t0\n",
      "I don't think I've ever seen a movie half as boring as this self-indulgent piece of junk.  \t0\n",
      "It probably would have been better if the director hadn't spent most of the movie showcasing his own art work, which really isn't that noteworthy.  \t0\n",
      "Another thing I didn't really like is when a character got punched in the face, a gallon of blood would spew forth soon after.  \t0\n",
      "Jamie Foxx absolutely IS Ray Charles.  \t1\n",
      "His performance is simply genius.  \t1\n",
      "He owns the film, just as Spacek owned Coal Miner's Daughter\" and Quaid owned \"Great Balls of Fire.   Prediction=> 0\n",
      "A standout scene.   Prediction=> 0\n",
      "Worst hour and a half of my life!Oh my gosh!   Prediction=> 0\n",
      "They had a toro tartare with a cavier that was extraordinary and I liked the thinly sliced wagyu with white truffle. Prediction=> 1\n",
      "Also, it's a real treat to see Anthony Quinn playing Crazy Horse.   Prediction=> 0\n",
      "I don't each much pasta, but I love the homemade /hand made pastas and thin pizzas here. Prediction=> 1\n",
      "I am very impressed with the job that Motorola did on the sturdiness of this phone. Prediction=> 0\n",
      "I received my headset in good time and was happy with it. Prediction=> 1\n",
      "Would recommend this item. Prediction=> 0\n",
      "We definately enjoyed ourselves. Prediction=> 1\n",
      "very good product, well made. Prediction=> 1\n",
      "The writer, Gorman Bechard, undoubtedly did his homework because all references are industry and character-age appropriate.   Prediction=> 1\n",
      "I like design and look of Jabra behing the ear headsets and 5020 is pretty comfortible to wear 24 hours a day without pain in the ear. Prediction=> 0\n",
      "My husband and I ate lunch here and were very disappointed with the food and service. Prediction=> 0\n",
      "So I am here to warn you--DO NOT RENT THIS MOVIE, it is the dumbest thing you have never seen!   Prediction=> 1\n",
      "Worst software ever used.... If I could give this zero stars I would. Prediction=> 0\n",
      "How stupid is that? Prediction=> 0\n",
      "I kept catching the cable on the seat and I had to pull the phone out to turn it on an off. Prediction=> 1\n",
      "I believe the screenwriter did a good job of tying up the loose ends.   Prediction=> 1\n",
      "He also came back to check on us regularly, excellent service. Prediction=> 1\n",
      "Predictable, but not a bad watch.   Prediction=> 0\n",
      "I have been very happy with the 510 and have had NO complaints from any one regarding my sound quality on their end. Prediction=> 1\n",
      "I paid the bill but did not tip because I felt the server did a terrible job. Prediction=> 0\n",
      "Even the squibs look awful.   Prediction=> 0\n",
      "The movie is terribly boring in places.   Prediction=> 0\n",
      "I love the fact that everything on their menu is worth it. Prediction=> 1\n",
      "It was awesome. Prediction=> 1\n",
      "Terrible management. Prediction=> 0\n",
      "This is a bad film, with bad writing, and good actors....an ugly cartoon crafted by Paul Haggis for people who can't handle anything but the bold strokes in storytelling....a picture painted with crayons.   Prediction=> 0\n",
      "Terrible phone holder. Prediction=> 0\n",
      "Point your finger at any item on the menu, order it and you won't be disappointed. Prediction=> 0\n",
      "This results in the phone being either stuck at max volume or mute. Prediction=> 0\n",
      "Good value, great food, great service. Prediction=> 1\n",
      "Lousy product. Prediction=> 0\n",
      "This is just a great movie.   Prediction=> 1\n",
      "Hated it.   Prediction=> 0\n",
      "My friend loved the salmon tartar. Prediction=> 1\n",
      "A good commentary of today's love and undoubtedly a film worth seeing.   Prediction=> 1\n",
      "Once your food arrives it's meh. Prediction=> 0\n",
      "The best phone in market :). Prediction=> 1\n",
      "After watching this film, I wanted to learn more about the works of this artist.   Prediction=> 1\n",
      "How can you call yourself a steakhouse if you can't properly cook a steak, I don't understand! Prediction=> 0\n",
      "The service here leaves a lot to be desired. Prediction=> 1\n",
      "The worst one of the series.   Prediction=> 0\n",
      "My boyfriend tried the Mediterranean Chicken Salad and fell in love. Prediction=> 1\n",
      "I guess I should have known that this place would suck, because it is inside of the Excalibur, but I didn't use my common sense. Prediction=> 0\n",
      "The service was great, even the manager came and helped with our table. Prediction=> 1\n",
      "For a product that costs as much as this one does, I expect it to work far better and with greater ease than this thing does. Prediction=> 0\n",
      "The movie had you on the edge of your seat and made you somewhat afraid to go to your car at the end of the night.   Prediction=> 1\n",
      "The kids are annoying.   Prediction=> 0\n",
      "The servers went back and forth several times, not even so much as an \"Are you being helped?\" Prediction=> 0\n",
      "Service was exceptional and food was a good as all the reviews. Prediction=> 1\n",
      "So anyone near you will hear part of your conversation. Prediction=> 0\n",
      "I mean this in a terrible way.   Prediction=> 0\n",
      "Gets a signal when other Verizon phones won't. Prediction=> 0\n",
      "My wife had the Lobster Bisque soup which was lukewarm. Prediction=> 0\n",
      "The stories were powerful explorations of the nature of man and of art.   Prediction=> 0\n",
      "Warning - Stay away. Prediction=> 0\n",
      "walked in and the place smelled like an old grease trap and only 2 others there eating. Prediction=> 0\n",
      "Horrible - don't waste your time and money. Prediction=> 0\n",
      "My experience was terrible..... This was my fourth bluetooth headset, and while it was much more comfortable than my last Jabra (which I HATED!!! Prediction=> 1\n",
      "Truly awful. Prediction=> 0\n",
      "VERY comfortable. Prediction=> 1\n",
      "$50 Down the drain. Prediction=> 0\n",
      "I love their fries and their beans. Prediction=> 1\n",
      "A PIECE OF JUNK THAT BROKE AFTER BEING ON MY PHONE FOR 2 DAYS!!! Prediction=> 0\n",
      "Macbeth (Jason Connery) moved me to tears with his final monolog (out brief candle, out)He gave the sphere of moral decay and dark forces a human face, which makes it the more interesting.   Prediction=> 1\n",
      "It was horrible!. Prediction=> 0\n",
      "The incredible soundtrack truly captures the essence of the film.   Prediction=> 1\n",
      "The directing and the cinematography aren't quite as good.   Prediction=> 1\n",
      "Great place to have a couple drinks and watch any and all sporting events as the walls are covered with TV's. Prediction=> 1\n",
      "The volume switch rocketed out of the unit to a destination unknown. Prediction=> 0\n",
      "I was amazed at the quick arrival of the two original lg cell phone batteries and and at a fraction of the price. Prediction=> 1\n",
      "I could not recommend these more. Prediction=> 0\n",
      "Yes it's shiny on front side - and I love it! Prediction=> 1\n",
      "camera color balance is AWFUL. Prediction=> 0\n",
      "The update procedure is difficult and cumbersome. Prediction=> 0\n",
      "I've owned this phone for 7 months now and can say that it's the best mobile phone I've had. Prediction=> 1\n",
      "The best place to go for a tasty bowl of Pho! Prediction=> 1\n",
      "Reaching for the bottom row is uncomfortable, and the send and end keys are not where I expect them to be.3. Prediction=> 0\n",
      "Very bad Experience! Prediction=> 0\n",
      "We've tried to like this place but after 10+ times I think we're done with them. Prediction=> 1\n",
      "The plantains were the worst I've ever tasted. Prediction=> 0\n",
      "seems like a good quick place to grab a bite of some familiar pub food, but do yourself a favor and look elsewhere. Prediction=> 1\n",
      "The only thing I did like was the prime rib and dessert section. Prediction=> 0\n",
      "The atmosphere here is fun. Prediction=> 1\n",
      "This place is not quality sushi, it is not a quality restaurant. Prediction=> 1\n",
      "It also took her forever to bring us the check when we asked for it. Prediction=> 0\n",
      "Beware: this is not a trashy cult movie, this is trash -period!   Prediction=> 0\n",
      "A greasy, unhealthy meal. Prediction=> 0\n",
      "Nargile - I think you are great. Prediction=> 1\n",
      "We literally sat there for 20 minutes with no one asking to take our order. Prediction=> 1\n",
      "its a little geeky but i think thats its sex on toast and it rocks and oozes sex right down to its battery embedded sleek stylish leather case. Prediction=> 1\n",
      "say bye bye to your tip lady! Prediction=> 0\n",
      "I'll take my business dinner dollars elsewhere. Prediction=> 0\n",
      "Essentially you can forget Microsoft's tech support. Prediction=> 0\n",
      "you can even take self portraits with the outside (exterior) display, very cool. Prediction=> 0\n",
      "Don't buy this product. Prediction=> 0\n",
      "The script is bad, very bad  it contains both cheesiness and unethical joke that you normally see in rated R or NC-17 movie.   Prediction=> 0\n",
      "I always order from the vegetarian menu during dinner, which has a wide array of options to choose from. Prediction=> 1\n",
      "It's also great to see that renowned silent screenwriter Frances Marion hasn't missed a step going from silent to sound.   Prediction=> 1\n",
      "This is hands down the best phone I've ever had. Prediction=> 1\n",
      "He was very impressed when going from the original battery to the extended battery. Prediction=> 0\n",
      "All it took was one drop from about 6 inches above the kitchen counter and it was cracked.I am not impressed and I am not laughing. Prediction=> 0\n",
      "I recently tried Caballero's and I have been back every week since! Prediction=> 0\n",
      "When I received my Pita it was huge it did have a lot of meat in it so thumbs up there. Prediction=> 1\n",
      "You need at least 3 mins to get to your phone book from the time you first turn on the phone.Battery life is short. Prediction=> 0\n",
      "Hands down my favorite Italian restaurant! Prediction=> 1\n",
      "the movie is littered with overt racial slurs towards the black cast members and in return the whites are depicted as morons and boobs.   Prediction=> 1\n",
      "I will never go back to this place and will never ever recommended this place to anyone! Prediction=> 0\n",
      "These are fabulous! Prediction=> 1\n",
      "Crisp and Clear. Prediction=> 1\n",
      "This may be the only bad film he ever made.   Prediction=> 0\n",
      "The film deserves strong kudos for taking this stand, for having exceptional acting from its mostly lesser-known cast and for the super-intelligent script that doesn't insult the audience or take the easy way out when it comes to white racism.   Prediction=> 0\n",
      "On the ground, right next to our table was a large, smeared, been-stepped-in-and-tracked-everywhere pile of green bird poop. Prediction=> 0\n",
      "- Really, really good rice, all the time. Prediction=> 1\n",
      "All of the tapas dishes were delicious! Prediction=> 1\n",
      "In fact, I liked it better than Interview With a Vampire and I liked this Lestat (Stuart Townsend) better than Cruise's attempt.   Prediction=> 1\n",
      "The football scenes at the end were perplexing.   Prediction=> 1\n",
      "Not much seafood and like 5 strings of pasta at the bottom. Prediction=> 1\n",
      "If you want a real scare rent this one!   Prediction=> 1\n",
      "We are sending it back. Prediction=> 0\n",
      "Think of the film being like a dream.   Prediction=> 0\n",
      "Fans of the genre will be in heaven.   Prediction=> 0\n",
      "Kind of flops around. Prediction=> 0\n",
      "This totally UNfunny movie is so over the top and pathetic and unrealistic that throughout the whole 90 minutes of utter torture I probably looked at my watch about 70000 times!   Prediction=> 0\n",
      "Very Very Disappointed ordered the $35 Big Bay Plater. Prediction=> 0\n",
      "Each track commands sentiment, actually contributing to the scenes and characters.   Prediction=> 1\n",
      "This is one of the best Italian thrillers of the early 70's.   Prediction=> 1\n",
      "Other than that, the leather is nice and soft; the fit is very tight; the cut out for the face is a good shape. Prediction=> 1\n",
      "The only thing that disappoint me is the infra red port (irda). Prediction=> 0\n",
      "Host staff were, for lack of a better word, BITCHES! Prediction=> 0\n",
      "I checked out this place a couple years ago and was not impressed. Prediction=> 1\n",
      "Also, if your phone is dropped, this case is not going to save it, specially when dropped face down. Prediction=> 0\n",
      ") a happy, wonderful, feel good ending!   Prediction=> 1\n",
      ") What makes this story different are the terrific production values - faultless photography, composition and editing - the terrific casting - the underappreciated Brian Keith playing a bully Teddy - and vivid history.   Prediction=> 1\n",
      "Bland and flavorless is a good way of describing the barely tepid meat. Prediction=> 0\n",
      "The sound quality for the device is unacceptable.Unless you are in a really quiet area, you almost hear nothing. Prediction=> 0\n",
      "This movie is possibly one of the most creative works of horror ever.   Prediction=> 1\n",
      "Gotta love those close-ups of slimy, drooling teeth!   Prediction=> 1\n",
      "The charger arrived within the promised timeframe, but it did not work. Prediction=> 0\n",
      "I liked it.   Prediction=> 1\n",
      "This film highlights the fundamental flaws of the legal process, that it's not about discovering guilt or innocence, but rather, is about who presents better in court.   Prediction=> 1\n",
      "Great product. Prediction=> 1\n",
      "Come hungry, leave happy and stuffed! Prediction=> 1\n",
      "I LOVED it! Prediction=> 1\n",
      "Lange had become a great actress.   Prediction=> 1\n",
      "Good case, Excellent value. Prediction=> 1\n",
      "Prices are very reasonable, flavors are spot on, the sauce is home made, and the slaw is not drenched in mayo. Prediction=> 1\n",
      "It is not good.   Prediction=> 1\n",
      "I love the Scream movies and all horror movies and this one ranks way up there.   Prediction=> 0\n",
      "The film's sole bright spot was Jonah Hill (who will look almost unrecognizable to fans of the recent Superbad due to the amount of weight he lost in the interim).   Prediction=> 0\n",
      "for 40 bucks a head, i really expect better food. Prediction=> 1\n",
      "It kept getting worse and worse so now I'm officially done. Prediction=> 0\n",
      "Love it.. Great armband. Prediction=> 1\n",
      "This early film from future goremeister Lucio Fulci is a very good addition to the giallo sub-genre.   Prediction=> 1\n",
      "sucked, most of the stuff does not work with my phone. Prediction=> 0\n",
      "It's too bad the food is so damn generic. Prediction=> 0\n",
      "It does everything the description said it would. Prediction=> 0\n",
      "This is a great deal. Prediction=> 1\n",
      "We had so much to say about the place before we walked in that he expected it to be amazing, but was quickly disappointed. Prediction=> 1\n",
      "Does not fit. Prediction=> 0\n",
      "The results, well, are a shame.   Prediction=> 0\n",
      "We are so glad we found this place. Prediction=> 1\n",
      "It quit working after I'd used it for about 18 months, so I just purchased another one because this is the best headset I've ever owned. Prediction=> 1\n",
      "I wear it everyday and it holds up very well. Prediction=> 0\n",
      "I have been to very few places to eat that under no circumstances would I ever return to, and this tops the list. Prediction=> 0\n",
      "The visual effects were AWFUL.   Prediction=> 0\n",
      "Best tater tots in the southwest. Prediction=> 1\n",
      "But this movie really got to me.   Prediction=> 1\n",
      "I think it was Robert Ryans best film, because he portrayed someone like my father, and he was a schizophrenic in real life,(my father) although he never murdered anyone but was affected more so during the second world war which made him worse.   Prediction=> 1\n",
      "It was that year, however, that reminded us that Huston was still at the top of his game as evinced by his faithful adaptation of James Joyce's acclaimed novella \"The Dead.   Prediction=> 0\n",
      "Hawaiian Breeze, Mango Magic, and Pineapple Delight are the smoothies that I've tried so far and they're all good. Prediction=> 1\n",
      "Horrible, horrible protector. Prediction=> 0\n",
      "Light weight, I hardly notice it is there. Prediction=> 0\n",
      "T-Mobile has the best customer service anywhere. Prediction=> 1\n",
      "He deserves 5 stars. Prediction=> 0\n",
      "This is probably the most irritating show I have ever seen in my entire life.   Prediction=> 0\n",
      "If you see it, you should probably just leave it on the shelf.   Prediction=> 0\n",
      "The black eyed peas and sweet potatoes... UNREAL! Prediction=> 1\n",
      "W810i is just SUPERB. Prediction=> 1\n",
      "Watching washing machine twirling around wouldn't hurt your eyes as much as this show.   Prediction=> 1\n",
      "Also there are combos like a burger, fries, and beer for 23 which is a decent deal. Prediction=> 0\n",
      "I thought it was bad.   Prediction=> 0\n",
      "After a year the battery went completely dead on my headset. Prediction=> 0\n",
      "The chicken dishes are OK, the beef is like shoe leather. Prediction=> 0\n",
      "The eargels channel the sound directly into your ear and seem to increase the sound volume and clarity. Prediction=> 1\n",
      "I started this review with two stars, but I'm editing it to give it only one. Prediction=> 0\n",
      "And it was boring.   Prediction=> 0\n",
      "It is wonderful and inspiring to watch, and I hope that it gets released again on to video or DVD.   Prediction=> 1\n",
      "On the good side, the staff was genuinely pleasant and enthusiastic - a real treat. Prediction=> 1\n",
      "Also were served hot bread and butter, and home made potato chips with bacon bits on top....very original and very good. Prediction=> 0\n",
      "There was hardly any meat. Prediction=> 0\n",
      "This really is how Vegas fine dining used to be, right down to the menus handed to the ladies that have no prices listed. Prediction=> 1\n",
      "The manager was the worst. Prediction=> 0\n",
      "Not worth it. Prediction=> 0\n",
      "Frozen pucks of disgust, with some of the worst people behind the register. Prediction=> 0\n",
      "Omelets are to die for! Prediction=> 0\n",
      "Excellent short film.   Prediction=> 1\n",
      "Great place to eat, reminds me of the little mom and pop shops in the San Francisco Bay Area. Prediction=> 1\n",
      "The camera on the phone may be used as a dustpan when indoors... I'd rather be using a disposable then this. Prediction=> 1\n",
      "I use this product in a motor control center where there is a lot of high voltage humming from the equipment, and it works great! Prediction=> 1\n",
      "GO AND SEE IT!   Prediction=> 0\n",
      "I recently had problems where I could not stay connected for more than 10 minutes before being disconnected. Prediction=> 0\n",
      "You get what you pay for I guess. Prediction=> 0\n",
      "After charging overnight, these batteries work great. Prediction=> 1\n",
      "They really want to make your experience a good one. Prediction=> 1\n",
      "It was horrendous.   Prediction=> 0\n",
      "I can hear while I'm driving in the car, and usually don't even have to put it on it's loudest setting. Prediction=> 0\n",
      "Service was excellent and prices are pretty reasonable considering this is Vegas and located inside the Crystals shopping mall by Aria. Prediction=> 1\n",
      "I have two more years left in this contract and I hate this phone. Prediction=> 0\n",
      "For service, I give them no stars. Prediction=> 1\n",
      "If you are looking for a movie with a terrific cast, some good music(including a Shirley Jones rendition of \"The Way You Look Tonight\"), and an uplifting ending, give this one a try.   Prediction=> 1\n",
      "Reception is terrible and full of static. Prediction=> 0\n",
      "Bad Purchase. Prediction=> 0\n",
      "My fiancé and I came in the middle of the day and we were greeted and seated right away. Prediction=> 1\n",
      "TOTAL WASTE OF TIME. Prediction=> 0\n",
      "It lasts less than 3o minutes, if I actually try to use the phone.My wife has the same phone with the same problem. Prediction=> 0\n",
      "I wasn't really impressed with Strip Steak. Prediction=> 1\n",
      "The stories were as unbelievable as the actors.   Prediction=> 1\n",
      "I would recommend purchasing the Jabra JX-10 series 2 which works flawlessly with my Moto Q, go figure. Prediction=> 1\n",
      "The chipolte ranch dipping sause was tasteless, seemed thin and watered down with no heat. Prediction=> 0\n",
      "Great Subway, in fact it's so good when you come here every other Subway will not meet your expectations. Prediction=> 1\n",
      "Waitress was sweet and funny. Prediction=> 1\n",
      "Great Pocket PC / phone combination. Prediction=> 1\n",
      "Great choice! Prediction=> 1\n",
      "The food was excellent and service was very good. Prediction=> 1\n",
      "This film offers many delights and surprises.   Prediction=> 1\n",
      "Don't bother - go to the store. Prediction=> 0\n",
      "One of the worst shows of all time.   Prediction=> 0\n",
      "It's a great place and I highly recommend it. Prediction=> 1\n",
      "This product is very High quality Chinese CRAP!!!!!! Prediction=> 0\n",
      "Lobster Bisque, Bussell Sprouts, Risotto, Filet ALL needed salt and pepper..and of course there is none at the tables. Prediction=> 0\n",
      "Conclusion - I loved it.   Prediction=> 1\n",
      "I have 2-3 bars on my cell phone when I am home, but you cant not hear anything. Prediction=> 0\n",
      "I had to wait over 30 minutes to get my drink and longer to get 2 arepas. Prediction=> 0\n",
      "Everything on the menu is terrific and we were also thrilled that they made amazing accommodations for our vegetarian daughter. Prediction=> 1\n",
      "Service was slow and not attentive. Prediction=> 0\n",
      "This was reflected not only in the cast, but also in the below-par script, which borrowed much from the earlier classic.   Prediction=> 0\n",
      "Totally different, with loads of understatement and black comedy, this is a film few get to see, but those who do will remember it.   Prediction=> 0\n",
      "I can't use this case because the smell is disgusting. Prediction=> 0\n",
      "Her role was played well.   Prediction=> 1\n",
      "Crostini that came with the salad was stale. Prediction=> 0\n",
      "I'll be drivng along, and my headset starts ringing for no reason. Prediction=> 0\n",
      "No ear loop needed, it's tiny and the sound is great. Prediction=> 1\n",
      "You cant go wrong with any of the food here. Prediction=> 0\n",
      "No buyers remorse on this one!. Prediction=> 0\n",
      "Disappointed!. Prediction=> 0\n",
      "Also notable is John Bailey's fine crisp beautifully colored cinematography and the great production design & costumes by Eiko Ishioka who went on to do the memorable costumes for Coppola's Dracula for which she received a well deserved Oscar.   Prediction=> 1\n",
      "Too politically correct.   Prediction=> 0\n",
      "Very unreliable service from T-mobile ! Prediction=> 0\n",
      "The pancake was also really good and pretty large at that. Prediction=> 1\n",
      "It's just adorable seeing Mickey playing \"Turkey in the Straw\" in a highly imaginative (if occasionally cruel) way.   Prediction=> 1\n",
      "I posted more detailed comments under the grey or black phone, but i have the Fire Red and it's a great color! Prediction=> 1\n",
      "They know how to make them here. Prediction=> 0\n",
      "Poorly contstruct hinge. Prediction=> 0\n",
      "If there were zero stars I would give it zero stars. Prediction=> 0\n",
      "I like Steiners because it's dark and it feels like a bar. Prediction=> 1\n",
      "Five star Plus, plus. Prediction=> 0\n",
      "We had 7 at our table and the service was pretty fast. Prediction=> 1\n",
      "The pleather case doesn't fit. Prediction=> 0\n",
      "This place was such a nice surprise! Prediction=> 1\n",
      "A cheap and cheerless heist movie with poor characterisation, lots of underbite style stoic emoting (think Chow Yun Fat in A Better Tomorrow) and some cheesy clichés thrown into an abandoned factory ready for a few poorly executed flying judo rolls a la John Woo.   Prediction=> 0\n",
      "Bacon is hella salty. Prediction=> 0\n",
      "Overall, I would recommend this phone over the new Walkman. Prediction=> 1\n",
      "In my house I was getting dropped coverage upstairs and no coverage in my basement. Prediction=> 0\n",
      "The staff is great, the food is delish, and they have an incredible beer selection. Prediction=> 1\n",
      "Great place to relax and have an awesome burger and beer. Prediction=> 1\n",
      "I didn't want the clip going over the top of my ear, causing discomfort. Prediction=> 0\n",
      "I had a seriously solid breakfast here. Prediction=> 1\n",
      "No one at the table thought the food was above average or worth the wait that we had for it. Prediction=> 0\n",
      "I own 2 of these cases and would order another. Prediction=> 1\n",
      "The plot, such as it is, is so derivative and predictable that the ending is like a mercy killing.   Prediction=> 0\n",
      "Bela Lugosi was totally extraneous, intoning odd lines.   Prediction=> 0\n",
      "After trying many many handsfree gadgets this is the one that finally works well. Prediction=> 0\n",
      "The voice recognition thru the handset is excellent. Prediction=> 1\n",
      "All the bread is made in-house! Prediction=> 0\n",
      "the charger worked for about a week and then completely stopped charging my phone. Prediction=> 0\n",
      "Poor Construction. Prediction=> 0\n",
      "Not good by any stretch of the imagination. Prediction=> 1\n",
      "For about 10 minutes, we we're waiting for her salad when we realized that it wasn't coming any time soon. Prediction=> 1\n",
      "My headset works just peachy-keen. Prediction=> 1\n",
      "So Far So Good!. Prediction=> 1\n",
      "It Was So Cool.   Prediction=> 1\n",
      "i got this phone around the end of may and i'm completely unhappy with it. Prediction=> 0\n",
      "The calls drop, the phone comes on and off at will, the screen goes black and the worst of all it stops ringing intermittently. Prediction=> 0\n",
      "They refuse to refund or replace. Prediction=> 1\n",
      "Service was fantastic. Prediction=> 1\n",
      "What a piece of junk.. I lose more calls on this phone. Prediction=> 0\n",
      "It is PERFECT for a sit-down family meal or get together with a few friends. Prediction=> 1\n",
      "Nice headphones for the price and they work great! Prediction=> 1\n",
      "The inside is really quite nice and very clean. Prediction=> 1\n",
      "The \"1.2\" mega pixel camera, being a part of a phone, is reasonably good7. Prediction=> 1\n",
      "Probably not in a hurry to go back. Prediction=> 0\n",
      "Everything was gross. Prediction=> 0\n",
      "You'd have to have the IQ of particularly stupid mollusk not to see that one coming.   Prediction=> 0\n",
      "We won't be going back. Prediction=> 0\n",
      "Returned 8 hours later. Prediction=> 0\n",
      "It is very comfortable on the ear. Prediction=> 1\n",
      "This is a disgrace. Prediction=> 0\n",
      "I saw \"Mirrormask\" last night and it was an unsatisfactory experience.   Prediction=> 0\n",
      "I had heard good things about this place, but it exceeding every hope I could have dreamed of. Prediction=> 1\n",
      "Avoid, avoid, avoid!   Prediction=> 0\n",
      "It is rare when a film-maker takes the time to tell a worthy moral tale with care and love that doesn't fall into the trap of being overly syrupy or over indulgent.   Prediction=> 1\n",
      "Waited 2 hours & never got either of our pizzas as many other around us who came in later did! Prediction=> 0\n",
      "Much better than the other AYCE sushi place I went to in Vegas. Prediction=> 1\n",
      "Very Displeased. Prediction=> 0\n",
      "I found a six inch long piece of wire in my salsa. Prediction=> 0\n",
      "Her lines seem to have been WRITTEN by a fifteen year old, though they are trying oh so, so hard to sound like how a fifteen year old would really, um, you know, well... talk.   Prediction=> 0\n",
      "This phone might well be the worst I've ever had in any brand. Prediction=> 0\n",
      "Arrived quickly and much less expensive than others being sold. Prediction=> 0\n",
      "Waste of money. Prediction=> 0\n",
      "Very Dissapointing Performance. Prediction=> 1\n",
      "Really awful.   Prediction=> 0\n",
      "Even if you love bad movies, do not watch this movie.   Prediction=> 1\n",
      "This is the phone to get for 2005.... I just bought my S710a and all I can say is WOW! Prediction=> 1\n",
      "The vanilla ice cream was creamy and smooth while the profiterole (choux) pastry was fresh enough. Prediction=> 1\n",
      "The food was barely lukewarm, so it must have been sitting waiting for the server to bring it out to us. Prediction=> 0\n",
      "Then I exchanged for the same phone, even that had the same problem. Prediction=> 0\n",
      "All the other cases I've tried normally fall apart after a few months but this one seems to be in for the long haul. Prediction=> 1\n",
      "Excellent sound, battery life and inconspicuous to boot!. Prediction=> 1\n",
      "They made this case too small and is very difficult to install. Prediction=> 0\n",
      "So we went to Tigerlilly and had a fantastic afternoon! Prediction=> 1\n",
      "What a waste of time! Prediction=> 0\n",
      "The staff are great, the ambiance is great. Prediction=> 1\n",
      "Then, as if I hadn't wasted enough of my life there, they poured salt in the wound by drawing out the time it took to bring the check. Prediction=> 1\n",
      "NOBODY identifies with these characters because they're all cardboard cutouts and stereotypes (or predictably reverse-stereotypes).   Prediction=> 0\n",
      "Though The Wind and the Lion is told largely through the eyes of the son, every member of the family can identify with one of the characters, whether it be Sean Connery's noble brigand, Candace Bergen's feisty heroine, John Huston's wily John Hay or Steve Kanaly's spiffy, radiant, ruthless can-do lieutenant, Roosevelt's \"Big Stick\".   Prediction=> 1\n",
      "Don't waste your $$$ on this one. Prediction=> 0\n",
      "The folks at Otto always make us feel so welcome and special. Prediction=> 0\n",
      "Very very fun chef. Prediction=> 1\n",
      "I let my girlfriend talk me into seeing this - bad idea, we both hated it.   Prediction=> 0\n",
      "there is no real plot.   Prediction=> 0\n",
      "This is a really fantastic Thai restaurant which is definitely worth a visit. Prediction=> 1\n",
      "Their chow mein is so good! Prediction=> 1\n",
      "It worked very well. Prediction=> 0\n",
      "It's been my choice headset for years.Great sound; good volume; good noise cancellation. Prediction=> 1\n",
      "Worst food/service I've had in a while. Prediction=> 0\n",
      "It was a bit too sweet, not really spicy enough, and lacked flavor. Prediction=> 0\n",
      "The movie has almost no action scenes in it and very little comedy.   Prediction=> 1\n",
      "No, I'm going to eat the potato that I found some strangers hair in it. Prediction=> 0\n",
      "This product is great... it makes working a lot easier I can go to the copier while waiting on hold for something. Prediction=> 1\n",
      "I'm not sure how long we stood there but it was long enough for me to begin to feel awkwardly out of place. Prediction=> 0\n",
      "The best example of how dumb the writing is when it's established that you can turn the zombie-students back into humans by removing a necklace containing a piece of the meteorite.   Prediction=> 0\n",
      "It's pretty easy. Prediction=> 1\n",
      "AN HOUR... seriously? Prediction=> 0\n",
      "Absolutely great. Prediction=> 1\n",
      "A truly, truly bad film.   Prediction=> 0\n",
      "The design might be ergonomic in theory but I could not stand having these in my ear. Prediction=> 0\n",
      "What a waste of money and time!. Prediction=> 0\n",
      "I am very impressed with this headset from Plantronics. Prediction=> 0\n",
      "Won't go back. Prediction=> 0\n",
      "How can that be?The audio quality is poor. Prediction=> 0\n",
      "I have to jiggle the plug to get it to line up right to get decent volume. Prediction=> 0\n",
      "The phone loads super! Prediction=> 0\n",
      "It's a case of 'so bad it is laughable'.   Prediction=> 0\n",
      "Great food for the price, which is very high quality and house made. Prediction=> 1\n",
      "very clear, quality sound and you don't have to mess with the sound on your iPod since you have the sound buttons on the headset. Prediction=> 1\n",
      "We asked for the bill to leave without eating and they didn't bring that either. Prediction=> 0\n",
      "MANNA FROM HEAVEN is a terrific film that is both predictable and unpredictable at the same time.   Prediction=> 0\n",
      "Overall, a delight!   Prediction=> 1\n",
      "This is a simple little phone to use, but the breakage is unacceptible. Prediction=> 1\n",
      "- the food is rich so order accordingly. Prediction=> 1\n",
      "But now I was completely grossed out. Prediction=> 0\n",
      "Again, no plot at all.   Prediction=> 0\n",
      "So bad...well...it's just bad.   Prediction=> 0\n",
      "After 3 months, screen just went black all of a sudden. Prediction=> 0\n",
      "Lastly, the mozzarella sticks, they were the best thing we ordered. Prediction=> 1\n",
      "We won't be returning. Prediction=> 0\n",
      "Not even good for camp value!   Prediction=> 1\n",
      "The story line is totally predictable.   Prediction=> 0\n",
      "Can't upload ringtones from a third party. Prediction=> 1\n",
      "One of the most disappointing aspects is the lack of notable gore.   Prediction=> 0\n",
      "It's so stupid to have to keep buying new chargers, car chargers, cradles, headphones and car kits every time a new phone comes out. Prediction=> 0\n",
      "I knew when I saw the film that more great things were to come from this gifted actor.   Prediction=> 1\n",
      "I am more than happy with this product. Prediction=> 1\n",
      "If you look for authentic Thai food, go else where. Prediction=> 0\n",
      "This one just fails to create any real suspense.   Prediction=> 0\n",
      "Food was so gooodd. Prediction=> 0\n",
      "THAT one didn't work either. Prediction=> 0\n",
      "What on earth is Irons doing in this film?   Prediction=> 0\n",
      "Simple, lightweight and great fit. Prediction=> 1\n",
      "This is not movie-making.   Prediction=> 0\n",
      "The Han Nan Chicken was also very tasty. Prediction=> 1\n",
      "The real killer is the volume, and of course it breaking. Prediction=> 0\n",
      "Works for me. Prediction=> 1\n",
      "(The bathroom is just next door and very nice.) Prediction=> 1\n",
      "In fact, this stinker smells like a direct-to-video release.   Prediction=> 0\n",
      "Stopped by this place while in Madison for the Ironman, very friendly, kind staff. Prediction=> 1\n",
      "I wish I could enter negative values, admins?   Prediction=> 1\n",
      "I LOVED their mussels cooked in this wine reduction, the duck was tender, and their potato dishes were delicious. Prediction=> 1\n",
      "So absolutley fantastic. Prediction=> 1\n",
      "I hope this place sticks around. Prediction=> 0\n",
      "Food arrived quickly! Prediction=> 0\n",
      "The Greek dressing was very creamy and flavorful. Prediction=> 1\n",
      "I consider this theft. Prediction=> 0\n",
      "I might have gotten a defect, but I would not risk buying it again because of the built quality alone. Prediction=> 0\n",
      "Very disappointing!!! Prediction=> 0\n",
      "Con: spotty service. Prediction=> 0\n",
      "It dit not work most of the time with my Nokia 5320. Prediction=> 0\n",
      "Rating: 0/10 (Grade: Z) Note: The Show Is So Bad That Even Mother Of The Cast Pull Her Daughter Out Of The Show.   Prediction=> 0\n",
      "This is one I did not have, but I watched it recently on Fox Movie Channel, and was very disappointed.   Prediction=> 0\n",
      "I couldn't take them seriously.   Prediction=> 0\n",
      "Bought mainly for the charger, which broke soon after purchasing. Prediction=> 0\n",
      "The bottowm line...another worthless, cheap gimmick from Sprint. Prediction=> 0\n",
      "Protects the phone on all sides. Prediction=> 0\n",
      "Good show, Samsung. Prediction=> 1\n",
      "Gave up trying to eat any of the crust (teeth still sore). Prediction=> 0\n",
      "Saw the movie today and thought it was a good effort, good messages for kids.   Prediction=> 1\n",
      "Not sure who was more lost - the flat characters or the audience, nearly half of whom walked out.   Prediction=> 0\n",
      "She was quite disappointed although some blame needs to be placed at her door. Prediction=> 0\n",
      "Fantastic earphones. Prediction=> 1\n",
      "disappointing. Prediction=> 0\n",
      "Special mention should be made of the superb music score and sound effects, which are an integral element in helping to make this such a memorable and enjoyable cartoon.   Prediction=> 1\n",
      "Lewis Black's considerable talent is wasted here too, as he is at his most incendiary when he is unrestrained, which the PG-13 rating certainly won't allow.   Prediction=> 0\n",
      "Still, it makes up for all of this with a super ending that depicts a great sea vessel being taken out by the mighty frost.   Prediction=> 1\n",
      "This phone works great. Prediction=> 1\n",
      "One thing I hate is the mode set button at the side. Prediction=> 0\n",
      "I have seen many movies starring Jaclyn Smith, but my god this was one of her best, though it came out 12 years ago.   Prediction=> 1\n",
      "Good transmit audio. Prediction=> 1\n",
      "I kept looking at the time and it had soon become 35 minutes, yet still no food. Prediction=> 0\n",
      "NOT WHAT I WANTED. Prediction=> 0\n",
      "Cute, quaint, simple, honest. Prediction=> 1\n",
      "I was very excited to get this headset because I thought it was really cute. Prediction=> 1\n",
      "horrible, had to switch 3 times. Prediction=> 0\n",
      "I've tried several different earpieces for my cell phone and this Jabra one is the first one I've found that fits my ear comfortably. Prediction=> 1\n",
      "Worst customer service. Prediction=> 0\n",
      "If you love authentic Mexican food and want a whole bunch of interesting, yet delicious meats to choose from, you need to try this place. Prediction=> 1\n",
      "The battery works great! Prediction=> 1\n",
      "This place is pretty good, nice little vibe in the restaurant. Prediction=> 1\n",
      "Logitech Bluetooth Headset is a 10!. Prediction=> 1\n",
      "This was like the final blow! Prediction=> 0\n",
      "The movie was very interesting from beginning to the end.   Prediction=> 1\n",
      "Piece of Junk. Prediction=> 0\n",
      "Disapointing Results. Prediction=> 0\n",
      "Also its slim enough to fit into my alarm clock docking station without removing the case. Prediction=> 1\n",
      "It never condescends, all the characters have good genuine hearts and believable problems.   Prediction=> 1\n",
      "The bartender was also nice. Prediction=> 1\n",
      "Each day of the week they have a different deal and it's all so delicious! Prediction=> 1\n",
      "This item is fantastic and works perfectly! Prediction=> 1\n",
      "We got the food and apparently they have never heard of salt and the batter on the fish was chewy. Prediction=> 0\n",
      "Price is good too. Prediction=> 1\n",
      "You won't regret it! Prediction=> 1\n",
      "The use of slow-motion needlessly repeats itself throughout the movie but is well backed up by bad acting (and bad is a kind word here), no continuity, scenes that are thrown in for no reason whatsoever, vehicles that looked like they were made from a Corn Flakes box and a directorial style that bordered on stupidity.   Prediction=> 0\n",
      "You also cannot take pictures with it in the case because the lense is covered. Prediction=> 1\n",
      "The earpiece on this is too large or too heavy...it keeps falling out of my ear. Prediction=> 0\n",
      "Not nearly as good looking as the AMAZON picture makes it look. Prediction=> 0\n",
      "Food was good, service was good, Prices were good. Prediction=> 1\n",
      "And I forgot: The Casting here i superb, with Trond Fausa Aurvåg being perfect in the role as the Bothersome Man, who doesn't understand where he is, what he is doing and why.   Prediction=> 1\n",
      "Both great! Prediction=> 1\n",
      "After all the rave reviews I couldn't wait to eat here......what a disappointment! Prediction=> 0\n",
      "Plantronics Bluetooth Excelent Buy. Prediction=> 0\n",
      "Tied to charger for conversations lasting more than 45 minutes.MAJOR PROBLEMS!! Prediction=> 0\n",
      "I recommend iGo to anyone with different brand cell phones/mp3 players in the family. Prediction=> 1\n",
      "Excellent product for the price. Prediction=> 1\n",
      "definitely will come back here again. Prediction=> 1\n",
      "I know he was a contract player with little control over his scripts, but the acting was as bad as the script.   Prediction=> 0\n",
      "If she had not rolled the eyes we may have stayed... Not sure if we will go back and try it again. Prediction=> 0\n",
      "Terrible service! Prediction=> 0\n",
      "I do not know if this was Emilio Estevez's directorial debut, but the pacing, the interplay and development of the characters as well as some clever camera work surrounding the character Estevez plays all suggest a natural eye.   Prediction=> 1\n",
      "REAL sushi lovers, let's be honest - Yama is not that good. Prediction=> 0\n",
      "Please dont waste your money. Prediction=> 0\n",
      "The cast of veteran actors are more than just a nostalgia trip.   Prediction=> 1\n",
      "Great for the jawbone. Prediction=> 1\n",
      "Restaurant is always full but never a wait. Prediction=> 1\n",
      "Very good phone. Prediction=> 1\n",
      "Fantastic food! Prediction=> 1\n",
      "Overall, I don't think that I would take my parents to this place again because they made most of the similar complaints that I silently felt too. Prediction=> 1\n",
      "I love the ringtones because they are so upbeat! Prediction=> 1\n",
      "I guess it was supposed to be clever twist, then shed some light on the situation, but it was just stupid.   Prediction=> 0\n",
      "An instant classic, with a great soundtrack and a catchy song during the ending credits.   Prediction=> 1\n",
      "Nice docking station for home or work. Prediction=> 1\n",
      "This is essentially a communications tool that does not communicate. Prediction=> 1\n",
      "Att is not clear, sound is very distorted and you have to yell when you talk. Prediction=> 1\n",
      "It is light, has plenty of battery capacity, and is very confortable to wear for somewhat extended periods of time. Prediction=> 0\n",
      "Magical Help. Prediction=> 0\n",
      "Service is quick and even \"to go\" orders are just like we like it! Prediction=> 1\n",
      "I was particularly pleased with the acting ability of Dwight Schultz.   Prediction=> 1\n",
      "Very easy to use. Prediction=> 1\n",
      "STEAMBOAT WILLIE is an amazingly important film to our cinema history.   Prediction=> 1\n",
      "Very happy with this product. Prediction=> 1\n",
      "Im in AZ all the time and now have my new spot. Prediction=> 1\n",
      "The food came out at a good pace. Prediction=> 1\n",
      "this place is good. Prediction=> 1\n",
      "Works great. Prediction=> 1\n",
      "Don't miss it.   Prediction=> 0\n",
      "Now I know that I made a wise decision. Prediction=> 0\n",
      "If this premise sound stupid, that's because it is.   Prediction=> 0\n",
      "The majority of the Logitech earbud headsets failed. Prediction=> 0\n",
      "Funny, clever, hip - just like Pray's previous film, Hype!   Prediction=> 1\n",
      "The only good thing was our waiter, he was very helpful and kept the bloddy mary's coming. Prediction=> 0\n",
      "By this point, my friends and I had basically figured out this place was a joke and didn't mind making it publicly and loudly known. Prediction=> 0\n",
      "Car charger as well as AC charger are included to make sure you never run out of juice.Highy recommended Prediction=> 0\n",
      "There was a warm feeling with the service and I felt like their guest for a special treat. Prediction=> 0\n",
      "I know this is not like the other restaurants at all, something is very off here! Prediction=> 0\n",
      "Wonderful lil tapas and the ambience made me feel all warm and fuzzy inside. Prediction=> 1\n",
      "The restaurant atmosphere was exquisite. Prediction=> 0\n",
      "Not a good bargain. Prediction=> 1\n",
      "But \"Tiny Toons\" kept the 90's vibe and delivered one of the most popular, funny, and underrated cartoons ever created.   Prediction=> 1\n",
      "awesome device. Prediction=> 1\n",
      "Regardless, the film fails on most levels.   Prediction=> 0\n",
      "The burger had absolutely no flavor - the meat itself was totally bland, the burger was overcooked and there was no charcoal flavor. Prediction=> 0\n",
      "Speaking of the music, it is unbearably predictably and kitchy.   Prediction=> 0\n",
      "It works great with a car charger, especially if you cannot plug in two adapters at the same time. Prediction=> 1\n",
      "The chains, which I'm no fan of, beat this place easily. Prediction=> 1\n",
      "Once you get inside you'll be impressed with the place. Prediction=> 0\n",
      "This place is a jewel in Las Vegas, and exactly what I've been hoping to find in nearly ten years living here. Prediction=> 1\n",
      "This item is great, installed it, let it charged up overnite and it has been working good every since with no problems Prediction=> 1\n"
     ]
    }
   ],
   "source": [
    "# Prediction Results\n",
    "# 1 = Positive review\n",
    "# 0 = Negative review\n",
    "for (sample,pred) in zip(X_test,sample_prediction):\n",
    "    print(sample,\"Prediction=>\",pred)"
   ]
  },
  {
   "cell_type": "markdown",
   "metadata": {
    "colab_type": "text",
    "id": "XbvCgAV5bZg5"
   },
   "source": [
    "Now we can evaluate the model using different metrics, so that we can look at the three main performance metrics:\n",
    "\n",
    "* **Accuracy**: refers to the percentage of the total predictions our model makes that are completely correct.\n",
    "* **Precision**: describes the ratio of true positives to true positives plus false positives in our predictions.\n",
    "* **Recall**: describes the ratio of true positives to true positives plus false negatives in our predictions.\n",
    "\n",
    "![alt text](https://upload.wikimedia.org/wikipedia/commons/thumb/2/26/Precisionrecall.svg/800px-Precisionrecall.svg.png)"
   ]
  },
  {
   "cell_type": "code",
   "execution_count": 63,
   "metadata": {
    "colab": {
     "base_uri": "https://localhost:8080/",
     "height": 68
    },
    "colab_type": "code",
    "id": "3BPT_w8M780x",
    "outputId": "4c7f42ae-b213-4c36-e753-ec3379954631"
   },
   "outputs": [
    {
     "name": "stdout",
     "output_type": "stream",
     "text": [
      "Accuracy: 0.7978142076502732\n",
      "Precision: 0.8215613382899628\n",
      "Recall: 0.778169014084507\n"
     ]
    }
   ],
   "source": [
    "from sklearn import metrics\n",
    "\n",
    "# Model Accuracy\n",
    "print(\"Accuracy:\",metrics.accuracy_score(y_test, sample_prediction))\n",
    "print(\"Precision:\",metrics.precision_score(y_test, sample_prediction))\n",
    "print(\"Recall:\",metrics.recall_score(y_test, sample_prediction))"
   ]
  },
  {
   "cell_type": "markdown",
   "metadata": {
    "colab_type": "text",
    "id": "IxVsPPracl4F"
   },
   "source": [
    "## Let's use our model!"
   ]
  },
  {
   "cell_type": "code",
   "execution_count": 64,
   "metadata": {
    "colab": {
     "base_uri": "https://localhost:8080/",
     "height": 34
    },
    "colab_type": "code",
    "id": "aPuRY1ZG9YRj",
    "outputId": "bf895cc2-4b3c-4f65-ba24-502328116e56"
   },
   "outputs": [
    {
     "data": {
      "text/plain": [
       "array([1])"
      ]
     },
     "execution_count": 64,
     "metadata": {
      "tags": []
     },
     "output_type": "execute_result"
    }
   ],
   "source": [
    "# Another random review\n",
    "pipe.predict([\"This was a great movie\"])"
   ]
  },
  {
   "cell_type": "code",
   "execution_count": 65,
   "metadata": {
    "colab": {
     "base_uri": "https://localhost:8080/",
     "height": 34
    },
    "colab_type": "code",
    "id": "MqEiLfeO9q6e",
    "outputId": "9548ca20-5eb9-44b7-a6f4-c6060d4a7a90"
   },
   "outputs": [
    {
     "data": {
      "text/plain": [
       "array([1, 0, 1, 0])"
      ]
     },
     "execution_count": 65,
     "metadata": {
      "tags": []
     },
     "output_type": "execute_result"
    }
   ],
   "source": [
    "example = [\"I do enjoy my job\",\n",
    " \"What a poor product!,I will have to get a new one\",\n",
    " \"I feel amazing!\",\n",
    " \"This class sucks\"]\n",
    "\n",
    "pipe.predict(example)"
   ]
  },
  {
   "cell_type": "markdown",
   "metadata": {
    "colab_type": "text",
    "id": "Co9gND7o91Xo"
   },
   "source": [
    "# Your turn\n",
    "\n",
    "Compare results with another approach:\n",
    "\n",
    "*   Try another vectorizer\n",
    "*   Try another train/test split\n",
    "*   Try another algorithm\n",
    "*   Try changing the parameters of the algorithm (more on that in class)\n",
    "*   If you feel hardcore: try [another dataset](https://lionbridge.ai/datasets/15-free-sentiment-analysis-datasets-for-machine-learning/)\n",
    "\n"
   ]
  },
  {
   "cell_type": "code",
   "execution_count": 0,
   "metadata": {
    "colab": {},
    "colab_type": "code",
    "id": "OqhvJmYjdNL8"
   },
   "outputs": [],
   "source": []
  }
 ],
 "metadata": {
  "accelerator": "GPU",
  "colab": {
   "collapsed_sections": [],
   "machine_shape": "hm",
   "name": "10_Text_classification_and_Sentiment_analysis.ipynb",
   "provenance": []
  },
  "kernelspec": {
   "display_name": "Python 3",
   "language": "python",
   "name": "python3"
  },
  "language_info": {
   "codemirror_mode": {
    "name": "ipython",
    "version": 3
   },
   "file_extension": ".py",
   "mimetype": "text/x-python",
   "name": "python",
   "nbconvert_exporter": "python",
   "pygments_lexer": "ipython3",
   "version": "3.6.7"
  }
 },
 "nbformat": 4,
 "nbformat_minor": 1
}
