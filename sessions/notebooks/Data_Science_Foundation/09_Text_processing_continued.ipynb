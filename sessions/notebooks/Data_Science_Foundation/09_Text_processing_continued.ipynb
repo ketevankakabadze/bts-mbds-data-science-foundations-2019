{
 "cells": [
  {
   "cell_type": "markdown",
   "metadata": {
    "colab_type": "text",
    "id": "_a2hajcA99-K"
   },
   "source": [
    "![BTS](https://github.com/vfp1/bts-mbds-data-science-foundations-2019/blob/master/sessions/img/Logo-BTS.jpg?raw=1)\n",
    "\n",
    "# Session 9: Text processing continued\n",
    "\n",
    "### Victor F. Pajuelo Madrigal <victor.pajuelo@bts.tech> - Data Science Foundations (2019-11-05)\n",
    "\n",
    "Open this notebook in Google Colaboratory: [![Open in Colab](https://colab.research.google.com/assets/colab-badge.svg)](https://colab.research.google.com/github/vfp1/bts-mbds-data-science-foundations-2019/blob/master/sessions/09_Text_processing_continued.ipynb)\n",
    "\n",
    "**Resources:**\n"
   ]
  },
  {
   "cell_type": "markdown",
   "metadata": {
    "colab_type": "text",
    "id": "DTIcPknwQz5z"
   },
   "source": [
    "# Spacy installation\n",
    "\n",
    "```\n",
    "$ conda activate bts36\n",
    "$ conda install -c conda-forge spacy\n",
    "```\n",
    "\n"
   ]
  },
  {
   "cell_type": "markdown",
   "metadata": {
    "colab_type": "text",
    "id": "Oabpc-xuVxAQ"
   },
   "source": [
    "# Spacy introduction"
   ]
  },
  {
   "cell_type": "markdown",
   "metadata": {
    "colab_type": "text",
    "id": "2QHBivImfOvp"
   },
   "source": [
    "## Import language models \n",
    "\n",
    "\n",
    "\n",
    "```\n",
    "$ python -m spacy download en_core_web_sm\n",
    "$ python -m spacy download en\n",
    "```\n",
    "\n"
   ]
  },
  {
   "cell_type": "code",
   "execution_count": 1,
   "metadata": {
    "colab": {
     "base_uri": "https://localhost:8080/",
     "height": 241
    },
    "colab_type": "code",
    "id": "nPv81PAORYB7",
    "outputId": "e2789e3c-8183-4124-de72-e4c385637ced"
   },
   "outputs": [
    {
     "name": "stdout",
     "output_type": "stream",
     "text": [
      "Collecting en_core_web_lg==2.2.0 from https://github.com/explosion/spacy-models/releases/download/en_core_web_lg-2.2.0/en_core_web_lg-2.2.0.tar.gz#egg=en_core_web_lg==2.2.0\n",
      "\u001b[?25l  Downloading https://github.com/explosion/spacy-models/releases/download/en_core_web_lg-2.2.0/en_core_web_lg-2.2.0.tar.gz (827.9MB)\n",
      "\u001b[K     |████████████████████████████████| 827.9MB 7.2MB/s eta 0:00:011    |██████                          | 154.3MB 3.6MB/s eta 0:03:09     |███████▏                        | 185.6MB 10.8MB/s eta 0:01:00     |█████████                       | 233.5MB 3.5MB/s eta 0:02:51     |█████████                       | 234.6MB 3.5MB/s eta 0:02:51     |█████████▏                      | 237.2MB 8.6MB/s eta 0:01:09     |██████████                      | 257.6MB 5.8MB/s eta 0:01:38     |████████████                    | 311.5MB 11.9MB/s eta 0:00:44     |██████████████████▉             | 486.8MB 12.8MB/s eta 0:00:27     |███████████████████▍            | 501.5MB 8.5MB/s eta 0:00:39     |███████████████████▊            | 509.3MB 8.4MB/s eta 0:00:38     |████████████████████▎           | 524.2MB 10.6MB/s eta 0:00:29     |██████████████████████▎         | 576.8MB 10.9MB/s eta 0:00:24     |██████████████████████▋         | 584.0MB 12.4MB/s eta 0:00:20     |████████████████████████        | 621.8MB 9.3MB/s eta 0:00:23     |███████████████████████████     | 697.7MB 10.0MB/s eta 0:00:14     |███████████████████████████▏    | 702.6MB 5.4MB/s eta 0:00:24     |████████████████████████████    | 724.5MB 15.1MB/s eta 0:00:07     |███████████████████████████████▋| 819.1MB 10.5MB/s eta 0:00:01\n",
      "\u001b[?25hRequirement already satisfied: spacy>=2.2.0 in /Users/ketevani/anaconda3/envs/bts36/lib/python3.6/site-packages (from en_core_web_lg==2.2.0) (2.2.1)\n",
      "Requirement already satisfied: blis<0.5.0,>=0.4.0 in /Users/ketevani/anaconda3/envs/bts36/lib/python3.6/site-packages (from spacy>=2.2.0->en_core_web_lg==2.2.0) (0.4.1)\n",
      "Requirement already satisfied: wasabi<1.1.0,>=0.2.0 in /Users/ketevani/anaconda3/envs/bts36/lib/python3.6/site-packages (from spacy>=2.2.0->en_core_web_lg==2.2.0) (0.2.2)\n",
      "Requirement already satisfied: requests<3.0.0,>=2.13.0 in /Users/ketevani/anaconda3/envs/bts36/lib/python3.6/site-packages (from spacy>=2.2.0->en_core_web_lg==2.2.0) (2.22.0)\n",
      "Requirement already satisfied: plac<1.0.0,>=0.9.6 in /Users/ketevani/anaconda3/envs/bts36/lib/python3.6/site-packages (from spacy>=2.2.0->en_core_web_lg==2.2.0) (0.9.6)\n",
      "Requirement already satisfied: numpy>=1.15.0 in /Users/ketevani/anaconda3/envs/bts36/lib/python3.6/site-packages (from spacy>=2.2.0->en_core_web_lg==2.2.0) (1.17.2)\n",
      "Requirement already satisfied: srsly<1.1.0,>=0.1.0 in /Users/ketevani/anaconda3/envs/bts36/lib/python3.6/site-packages (from spacy>=2.2.0->en_core_web_lg==2.2.0) (0.1.0)\n",
      "Requirement already satisfied: preshed<3.1.0,>=3.0.2 in /Users/ketevani/anaconda3/envs/bts36/lib/python3.6/site-packages (from spacy>=2.2.0->en_core_web_lg==2.2.0) (3.0.2)\n",
      "Requirement already satisfied: murmurhash<1.1.0,>=0.28.0 in /Users/ketevani/anaconda3/envs/bts36/lib/python3.6/site-packages (from spacy>=2.2.0->en_core_web_lg==2.2.0) (1.0.0)\n",
      "Requirement already satisfied: cymem<2.1.0,>=2.0.2 in /Users/ketevani/anaconda3/envs/bts36/lib/python3.6/site-packages (from spacy>=2.2.0->en_core_web_lg==2.2.0) (2.0.2)\n",
      "Requirement already satisfied: thinc<7.2.0,>=7.1.1 in /Users/ketevani/anaconda3/envs/bts36/lib/python3.6/site-packages (from spacy>=2.2.0->en_core_web_lg==2.2.0) (7.1.1)\n",
      "Requirement already satisfied: urllib3!=1.25.0,!=1.25.1,<1.26,>=1.21.1 in /Users/ketevani/anaconda3/envs/bts36/lib/python3.6/site-packages (from requests<3.0.0,>=2.13.0->spacy>=2.2.0->en_core_web_lg==2.2.0) (1.25.6)\n",
      "Requirement already satisfied: idna<2.9,>=2.5 in /Users/ketevani/anaconda3/envs/bts36/lib/python3.6/site-packages (from requests<3.0.0,>=2.13.0->spacy>=2.2.0->en_core_web_lg==2.2.0) (2.8)\n",
      "Requirement already satisfied: chardet<3.1.0,>=3.0.2 in /Users/ketevani/anaconda3/envs/bts36/lib/python3.6/site-packages (from requests<3.0.0,>=2.13.0->spacy>=2.2.0->en_core_web_lg==2.2.0) (3.0.4)\n",
      "Requirement already satisfied: certifi>=2017.4.17 in /Users/ketevani/anaconda3/envs/bts36/lib/python3.6/site-packages (from requests<3.0.0,>=2.13.0->spacy>=2.2.0->en_core_web_lg==2.2.0) (2019.9.11)\n",
      "Requirement already satisfied: tqdm<5.0.0,>=4.10.0 in /Users/ketevani/anaconda3/envs/bts36/lib/python3.6/site-packages (from thinc<7.2.0,>=7.1.1->spacy>=2.2.0->en_core_web_lg==2.2.0) (4.36.1)\n",
      "Building wheels for collected packages: en-core-web-lg\n",
      "  Building wheel for en-core-web-lg (setup.py) ... \u001b[?25ldone\n",
      "\u001b[?25h  Created wheel for en-core-web-lg: filename=en_core_web_lg-2.2.0-cp36-none-any.whl size=829187831 sha256=eb81057f526fb2a5fc40d5a01d904811bf3dd6946069e6306abcbe84825546e8\n",
      "  Stored in directory: /private/var/folders/j6/5blt522j2jv_xjbmwkjbx_pc0000gn/T/pip-ephem-wheel-cache-la_7vlmg/wheels/9f/3c/d6/3ade7ed8195030f4d7f299cf73d856a84d7b3effd5890133fb\n",
      "Successfully built en-core-web-lg\n",
      "Installing collected packages: en-core-web-lg\n",
      "Successfully installed en-core-web-lg-2.2.0\n",
      "\u001b[38;5;2m✔ Download and installation successful\u001b[0m\n",
      "You can now load the model via spacy.load('en_core_web_lg')\n"
     ]
    }
   ],
   "source": [
    "!python -m spacy download en_core_web_lg"
   ]
  },
  {
   "cell_type": "code",
   "execution_count": 2,
   "metadata": {
    "colab": {
     "base_uri": "https://localhost:8080/",
     "height": 161
    },
    "colab_type": "code",
    "id": "8mQRg-8jfzDI",
    "outputId": "77fb2e93-b889-4a62-8e3a-437e86ea212e"
   },
   "outputs": [
    {
     "name": "stdout",
     "output_type": "stream",
     "text": [
      "Requirement already satisfied: en_core_web_sm==2.2.0 from https://github.com/explosion/spacy-models/releases/download/en_core_web_sm-2.2.0/en_core_web_sm-2.2.0.tar.gz#egg=en_core_web_sm==2.2.0 in /Users/ketevani/anaconda3/envs/bts36/lib/python3.6/site-packages (2.2.0)\n",
      "Requirement already satisfied: spacy>=2.2.0 in /Users/ketevani/anaconda3/envs/bts36/lib/python3.6/site-packages (from en_core_web_sm==2.2.0) (2.2.1)\n",
      "Requirement already satisfied: numpy>=1.15.0 in /Users/ketevani/anaconda3/envs/bts36/lib/python3.6/site-packages (from spacy>=2.2.0->en_core_web_sm==2.2.0) (1.17.2)\n",
      "Requirement already satisfied: requests<3.0.0,>=2.13.0 in /Users/ketevani/anaconda3/envs/bts36/lib/python3.6/site-packages (from spacy>=2.2.0->en_core_web_sm==2.2.0) (2.22.0)\n",
      "Requirement already satisfied: plac<1.0.0,>=0.9.6 in /Users/ketevani/anaconda3/envs/bts36/lib/python3.6/site-packages (from spacy>=2.2.0->en_core_web_sm==2.2.0) (0.9.6)\n",
      "Requirement already satisfied: cymem<2.1.0,>=2.0.2 in /Users/ketevani/anaconda3/envs/bts36/lib/python3.6/site-packages (from spacy>=2.2.0->en_core_web_sm==2.2.0) (2.0.2)\n",
      "Requirement already satisfied: thinc<7.2.0,>=7.1.1 in /Users/ketevani/anaconda3/envs/bts36/lib/python3.6/site-packages (from spacy>=2.2.0->en_core_web_sm==2.2.0) (7.1.1)\n",
      "Requirement already satisfied: preshed<3.1.0,>=3.0.2 in /Users/ketevani/anaconda3/envs/bts36/lib/python3.6/site-packages (from spacy>=2.2.0->en_core_web_sm==2.2.0) (3.0.2)\n",
      "Requirement already satisfied: blis<0.5.0,>=0.4.0 in /Users/ketevani/anaconda3/envs/bts36/lib/python3.6/site-packages (from spacy>=2.2.0->en_core_web_sm==2.2.0) (0.4.1)\n",
      "Requirement already satisfied: murmurhash<1.1.0,>=0.28.0 in /Users/ketevani/anaconda3/envs/bts36/lib/python3.6/site-packages (from spacy>=2.2.0->en_core_web_sm==2.2.0) (1.0.0)\n",
      "Requirement already satisfied: srsly<1.1.0,>=0.1.0 in /Users/ketevani/anaconda3/envs/bts36/lib/python3.6/site-packages (from spacy>=2.2.0->en_core_web_sm==2.2.0) (0.1.0)\n",
      "Requirement already satisfied: wasabi<1.1.0,>=0.2.0 in /Users/ketevani/anaconda3/envs/bts36/lib/python3.6/site-packages (from spacy>=2.2.0->en_core_web_sm==2.2.0) (0.2.2)\n",
      "Requirement already satisfied: chardet<3.1.0,>=3.0.2 in /Users/ketevani/anaconda3/envs/bts36/lib/python3.6/site-packages (from requests<3.0.0,>=2.13.0->spacy>=2.2.0->en_core_web_sm==2.2.0) (3.0.4)\n",
      "Requirement already satisfied: certifi>=2017.4.17 in /Users/ketevani/anaconda3/envs/bts36/lib/python3.6/site-packages (from requests<3.0.0,>=2.13.0->spacy>=2.2.0->en_core_web_sm==2.2.0) (2019.9.11)\n",
      "Requirement already satisfied: idna<2.9,>=2.5 in /Users/ketevani/anaconda3/envs/bts36/lib/python3.6/site-packages (from requests<3.0.0,>=2.13.0->spacy>=2.2.0->en_core_web_sm==2.2.0) (2.8)\n",
      "Requirement already satisfied: urllib3!=1.25.0,!=1.25.1,<1.26,>=1.21.1 in /Users/ketevani/anaconda3/envs/bts36/lib/python3.6/site-packages (from requests<3.0.0,>=2.13.0->spacy>=2.2.0->en_core_web_sm==2.2.0) (1.25.6)\n",
      "Requirement already satisfied: tqdm<5.0.0,>=4.10.0 in /Users/ketevani/anaconda3/envs/bts36/lib/python3.6/site-packages (from thinc<7.2.0,>=7.1.1->spacy>=2.2.0->en_core_web_sm==2.2.0) (4.36.1)\n",
      "\u001b[38;5;2m✔ Download and installation successful\u001b[0m\n",
      "You can now load the model via spacy.load('en_core_web_sm')\n",
      "\u001b[38;5;2m✔ Linking successful\u001b[0m\n",
      "/Users/ketevani/anaconda3/envs/bts36/lib/python3.6/site-packages/en_core_web_sm\n",
      "-->\n",
      "/Users/ketevani/anaconda3/envs/bts36/lib/python3.6/site-packages/spacy/data/en\n",
      "You can now load the model via spacy.load('en')\n"
     ]
    }
   ],
   "source": [
    "!python -m spacy download en"
   ]
  },
  {
   "cell_type": "markdown",
   "metadata": {
    "colab_type": "text",
    "id": "UmwJHdwEU4uM"
   },
   "source": [
    "Once the model is downloaded and installed, we can load it as follows:"
   ]
  },
  {
   "cell_type": "code",
   "execution_count": 3,
   "metadata": {
    "colab": {},
    "colab_type": "code",
    "id": "IuuFgOdRRWif"
   },
   "outputs": [],
   "source": [
    "import spacy\n",
    "nlp = spacy.load(\"en_core_web_sm\")"
   ]
  },
  {
   "cell_type": "markdown",
   "metadata": {
    "colab_type": "text",
    "id": "pgVUba0w6x-c"
   },
   "source": [
    "# Hands on: practical examples"
   ]
  },
  {
   "cell_type": "markdown",
   "metadata": {
    "colab_type": "text",
    "id": "KQJAS9b67KIB"
   },
   "source": [
    "## Word frequency\n",
    "\n",
    "We can compute the word frequency on a text using spaCy. Within the Holy Grail dataset, lets:\n",
    "\n",
    "\n",
    "\n",
    "*   Let's find the 5 most common nouns\n",
    "*   Let's find the 20 most common lemmas that are not stopwords\n",
    "\n"
   ]
  },
  {
   "cell_type": "markdown",
   "metadata": {
    "colab_type": "text",
    "id": "q5ltWhKMGdbM"
   },
   "source": [
    "### Find the 5 most common nouns"
   ]
  },
  {
   "cell_type": "code",
   "execution_count": 24,
   "metadata": {
    "colab": {
     "base_uri": "https://localhost:8080/",
     "height": 232
    },
    "colab_type": "code",
    "id": "uZ3zlWUS602k",
    "outputId": "bfb1da4e-ab53-4aeb-af5a-05ecb942ea88"
   },
   "outputs": [
    {
     "ename": "SyntaxError",
     "evalue": "invalid syntax (<ipython-input-24-cbc2118b7dc3>, line 1)",
     "output_type": "error",
     "traceback": [
      "\u001b[0;36m  File \u001b[0;32m\"<ipython-input-24-cbc2118b7dc3>\"\u001b[0;36m, line \u001b[0;32m1\u001b[0m\n\u001b[0;31m    wget 'https://raw.githubusercontent.com/vfp1/bts-mbds-data-science-foundations-2019/master/sessions/data/holy_grail.txt'\u001b[0m\n\u001b[0m                                                                                                                           ^\u001b[0m\n\u001b[0;31mSyntaxError\u001b[0m\u001b[0;31m:\u001b[0m invalid syntax\n"
     ]
    }
   ],
   "source": [
    "wget 'https://raw.githubusercontent.com/vfp1/bts-mbds-data-science-foundations-2019/master/sessions/data/holy_grail.txt'"
   ]
  },
  {
   "cell_type": "code",
   "execution_count": 5,
   "metadata": {
    "colab": {},
    "colab_type": "code",
    "id": "A8ETiMYyBkqo"
   },
   "outputs": [],
   "source": [
    "import spacy\n",
    "\n",
    "nlp = spacy.load(\"en\")\n",
    "\n",
    "holy_grail = nlp(open('holy_grail.txt', 'r').read())"
   ]
  },
  {
   "cell_type": "code",
   "execution_count": 6,
   "metadata": {
    "colab": {},
    "colab_type": "code",
    "id": "LMsQCxazDBe-"
   },
   "outputs": [],
   "source": [
    "from collections import Counter\n",
    "from spacy.lang.en.stop_words import STOP_WORDS\n",
    "\n",
    "char_counter = Counter()\n",
    "\n",
    "for token in holy_grail:\n",
    "    if token.pos_ == 'NOUN' and token.text not in STOP_WORDS and token.text != '#':\n",
    "        char_counter[token.text] += 1"
   ]
  },
  {
   "cell_type": "code",
   "execution_count": 7,
   "metadata": {
    "colab": {
     "base_uri": "https://localhost:8080/",
     "height": 35
    },
    "colab_type": "code",
    "id": "2ryIDsxuDONW",
    "outputId": "b663bb51-8bcd-4a6d-a9f8-6e27abefb711"
   },
   "outputs": [
    {
     "data": {
      "text/plain": [
       "[('boom', 42), ('witch', 37), ('music', 29), ('clop', 26), ('singing', 26)]"
      ]
     },
     "execution_count": 7,
     "metadata": {},
     "output_type": "execute_result"
    }
   ],
   "source": [
    "char_counter.most_common(5)"
   ]
  },
  {
   "cell_type": "markdown",
   "metadata": {
    "colab_type": "text",
    "id": "hdz3FWI9Gi79"
   },
   "source": [
    "### Find the 20 most common lemmas that are not stopwords"
   ]
  },
  {
   "cell_type": "code",
   "execution_count": 8,
   "metadata": {
    "colab": {},
    "colab_type": "code",
    "id": "NIXHe3iCGxMx"
   },
   "outputs": [],
   "source": [
    "from collections import Counter\n",
    "from spacy.lang.en.stop_words import STOP_WORDS\n",
    "\n",
    "lemmas = Counter()\n",
    "\n",
    "for token in holy_grail:\n",
    "    if token.pos_ != 'PROPN' and not token.is_punct and not token.is_digit and not token.is_space and token.lower_ not in STOP_WORDS:\n",
    "        lemmas[token.lemma_] += 1"
   ]
  },
  {
   "cell_type": "code",
   "execution_count": 9,
   "metadata": {
    "colab": {
     "base_uri": "https://localhost:8080/",
     "height": 371
    },
    "colab_type": "code",
    "id": "yAn8t5kKHRMB",
    "outputId": "8f61f018-f5ee-4b5f-f387-243b78116158"
   },
   "outputs": [
    {
     "data": {
      "text/plain": [
       "[('oh', 110),\n",
       " ('ha', 59),\n",
       " ('right', 55),\n",
       " ('yes', 53),\n",
       " ('come', 46),\n",
       " ('boom', 42),\n",
       " ('witch', 41),\n",
       " ('clop', 39),\n",
       " ('burn', 39),\n",
       " ('away', 38),\n",
       " ('look', 37),\n",
       " ('stop', 35),\n",
       " ('uh', 33),\n",
       " ('get', 30),\n",
       " ('tell', 30),\n",
       " ('music', 29),\n",
       " ('dead', 28),\n",
       " ('run', 28),\n",
       " ('squeak', 28),\n",
       " ('go', 27)]"
      ]
     },
     "execution_count": 9,
     "metadata": {},
     "output_type": "execute_result"
    }
   ],
   "source": [
    "counts = Counter(lemmas)\n",
    "counts.most_common(20)"
   ]
  },
  {
   "cell_type": "markdown",
   "metadata": {
    "colab_type": "text",
    "id": "rRRSwVjpJXxF"
   },
   "source": [
    "### Your turn\n",
    "\n",
    "* Let's find the 5 most common verbs\n",
    "* Let's find the 5 most common personal names\n",
    "* Let's find the 20 most common lemmas that are not stopwords, not numbers and not personal names\n",
    "* What happens? Why some strange character appears? Next session we will learn how to filter through those to create cool t-SNE graphs"
   ]
  },
  {
   "cell_type": "markdown",
   "metadata": {
    "colab_type": "text",
    "id": "8_xXkO_b7WrG"
   },
   "source": [
    "## Dispersion plots\n",
    "\n",
    "1. Load the `holy_grail.txt` dataset and create a dictionary of names and indexes like `{\"NAME\": [1, 2, 5, 10, ...]}` to store when does each proper noun appear among the 5 most frequent ones.\n",
    "2. Visualize the appearances of the character that is named the most.\n",
    "3. Visualize in the same graph the appearances of the top 5 characters to compare them."
   ]
  },
  {
   "cell_type": "code",
   "execution_count": 10,
   "metadata": {
    "colab": {},
    "colab_type": "code",
    "id": "Jma_xH1s7YD0"
   },
   "outputs": [],
   "source": [
    "from spacy import load\n",
    "\n",
    "nlp = load(\"en\")"
   ]
  },
  {
   "cell_type": "code",
   "execution_count": 11,
   "metadata": {
    "colab": {},
    "colab_type": "code",
    "id": "lY3hpd3VIIDb"
   },
   "outputs": [],
   "source": [
    "holy_grail = nlp(open(\"holy_grail.txt\", 'r').read())"
   ]
  },
  {
   "cell_type": "code",
   "execution_count": 12,
   "metadata": {
    "colab": {},
    "colab_type": "code",
    "id": "lcUhtPg3KMYa"
   },
   "outputs": [],
   "source": [
    "from collections import Counter\n",
    "\n",
    "char_counter = Counter()\n",
    "\n",
    "for token in holy_grail:\n",
    "    if token.pos_ == 'PROPN':\n",
    "        char_counter[token.text] += 1"
   ]
  },
  {
   "cell_type": "code",
   "execution_count": 13,
   "metadata": {
    "colab": {
     "base_uri": "https://localhost:8080/",
     "height": 35
    },
    "colab_type": "code",
    "id": "FQLta8KLKQhc",
    "outputId": "0a9df282-adbb-4d2e-d1ae-b551beaf2cbf"
   },
   "outputs": [
    {
     "data": {
      "text/plain": [
       "[('ARTHUR', 225),\n",
       " ('LAUNCELOT', 76),\n",
       " ('KNIGHT', 66),\n",
       " ('GALAHAD', 64),\n",
       " ('FATHER', 62)]"
      ]
     },
     "execution_count": 13,
     "metadata": {},
     "output_type": "execute_result"
    }
   ],
   "source": [
    "char_counter.most_common(5)"
   ]
  },
  {
   "cell_type": "markdown",
   "metadata": {
    "colab_type": "text",
    "id": "gZSZrhV_ML2C"
   },
   "source": [
    "We get Sir or HEAD within the characters, actually HEAD is a character, but Sir is not, let's change that using a `special case`, instead of the longer and ardous task of training."
   ]
  },
  {
   "cell_type": "code",
   "execution_count": 14,
   "metadata": {
    "colab": {},
    "colab_type": "code",
    "id": "_Mpqv-9tMeUu"
   },
   "outputs": [],
   "source": [
    "import spacy\n",
    "\n",
    "from spacy.symbols import ORTH, POS, NOUN, VERB, TAG\n",
    "\n",
    "nlp_modified = spacy.load('en')\n",
    "nlp_modified.tokenizer.add_special_case('Sir', [{ORTH: 'Sir', POS: NOUN, TAG: NOUN}])\n",
    "nlp_modified.tokenizer.add_special_case('Grail', [{ORTH: 'Grail', POS: NOUN, TAG: NOUN}])\n",
    "#nlp_modified.tokenizer.add_special_case('BLACK', [{ORTH: 'BLACK', POS: NOUN, TAG: NOUN}])"
   ]
  },
  {
   "cell_type": "markdown",
   "metadata": {
    "colab_type": "text",
    "id": "SjikAIe0Mtmy"
   },
   "source": [
    "Let's try it again"
   ]
  },
  {
   "cell_type": "code",
   "execution_count": 15,
   "metadata": {
    "colab": {},
    "colab_type": "code",
    "id": "7eu6fFJRM9nB"
   },
   "outputs": [],
   "source": [
    "holy_grail2 = nlp_modified(open(\"holy_grail.txt\", 'r').read())"
   ]
  },
  {
   "cell_type": "code",
   "execution_count": 16,
   "metadata": {
    "colab": {},
    "colab_type": "code",
    "id": "xCaMiq2lMxUm"
   },
   "outputs": [],
   "source": [
    "from collections import Counter\n",
    "\n",
    "char_counter2 = Counter()\n",
    "\n",
    "for token in holy_grail2:\n",
    "    if token.pos_ == 'PROPN':\n",
    "        char_counter2[token.text] += 1"
   ]
  },
  {
   "cell_type": "code",
   "execution_count": 17,
   "metadata": {
    "colab": {
     "base_uri": "https://localhost:8080/",
     "height": 35
    },
    "colab_type": "code",
    "id": "ERH8zzWgMzI6",
    "outputId": "a99dc6b2-ff86-40e6-d322-f964f5e29e14"
   },
   "outputs": [
    {
     "data": {
      "text/plain": [
       "[('ARTHUR', 225),\n",
       " ('LAUNCELOT', 76),\n",
       " ('KNIGHT', 66),\n",
       " ('GALAHAD', 64),\n",
       " ('FATHER', 62)]"
      ]
     },
     "execution_count": 17,
     "metadata": {},
     "output_type": "execute_result"
    }
   ],
   "source": [
    "char_counter2.most_common(5)"
   ]
  },
  {
   "cell_type": "markdown",
   "metadata": {
    "colab_type": "text",
    "id": "BDL1Cl_wRpMB"
   },
   "source": [
    "### Visualize the most"
   ]
  },
  {
   "cell_type": "code",
   "execution_count": 18,
   "metadata": {
    "colab": {
     "base_uri": "https://localhost:8080/",
     "height": 35
    },
    "colab_type": "code",
    "id": "lH8gjzkYRtOp",
    "outputId": "696e93af-8cc2-47a7-bcdc-779ba60322e9"
   },
   "outputs": [
    {
     "data": {
      "text/plain": [
       "[('ARTHUR', 225)]"
      ]
     },
     "execution_count": 18,
     "metadata": {},
     "output_type": "execute_result"
    }
   ],
   "source": [
    "char_counter2.most_common(1)"
   ]
  },
  {
   "cell_type": "code",
   "execution_count": 19,
   "metadata": {
    "colab": {},
    "colab_type": "code",
    "id": "6Ceu5EvnKQ5-"
   },
   "outputs": [],
   "source": [
    "names, _ = zip(*char_counter2.most_common(1))"
   ]
  },
  {
   "cell_type": "code",
   "execution_count": 20,
   "metadata": {
    "colab": {},
    "colab_type": "code",
    "id": "IS94mXKWPh0t"
   },
   "outputs": [],
   "source": [
    "from collections import defaultdict\n",
    "\n",
    "import matplotlib.pyplot as plt"
   ]
  },
  {
   "cell_type": "code",
   "execution_count": 21,
   "metadata": {
    "colab": {},
    "colab_type": "code",
    "id": "xAu-X9I1RHLt"
   },
   "outputs": [],
   "source": [
    "indexes = defaultdict(list)\n",
    "\n",
    "for token in holy_grail2:\n",
    "    if token.text in names:\n",
    "        indexes[token.text].append(token.i)"
   ]
  },
  {
   "cell_type": "code",
   "execution_count": 22,
   "metadata": {
    "colab": {
     "base_uri": "https://localhost:8080/",
     "height": 312
    },
    "colab_type": "code",
    "id": "Ie9U4y2uRKa2",
    "outputId": "600fe371-be30-473f-9142-62a9cd32f2ef"
   },
   "outputs": [
    {
     "ename": "NameError",
     "evalue": "name 'name' is not defined",
     "output_type": "error",
     "traceback": [
      "\u001b[0;31m---------------------------------------------------------------------------\u001b[0m",
      "\u001b[0;31mNameError\u001b[0m                                 Traceback (most recent call last)",
      "\u001b[0;32m<ipython-input-22-2e6d01a0af4f>\u001b[0m in \u001b[0;36m<module>\u001b[0;34m\u001b[0m\n\u001b[1;32m      1\u001b[0m \u001b[0mfig\u001b[0m\u001b[0;34m,\u001b[0m \u001b[0maxes\u001b[0m \u001b[0;34m=\u001b[0m \u001b[0mplt\u001b[0m\u001b[0;34m.\u001b[0m\u001b[0msubplots\u001b[0m\u001b[0;34m(\u001b[0m\u001b[0;34m)\u001b[0m\u001b[0;34m\u001b[0m\u001b[0;34m\u001b[0m\u001b[0m\n\u001b[1;32m      2\u001b[0m \u001b[0;34m\u001b[0m\u001b[0m\n\u001b[0;32m----> 3\u001b[0;31m \u001b[0maxes\u001b[0m\u001b[0;34m.\u001b[0m\u001b[0meventplot\u001b[0m\u001b[0;34m(\u001b[0m\u001b[0mindexes\u001b[0m\u001b[0;34m[\u001b[0m\u001b[0mname\u001b[0m\u001b[0;34m]\u001b[0m\u001b[0;34m,\u001b[0m \u001b[0mlabel\u001b[0m\u001b[0;34m=\u001b[0m\u001b[0mname\u001b[0m\u001b[0;34m)\u001b[0m\u001b[0;34m\u001b[0m\u001b[0;34m\u001b[0m\u001b[0m\n\u001b[0m\u001b[1;32m      4\u001b[0m \u001b[0maxes\u001b[0m\u001b[0;34m.\u001b[0m\u001b[0mget_yaxis\u001b[0m\u001b[0;34m(\u001b[0m\u001b[0;34m)\u001b[0m\u001b[0;34m.\u001b[0m\u001b[0mset_visible\u001b[0m\u001b[0;34m(\u001b[0m\u001b[0;32mFalse\u001b[0m\u001b[0;34m)\u001b[0m\u001b[0;34m\u001b[0m\u001b[0;34m\u001b[0m\u001b[0m\n\u001b[1;32m      5\u001b[0m \u001b[0;34m\u001b[0m\u001b[0m\n",
      "\u001b[0;31mNameError\u001b[0m: name 'name' is not defined"
     ]
    },
    {
     "data": {
      "image/png": "[encoded data removed]",
      "text/plain": [
       "<Figure size 432x288 with 1 Axes>"
      ]
     },
     "metadata": {
      "needs_background": "light"
     },
     "output_type": "display_data"
    }
   ],
   "source": [
    "fig, axes = plt.subplots()\n",
    "\n",
    "axes.eventplot(indexes[name], label=name)\n",
    "axes.get_yaxis().set_visible(False)\n",
    "\n",
    "fig.legend()"
   ]
  },
  {
   "cell_type": "markdown",
   "metadata": {
    "colab_type": "text",
    "id": "D0WqqmIiTHoY"
   },
   "source": [
    "### Visualize all"
   ]
  },
  {
   "cell_type": "code",
   "execution_count": null,
   "metadata": {
    "colab": {
     "base_uri": "https://localhost:8080/",
     "height": 35
    },
    "colab_type": "code",
    "id": "oNCam-CtTlAW",
    "outputId": "5349a411-f57c-4782-de8a-e64c9e0c2d3d"
   },
   "outputs": [],
   "source": [
    "char_counter2.most_common(5)"
   ]
  },
  {
   "cell_type": "code",
   "execution_count": null,
   "metadata": {
    "colab": {},
    "colab_type": "code",
    "id": "Uv63xSimTlAb"
   },
   "outputs": [],
   "source": [
    "names, _ = zip(*char_counter2.most_common(5))"
   ]
  },
  {
   "cell_type": "code",
   "execution_count": null,
   "metadata": {
    "colab": {
     "base_uri": "https://localhost:8080/",
     "height": 35
    },
    "colab_type": "code",
    "id": "CwwpqGVGl5iX",
    "outputId": "6af8d9a5-e29e-4bbb-8229-58d83faa4b73"
   },
   "outputs": [],
   "source": [
    "print(names, _)"
   ]
  },
  {
   "cell_type": "code",
   "execution_count": null,
   "metadata": {
    "colab": {},
    "colab_type": "code",
    "id": "ekEirwPqTlAe"
   },
   "outputs": [],
   "source": [
    "from collections import defaultdict\n",
    "\n",
    "import matplotlib.pyplot as plt"
   ]
  },
  {
   "cell_type": "code",
   "execution_count": null,
   "metadata": {
    "colab": {},
    "colab_type": "code",
    "id": "B_WuRbgYTlAg"
   },
   "outputs": [],
   "source": [
    "indexes = defaultdict(list)\n",
    "\n",
    "for token in holy_grail2:\n",
    "    if token.text in names:\n",
    "        print(token.i)\n",
    "        indexes[token.text].append(token.i)"
   ]
  },
  {
   "cell_type": "code",
   "execution_count": null,
   "metadata": {
    "colab": {
     "base_uri": "https://localhost:8080/",
     "height": 55
    },
    "colab_type": "code",
    "id": "jLVryFL4miHO",
    "outputId": "aaa293d5-a5d5-4745-e551-838609f106ab"
   },
   "outputs": [],
   "source": [
    "print(indexes)"
   ]
  },
  {
   "cell_type": "code",
   "execution_count": null,
   "metadata": {
    "colab": {
     "base_uri": "https://localhost:8080/",
     "height": 401
    },
    "colab_type": "code",
    "id": "yKL5yFmKTlAj",
    "outputId": "db0f4f3a-c6cd-4390-ba4d-4c31161992b1"
   },
   "outputs": [],
   "source": [
    "fig, axes = plt.subplots(5, sharex=True)\n",
    "\n",
    "for index, name in enumerate(names):\n",
    "    print(index)\n",
    "    axes[index].eventplot(indexes[name], label=name, color=\"C{}\".format(index))\n",
    "    axes[index].get_yaxis().set_visible(False)\n",
    "\n",
    "fig.legend()"
   ]
  },
  {
   "cell_type": "markdown",
   "metadata": {
    "colab_type": "text",
    "id": "WJTnDhDzUnAx"
   },
   "source": [
    "## Your turn:\n",
    "\n",
    "* Try to plot the NOUNS and clean the Doc whenever necessary adding special cases\n",
    "\n",
    "* Try the same exercise with [this file in the GitHub repo](https://github.com/vfp1/bts-mbds-data-science-foundations-2019/raw/master/sessions/data/pride_and_prejudice.txt)"
   ]
  },
  {
   "cell_type": "markdown",
   "metadata": {
    "colab_type": "text",
    "id": "1iV7NfDEGLru"
   },
   "source": [
    "# Text similarity\n",
    "\n",
    "Embedded words can be compared with each other based on the context, i.e. how far backwards the word embedding looks. \n",
    "\n",
    "In this case, we can pass a string of words and see how far appart their PCA components are:"
   ]
  },
  {
   "cell_type": "markdown",
   "metadata": {
    "colab_type": "text",
    "id": "NnYzRJwIZjpI"
   },
   "source": [
    "## Using PCA\n",
    "\n",
    "Principal component analysis (PCA) is a statistical procedure that uses an orthogonal transformation to convert a set of observations of possibly correlated variables (entities each of which takes on various numerical values) into a set of values of linearly uncorrelated variables called principal components. \n",
    "\n",
    "Source: Wikipedia"
   ]
  },
  {
   "cell_type": "code",
   "execution_count": 26,
   "metadata": {
    "colab": {},
    "colab_type": "code",
    "id": "Yi1SIWOoU81W"
   },
   "outputs": [],
   "source": [
    "import numpy as np\n",
    "import spacy\n",
    "from sklearn.decomposition import PCA\n",
    "\n",
    "# We load the language model\n",
    "nlp = spacy.load(\"en\")\n",
    "animals = \"plane dog cat hamster lion tiger elephant cheetah monkey gorilla antelope rabbit mouse rat zoo home pet fluffy wild domesticated\"\n",
    "\n",
    "# Pass the tokens to a Doc\n",
    "animal_tokens = nlp(animals)\n",
    "\n",
    "# Create a vector of tokens with numpy\n",
    "animal_vectors = np.vstack([word.vector for word in animal_tokens if word.has_vector])\n",
    "\n",
    "#Run a PCA of 2 components\n",
    "pca = PCA(n_components=2)\n",
    "animal_vecs_transformed = pca.fit_transform(animal_vectors)"
   ]
  },
  {
   "cell_type": "code",
   "execution_count": 27,
   "metadata": {
    "colab": {
     "base_uri": "https://localhost:8080/",
     "height": 357
    },
    "colab_type": "code",
    "id": "l2ZkQuTAHMAb",
    "outputId": "fc09ed44-ae13-41de-c326-997e691838ee"
   },
   "outputs": [
    {
     "name": "stdout",
     "output_type": "stream",
     "text": [
      "[[ 2.8304355   3.818894  ]\n",
      " [-0.9081508  -2.36113   ]\n",
      " [-2.9921038  -6.7464747 ]\n",
      " [-3.7300808   2.921094  ]\n",
      " [-2.9397986   4.614554  ]\n",
      " [-8.567785   -0.03441417]\n",
      " [-1.8463446  -5.1698656 ]\n",
      " [-6.079878    3.6220999 ]\n",
      " [-2.5673375  -0.0304437 ]\n",
      " [-6.719927    7.282258  ]\n",
      " [ 0.5054483  -5.5731196 ]\n",
      " [-3.5111918  -4.8807573 ]\n",
      " [-2.7992313  10.778592  ]\n",
      " [-0.28298783  3.1065476 ]\n",
      " [-2.7526243  -4.414376  ]\n",
      " [-1.8025216  -6.0210266 ]\n",
      " [ 4.7226553  -7.452967  ]\n",
      " [ 7.8628106   1.9498671 ]\n",
      " [10.796334    2.9491363 ]\n",
      " [20.782282    1.6415396 ]]\n"
     ]
    }
   ],
   "source": [
    "print(animal_vecs_transformed)"
   ]
  },
  {
   "cell_type": "code",
   "execution_count": 28,
   "metadata": {
    "colab": {},
    "colab_type": "code",
    "id": "OjhnkzlwHLMt"
   },
   "outputs": [],
   "source": [
    "# https://docs.scipy.org/doc/numpy/reference/generated/numpy.c_.html\n",
    "animal_vecs_transformed = np.c_[animals.split(), animal_vecs_transformed]"
   ]
  },
  {
   "cell_type": "code",
   "execution_count": 29,
   "metadata": {
    "colab": {
     "base_uri": "https://localhost:8080/",
     "height": 357
    },
    "colab_type": "code",
    "id": "yHmr8V9tF1Nj",
    "outputId": "5f62dda8-bfab-48b9-fd63-36e7c85be170"
   },
   "outputs": [
    {
     "name": "stdout",
     "output_type": "stream",
     "text": [
      "[['plane' '2.8304355' '3.818894']\n",
      " ['dog' '-0.9081508' '-2.36113']\n",
      " ['cat' '-2.9921038' '-6.7464747']\n",
      " ['hamster' '-3.7300808' '2.921094']\n",
      " ['lion' '-2.9397986' '4.614554']\n",
      " ['tiger' '-8.567785' '-0.034414172']\n",
      " ['elephant' '-1.8463446' '-5.1698656']\n",
      " ['cheetah' '-6.079878' '3.6220999']\n",
      " ['monkey' '-2.5673375' '-0.030443698']\n",
      " ['gorilla' '-6.719927' '7.282258']\n",
      " ['antelope' '0.5054483' '-5.5731196']\n",
      " ['rabbit' '-3.5111918' '-4.8807573']\n",
      " ['mouse' '-2.7992313' '10.778592']\n",
      " ['rat' '-0.28298783' '3.1065476']\n",
      " ['zoo' '-2.7526243' '-4.414376']\n",
      " ['home' '-1.8025216' '-6.0210266']\n",
      " ['pet' '4.7226553' '-7.452967']\n",
      " ['fluffy' '7.8628106' '1.9498671']\n",
      " ['wild' '10.796334' '2.9491363']\n",
      " ['domesticated' '20.782282' '1.6415396']]\n"
     ]
    }
   ],
   "source": [
    "print(animal_vecs_transformed)"
   ]
  },
  {
   "cell_type": "code",
   "execution_count": 30,
   "metadata": {
    "colab": {},
    "colab_type": "code",
    "id": "ooYJ762SII4P"
   },
   "outputs": [],
   "source": [
    "component_1 = [float(x) for x in animal_vecs_transformed[:, 1]]\n",
    "component_2 = [float(x) for x in animal_vecs_transformed[:, 2]]"
   ]
  },
  {
   "cell_type": "code",
   "execution_count": 31,
   "metadata": {
    "colab": {
     "base_uri": "https://localhost:8080/",
     "height": 883
    },
    "colab_type": "code",
    "id": "dF6lc_H2GX4E",
    "outputId": "f62a7d6a-a179-4fd3-efad-9152a4ea4b2d"
   },
   "outputs": [
    {
     "data": {
      "image/png": "[encoded data removed]",
      "text/plain": [
       "<Figure size 1080x1080 with 1 Axes>"
      ]
     },
     "metadata": {
      "needs_background": "light"
     },
     "output_type": "display_data"
    }
   ],
   "source": [
    "import matplotlib.pyplot as plt\n",
    "\n",
    "fig, ax = plt.subplots(figsize=(15,15))\n",
    "ax.scatter(component_1, component_2)\n",
    "\n",
    "for i, txt in enumerate(animal_vecs_transformed[:, 0]):\n",
    "    ax.annotate(txt, (component_1[i], component_2[i]))"
   ]
  },
  {
   "cell_type": "code",
   "execution_count": 77,
   "metadata": {},
   "outputs": [],
   "source": [
    "import numpy as np\n",
    "import spacy\n",
    "from sklearn.decomposition import PCA\n",
    "\n",
    "# We load the language model\n",
    "nlp = spacy.load(\"en\")\n",
    "house_items = \"table glass knife sofa knife plate botle headphones TV music\"\n",
    "# Pass the tokens to a Doc\n",
    "house_tokens = nlp(house_items)\n",
    "\n",
    "# Create a vector of tokens with numpy\n",
    "house_vectors = np.vstack([word.vector for word in house_tokens if word.has_vector])\n",
    "\n",
    "#Run a PCA of 2 components\n",
    "pca = PCA(n_components=2)\n",
    "house_vecs_transformed = pca.fit_transform(house_vectors)"
   ]
  },
  {
   "cell_type": "code",
   "execution_count": 78,
   "metadata": {},
   "outputs": [
    {
     "name": "stdout",
     "output_type": "stream",
     "text": [
      "[[ -0.17023031  -6.9751496 ]\n",
      " [  4.114255     0.33538833]\n",
      " [ 13.869491     5.0325446 ]\n",
      " [  4.5891423    5.030507  ]\n",
      " [ 11.167335     1.7204483 ]\n",
      " [ -2.5786073   -2.6201174 ]\n",
      " [ -6.9485965   -2.9332535 ]\n",
      " [-13.074362    16.168316  ]\n",
      " [  0.5413575   -9.276408  ]\n",
      " [-11.509781    -6.482268  ]]\n"
     ]
    }
   ],
   "source": [
    "print(house_vecs_transformed)"
   ]
  },
  {
   "cell_type": "code",
   "execution_count": 79,
   "metadata": {},
   "outputs": [],
   "source": [
    "house_vecs_transformed = np.c_[house_items.split(), house_vecs_transformed]"
   ]
  },
  {
   "cell_type": "code",
   "execution_count": 80,
   "metadata": {},
   "outputs": [
    {
     "name": "stdout",
     "output_type": "stream",
     "text": [
      "[['table' '-0.17023031' '-6.9751496']\n",
      " ['glass' '4.114255' '0.33538833']\n",
      " ['knife' '13.869491' '5.0325446']\n",
      " ['sofa' '4.5891423' '5.030507']\n",
      " ['knife' '11.167335' '1.7204483']\n",
      " ['plate' '-2.5786073' '-2.6201174']\n",
      " ['botle' '-6.9485965' '-2.9332535']\n",
      " ['headphones' '-13.074362' '16.168316']\n",
      " ['TV' '0.5413575' '-9.276408']\n",
      " ['music' '-11.509781' '-6.482268']]\n"
     ]
    }
   ],
   "source": [
    "print(house_vecs_transformed)"
   ]
  },
  {
   "cell_type": "code",
   "execution_count": 81,
   "metadata": {},
   "outputs": [],
   "source": [
    "component_1 = [float(x) for x in house_vecs_transformed[:, 1]]\n",
    "component_2 = [float(x) for x in house_vecs_transformed[:, 2]]"
   ]
  },
  {
   "cell_type": "code",
   "execution_count": 82,
   "metadata": {},
   "outputs": [
    {
     "data": {
      "image/png": "[encoded data removed]",
      "text/plain": [
       "<Figure size 1080x1080 with 1 Axes>"
      ]
     },
     "metadata": {
      "needs_background": "light"
     },
     "output_type": "display_data"
    }
   ],
   "source": [
    "import matplotlib.pyplot as plt\n",
    "\n",
    "fig, ax = plt.subplots(figsize=(15,15))\n",
    "ax.scatter(component_1, component_2)\n",
    "\n",
    "for i, txt in enumerate(house_vecs_transformed[:, 0]):\n",
    "    ax.annotate(txt, (component_1[i], component_2[i]))"
   ]
  },
  {
   "cell_type": "markdown",
   "metadata": {
    "colab_type": "text",
    "id": "iAjzMwwBZmiN"
   },
   "source": [
    "## Using t-SNE\n",
    "\n",
    "**t-Distributed Stochastic Neighbor Embedding** (t-SNE) is a (prize-winning) technique for dimensionality reduction that is particularly well suited for the visualization of high-dimensional datasets. The technique can be implemented via Barnes-Hut approximations, allowing it to be applied on large real-world datasets. \n",
    "\n",
    "*Source: Laurens van der Maaten*\n",
    "\n",
    "Visualizing high-dimensional data by projecting it into a low-dimensional space is a classic operation that anyone working with data has probably done at least once in their life. There are a huge variety of methods for reducing dimensionality, but one very popular method is t-SNE, a method proposed by Geoffry Hinton’s group back in 2008.\n",
    "\n",
    "### Benefits of t-SNE\n",
    "* t-SNE, unlike PCA, is not a linear projection. It uses the **local relationships** between points to create a low-dimensional mapping. This allows it to capture **non-linear structure**.\n",
    "* t-SNE creates a **probability distribution** using the **Gaussian** distribution that defines the relationships between the points in high-dimensional space.\n",
    "* t-SNE uses the **Student t-distribution** to **recreate** the probability distribution in low-dimensional space. This prevents the **crowding problem**, where points tend to get crowded in low-dimensional space due to the **curse of dimensionality**.\n",
    "* t-SNE optimizes the embeddings directly using gradient descent. The cost function is non-convex though, meaning there is the risk of getting stuck in local minima. t-SNE uses multiple tricks to try to avoid this problem.\n",
    "\n",
    "Source: [ML explained](https://mlexplained.com/2018/09/14/paper-dissected-visualizing-data-using-t-sne-explained/)"
   ]
  },
  {
   "cell_type": "markdown",
   "metadata": {
    "colab_type": "text",
    "id": "eistiyCYilWb"
   },
   "source": [
    "### 2D\n",
    "\n",
    "Perplexity is related to the number of nearest neighbors that is used in other manifold learning algorithms. Larger datasets usually require a larger perplexity. Consider selecting a value between 5 and 50. Different values can result in significanlty different results."
   ]
  },
  {
   "cell_type": "code",
   "execution_count": 83,
   "metadata": {
    "colab": {},
    "colab_type": "code",
    "id": "xuAaJJw9Zr3F"
   },
   "outputs": [],
   "source": [
    "import numpy as np\n",
    "import spacy\n",
    "from sklearn.manifold import TSNE\n",
    "\n",
    "# We load the language model\n",
    "nlp = spacy.load(\"en\")\n",
    "animals = \"plane dog cat hamster lion tiger elephant cheetah monkey gorilla antelope rabbit mouse rat zoo home pet fluffy wild domesticated\"\n",
    "\n",
    "# Pass the tokens to a Doc\n",
    "animal_tokens = nlp(animals)\n",
    "\n",
    "# Create a vector of tokens with numpy\n",
    "animal_vectors = np.vstack([word.vector for word in animal_tokens if word.has_vector])\n",
    "\n",
    "#Run a TSNE of 2 components\n",
    "tsne = TSNE(n_components=2, init='random', random_state=0, perplexity=1)\n",
    "animal_vecs_tsne = tsne.fit_transform(animal_vectors)"
   ]
  },
  {
   "cell_type": "code",
   "execution_count": 84,
   "metadata": {
    "colab": {
     "base_uri": "https://localhost:8080/",
     "height": 357
    },
    "colab_type": "code",
    "id": "wDjAkndWaf_6",
    "outputId": "c9efbc2e-baf5-4b2a-cfe7-64ca1938ab9f"
   },
   "outputs": [
    {
     "name": "stdout",
     "output_type": "stream",
     "text": [
      "[[ 501.0021    -25.459309]\n",
      " [-100.13999    19.437176]\n",
      " [ 649.0963     35.533543]\n",
      " [-236.99318   495.424   ]\n",
      " [ -56.905727  -77.28582 ]\n",
      " [  11.32265   -64.0885  ]\n",
      " [ 700.2642     57.387417]\n",
      " [ 125.6035     45.69727 ]\n",
      " [ 558.68445    -2.653744]\n",
      " [-179.3872    425.43942 ]\n",
      " [-431.73312   176.21211 ]\n",
      " [-398.206     165.14369 ]\n",
      " [-213.08568   466.51666 ]\n",
      " [ -94.10208   -68.67183 ]\n",
      " [ 614.0961     20.705584]\n",
      " [ -62.59595    62.246   ]\n",
      " [-158.43594    52.92782 ]\n",
      " [-152.24127  -116.10267 ]\n",
      " [-200.1741   -153.3277  ]\n",
      " [-243.57364  -185.1883  ]]\n"
     ]
    }
   ],
   "source": [
    "print(animal_vecs_tsne)"
   ]
  },
  {
   "cell_type": "code",
   "execution_count": 85,
   "metadata": {
    "colab": {},
    "colab_type": "code",
    "id": "Rj5ygzUbagAG"
   },
   "outputs": [],
   "source": [
    "# https://docs.scipy.org/doc/numpy/reference/generated/numpy.c_.html\n",
    "animal_vecs_tsne = np.c_[animals.split(), animal_vecs_tsne]"
   ]
  },
  {
   "cell_type": "code",
   "execution_count": 86,
   "metadata": {
    "colab": {
     "base_uri": "https://localhost:8080/",
     "height": 357
    },
    "colab_type": "code",
    "id": "5pTvn7tCagAM",
    "outputId": "dc3f3d65-73cf-4ccc-996c-ac140110c8fc"
   },
   "outputs": [
    {
     "name": "stdout",
     "output_type": "stream",
     "text": [
      "[['plane' '501.0021' '-25.459309']\n",
      " ['dog' '-100.13999' '19.437176']\n",
      " ['cat' '649.0963' '35.533543']\n",
      " ['hamster' '-236.99318' '495.424']\n",
      " ['lion' '-56.905727' '-77.28582']\n",
      " ['tiger' '11.32265' '-64.0885']\n",
      " ['elephant' '700.2642' '57.387417']\n",
      " ['cheetah' '125.6035' '45.69727']\n",
      " ['monkey' '558.68445' '-2.653744']\n",
      " ['gorilla' '-179.3872' '425.43942']\n",
      " ['antelope' '-431.73312' '176.21211']\n",
      " ['rabbit' '-398.206' '165.14369']\n",
      " ['mouse' '-213.08568' '466.51666']\n",
      " ['rat' '-94.10208' '-68.67183']\n",
      " ['zoo' '614.0961' '20.705584']\n",
      " ['home' '-62.59595' '62.246']\n",
      " ['pet' '-158.43594' '52.92782']\n",
      " ['fluffy' '-152.24127' '-116.10267']\n",
      " ['wild' '-200.1741' '-153.3277']\n",
      " ['domesticated' '-243.57364' '-185.1883']]\n"
     ]
    }
   ],
   "source": [
    "print(animal_vecs_tsne)"
   ]
  },
  {
   "cell_type": "code",
   "execution_count": 87,
   "metadata": {
    "colab": {},
    "colab_type": "code",
    "id": "U3A9gsetbNt7"
   },
   "outputs": [],
   "source": [
    "component_1_tsne = [float(x) for x in animal_vecs_tsne[:, 1]]\n",
    "component_2_tsne = [float(x) for x in animal_vecs_tsne[:, 2]]\n",
    "distance = [float(x)-float(y) for x, y in zip(animal_vecs_tsne[:, 1], animal_vecs_tsne[:, 2])]"
   ]
  },
  {
   "cell_type": "code",
   "execution_count": 88,
   "metadata": {
    "colab": {
     "base_uri": "https://localhost:8080/",
     "height": 592
    },
    "colab_type": "code",
    "id": "IVRDgOrVbNt_",
    "outputId": "8c39542e-e6e6-475b-faf3-adff41a06e1f"
   },
   "outputs": [
    {
     "data": {
      "image/png": "[encoded data removed]",
      "text/plain": [
       "<Figure size 720x720 with 1 Axes>"
      ]
     },
     "metadata": {
      "needs_background": "light"
     },
     "output_type": "display_data"
    }
   ],
   "source": [
    "%matplotlib inline\n",
    "import matplotlib.pyplot as plt\n",
    "from mpl_toolkits.mplot3d import Axes3D\n",
    "\n",
    "fig, ax = plt.subplots(figsize=(10,10))\n",
    "ax.scatter(component_1_tsne, component_2_tsne, c=distance)\n",
    "\n",
    "for i, txt in enumerate(animal_vecs_tsne[:, 0]):\n",
    "    ax.annotate(txt, (component_1_tsne[i], component_2_tsne[i]))"
   ]
  },
  {
   "cell_type": "code",
   "execution_count": 89,
   "metadata": {},
   "outputs": [],
   "source": [
    "import numpy as np\n",
    "import spacy\n",
    "from sklearn.decomposition import PCA\n",
    "\n",
    "# We load the language model\n",
    "nlp = spacy.load(\"en\")\n",
    "house_items = \"table glass knife sofa knife plate botle headphones TV music\"\n",
    "# Pass the tokens to a Doc\n",
    "house_tokens = nlp(house_items)\n",
    "\n",
    "# Create a vector of tokens with numpy\n",
    "house_vectors = np.vstack([word.vector for word in house_tokens if word.has_vector])\n",
    "\n",
    "#Run a PCA of 2 components\n",
    "pca = PCA(n_components=2)\n",
    "house_vecs_transformed = pca.fit_transform(house_vectors)\n",
    "\n",
    "#Run a TSNE of 2 components\n",
    "tsne = TSNE(n_components=2, init='random', random_state=0, perplexity=1)\n",
    "house_vecs_tsne = tsne.fit_transform(house_vectors)"
   ]
  },
  {
   "cell_type": "code",
   "execution_count": 90,
   "metadata": {},
   "outputs": [
    {
     "name": "stdout",
     "output_type": "stream",
     "text": [
      "[[ 253.6754   282.06512]\n",
      " [ 160.12563  258.5516 ]\n",
      " [-526.58844 -229.2729 ]\n",
      " [ 185.11945  249.76825]\n",
      " [-552.9551  -226.12894]\n",
      " [ 230.50096  244.13406]\n",
      " [ 292.8137   181.01334]\n",
      " [ 278.22073  142.71356]\n",
      " [-592.90283 -221.28192]\n",
      " [ 326.92386  191.40068]]\n"
     ]
    }
   ],
   "source": [
    "print(house_vecs_tsne)"
   ]
  },
  {
   "cell_type": "code",
   "execution_count": 94,
   "metadata": {},
   "outputs": [],
   "source": [
    "house_vecs_tsne = np.c_[house_items.split(), house_vecs_tsne]"
   ]
  },
  {
   "cell_type": "code",
   "execution_count": 95,
   "metadata": {},
   "outputs": [
    {
     "name": "stdout",
     "output_type": "stream",
     "text": [
      "[['table' '253.6754' '282.06512']\n",
      " ['glass' '160.12563' '258.5516']\n",
      " ['knife' '-526.58844' '-229.2729']\n",
      " ['sofa' '185.11945' '249.76825']\n",
      " ['knife' '-552.9551' '-226.12894']\n",
      " ['plate' '230.50096' '244.13406']\n",
      " ['botle' '292.8137' '181.01334']\n",
      " ['headphones' '278.22073' '142.71356']\n",
      " ['TV' '-592.90283' '-221.28192']\n",
      " ['music' '326.92386' '191.40068']]\n"
     ]
    }
   ],
   "source": [
    "print(house_vecs_tsne)"
   ]
  },
  {
   "cell_type": "code",
   "execution_count": 96,
   "metadata": {},
   "outputs": [],
   "source": [
    "component_1_tsne = [float(x) for x in house_vecs_tsne[:, 1]]\n",
    "component_2_tsne = [float(x) for x in house_vecs_tsne[:, 2]]\n",
    "distance = [float(x)-float(y) for x, y in zip(house_vecs_tsne[:, 1], house_vecs_tsne[:, 2])]"
   ]
  },
  {
   "cell_type": "code",
   "execution_count": 97,
   "metadata": {},
   "outputs": [
    {
     "data": {
      "image/png": "[encoded data removed]",
      "text/plain": [
       "<Figure size 720x720 with 1 Axes>"
      ]
     },
     "metadata": {
      "needs_background": "light"
     },
     "output_type": "display_data"
    }
   ],
   "source": [
    "%matplotlib inline\n",
    "import matplotlib.pyplot as plt\n",
    "from mpl_toolkits.mplot3d import Axes3D\n",
    "\n",
    "fig, ax = plt.subplots(figsize=(10,10))\n",
    "ax.scatter(component_1_tsne, component_2_tsne, c=distance)\n",
    "\n",
    "for i, txt in enumerate(house_vecs_tsne[:, 0]):\n",
    "    ax.annotate(txt, (component_1_tsne[i], component_2_tsne[i]))"
   ]
  },
  {
   "cell_type": "code",
   "execution_count": 138,
   "metadata": {},
   "outputs": [
    {
     "name": "stdout",
     "output_type": "stream",
     "text": [
      "/Users/ketevani/BTS/bts-mbds-data-science-foundations-2019/sessions/notebooks/Data_Science_Foundation\r\n"
     ]
    }
   ],
   "source": [
    "!pwd #print working directory"
   ]
  },
  {
   "cell_type": "code",
   "execution_count": 136,
   "metadata": {},
   "outputs": [
    {
     "name": "stdout",
     "output_type": "stream",
     "text": [
      "01-External-Introducing_Pandas_Objects.ipynb\r\n",
      "01_Pandas_Introduction_Common_Data_Formats.ipynb\r\n",
      "02_Pandas_continued.ipynb\r\n",
      "02_Pandas_continued_with_solutions.ipynb\r\n",
      "03_Python_databases_Sqlite.ipynb\r\n",
      "03_Python_databases_Sqlite_with_solutions.ipynb\r\n",
      "04_Pandas_&_SQLite_recap_through_exercises.ipynb\r\n",
      "04_Pandas_&_SQLite_recap_through_exercises_solved.ipynb\r\n",
      "05_Array_image_manipulaclasss.ipynb\r\n",
      "05_Array_image_manipulation.ipynb\r\n",
      "06_Image_processing_changed.ipynb\r\n",
      "07_Geospatial_Analysis_with_Python.ipynb\r\n",
      "08_Text_processing.ipynb\r\n",
      "09_Text_processing_continued.ipynb\r\n",
      "1-1000.txt\r\n",
      "BTS Session 1 - Data Science Foundations Presentation_MBDS_19-20 .pdf\r\n",
      "BTS Session 1 - Data Science Foundations Presentation_MBDS_19-20 .pptx\r\n",
      "BTS Session 2 - Data Science Foundations Presentation_MBDS_19-20  .pdf\r\n",
      "BTS Session 5 - Data Science Foundations - Image_Processing_MBDS_19-20 .pdf\r\n",
      "BTS Session 8 - Data Science Foundations - Text_Processing_MBDS_19-20 .pdf\r\n",
      "DSF_WEEK_1_EXERCISES_Ketevan_Kakabadze-Copy1.ipynb\r\n",
      "DSF_WEEK_1_EXERCISES_Ketevan_Kakabadze.ipynb\r\n",
      "DSF_WEEK_2_EXERCISES_Ketevan_kakabadze-Copy1.ipynb\r\n",
      "DSF_WEEK_2_EXERCISES_Ketevan_kakabadze-Copy2.ipynb\r\n",
      "Data Science Foundations Curriculum.pdf\r\n",
      "Dataset.csv\r\n",
      "\u001b[34mGIT\u001b[m\u001b[m/\r\n",
      "\u001b[34mHOME_WORKS\u001b[m\u001b[m/\r\n",
      "IMG_6068.JPG\r\n",
      "MG_6068.JPG\r\n",
      "dataframe.csv\r\n",
      "face.jpg\r\n",
      "flight.db\r\n",
      "holy_grail.txt\r\n",
      "mementopython3-english.pdf\r\n",
      "pythondevsurvey2017_raw_data.csv\r\n",
      "\u001b[34msessions\u001b[m\u001b[m/\r\n",
      "tips.db\r\n",
      "trial.db\r\n",
      "trial_BTS-20191006-135137.db\r\n",
      "trial_BTS-20191007-112010-20191007-112538.db\r\n",
      "trial_BTS-20191007-112010.db\r\n",
      "trial_BTS.db\r\n"
     ]
    }
   ],
   "source": [
    "%ls"
   ]
  },
  {
   "cell_type": "markdown",
   "metadata": {
    "colab_type": "text",
    "id": "dLuSA4XdlODC"
   },
   "source": [
    "### 3D\n",
    "\n",
    "Perplexity is related to the number of nearest neighbors that is used in other manifold learning algorithms. Larger datasets usually require a larger perplexity. Consider selecting a value between 5 and 50. Different values can result in significanlty different results."
   ]
  },
  {
   "cell_type": "code",
   "execution_count": 98,
   "metadata": {
    "colab": {},
    "colab_type": "code",
    "id": "DmG6KRJDlSrm"
   },
   "outputs": [],
   "source": [
    "import numpy as np\n",
    "import spacy\n",
    "from sklearn.manifold import TSNE\n",
    "\n",
    "# We load the language model\n",
    "nlp = spacy.load(\"en\")\n",
    "animals = \"plane dog cat hamster lion tiger elephant cheetah monkey gorilla antelope rabbit mouse rat zoo home pet fluffy wild domesticated\"\n",
    "\n",
    "# Pass the tokens to a Doc\n",
    "animal_tokens = nlp(animals)\n",
    "\n",
    "# Create a vector of tokens with numpy\n",
    "animal_vectors = np.vstack([word.vector for word in animal_tokens if word.has_vector])\n",
    "\n",
    "#Run a PCA of 3 components\n",
    "tsne = TSNE(n_components=3, init='random', random_state=0, perplexity=1)\n",
    "animal_vecs_tsne = tsne.fit_transform(animal_vectors)"
   ]
  },
  {
   "cell_type": "code",
   "execution_count": 99,
   "metadata": {
    "colab": {
     "base_uri": "https://localhost:8080/",
     "height": 357
    },
    "colab_type": "code",
    "id": "at99d949lSru",
    "outputId": "82eeb814-2980-4881-b726-2f9904aa1f67"
   },
   "outputs": [
    {
     "name": "stdout",
     "output_type": "stream",
     "text": [
      "[[ 109.483864   -310.87027     -56.032887  ]\n",
      " [-222.19542     -48.73615    -111.50245   ]\n",
      " [ 141.00967     -72.32738      27.01298   ]\n",
      " [-126.30701     200.74403    -187.16583   ]\n",
      " [-274.7319      167.43286     256.43378   ]\n",
      " [ 199.34137     178.68437      68.7478    ]\n",
      " [ 149.55876    -100.09253    -108.43355   ]\n",
      " [ 289.82367      86.26782    -116.79299   ]\n",
      " [ -30.456223    123.94789     180.45306   ]\n",
      " [-180.28851    -137.57585     183.7899    ]\n",
      " [ -30.997637      4.8888087     5.547236  ]\n",
      " [   0.54181224   70.91578     -71.49472   ]\n",
      " [ -54.299664   -161.4777      160.34216   ]\n",
      " [-354.58707     233.82666     282.0347    ]\n",
      " [-137.34221     119.82187      97.84534   ]\n",
      " [-171.95847    -176.85071    -109.622734  ]\n",
      " [ -30.060549    307.76266      24.144154  ]\n",
      " [ 337.09613    -423.59702    -365.8509    ]\n",
      " [  53.694763    -48.767414    357.54782   ]\n",
      " [ 102.66696     202.03644    -298.86615   ]]\n"
     ]
    }
   ],
   "source": [
    "print(animal_vecs_tsne)"
   ]
  },
  {
   "cell_type": "code",
   "execution_count": 100,
   "metadata": {
    "colab": {},
    "colab_type": "code",
    "id": "nxy7a7MLlSrz"
   },
   "outputs": [],
   "source": [
    "# https://docs.scipy.org/doc/numpy/reference/generated/numpy.c_.html\n",
    "animal_vecs_tsne = np.c_[animals.split(), animal_vecs_tsne]"
   ]
  },
  {
   "cell_type": "code",
   "execution_count": 101,
   "metadata": {
    "colab": {
     "base_uri": "https://localhost:8080/",
     "height": 357
    },
    "colab_type": "code",
    "id": "g4P1fE5_lSr6",
    "outputId": "debfc85f-3aef-458a-9b57-6a1fb512be34"
   },
   "outputs": [
    {
     "name": "stdout",
     "output_type": "stream",
     "text": [
      "[['plane' '109.483864' '-310.87027' '-56.032887']\n",
      " ['dog' '-222.19542' '-48.73615' '-111.50245']\n",
      " ['cat' '141.00967' '-72.32738' '27.01298']\n",
      " ['hamster' '-126.30701' '200.74403' '-187.16583']\n",
      " ['lion' '-274.7319' '167.43286' '256.43378']\n",
      " ['tiger' '199.34137' '178.68437' '68.7478']\n",
      " ['elephant' '149.55876' '-100.09253' '-108.43355']\n",
      " ['cheetah' '289.82367' '86.26782' '-116.79299']\n",
      " ['monkey' '-30.456223' '123.94789' '180.45306']\n",
      " ['gorilla' '-180.28851' '-137.57585' '183.7899']\n",
      " ['antelope' '-30.997637' '4.8888087' '5.547236']\n",
      " ['rabbit' '0.54181224' '70.91578' '-71.49472']\n",
      " ['mouse' '-54.299664' '-161.4777' '160.34216']\n",
      " ['rat' '-354.58707' '233.82666' '282.0347']\n",
      " ['zoo' '-137.34221' '119.82187' '97.84534']\n",
      " ['home' '-171.95847' '-176.85071' '-109.622734']\n",
      " ['pet' '-30.060549' '307.76266' '24.144154']\n",
      " ['fluffy' '337.09613' '-423.59702' '-365.8509']\n",
      " ['wild' '53.694763' '-48.767414' '357.54782']\n",
      " ['domesticated' '102.66696' '202.03644' '-298.86615']]\n"
     ]
    }
   ],
   "source": [
    "print(animal_vecs_tsne)"
   ]
  },
  {
   "cell_type": "code",
   "execution_count": 102,
   "metadata": {
    "colab": {},
    "colab_type": "code",
    "id": "f_xc2rsplSr9"
   },
   "outputs": [],
   "source": [
    "component_1_tsne = [float(x) for x in animal_vecs_tsne[:, 1]]\n",
    "component_2_tsne = [float(x) for x in animal_vecs_tsne[:, 2]]\n",
    "component_3_tsne = [float(x) for x in animal_vecs_tsne[:, 3]]\n",
    "distance = [np.sqrt(np.power(float(x), 2) + np.power(float(y), 2) + np.power(float(z), 2)) for x, y, z in zip(animal_vecs_tsne[:, 1], animal_vecs_tsne[:, 2], animal_vecs_tsne[:, 3])]"
   ]
  },
  {
   "cell_type": "code",
   "execution_count": 103,
   "metadata": {
    "colab": {
     "base_uri": "https://localhost:8080/",
     "height": 595
    },
    "colab_type": "code",
    "id": "j7jPppSElSsA",
    "outputId": "cbd49558-33bb-4aa1-e69c-d9b9835edc17"
   },
   "outputs": [
    {
     "data": {
      "image/png": "[encoded data removed]",
      "text/plain": [
       "<Figure size 1152x720 with 1 Axes>"
      ]
     },
     "metadata": {
      "needs_background": "light"
     },
     "output_type": "display_data"
    }
   ],
   "source": [
    "%matplotlib inline\n",
    "import matplotlib.pyplot as plt\n",
    "from mpl_toolkits.mplot3d import Axes3D\n",
    "\n",
    "ax = plt.figure(figsize=(16,10)).gca(projection='3d')\n",
    "ax.scatter(\n",
    "    xs=component_1_tsne, \n",
    "    ys=component_2_tsne, \n",
    "    zs=component_3_tsne, \n",
    "    c=distance\n",
    ")\n",
    "\n",
    "for name, x, y, z in zip(animal_vecs_tsne[:, 0], animal_vecs_tsne[:, 1], animal_vecs_tsne[:, 2], animal_vecs_tsne[:, 3]):\n",
    "    ax.text(float(x), float(y), float(z), name)\n",
    "\n",
    "ax.set_xlabel('tsne-one')\n",
    "ax.set_ylabel('tsne-two')\n",
    "ax.set_zlabel('tsne-three')\n",
    "plt.show()"
   ]
  },
  {
   "cell_type": "markdown",
   "metadata": {
    "colab_type": "text",
    "id": "9a0YLecAU_7a"
   },
   "source": [
    "## Exercise distance through t-SNE:\n",
    "\n",
    "Generate a scatter plot with the distance of the words in the following file:"
   ]
  },
  {
   "cell_type": "code",
   "execution_count": 117,
   "metadata": {
    "colab": {
     "base_uri": "https://localhost:8080/",
     "height": 309
    },
    "colab_type": "code",
    "id": "IlYLBbuwpqXJ",
    "outputId": "90c2fd01-2425-4b51-dd48-68b3011cd599"
   },
   "outputs": [
    {
     "name": "stdout",
     "output_type": "stream",
     "text": [
      "/bin/sh: wget: command not found\r\n"
     ]
    }
   ],
   "source": [
    "! wget 'https://github.com/vfp1/bts-mbds-data-science-foundations-2019/raw/master/sessions/data/1-1000.txt'"
   ]
  },
  {
   "cell_type": "code",
   "execution_count": null,
   "metadata": {},
   "outputs": [],
   "source": []
  },
  {
   "cell_type": "code",
   "execution_count": 118,
   "metadata": {
    "colab": {},
    "colab_type": "code",
    "id": "7cSamJvWqrgN"
   },
   "outputs": [],
   "source": [
    "import numpy as np\n",
    "import spacy\n",
    "from sklearn.manifold import TSNE\n",
    "\n",
    "# We load the language model\n",
    "nlp = spacy.load(\"en\")\n",
    "\n",
    "# Words common in english\n",
    "words = open('1-1000.txt', 'r').read()\n",
    "\n",
    "# Pass the tokens to a Doc\n",
    "word_tokens = nlp(words)"
   ]
  },
  {
   "cell_type": "code",
   "execution_count": 135,
   "metadata": {
    "colab": {},
    "colab_type": "code",
    "id": "OP5riCsJzDIK"
   },
   "outputs": [
    {
     "name": "stdout",
     "output_type": "stream",
     "text": [
      "the\n",
      "of\n",
      "to\n",
      "and\n",
      "a\n",
      "inhis\n",
      "is\n",
      "it\n",
      "you\n",
      "that\n",
      "he\n",
      "was\n",
      "for\n",
      "on\n",
      "are\n",
      "with\n",
      "as\n",
      "I\n",
      "his\n",
      "they\n",
      "be\n",
      "at\n",
      "one\n",
      "have\n",
      "this\n",
      "from\n",
      "or\n",
      "had\n",
      "by\n",
      "word\n",
      "but\n",
      "what\n",
      "some\n",
      "we\n",
      "can\n",
      "out\n",
      "other\n",
      "were\n",
      "all\n",
      "there\n",
      "when\n",
      "up\n",
      "use\n",
      "your\n",
      "how\n",
      "said\n",
      "an\n",
      "each\n",
      "she\n",
      "which\n",
      "their\n",
      "time\n",
      "if\n",
      "will\n",
      "way\n",
      "about\n",
      "many\n",
      "then\n",
      "them\n",
      "write\n",
      "would\n",
      "like\n",
      "so\n",
      "these\n",
      "her\n",
      "long\n",
      "make\n",
      "thing\n",
      "see\n",
      "him\n",
      "two\n",
      "has\n",
      "look\n",
      "more\n",
      "day\n",
      "could\n",
      "go\n",
      "come\n",
      "did\n",
      "number\n",
      "sound\n",
      "no\n",
      "most\n",
      "people\n",
      "my\n",
      "over\n",
      "know\n",
      "water\n",
      "than\n",
      "call\n",
      "first\n",
      "who\n",
      "may\n",
      "down\n",
      "side\n",
      "been\n",
      "now\n",
      "find\n",
      "any\n",
      "new\n",
      "work\n",
      "part\n",
      "take\n",
      "get\n",
      "place\n",
      "made\n",
      "live\n",
      "where\n",
      "after\n",
      "back\n",
      "little\n",
      "only\n",
      "round\n",
      "man\n",
      "year\n",
      "came\n",
      "show\n",
      "every\n",
      "good\n",
      "me\n",
      "give\n",
      "our\n",
      "under\n",
      "name\n",
      "very\n",
      "through\n",
      "just\n",
      "form\n",
      "sentence\n",
      "great\n",
      "think\n",
      "say\n",
      "help\n",
      "low\n",
      "line\n",
      "differ\n",
      "turn\n",
      "cause\n",
      "much\n",
      "mean\n",
      "before\n",
      "move\n",
      "right\n",
      "boy\n",
      "old\n",
      "too\n",
      "same\n",
      "tell\n",
      "does\n",
      "set\n",
      "three\n",
      "want\n",
      "air\n",
      "well\n",
      "also\n",
      "play\n",
      "small\n",
      "end\n",
      "put\n",
      "home\n",
      "read\n",
      "hand\n",
      "port\n",
      "large\n",
      "spell\n",
      "add\n",
      "even\n",
      "land\n",
      "here\n",
      "must\n",
      "big\n",
      "high\n",
      "such\n",
      "follow\n",
      "act\n",
      "why\n",
      "ask\n",
      "men\n",
      "change\n",
      "went\n",
      "light\n",
      "kind\n",
      "off\n",
      "need\n",
      "house\n",
      "picture\n",
      "try\n",
      "us\n",
      "again\n",
      "animal\n",
      "point\n",
      "mother\n",
      "world\n",
      "near\n",
      "build\n",
      "self\n",
      "earth\n",
      "father\n",
      "head\n",
      "stand\n",
      "own\n",
      "page\n",
      "should\n",
      "country\n",
      "found\n",
      "answer\n",
      "school\n",
      "grow\n",
      "study\n",
      "still\n",
      "learn\n",
      "plant\n",
      "cover\n",
      "food\n",
      "sun\n",
      "four\n",
      "between\n",
      "state\n",
      "keep\n",
      "eye\n",
      "never\n",
      "last\n",
      "let\n",
      "thought\n",
      "city\n",
      "tree\n",
      "cross\n",
      "farm\n",
      "hard\n",
      "start\n",
      "might\n",
      "story\n",
      "saw\n",
      "far\n",
      "sea\n",
      "draw\n",
      "left\n",
      "late\n",
      "run\n",
      "do\n",
      "n't\n",
      "while\n",
      "press\n",
      "close\n",
      "night\n",
      "real\n",
      "life\n",
      "few\n",
      "north\n",
      "open\n",
      "seem\n",
      "together\n",
      "next\n",
      "white\n",
      "children\n",
      "begin\n",
      "got\n",
      "walk\n",
      "example\n",
      "ease\n",
      "paper\n",
      "group\n",
      "always\n",
      "music\n",
      "those\n",
      "both\n",
      "mark\n",
      "often\n",
      "letter\n",
      "until\n",
      "mile\n",
      "river\n",
      "car\n",
      "feet\n",
      "care\n",
      "second\n",
      "book\n",
      "carry\n",
      "took\n",
      "science\n",
      "eat\n",
      "room\n",
      "friend\n",
      "began\n",
      "idea\n",
      "fish\n",
      "mountain\n",
      "stop\n",
      "once\n",
      "base\n",
      "hear\n",
      "horse\n",
      "cut\n",
      "sure\n",
      "watch\n",
      "color\n",
      "face\n",
      "wood\n",
      "main\n",
      "enough\n",
      "plain\n",
      "girl\n",
      "usual\n",
      "young\n",
      "ready\n",
      "above\n",
      "ever\n",
      "red\n",
      "list\n",
      "though\n",
      "feel\n",
      "talk\n",
      "bird\n",
      "soon\n",
      "body\n",
      "dog\n",
      "family\n",
      "direct\n",
      "pose\n",
      "leave\n",
      "song\n",
      "measure\n",
      "door\n",
      "product\n",
      "black\n",
      "short\n",
      "numeral\n",
      "class\n",
      "wind\n",
      "question\n",
      "happen\n",
      "complete\n",
      "ship\n",
      "area\n",
      "half\n",
      "rock\n",
      "order\n",
      "fire\n",
      "south\n",
      "problem\n",
      "piece\n",
      "told\n",
      "knew\n",
      "pass\n",
      "since\n",
      "top\n",
      "whole\n",
      "king\n",
      "space\n",
      "heard\n",
      "best\n",
      "hour\n",
      "better\n",
      "true\n",
      "during\n",
      "hundred\n",
      "five\n",
      "remember\n",
      "step\n",
      "early\n",
      "hold\n",
      "west\n",
      "ground\n",
      "interest\n",
      "reach\n",
      "fast\n",
      "verb\n",
      "sing\n",
      "listen\n",
      "six\n",
      "table\n",
      "travel\n",
      "less\n",
      "morning\n",
      "ten\n",
      "simple\n",
      "several\n",
      "vowel\n",
      "toward\n",
      "war\n",
      "lay\n",
      "against\n",
      "pattern\n",
      "slow\n",
      "center\n",
      "love\n",
      "person\n",
      "money\n",
      "serve\n",
      "appear\n",
      "road\n",
      "map\n",
      "rain\n",
      "rule\n",
      "govern\n",
      "pull\n",
      "cold\n",
      "notice\n",
      "voice\n",
      "unit\n",
      "power\n",
      "town\n",
      "fine\n",
      "certain\n",
      "fly\n",
      "fall\n",
      "lead\n",
      "cry\n",
      "dark\n",
      "machine\n",
      "note\n",
      "wait\n",
      "plan\n",
      "figure\n",
      "star\n",
      "box\n",
      "noun\n",
      "field\n",
      "rest\n",
      "correct\n",
      "able\n",
      "pound\n",
      "done\n",
      "beauty\n",
      "drive\n",
      "stood\n",
      "contain\n",
      "front\n",
      "teach\n",
      "week\n",
      "final\n",
      "gave\n",
      "green\n",
      "oh\n",
      "quick\n",
      "develop\n",
      "ocean\n",
      "warm\n",
      "free\n",
      "minute\n",
      "strong\n",
      "special\n",
      "mind\n",
      "behind\n",
      "clear\n",
      "tail\n",
      "produce\n",
      "fact\n",
      "street\n",
      "inch\n",
      "multiply\n",
      "nothing\n",
      "course\n",
      "stay\n",
      "wheel\n",
      "full\n",
      "force\n",
      "blue\n",
      "object\n",
      "decide\n",
      "surface\n",
      "deep\n",
      "moon\n",
      "island\n",
      "foot\n",
      "system\n",
      "busy\n",
      "test\n",
      "record\n",
      "boat\n",
      "common\n",
      "gold\n",
      "possible\n",
      "plane\n",
      "stead\n",
      "dry\n",
      "wonder\n",
      "laugh\n",
      "thousand\n",
      "ago\n",
      "ran\n",
      "check\n",
      "game\n",
      "shape\n",
      "equate\n",
      "hot\n",
      "miss\n",
      "brought\n",
      "heat\n",
      "snow\n",
      "tire\n",
      "bring\n",
      "yes\n",
      "distant\n",
      "fill\n",
      "east\n",
      "paint\n",
      "language\n",
      "among\n",
      "grand\n",
      "ball\n",
      "yet\n",
      "wave\n",
      "drop\n",
      "heart\n",
      "am\n",
      "present\n",
      "heavy\n",
      "dance\n",
      "engine\n",
      "position\n",
      "arm\n",
      "wide\n",
      "sail\n",
      "material\n",
      "size\n",
      "vary\n",
      "settle\n",
      "speak\n",
      "weight\n",
      "general\n",
      "ice\n",
      "matter\n",
      "circle\n",
      "pair\n",
      "include\n",
      "divide\n",
      "syllable\n",
      "felt\n",
      "perhaps\n",
      "pick\n",
      "sudden\n",
      "count\n",
      "square\n",
      "reason\n",
      "length\n",
      "represent\n",
      "art\n",
      "subject\n",
      "region\n",
      "energy\n",
      "hunt\n",
      "probable\n",
      "bed\n",
      "brother\n",
      "egg\n",
      "ride\n",
      "cell\n",
      "believe\n",
      "fraction\n",
      "forest\n",
      "sit\n",
      "race\n",
      "window\n",
      "store\n",
      "summer\n",
      "train\n",
      "sleep\n",
      "prove\n",
      "lone\n",
      "leg\n",
      "exercise\n",
      "wall\n",
      "catch\n",
      "mount\n",
      "wish\n",
      "sky\n",
      "board\n",
      "joy\n",
      "winter\n",
      "sat\n",
      "written\n",
      "wild\n",
      "instrument\n",
      "kept\n",
      "glass\n",
      "grass\n",
      "cow\n",
      "job\n",
      "edge\n",
      "sign\n",
      "visit\n",
      "past\n",
      "soft\n",
      "fun\n",
      "bright\n",
      "gas\n",
      "weather\n",
      "month\n",
      "million\n",
      "bear\n",
      "finish\n",
      "happy\n",
      "hope\n",
      "flower\n",
      "clothe\n",
      "strange\n",
      "gone\n",
      "jump\n",
      "baby\n",
      "eight\n",
      "village\n",
      "meet\n",
      "root\n",
      "buy\n",
      "raise\n",
      "solve\n",
      "metal\n",
      "whether\n",
      "push\n",
      "seven\n",
      "paragraph\n",
      "third\n",
      "shall\n",
      "held\n",
      "hair\n",
      "describe\n",
      "cook\n",
      "floor\n",
      "either\n",
      "result\n",
      "burn\n",
      "hill\n",
      "safe\n",
      "cat\n",
      "century\n",
      "consider\n",
      "type\n",
      "law\n",
      "bit\n",
      "coast\n",
      "copy\n",
      "phrase\n",
      "silent\n",
      "tall\n",
      "sand\n",
      "soil\n",
      "roll\n",
      "temperature\n",
      "finger\n",
      "industry\n",
      "value\n",
      "fight\n",
      "lie\n",
      "beat\n",
      "excite\n",
      "natural\n",
      "view\n",
      "sense\n",
      "ear\n",
      "else\n",
      "quite\n",
      "broke\n",
      "case\n",
      "middle\n",
      "kill\n",
      "son\n",
      "lake\n",
      "moment\n",
      "scale\n",
      "loud\n",
      "spring\n",
      "observe\n",
      "child\n",
      "straight\n",
      "consonant\n",
      "nation\n",
      "dictionary\n",
      "milk\n",
      "speed\n",
      "method\n",
      "organ\n",
      "pay\n",
      "age\n",
      "section\n",
      "dress\n",
      "cloud\n",
      "surprise\n",
      "quiet\n",
      "stone\n",
      "tiny\n",
      "climb\n",
      "cool\n",
      "design\n",
      "poor\n",
      "lot\n",
      "experiment\n",
      "bottom\n",
      "key\n",
      "iron\n",
      "single\n",
      "stick\n",
      "flat\n",
      "twenty\n",
      "skin\n",
      "smile\n",
      "crease\n",
      "hole\n",
      "trade\n",
      "melody\n",
      "trip\n",
      "office\n",
      "receive\n",
      "row\n",
      "mouth\n",
      "exact\n",
      "symbol\n",
      "die\n",
      "least\n",
      "trouble\n",
      "shout\n",
      "except\n",
      "wrote\n",
      "seed\n",
      "tone\n",
      "join\n",
      "suggest\n",
      "clean\n",
      "break\n",
      "lady\n",
      "yard\n",
      "rise\n",
      "bad\n",
      "blow\n",
      "oil\n",
      "blood\n",
      "touch\n",
      "grew\n",
      "cent\n",
      "mix\n",
      "team\n",
      "wire\n",
      "cost\n",
      "lost\n",
      "brown\n",
      "wear\n",
      "garden\n",
      "equal\n",
      "sent\n",
      "choose\n",
      "fell\n",
      "fit\n",
      "flow\n",
      "fair\n",
      "bank\n",
      "collect\n",
      "save\n",
      "control\n",
      "decimal\n",
      "gentle\n",
      "woman\n",
      "captain\n",
      "practice\n",
      "separate\n",
      "difficult\n",
      "doctor\n",
      "please\n",
      "protect\n",
      "noon\n",
      "whose\n",
      "locate\n",
      "ring\n",
      "character\n",
      "insect\n",
      "caught\n",
      "period\n",
      "indicate\n",
      "radio\n",
      "spoke\n",
      "atom\n",
      "human\n",
      "history\n",
      "effect\n",
      "electric\n",
      "expect\n",
      "crop\n",
      "modern\n",
      "element\n",
      "hit\n",
      "student\n",
      "corner\n",
      "party\n",
      "supply\n",
      "bone\n",
      "rail\n",
      "imagine\n",
      "provide\n",
      "agree\n",
      "thus\n",
      "capital\n",
      "chair\n",
      "danger\n",
      "fruit\n",
      "rich\n",
      "thick\n",
      "soldier\n",
      "process\n",
      "operate\n",
      "guess\n",
      "necessary\n",
      "sharp\n",
      "wing\n",
      "create\n",
      "neighbor\n",
      "wash\n",
      "bat\n",
      "rather\n",
      "crowd\n",
      "corn\n",
      "compare\n",
      "poem\n",
      "string\n",
      "bell\n",
      "depend\n",
      "meat\n",
      "rub\n",
      "tube\n",
      "famous\n",
      "dollar\n",
      "stream\n",
      "fear\n",
      "sight\n",
      "thin\n",
      "triangle\n",
      "planet\n",
      "hurry\n",
      "chief\n",
      "colony\n",
      "clock\n",
      "mine\n",
      "tie\n",
      "enter\n",
      "major\n",
      "fresh\n",
      "search\n",
      "send\n",
      "yellow\n",
      "gun\n",
      "allow\n",
      "print\n",
      "dead\n",
      "spot\n",
      "desert\n",
      "suit\n",
      "current\n",
      "lift\n",
      "rose\n",
      "continue\n",
      "block\n",
      "chart\n",
      "hat\n",
      "sell\n",
      "success\n",
      "company\n",
      "subtract\n",
      "event\n",
      "particular\n",
      "deal\n",
      "swim\n",
      "term\n",
      "opposite\n",
      "wife\n",
      "shoe\n",
      "shoulder\n",
      "spread\n",
      "arrange\n",
      "camp\n",
      "invent\n",
      "cotton\n",
      "born\n",
      "determine\n",
      "quart\n",
      "nine\n",
      "truck\n",
      "noise\n",
      "level\n",
      "chance\n",
      "gather\n",
      "shop\n",
      "stretch\n",
      "throw\n",
      "shine\n",
      "property\n",
      "column\n",
      "molecule\n",
      "select\n",
      "wrong\n",
      "gray\n",
      "repeat\n",
      "require\n",
      "broad\n",
      "prepare\n",
      "salt\n",
      "nose\n",
      "plural\n",
      "anger\n",
      "claim\n",
      "continent\n",
      "oxygen\n",
      "sugar\n",
      "death\n",
      "pretty\n",
      "skill\n",
      "women\n",
      "season\n",
      "solution\n",
      "magnet\n",
      "silver\n",
      "thank\n",
      "branch\n",
      "match\n",
      "suffix\n",
      "especially\n",
      "fig\n",
      "afraid\n",
      "huge\n",
      "sister\n",
      "steel\n",
      "discuss\n",
      "forward\n",
      "similar\n",
      "guide\n",
      "experience\n",
      "score\n",
      "apple\n",
      "bought\n",
      "led\n",
      "pitch\n",
      "coat\n",
      "mass\n",
      "card\n",
      "band\n",
      "rope\n",
      "slip\n",
      "win\n",
      "dream\n",
      "evening\n",
      "condition\n",
      "feed\n",
      "tool\n",
      "total\n",
      "basic\n",
      "smell\n",
      "valley\n",
      "nor\n",
      "double\n",
      "seat\n",
      "arrive\n",
      "master\n",
      "track\n",
      "parent\n",
      "shore\n",
      "division\n",
      "sheet\n",
      "substance\n",
      "favor\n",
      "connect\n",
      "post\n",
      "spend\n",
      "chord\n",
      "fat\n",
      "glad\n",
      "original\n",
      "share\n",
      "station\n",
      "dad\n",
      "bread\n",
      "charge\n",
      "proper\n",
      "bar\n",
      "offer\n",
      "segment\n",
      "slave\n",
      "duck\n",
      "instant\n",
      "market\n",
      "degree\n",
      "populate\n",
      "chick\n",
      "dear\n",
      "enemy\n",
      "reply\n",
      "drink\n",
      "occur\n",
      "support\n",
      "speech\n",
      "nature\n",
      "range\n",
      "steam\n",
      "motion\n",
      "path\n",
      "liquid\n",
      "log\n",
      "meant\n",
      "quotient\n",
      "teeth\n",
      "shell\n",
      "neck\n",
      "['the', 'of', 'to', 'and', 'a', 'inhis', 'is', 'it', 'you', 'that', 'he', 'was', 'for', 'on', 'are', 'with', 'as', 'I', 'his', 'they', 'be', 'at', 'one', 'have', 'this', 'from', 'or', 'had', 'by', 'word', 'but', 'what', 'some', 'we', 'can', 'out', 'other', 'were', 'all', 'there', 'when', 'up', 'use', 'your', 'how', 'said', 'an', 'each', 'she', 'which', 'their', 'time', 'if', 'will', 'way', 'about', 'many', 'then', 'them', 'write', 'would', 'like', 'so', 'these', 'her', 'long', 'make', 'thing', 'see', 'him', 'two', 'has', 'look', 'more', 'day', 'could', 'go', 'come', 'did', 'number', 'sound', 'no', 'most', 'people', 'my', 'over', 'know', 'water', 'than', 'call', 'first', 'who', 'may', 'down', 'side', 'been', 'now', 'find', 'any', 'new', 'work', 'part', 'take', 'get', 'place', 'made', 'live', 'where', 'after', 'back', 'little', 'only', 'round', 'man', 'year', 'came', 'show', 'every', 'good', 'me', 'give', 'our', 'under', 'name', 'very', 'through', 'just', 'form', 'sentence', 'great', 'think', 'say', 'help', 'low', 'line', 'differ', 'turn', 'cause', 'much', 'mean', 'before', 'move', 'right', 'boy', 'old', 'too', 'same', 'tell', 'does', 'set', 'three', 'want', 'air', 'well', 'also', 'play', 'small', 'end', 'put', 'home', 'read', 'hand', 'port', 'large', 'spell', 'add', 'even', 'land', 'here', 'must', 'big', 'high', 'such', 'follow', 'act', 'why', 'ask', 'men', 'change', 'went', 'light', 'kind', 'off', 'need', 'house', 'picture', 'try', 'us', 'again', 'animal', 'point', 'mother', 'world', 'near', 'build', 'self', 'earth', 'father', 'head', 'stand', 'own', 'page', 'should', 'country', 'found', 'answer', 'school', 'grow', 'study', 'still', 'learn', 'plant', 'cover', 'food', 'sun', 'four', 'between', 'state', 'keep', 'eye', 'never', 'last', 'let', 'thought', 'city', 'tree', 'cross', 'farm', 'hard', 'start', 'might', 'story', 'saw', 'far', 'sea', 'draw', 'left', 'late', 'run', 'do', \"n't\", 'while', 'press', 'close', 'night', 'real', 'life', 'few', 'north', 'open', 'seem', 'together', 'next', 'white', 'children', 'begin', 'got', 'walk', 'example', 'ease', 'paper', 'group', 'always', 'music', 'those', 'both', 'mark', 'often', 'letter', 'until', 'mile', 'river', 'car', 'feet', 'care', 'second', 'book', 'carry', 'took', 'science', 'eat', 'room', 'friend', 'began', 'idea', 'fish', 'mountain', 'stop', 'once', 'base', 'hear', 'horse', 'cut', 'sure', 'watch', 'color', 'face', 'wood', 'main', 'enough', 'plain', 'girl', 'usual', 'young', 'ready', 'above', 'ever', 'red', 'list', 'though', 'feel', 'talk', 'bird', 'soon', 'body', 'dog', 'family', 'direct', 'pose', 'leave', 'song', 'measure', 'door', 'product', 'black', 'short', 'numeral', 'class', 'wind', 'question', 'happen', 'complete', 'ship', 'area', 'half', 'rock', 'order', 'fire', 'south', 'problem', 'piece', 'told', 'knew', 'pass', 'since', 'top', 'whole', 'king', 'space', 'heard', 'best', 'hour', 'better', 'true', 'during', 'hundred', 'five', 'remember', 'step', 'early', 'hold', 'west', 'ground', 'interest', 'reach', 'fast', 'verb', 'sing', 'listen', 'six', 'table', 'travel', 'less', 'morning', 'ten', 'simple', 'several', 'vowel', 'toward', 'war', 'lay', 'against', 'pattern', 'slow', 'center', 'love', 'person', 'money', 'serve', 'appear', 'road', 'map', 'rain', 'rule', 'govern', 'pull', 'cold', 'notice', 'voice', 'unit', 'power', 'town', 'fine', 'certain', 'fly', 'fall', 'lead', 'cry', 'dark', 'machine', 'note', 'wait', 'plan', 'figure', 'star', 'box', 'noun', 'field', 'rest', 'correct', 'able', 'pound', 'done', 'beauty', 'drive', 'stood', 'contain', 'front', 'teach', 'week', 'final', 'gave', 'green', 'oh', 'quick', 'develop', 'ocean', 'warm', 'free', 'minute', 'strong', 'special', 'mind', 'behind', 'clear', 'tail', 'produce', 'fact', 'street', 'inch', 'multiply', 'nothing', 'course', 'stay', 'wheel', 'full', 'force', 'blue', 'object', 'decide', 'surface', 'deep', 'moon', 'island', 'foot', 'system', 'busy', 'test', 'record', 'boat', 'common', 'gold', 'possible', 'plane', 'stead', 'dry', 'wonder', 'laugh', 'thousand', 'ago', 'ran', 'check', 'game', 'shape', 'equate', 'hot', 'miss', 'brought', 'heat', 'snow', 'tire', 'bring', 'yes', 'distant', 'fill', 'east', 'paint', 'language', 'among', 'grand', 'ball', 'yet', 'wave', 'drop', 'heart', 'am', 'present', 'heavy', 'dance', 'engine', 'position', 'arm', 'wide', 'sail', 'material', 'size', 'vary', 'settle', 'speak', 'weight', 'general', 'ice', 'matter', 'circle', 'pair', 'include', 'divide', 'syllable', 'felt', 'perhaps', 'pick', 'sudden', 'count', 'square', 'reason', 'length', 'represent', 'art', 'subject', 'region', 'energy', 'hunt', 'probable', 'bed', 'brother', 'egg', 'ride', 'cell', 'believe', 'fraction', 'forest', 'sit', 'race', 'window', 'store', 'summer', 'train', 'sleep', 'prove', 'lone', 'leg', 'exercise', 'wall', 'catch', 'mount', 'wish', 'sky', 'board', 'joy', 'winter', 'sat', 'written', 'wild', 'instrument', 'kept', 'glass', 'grass', 'cow', 'job', 'edge', 'sign', 'visit', 'past', 'soft', 'fun', 'bright', 'gas', 'weather', 'month', 'million', 'bear', 'finish', 'happy', 'hope', 'flower', 'clothe', 'strange', 'gone', 'jump', 'baby', 'eight', 'village', 'meet', 'root', 'buy', 'raise', 'solve', 'metal', 'whether', 'push', 'seven', 'paragraph', 'third', 'shall', 'held', 'hair', 'describe', 'cook', 'floor', 'either', 'result', 'burn', 'hill', 'safe', 'cat', 'century', 'consider', 'type', 'law', 'bit', 'coast', 'copy', 'phrase', 'silent', 'tall', 'sand', 'soil', 'roll', 'temperature', 'finger', 'industry', 'value', 'fight', 'lie', 'beat', 'excite', 'natural', 'view', 'sense', 'ear', 'else', 'quite', 'broke', 'case', 'middle', 'kill', 'son', 'lake', 'moment', 'scale', 'loud', 'spring', 'observe', 'child', 'straight', 'consonant', 'nation', 'dictionary', 'milk', 'speed', 'method', 'organ', 'pay', 'age', 'section', 'dress', 'cloud', 'surprise', 'quiet', 'stone', 'tiny', 'climb', 'cool', 'design', 'poor', 'lot', 'experiment', 'bottom', 'key', 'iron', 'single', 'stick', 'flat', 'twenty', 'skin', 'smile', 'crease', 'hole', 'trade', 'melody', 'trip', 'office', 'receive', 'row', 'mouth', 'exact', 'symbol', 'die', 'least', 'trouble', 'shout', 'except', 'wrote', 'seed', 'tone', 'join', 'suggest', 'clean', 'break', 'lady', 'yard', 'rise', 'bad', 'blow', 'oil', 'blood', 'touch', 'grew', 'cent', 'mix', 'team', 'wire', 'cost', 'lost', 'brown', 'wear', 'garden', 'equal', 'sent', 'choose', 'fell', 'fit', 'flow', 'fair', 'bank', 'collect', 'save', 'control', 'decimal', 'gentle', 'woman', 'captain', 'practice', 'separate', 'difficult', 'doctor', 'please', 'protect', 'noon', 'whose', 'locate', 'ring', 'character', 'insect', 'caught', 'period', 'indicate', 'radio', 'spoke', 'atom', 'human', 'history', 'effect', 'electric', 'expect', 'crop', 'modern', 'element', 'hit', 'student', 'corner', 'party', 'supply', 'bone', 'rail', 'imagine', 'provide', 'agree', 'thus', 'capital', 'chair', 'danger', 'fruit', 'rich', 'thick', 'soldier', 'process', 'operate', 'guess', 'necessary', 'sharp', 'wing', 'create', 'neighbor', 'wash', 'bat', 'rather', 'crowd', 'corn', 'compare', 'poem', 'string', 'bell', 'depend', 'meat', 'rub', 'tube', 'famous', 'dollar', 'stream', 'fear', 'sight', 'thin', 'triangle', 'planet', 'hurry', 'chief', 'colony', 'clock', 'mine', 'tie', 'enter', 'major', 'fresh', 'search', 'send', 'yellow', 'gun', 'allow', 'print', 'dead', 'spot', 'desert', 'suit', 'current', 'lift', 'rose', 'continue', 'block', 'chart', 'hat', 'sell', 'success', 'company', 'subtract', 'event', 'particular', 'deal', 'swim', 'term', 'opposite', 'wife', 'shoe', 'shoulder', 'spread', 'arrange', 'camp', 'invent', 'cotton', 'born', 'determine', 'quart', 'nine', 'truck', 'noise', 'level', 'chance', 'gather', 'shop', 'stretch', 'throw', 'shine', 'property', 'column', 'molecule', 'select', 'wrong', 'gray', 'repeat', 'require', 'broad', 'prepare', 'salt', 'nose', 'plural', 'anger', 'claim', 'continent', 'oxygen', 'sugar', 'death', 'pretty', 'skill', 'women', 'season', 'solution', 'magnet', 'silver', 'thank', 'branch', 'match', 'suffix', 'especially', 'fig', 'afraid', 'huge', 'sister', 'steel', 'discuss', 'forward', 'similar', 'guide', 'experience', 'score', 'apple', 'bought', 'led', 'pitch', 'coat', 'mass', 'card', 'band', 'rope', 'slip', 'win', 'dream', 'evening', 'condition', 'feed', 'tool', 'total', 'basic', 'smell', 'valley', 'nor', 'double', 'seat', 'arrive', 'master', 'track', 'parent', 'shore', 'division', 'sheet', 'substance', 'favor', 'connect', 'post', 'spend', 'chord', 'fat', 'glad', 'original', 'share', 'station', 'dad', 'bread', 'charge', 'proper', 'bar', 'offer', 'segment', 'slave', 'duck', 'instant', 'market', 'degree', 'populate', 'chick', 'dear', 'enemy', 'reply', 'drink', 'occur', 'support', 'speech', 'nature', 'range', 'steam', 'motion', 'path', 'liquid', 'log', 'meant', 'quotient', 'teeth', 'shell', 'neck']\n"
     ]
    }
   ],
   "source": [
    "l = []\n",
    "for token in word_tokens:\n",
    "    if token.is_space:\n",
    "        pass\n",
    "    elif token.has_vector:\n",
    "        l.append(token.text)\n",
    "        print(token.text)\n",
    "len(l)\n",
    "print(l)"
   ]
  },
  {
   "cell_type": "code",
   "execution_count": 120,
   "metadata": {
    "colab": {},
    "colab_type": "code",
    "id": "TElYX-h41oED"
   },
   "outputs": [],
   "source": [
    "import collections\n",
    "\n",
    "for item, count in collections.Counter(l).items():\n",
    "    if count > 1:\n",
    "        print(item)"
   ]
  },
  {
   "cell_type": "code",
   "execution_count": 126,
   "metadata": {
    "colab": {},
    "colab_type": "code",
    "id": "Wbtt20yJxK3b"
   },
   "outputs": [
    {
     "name": "stdout",
     "output_type": "stream",
     "text": [
      "998\n"
     ]
    }
   ],
   "source": [
    "# Create a vector of tokens with numpy\n",
    "word_vectors = np.vstack([word.vector for word in word_tokens if word.has_vector and not word.is_space])\n",
    "print(len(word_vectors))"
   ]
  },
  {
   "cell_type": "code",
   "execution_count": 127,
   "metadata": {
    "colab": {},
    "colab_type": "code",
    "id": "zwMsbi02sYu9"
   },
   "outputs": [],
   "source": [
    "#Run a PCA of 2 components\n",
    "tsne = TSNE(n_components=2, init='random', random_state=0, perplexity=1)\n",
    "word_vecs_tsne = tsne.fit_transform(word_vectors)"
   ]
  },
  {
   "cell_type": "code",
   "execution_count": 128,
   "metadata": {
    "colab": {
     "base_uri": "https://localhost:8080/",
     "height": 136
    },
    "colab_type": "code",
    "id": "gkoH22W0yGiI",
    "outputId": "645682ee-5bf7-41d2-c6da-1942c0878890"
   },
   "outputs": [
    {
     "name": "stdout",
     "output_type": "stream",
     "text": [
      "[[ 17.994694    87.889496  ]\n",
      " [-40.469746   -59.60663   ]\n",
      " [-48.942528   -60.749565  ]\n",
      " ...\n",
      " [-72.89238     -0.09691934]\n",
      " [ 48.28749    -28.388193  ]\n",
      " [-20.344158     3.4833374 ]]\n"
     ]
    }
   ],
   "source": [
    "print(word_vecs_tsne)"
   ]
  },
  {
   "cell_type": "code",
   "execution_count": 129,
   "metadata": {
    "colab": {
     "base_uri": "https://localhost:8080/",
     "height": 34
    },
    "colab_type": "code",
    "id": "ryIwDz4z3_Mm",
    "outputId": "c442e8eb-cef5-47af-8c3d-7f7b14870f5b"
   },
   "outputs": [
    {
     "data": {
      "text/plain": [
       "998"
      ]
     },
     "execution_count": 129,
     "metadata": {},
     "output_type": "execute_result"
    }
   ],
   "source": [
    "len(l)"
   ]
  },
  {
   "cell_type": "code",
   "execution_count": 130,
   "metadata": {
    "colab": {},
    "colab_type": "code",
    "id": "2yT-Kz2uyEJ9"
   },
   "outputs": [],
   "source": [
    "# https://docs.scipy.org/doc/numpy/reference/generated/numpy.c_.html\n",
    "word_vecs_tsne = np.c_[l, word_vecs_tsne]"
   ]
  },
  {
   "cell_type": "code",
   "execution_count": 131,
   "metadata": {
    "colab": {
     "base_uri": "https://localhost:8080/",
     "height": 136
    },
    "colab_type": "code",
    "id": "wXyFFopp51su",
    "outputId": "0360132a-ec20-4987-bc0e-77cf5a070170"
   },
   "outputs": [
    {
     "name": "stdout",
     "output_type": "stream",
     "text": [
      "[['the' '17.994694' '87.889496']\n",
      " ['of' '-40.469746' '-59.60663']\n",
      " ['to' '-48.942528' '-60.749565']\n",
      " ...\n",
      " ['teeth' '-72.89238' '-0.09691934']\n",
      " ['shell' '48.28749' '-28.388193']\n",
      " ['neck' '-20.344158' '3.4833374']]\n"
     ]
    }
   ],
   "source": [
    "print(word_vecs_tsne)"
   ]
  },
  {
   "cell_type": "code",
   "execution_count": 132,
   "metadata": {
    "colab": {},
    "colab_type": "code",
    "id": "g5ECpbq851s6"
   },
   "outputs": [],
   "source": [
    "component_1_tsne = [float(x) for x in word_vecs_tsne[:, 1]]\n",
    "component_2_tsne = [float(x) for x in word_vecs_tsne[:, 2]]\n",
    "distance = [float(x)-float(y) for x, y in zip(word_vecs_tsne[:, 1], word_vecs_tsne[:, 2])]"
   ]
  },
  {
   "cell_type": "code",
   "execution_count": 133,
   "metadata": {
    "colab": {
     "base_uri": "https://localhost:8080/",
     "height": 1000
    },
    "colab_type": "code",
    "id": "Ze5appDp51s9",
    "outputId": "89133fda-c850-4c22-d248-45494ae31878"
   },
   "outputs": [
    {
     "data": {
      "image/png": "[encoded data removed]",
      "text/plain": [
       "<Figure size 1440x1440 with 1 Axes>"
      ]
     },
     "metadata": {
      "needs_background": "light"
     },
     "output_type": "display_data"
    }
   ],
   "source": [
    "%matplotlib inline\n",
    "import matplotlib.pyplot as plt\n",
    "from mpl_toolkits.mplot3d import Axes3D\n",
    "\n",
    "fig, ax = plt.subplots(figsize=(20,20))\n",
    "ax.scatter(component_1_tsne, component_2_tsne, c=distance)\n",
    "\n",
    "for i, txt in enumerate(word_vecs_tsne[:, 0]):\n",
    "    ax.annotate(txt, (component_1_tsne[i], component_2_tsne[i]))"
   ]
  },
  {
   "cell_type": "markdown",
   "metadata": {
    "colab_type": "text",
    "id": "_L8FYMHO66A9"
   },
   "source": [
    "# Examples with Jaccard similarity and tf-idf"
   ]
  },
  {
   "cell_type": "code",
   "execution_count": 134,
   "metadata": {
    "colab": {},
    "colab_type": "code",
    "id": "mC7uibt67HZd"
   },
   "outputs": [],
   "source": [
    "# Source: http://billchambers.me/tutorials/2014/12/21/tf-idf-explained-in-python.html\n",
    "\n",
    "t0 = \"China has a strong economy that is growing at a rapid pace. However politically it differs greatly from the US Economy.\"\n",
    "t1 = \"At last, China seems serious about confronting an endemic problem: domestic violence and corruption.\"\n",
    "t2 = \"Japan's prime minister, Shinzo Abe, is working towards healing the economic turmoil in his own country for his view on the future of his people.\"\n",
    "t3 = \"Vladimir Putin is working hard to fix the economy in Russia as the Ruble has tumbled.\"\n",
    "t4 = \"What's the future of Abenomics? We asked Shinzo Abe for his views\"\n",
    "t5 = \"Obama has eased sanctions on Cuba while accelerating those against the Russian Economy, even as the Ruble's value falls almost daily.\"\n",
    "t6 = \"Vladimir Putin was found to be riding a horse, again, without a shirt on while hunting deer. Vladimir Putin always seems so serious about things - even riding horses.\""
   ]
  },
  {
   "cell_type": "markdown",
   "metadata": {
    "colab_type": "text",
    "id": "D0s6T5R9sZST"
   },
   "source": [
    "## Jaccard similarity: exercise example\n",
    "\n",
    "1. Write a function `lemmatize` that receives a spaCy `Doc` and returns a list of lemmas as strings, removing stopwords, punctuation signs and whitespace\n",
    "2. Write a function that receives two spaCy `Doc`s and returns a floating point number representing the Jaccard similarity (see formula below) (hint: use [`set`s](https://docs.python.org/3/library/stdtypes.html#set))\n",
    "3. Compute the Jaccard similarity between `t0` and `t1`\n",
    "4. Create a pandas `DataFrame` that holds the Jaccard similarity of all the text combinations from `t0` to `t6` (hint: use [`enumerate`](http://book.pythontips.com/en/latest/enumerate.html#enumerate))\n",
    "\n",
    "$$ J(A,B) = {{|A \\cap B|}\\over{|A \\cup B|}} $$"
   ]
  },
  {
   "cell_type": "markdown",
   "metadata": {
    "colab_type": "text",
    "id": "BAqzQDG97Kb4"
   },
   "source": [
    "### Function to lemmatize the spaCy Doc"
   ]
  },
  {
   "cell_type": "code",
   "execution_count": 139,
   "metadata": {
    "colab": {},
    "colab_type": "code",
    "id": "lNvSAPaNsZSW"
   },
   "outputs": [],
   "source": [
    "import spacy\n",
    "from spacy.lang.en.stop_words import STOP_WORDS"
   ]
  },
  {
   "cell_type": "code",
   "execution_count": 140,
   "metadata": {
    "colab": {},
    "colab_type": "code",
    "id": "cVefcX8NsZSb"
   },
   "outputs": [],
   "source": [
    "nlp = spacy.load(\"en\")"
   ]
  },
  {
   "cell_type": "code",
   "execution_count": 141,
   "metadata": {
    "colab": {},
    "colab_type": "code",
    "id": "p9h5wlBksZSe"
   },
   "outputs": [],
   "source": [
    "def lemmatize(doc):\n",
    "    return [token.lemma_ for token in doc if not\n",
    "           (token.is_punct or token.is_space or token.lower_ in STOP_WORDS)]"
   ]
  },
  {
   "cell_type": "code",
   "execution_count": 142,
   "metadata": {
    "colab": {
     "base_uri": "https://localhost:8080/",
     "height": 187
    },
    "colab_type": "code",
    "id": "zSsjqOPGsZSh",
    "outputId": "54b68921-7809-424c-e95c-2dd7c61bd0ea"
   },
   "outputs": [
    {
     "data": {
      "text/plain": [
       "['China',\n",
       " 'strong',\n",
       " 'economy',\n",
       " 'grow',\n",
       " 'rapid',\n",
       " 'pace',\n",
       " 'politically',\n",
       " 'differ',\n",
       " 'greatly',\n",
       " 'Economy']"
      ]
     },
     "execution_count": 142,
     "metadata": {},
     "output_type": "execute_result"
    }
   ],
   "source": [
    "lemmatize(nlp(t0))"
   ]
  },
  {
   "cell_type": "markdown",
   "metadata": {
    "colab_type": "text",
    "id": "0WE3PTCm7blo"
   },
   "source": [
    "### Jaccard index function"
   ]
  },
  {
   "cell_type": "code",
   "execution_count": 143,
   "metadata": {
    "colab": {},
    "colab_type": "code",
    "id": "727kREZLsZSl"
   },
   "outputs": [],
   "source": [
    "def jaccard(doc1, doc2):\n",
    "    s1 = set(lemmatize(doc1))\n",
    "    s2 = set(lemmatize(doc2))\n",
    "    return len(s1.intersection(s2)) / len(s1.union(s2))"
   ]
  },
  {
   "cell_type": "markdown",
   "metadata": {
    "colab_type": "text",
    "id": "mR2bFxak7hdA"
   },
   "source": [
    "#### Computation of t0 - t1"
   ]
  },
  {
   "cell_type": "code",
   "execution_count": 144,
   "metadata": {
    "colab": {
     "base_uri": "https://localhost:8080/",
     "height": 34
    },
    "colab_type": "code",
    "id": "HfLSVPYksZSp",
    "outputId": "1ee8f56e-5e3d-4dd9-8345-e1114535fa54"
   },
   "outputs": [
    {
     "data": {
      "text/plain": [
       "0.0625"
      ]
     },
     "execution_count": 144,
     "metadata": {},
     "output_type": "execute_result"
    }
   ],
   "source": [
    "jaccard(nlp(t0), nlp(t1))"
   ]
  },
  {
   "cell_type": "markdown",
   "metadata": {
    "colab_type": "text",
    "id": "WvuzkT8i76ZR"
   },
   "source": [
    "### Create a pandas DataFrame that holds the Jaccard similarity of all the text combinations from t0 to t6 "
   ]
  },
  {
   "cell_type": "code",
   "execution_count": 145,
   "metadata": {
    "colab": {},
    "colab_type": "code",
    "id": "GjdWFSHisZSs"
   },
   "outputs": [],
   "source": [
    "import numpy as np\n",
    "import pandas as pd"
   ]
  },
  {
   "cell_type": "code",
   "execution_count": 148,
   "metadata": {
    "colab": {
     "base_uri": "https://localhost:8080/",
     "height": 266
    },
    "colab_type": "code",
    "id": "BtLL5rLYsZSw",
    "outputId": "5fc06456-9afc-44f3-db96-b378c307c3ee"
   },
   "outputs": [
    {
     "data": {
      "text/html": [
       "<div>\n",
       "<style scoped>\n",
       "    .dataframe tbody tr th:only-of-type {\n",
       "        vertical-align: middle;\n",
       "    }\n",
       "\n",
       "    .dataframe tbody tr th {\n",
       "        vertical-align: top;\n",
       "    }\n",
       "\n",
       "    .dataframe thead th {\n",
       "        text-align: right;\n",
       "    }\n",
       "</style>\n",
       "<table border=\"1\" class=\"dataframe\">\n",
       "  <thead>\n",
       "    <tr style=\"text-align: right;\">\n",
       "      <th></th>\n",
       "      <th>0</th>\n",
       "      <th>1</th>\n",
       "      <th>2</th>\n",
       "      <th>3</th>\n",
       "      <th>4</th>\n",
       "      <th>5</th>\n",
       "      <th>6</th>\n",
       "    </tr>\n",
       "  </thead>\n",
       "  <tbody>\n",
       "    <tr>\n",
       "      <td>0</td>\n",
       "      <td>1.000000</td>\n",
       "      <td>0.0625</td>\n",
       "      <td>0.000000</td>\n",
       "      <td>0.055556</td>\n",
       "      <td>0.000000</td>\n",
       "      <td>0.050000</td>\n",
       "      <td>0.000</td>\n",
       "    </tr>\n",
       "    <tr>\n",
       "      <td>1</td>\n",
       "      <td>0.062500</td>\n",
       "      <td>1.0000</td>\n",
       "      <td>0.000000</td>\n",
       "      <td>0.000000</td>\n",
       "      <td>0.000000</td>\n",
       "      <td>0.000000</td>\n",
       "      <td>0.000</td>\n",
       "    </tr>\n",
       "    <tr>\n",
       "      <td>2</td>\n",
       "      <td>0.000000</td>\n",
       "      <td>0.0000</td>\n",
       "      <td>1.000000</td>\n",
       "      <td>0.047619</td>\n",
       "      <td>0.266667</td>\n",
       "      <td>0.000000</td>\n",
       "      <td>0.000</td>\n",
       "    </tr>\n",
       "    <tr>\n",
       "      <td>3</td>\n",
       "      <td>0.055556</td>\n",
       "      <td>0.0000</td>\n",
       "      <td>0.047619</td>\n",
       "      <td>1.000000</td>\n",
       "      <td>0.000000</td>\n",
       "      <td>0.052632</td>\n",
       "      <td>0.125</td>\n",
       "    </tr>\n",
       "    <tr>\n",
       "      <td>4</td>\n",
       "      <td>0.000000</td>\n",
       "      <td>0.0000</td>\n",
       "      <td>0.266667</td>\n",
       "      <td>0.000000</td>\n",
       "      <td>1.000000</td>\n",
       "      <td>0.000000</td>\n",
       "      <td>0.000</td>\n",
       "    </tr>\n",
       "    <tr>\n",
       "      <td>5</td>\n",
       "      <td>0.050000</td>\n",
       "      <td>0.0000</td>\n",
       "      <td>0.000000</td>\n",
       "      <td>0.052632</td>\n",
       "      <td>0.000000</td>\n",
       "      <td>1.000000</td>\n",
       "      <td>0.000</td>\n",
       "    </tr>\n",
       "    <tr>\n",
       "      <td>6</td>\n",
       "      <td>0.000000</td>\n",
       "      <td>0.0000</td>\n",
       "      <td>0.000000</td>\n",
       "      <td>0.125000</td>\n",
       "      <td>0.000000</td>\n",
       "      <td>0.000000</td>\n",
       "      <td>1.000</td>\n",
       "    </tr>\n",
       "  </tbody>\n",
       "</table>\n",
       "</div>"
      ],
      "text/plain": [
       "          0       1         2         3         4         5      6\n",
       "0  1.000000  0.0625  0.000000  0.055556  0.000000  0.050000  0.000\n",
       "1  0.062500  1.0000  0.000000  0.000000  0.000000  0.000000  0.000\n",
       "2  0.000000  0.0000  1.000000  0.047619  0.266667  0.000000  0.000\n",
       "3  0.055556  0.0000  0.047619  1.000000  0.000000  0.052632  0.125\n",
       "4  0.000000  0.0000  0.266667  0.000000  1.000000  0.000000  0.000\n",
       "5  0.050000  0.0000  0.000000  0.052632  0.000000  1.000000  0.000\n",
       "6  0.000000  0.0000  0.000000  0.125000  0.000000  0.000000  1.000"
      ]
     },
     "execution_count": 148,
     "metadata": {},
     "output_type": "execute_result"
    }
   ],
   "source": [
    "data = np.zeros((7, 7))\n",
    "docs = [nlp(text) for text in (t0, t1, t2, t3, t4, t5, t6)]\n",
    "for ii, doc_a in enumerate(docs):\n",
    "    for jj, doc_b in enumerate(docs):\n",
    "        data[ii, jj] = jaccard(doc_a, doc_b)\n",
    "\n",
    "pd.DataFrame(data)"
   ]
  },
  {
   "cell_type": "markdown",
   "metadata": {
    "colab_type": "text",
    "id": "izlYn82WGrKb"
   },
   "source": [
    "## Exercise Jaccard similarity:\n",
    "\n",
    "Collect at least 6 sentences from political parties in your country. Try to do Jaccard Similarity on them so that you can see how similar the sentences are between the parties. You neeed to translate the sentences to english, so that I can evaluate :)"
   ]
  },
  {
   "cell_type": "code",
   "execution_count": null,
   "metadata": {
    "colab": {},
    "colab_type": "code",
    "id": "Gnp98vjDHflH"
   },
   "outputs": [],
   "source": []
  },
  {
   "cell_type": "markdown",
   "metadata": {
    "colab_type": "text",
    "id": "ErRdYqMi8RDN"
   },
   "source": [
    "## TF - IDF: exercise example\n",
    "\n",
    "In information retrieval, tf–idf or TFIDF, short for term frequency–inverse document frequency, is a numerical statistic that is intended to reflect how important a word is to a document in a collection or corpus. It is often used as a weighting factor in searches of information retrieval, text mining, and user modeling. The tf–idf value increases proportionally to the number of times a word appears in the document and is offset by the number of documents in the corpus that contain the word, which helps to adjust for the fact that some words appear more frequently in general. tf–idf is one of the most popular term-weighting schemes today; 83% of text-based recommender systems in digital libraries use tf–idf.\n",
    "\n",
    "*Source: Wikipedia*\n",
    "\n",
    "1. Write a function `tf` that receives a string and a spaCy `Doc` and returns the number of times the word appears in the `lemmatize`d `Doc`\n",
    "2. Write a function `idf` that receives a string and a list of spaCy `Doc`s and returns the number of docs that contain the word\n",
    "3. Write a function `tf_idf` that receives a string, a spaCy `Doc` and a list of spaCy `Doc`s and returns the product of `tf(t, d) · idf(t, D)`.\n",
    "4. Write a function `all_lemmas` that receives a list of `Doc`s and returns a `set` of all available `lemma`s\n",
    "5. Write a function `tf_idf_doc` that receives a `Doc` and a list of `Doc`s and returns a dictionary of `{lemma: TF-IDF value}`, corresponding to each the lemmas of all the available documents\n",
    "6. Write a function `tf_idf_scores` that receives a list of `Doc`s and returns a `DataFrame` displaying the lemmas in the columns and the documents in the rows.\n",
    "7. Visualize the TF-IDF, like this:\n",
    "\n",
    "![alt text](https://github.com/vfp1/bts-mbds-data-science-foundations-2019/raw/master/sessions/img/tf-idf.png)"
   ]
  },
  {
   "cell_type": "code",
   "execution_count": 166,
   "metadata": {
    "colab": {},
    "colab_type": "code",
    "id": "OW1rWzva_8fU"
   },
   "outputs": [],
   "source": [
    "# Source: http://billchambers.me/tutorials/2014/12/21/tf-idf-explained-in-python.html\n",
    "\n",
    "t0 = \"China has a strong economy that is growing at a rapid pace. However politically it differs greatly from the US Economy.\"\n",
    "t1 = \"At last, China seems serious about confronting an endemic problem: domestic violence and corruption.\"\n",
    "t2 = \"Japan's prime minister, Shinzo Abe, is working towards healing the economic turmoil in his own country for his view on the future of his people.\"\n",
    "t3 = \"Vladimir Putin is working hard to fix the economy in Russia as the Ruble has tumbled.\"\n",
    "t4 = \"What's the future of Abenomics? We asked Shinzo Abe for his views\"\n",
    "t5 = \"Obama has eased sanctions on Cuba while accelerating those against the Russian Economy, even as the Ruble's value falls almost daily.\"\n",
    "t6 = \"Vladimir Putin was found to be riding a horse, again, without a shirt on while hunting deer. Vladimir Putin always seems so serious about things - even riding horses.\""
   ]
  },
  {
   "cell_type": "code",
   "execution_count": 149,
   "metadata": {
    "colab": {
     "base_uri": "https://localhost:8080/",
     "height": 156
    },
    "colab_type": "code",
    "id": "rDNu0nd8_70G",
    "outputId": "4dee5f33-5757-4cbd-8794-b8baaf2744e4"
   },
   "outputs": [
    {
     "name": "stdout",
     "output_type": "stream",
     "text": [
      "China has a strong economy that is growing at a rapid pace. However politically it differs greatly from the US Economy.\n",
      "At last, China seems serious about confronting an endemic problem: domestic violence and corruption.\n",
      "Japan's prime minister, Shinzo Abe, is working towards healing the economic turmoil in his own country for his view on the future of his people.\n",
      "Vladimir Putin is working hard to fix the economy in Russia as the Ruble has tumbled.\n",
      "What's the future of Abenomics? We asked Shinzo Abe for his views\n",
      "Obama has eased sanctions on Cuba while accelerating those against the Russian Economy, even as the Ruble's value falls almost daily.\n",
      "Vladimir Putin was found to be riding a horse, again, without a shirt on while hunting deer. Vladimir Putin always seems so serious about things - even riding horses.\n"
     ]
    }
   ],
   "source": [
    "docs = [nlp(text) for text in (t0, t1, t2, t3, t4, t5, t6)]\n",
    "\n",
    "for doc in docs:\n",
    "    print(doc)"
   ]
  },
  {
   "cell_type": "markdown",
   "metadata": {
    "colab_type": "text",
    "id": "wfWG5YQl99d6"
   },
   "source": [
    "### Step 1\n",
    "Write a function tf that receives a string and a spaCy Doc and returns the number of times the word appears in the lemmatized Doc"
   ]
  },
  {
   "cell_type": "code",
   "execution_count": 150,
   "metadata": {
    "colab": {},
    "colab_type": "code",
    "id": "IiqP_m7CuFLY"
   },
   "outputs": [],
   "source": [
    "from collections import Counter"
   ]
  },
  {
   "cell_type": "code",
   "execution_count": 151,
   "metadata": {
    "colab": {},
    "colab_type": "code",
    "id": "tGUNz66Q-DVx"
   },
   "outputs": [],
   "source": [
    "def tf(word, doc):\n",
    "    counts = Counter(lemmatize(doc))\n",
    "    return counts[word]"
   ]
  },
  {
   "cell_type": "code",
   "execution_count": 152,
   "metadata": {
    "colab": {
     "base_uri": "https://localhost:8080/",
     "height": 34
    },
    "colab_type": "code",
    "id": "xYt55aWx-FmD",
    "outputId": "e438129e-6050-4563-e0f6-10f6da161589"
   },
   "outputs": [
    {
     "data": {
      "text/plain": [
       "1"
      ]
     },
     "execution_count": 152,
     "metadata": {},
     "output_type": "execute_result"
    }
   ],
   "source": [
    "tf('China', nlp(t0))"
   ]
  },
  {
   "cell_type": "markdown",
   "metadata": {
    "colab_type": "text",
    "id": "Mug1Z4hn-YyI"
   },
   "source": [
    "### Step 2\n",
    "Write a function idf that receives a string and a list of spaCy Docs and returns the number of docs that contain the word"
   ]
  },
  {
   "cell_type": "code",
   "execution_count": 170,
   "metadata": {
    "colab": {},
    "colab_type": "code",
    "id": "y6UQ0NK--G54"
   },
   "outputs": [],
   "source": [
    "def idf(word, docs):\n",
    "    count = 0\n",
    "    for doc in docs:\n",
    "        if word in lemmatize(doc):\n",
    "            count += 1\n",
    "    return  count/len(docs)"
   ]
  },
  {
   "cell_type": "code",
   "execution_count": 171,
   "metadata": {
    "colab": {
     "base_uri": "https://localhost:8080/",
     "height": 34
    },
    "colab_type": "code",
    "id": "JaN137kM-i3_",
    "outputId": "3a76dee6-3f2d-4bd3-b9d9-3d4177c09539"
   },
   "outputs": [
    {
     "data": {
      "text/plain": [
       "0.14285714285714285"
      ]
     },
     "execution_count": 171,
     "metadata": {},
     "output_type": "execute_result"
    }
   ],
   "source": [
    "idf('grow', docs)"
   ]
  },
  {
   "cell_type": "markdown",
   "metadata": {
    "colab_type": "text",
    "id": "9EfY5mGC-rKr"
   },
   "source": [
    "### Step 3\n",
    "Write a function tf_idf that receives a string, a spaCy Doc and a list of spaCy Docs and returns the product of tf(t, d) · idf(t, D)."
   ]
  },
  {
   "cell_type": "code",
   "execution_count": 175,
   "metadata": {
    "colab": {},
    "colab_type": "code",
    "id": "D1AM7zKF-kYW"
   },
   "outputs": [],
   "source": [
    "def tf_idf(word, doc, docs):\n",
    "    return tf(word, doc) * idf(word, docs)"
   ]
  },
  {
   "cell_type": "code",
   "execution_count": 178,
   "metadata": {
    "colab": {
     "base_uri": "https://localhost:8080/",
     "height": 34
    },
    "colab_type": "code",
    "id": "qXAiOASm_Pqj",
    "outputId": "d4d959e9-cd3a-4bc8-d049-de366af598ae"
   },
   "outputs": [
    {
     "data": {
      "text/plain": [
       "0.2857142857142857"
      ]
     },
     "execution_count": 178,
     "metadata": {},
     "output_type": "execute_result"
    }
   ],
   "source": [
    "tf_idf(\"China\", nlp(t1), docs)"
   ]
  },
  {
   "cell_type": "markdown",
   "metadata": {
    "colab_type": "text",
    "id": "ZtoC2OR0_bxO"
   },
   "source": [
    "### Step 4\n",
    "\n",
    "Write a function all_lemmas that receives a list of Docs and returns a set of all available lemmas"
   ]
  },
  {
   "cell_type": "code",
   "execution_count": 179,
   "metadata": {
    "colab": {},
    "colab_type": "code",
    "id": "irZHaLN__dFL"
   },
   "outputs": [],
   "source": [
    "def all_lemmas(docs):\n",
    "    lemmas = set()\n",
    "    for doc in docs:\n",
    "        lemmas.update(lemmatize(doc))\n",
    "    return lemmas"
   ]
  },
  {
   "cell_type": "code",
   "execution_count": 180,
   "metadata": {
    "colab": {
     "base_uri": "https://localhost:8080/",
     "height": 54
    },
    "colab_type": "code",
    "id": "rnLjollnARSg",
    "outputId": "7ca0f4e8-2256-46ca-d5cc-1b83fda7236c"
   },
   "outputs": [
    {
     "name": "stdout",
     "output_type": "stream",
     "text": [
      "{'pace', 'Russian', 'tumble', 'thing', 'fix', 'problem', 'value', 'China', 'corruption', 'heal', 'grow', 'Vladimir', 'Shinzo', 'Economy', 'turmoil', 'country', 'minister', 'economy', 'prime', 'politically', 'domestic', 'Putin', 'ruble', 'horse', 'confront', 'view', 'hunt', 'economic', 'Cuba', 'shirt', 'Abenomics', 'rapid', 'hard', 'ask', 'people', 'greatly', 'accelerate', 'work', 'Abe', 'ease', 'strong', 'Russia', 'ride', 'fall', 'Obama', 'future', 'differ', 'endemic', 'Japan', 'sanction', 'find', 'deer', 'violence', 'daily'}\n"
     ]
    }
   ],
   "source": [
    "print(all_lemmas(docs))"
   ]
  },
  {
   "cell_type": "markdown",
   "metadata": {
    "colab_type": "text",
    "id": "JqO2a-K1AYQq"
   },
   "source": [
    "### Step 5\n",
    "Write a function tf_idf_doc that receives a Doc and a list of Docs and returns a dictionary of {lemma: TF-IDF value}, corresponding to each the lemmas of all the available documents"
   ]
  },
  {
   "cell_type": "code",
   "execution_count": 181,
   "metadata": {
    "colab": {},
    "colab_type": "code",
    "id": "RAq9pU21ASWz"
   },
   "outputs": [],
   "source": [
    "def tf_idf_doc(doc, docs):\n",
    "    lemmas = all_lemmas(docs)\n",
    "    res = {}\n",
    "    for lemma in lemmas:\n",
    "        res[lemma] = tf_idf(lemma, doc, docs)\n",
    "    return res"
   ]
  },
  {
   "cell_type": "code",
   "execution_count": 182,
   "metadata": {
    "colab": {
     "base_uri": "https://localhost:8080/",
     "height": 54
    },
    "colab_type": "code",
    "id": "TC7WTvepAjq8",
    "outputId": "5a9f5676-89af-4bdf-d816-d3942089bd88"
   },
   "outputs": [
    {
     "name": "stdout",
     "output_type": "stream",
     "text": [
      "{'pace': 0.14285714285714285, 'Russian': 0.0, 'tumble': 0.0, 'thing': 0.0, 'fix': 0.0, 'problem': 0.0, 'value': 0.0, 'China': 0.2857142857142857, 'corruption': 0.0, 'heal': 0.0, 'grow': 0.14285714285714285, 'Vladimir': 0.0, 'Shinzo': 0.0, 'Economy': 0.2857142857142857, 'turmoil': 0.0, 'country': 0.0, 'minister': 0.0, 'economy': 0.2857142857142857, 'prime': 0.0, 'politically': 0.14285714285714285, 'domestic': 0.0, 'Putin': 0.0, 'ruble': 0.0, 'horse': 0.0, 'confront': 0.0, 'view': 0.0, 'hunt': 0.0, 'economic': 0.0, 'Cuba': 0.0, 'shirt': 0.0, 'Abenomics': 0.0, 'rapid': 0.14285714285714285, 'hard': 0.0, 'ask': 0.0, 'people': 0.0, 'greatly': 0.14285714285714285, 'accelerate': 0.0, 'work': 0.0, 'Abe': 0.0, 'ease': 0.0, 'strong': 0.14285714285714285, 'Russia': 0.0, 'ride': 0.0, 'fall': 0.0, 'Obama': 0.0, 'future': 0.0, 'differ': 0.14285714285714285, 'endemic': 0.0, 'Japan': 0.0, 'sanction': 0.0, 'find': 0.0, 'deer': 0.0, 'violence': 0.0, 'daily': 0.0}\n"
     ]
    }
   ],
   "source": [
    "print(tf_idf_doc(docs[0], docs))"
   ]
  },
  {
   "cell_type": "markdown",
   "metadata": {
    "colab_type": "text",
    "id": "mh8Gbm2rAq9h"
   },
   "source": [
    "### Step 6\n",
    "Write a function tf_idf_scores that receives a list of Docs and returns a DataFrame displaying the lemmas in the columns and the documents in the rows."
   ]
  },
  {
   "cell_type": "code",
   "execution_count": 183,
   "metadata": {
    "colab": {},
    "colab_type": "code",
    "id": "I14uEq1CAkvK"
   },
   "outputs": [],
   "source": [
    "def tf_idf_scores(docs):\n",
    "    lemmas = all_lemmas(docs)\n",
    "    rows = []\n",
    "    for doc in docs:\n",
    "        rows.append(tf_idf_doc(doc, docs))\n",
    "\n",
    "    return pd.DataFrame(rows)"
   ]
  },
  {
   "cell_type": "code",
   "execution_count": 184,
   "metadata": {
    "colab": {
     "base_uri": "https://localhost:8080/",
     "height": 286
    },
    "colab_type": "code",
    "id": "BnvyKJqqBJfL",
    "outputId": "3b91afc1-dc79-4806-bb87-a52e68a8b4c6"
   },
   "outputs": [
    {
     "data": {
      "text/html": [
       "<div>\n",
       "<style scoped>\n",
       "    .dataframe tbody tr th:only-of-type {\n",
       "        vertical-align: middle;\n",
       "    }\n",
       "\n",
       "    .dataframe tbody tr th {\n",
       "        vertical-align: top;\n",
       "    }\n",
       "\n",
       "    .dataframe thead th {\n",
       "        text-align: right;\n",
       "    }\n",
       "</style>\n",
       "<table border=\"1\" class=\"dataframe\">\n",
       "  <thead>\n",
       "    <tr style=\"text-align: right;\">\n",
       "      <th></th>\n",
       "      <th>pace</th>\n",
       "      <th>Russian</th>\n",
       "      <th>tumble</th>\n",
       "      <th>thing</th>\n",
       "      <th>fix</th>\n",
       "      <th>problem</th>\n",
       "      <th>value</th>\n",
       "      <th>China</th>\n",
       "      <th>corruption</th>\n",
       "      <th>heal</th>\n",
       "      <th>...</th>\n",
       "      <th>Obama</th>\n",
       "      <th>future</th>\n",
       "      <th>differ</th>\n",
       "      <th>endemic</th>\n",
       "      <th>Japan</th>\n",
       "      <th>sanction</th>\n",
       "      <th>find</th>\n",
       "      <th>deer</th>\n",
       "      <th>violence</th>\n",
       "      <th>daily</th>\n",
       "    </tr>\n",
       "  </thead>\n",
       "  <tbody>\n",
       "    <tr>\n",
       "      <td>0</td>\n",
       "      <td>0.142857</td>\n",
       "      <td>0.000000</td>\n",
       "      <td>0.000000</td>\n",
       "      <td>0.000000</td>\n",
       "      <td>0.000000</td>\n",
       "      <td>0.000000</td>\n",
       "      <td>0.000000</td>\n",
       "      <td>0.285714</td>\n",
       "      <td>0.000000</td>\n",
       "      <td>0.000000</td>\n",
       "      <td>...</td>\n",
       "      <td>0.000000</td>\n",
       "      <td>0.000000</td>\n",
       "      <td>0.142857</td>\n",
       "      <td>0.000000</td>\n",
       "      <td>0.000000</td>\n",
       "      <td>0.000000</td>\n",
       "      <td>0.000000</td>\n",
       "      <td>0.000000</td>\n",
       "      <td>0.000000</td>\n",
       "      <td>0.000000</td>\n",
       "    </tr>\n",
       "    <tr>\n",
       "      <td>1</td>\n",
       "      <td>0.000000</td>\n",
       "      <td>0.000000</td>\n",
       "      <td>0.000000</td>\n",
       "      <td>0.000000</td>\n",
       "      <td>0.000000</td>\n",
       "      <td>0.142857</td>\n",
       "      <td>0.000000</td>\n",
       "      <td>0.285714</td>\n",
       "      <td>0.142857</td>\n",
       "      <td>0.000000</td>\n",
       "      <td>...</td>\n",
       "      <td>0.000000</td>\n",
       "      <td>0.000000</td>\n",
       "      <td>0.000000</td>\n",
       "      <td>0.142857</td>\n",
       "      <td>0.000000</td>\n",
       "      <td>0.000000</td>\n",
       "      <td>0.000000</td>\n",
       "      <td>0.000000</td>\n",
       "      <td>0.142857</td>\n",
       "      <td>0.000000</td>\n",
       "    </tr>\n",
       "    <tr>\n",
       "      <td>2</td>\n",
       "      <td>0.000000</td>\n",
       "      <td>0.000000</td>\n",
       "      <td>0.000000</td>\n",
       "      <td>0.000000</td>\n",
       "      <td>0.000000</td>\n",
       "      <td>0.000000</td>\n",
       "      <td>0.000000</td>\n",
       "      <td>0.000000</td>\n",
       "      <td>0.000000</td>\n",
       "      <td>0.142857</td>\n",
       "      <td>...</td>\n",
       "      <td>0.000000</td>\n",
       "      <td>0.285714</td>\n",
       "      <td>0.000000</td>\n",
       "      <td>0.000000</td>\n",
       "      <td>0.142857</td>\n",
       "      <td>0.000000</td>\n",
       "      <td>0.000000</td>\n",
       "      <td>0.000000</td>\n",
       "      <td>0.000000</td>\n",
       "      <td>0.000000</td>\n",
       "    </tr>\n",
       "    <tr>\n",
       "      <td>3</td>\n",
       "      <td>0.000000</td>\n",
       "      <td>0.000000</td>\n",
       "      <td>0.142857</td>\n",
       "      <td>0.000000</td>\n",
       "      <td>0.142857</td>\n",
       "      <td>0.000000</td>\n",
       "      <td>0.000000</td>\n",
       "      <td>0.000000</td>\n",
       "      <td>0.000000</td>\n",
       "      <td>0.000000</td>\n",
       "      <td>...</td>\n",
       "      <td>0.000000</td>\n",
       "      <td>0.000000</td>\n",
       "      <td>0.000000</td>\n",
       "      <td>0.000000</td>\n",
       "      <td>0.000000</td>\n",
       "      <td>0.000000</td>\n",
       "      <td>0.000000</td>\n",
       "      <td>0.000000</td>\n",
       "      <td>0.000000</td>\n",
       "      <td>0.000000</td>\n",
       "    </tr>\n",
       "    <tr>\n",
       "      <td>4</td>\n",
       "      <td>0.000000</td>\n",
       "      <td>0.000000</td>\n",
       "      <td>0.000000</td>\n",
       "      <td>0.000000</td>\n",
       "      <td>0.000000</td>\n",
       "      <td>0.000000</td>\n",
       "      <td>0.000000</td>\n",
       "      <td>0.000000</td>\n",
       "      <td>0.000000</td>\n",
       "      <td>0.000000</td>\n",
       "      <td>...</td>\n",
       "      <td>0.000000</td>\n",
       "      <td>0.285714</td>\n",
       "      <td>0.000000</td>\n",
       "      <td>0.000000</td>\n",
       "      <td>0.000000</td>\n",
       "      <td>0.000000</td>\n",
       "      <td>0.000000</td>\n",
       "      <td>0.000000</td>\n",
       "      <td>0.000000</td>\n",
       "      <td>0.000000</td>\n",
       "    </tr>\n",
       "    <tr>\n",
       "      <td>5</td>\n",
       "      <td>0.000000</td>\n",
       "      <td>0.142857</td>\n",
       "      <td>0.000000</td>\n",
       "      <td>0.000000</td>\n",
       "      <td>0.000000</td>\n",
       "      <td>0.000000</td>\n",
       "      <td>0.142857</td>\n",
       "      <td>0.000000</td>\n",
       "      <td>0.000000</td>\n",
       "      <td>0.000000</td>\n",
       "      <td>...</td>\n",
       "      <td>0.142857</td>\n",
       "      <td>0.000000</td>\n",
       "      <td>0.000000</td>\n",
       "      <td>0.000000</td>\n",
       "      <td>0.000000</td>\n",
       "      <td>0.142857</td>\n",
       "      <td>0.000000</td>\n",
       "      <td>0.000000</td>\n",
       "      <td>0.000000</td>\n",
       "      <td>0.142857</td>\n",
       "    </tr>\n",
       "    <tr>\n",
       "      <td>6</td>\n",
       "      <td>0.000000</td>\n",
       "      <td>0.000000</td>\n",
       "      <td>0.000000</td>\n",
       "      <td>0.142857</td>\n",
       "      <td>0.000000</td>\n",
       "      <td>0.000000</td>\n",
       "      <td>0.000000</td>\n",
       "      <td>0.000000</td>\n",
       "      <td>0.000000</td>\n",
       "      <td>0.000000</td>\n",
       "      <td>...</td>\n",
       "      <td>0.000000</td>\n",
       "      <td>0.000000</td>\n",
       "      <td>0.000000</td>\n",
       "      <td>0.000000</td>\n",
       "      <td>0.000000</td>\n",
       "      <td>0.000000</td>\n",
       "      <td>0.142857</td>\n",
       "      <td>0.142857</td>\n",
       "      <td>0.000000</td>\n",
       "      <td>0.000000</td>\n",
       "    </tr>\n",
       "  </tbody>\n",
       "</table>\n",
       "<p>7 rows × 54 columns</p>\n",
       "</div>"
      ],
      "text/plain": [
       "       pace   Russian    tumble     thing       fix   problem     value  \\\n",
       "0  0.142857  0.000000  0.000000  0.000000  0.000000  0.000000  0.000000   \n",
       "1  0.000000  0.000000  0.000000  0.000000  0.000000  0.142857  0.000000   \n",
       "2  0.000000  0.000000  0.000000  0.000000  0.000000  0.000000  0.000000   \n",
       "3  0.000000  0.000000  0.142857  0.000000  0.142857  0.000000  0.000000   \n",
       "4  0.000000  0.000000  0.000000  0.000000  0.000000  0.000000  0.000000   \n",
       "5  0.000000  0.142857  0.000000  0.000000  0.000000  0.000000  0.142857   \n",
       "6  0.000000  0.000000  0.000000  0.142857  0.000000  0.000000  0.000000   \n",
       "\n",
       "      China  corruption      heal  ...     Obama    future    differ  \\\n",
       "0  0.285714    0.000000  0.000000  ...  0.000000  0.000000  0.142857   \n",
       "1  0.285714    0.142857  0.000000  ...  0.000000  0.000000  0.000000   \n",
       "2  0.000000    0.000000  0.142857  ...  0.000000  0.285714  0.000000   \n",
       "3  0.000000    0.000000  0.000000  ...  0.000000  0.000000  0.000000   \n",
       "4  0.000000    0.000000  0.000000  ...  0.000000  0.285714  0.000000   \n",
       "5  0.000000    0.000000  0.000000  ...  0.142857  0.000000  0.000000   \n",
       "6  0.000000    0.000000  0.000000  ...  0.000000  0.000000  0.000000   \n",
       "\n",
       "    endemic     Japan  sanction      find      deer  violence     daily  \n",
       "0  0.000000  0.000000  0.000000  0.000000  0.000000  0.000000  0.000000  \n",
       "1  0.142857  0.000000  0.000000  0.000000  0.000000  0.142857  0.000000  \n",
       "2  0.000000  0.142857  0.000000  0.000000  0.000000  0.000000  0.000000  \n",
       "3  0.000000  0.000000  0.000000  0.000000  0.000000  0.000000  0.000000  \n",
       "4  0.000000  0.000000  0.000000  0.000000  0.000000  0.000000  0.000000  \n",
       "5  0.000000  0.000000  0.142857  0.000000  0.000000  0.000000  0.142857  \n",
       "6  0.000000  0.000000  0.000000  0.142857  0.142857  0.000000  0.000000  \n",
       "\n",
       "[7 rows x 54 columns]"
      ]
     },
     "execution_count": 184,
     "metadata": {},
     "output_type": "execute_result"
    }
   ],
   "source": [
    "tb = tf_idf_scores(docs)\n",
    "tb"
   ]
  },
  {
   "cell_type": "markdown",
   "metadata": {
    "colab_type": "text",
    "id": "qhnwTVnSBQYk"
   },
   "source": [
    "### Step 7\n",
    "Visualize the tf-idf"
   ]
  },
  {
   "cell_type": "code",
   "execution_count": 188,
   "metadata": {
    "colab": {
     "base_uri": "https://localhost:8080/",
     "height": 34
    },
    "colab_type": "code",
    "id": "8-3LOKs2B9vo",
    "outputId": "fda0dd7d-082b-4399-f51b-44b3b91ff7a7"
   },
   "outputs": [
    {
     "data": {
      "text/plain": [
       "0.5714285714285714"
      ]
     },
     "execution_count": 188,
     "metadata": {},
     "output_type": "execute_result"
    }
   ],
   "source": [
    "tb.max().max()"
   ]
  },
  {
   "cell_type": "code",
   "execution_count": 192,
   "metadata": {
    "colab": {
     "base_uri": "https://localhost:8080/",
     "height": 286
    },
    "colab_type": "code",
    "id": "s17PpT0uCH_l",
    "outputId": "af4da25b-44d3-4fa9-8760-ac6a4eaca697"
   },
   "outputs": [
    {
     "data": {
      "text/html": [
       "<div>\n",
       "<style scoped>\n",
       "    .dataframe tbody tr th:only-of-type {\n",
       "        vertical-align: middle;\n",
       "    }\n",
       "\n",
       "    .dataframe tbody tr th {\n",
       "        vertical-align: top;\n",
       "    }\n",
       "\n",
       "    .dataframe thead th {\n",
       "        text-align: right;\n",
       "    }\n",
       "</style>\n",
       "<table border=\"1\" class=\"dataframe\">\n",
       "  <thead>\n",
       "    <tr style=\"text-align: right;\">\n",
       "      <th></th>\n",
       "      <th>pace</th>\n",
       "      <th>Russian</th>\n",
       "      <th>tumble</th>\n",
       "      <th>thing</th>\n",
       "      <th>fix</th>\n",
       "      <th>problem</th>\n",
       "      <th>value</th>\n",
       "      <th>China</th>\n",
       "      <th>corruption</th>\n",
       "      <th>heal</th>\n",
       "      <th>...</th>\n",
       "      <th>Obama</th>\n",
       "      <th>future</th>\n",
       "      <th>differ</th>\n",
       "      <th>endemic</th>\n",
       "      <th>Japan</th>\n",
       "      <th>sanction</th>\n",
       "      <th>find</th>\n",
       "      <th>deer</th>\n",
       "      <th>violence</th>\n",
       "      <th>daily</th>\n",
       "    </tr>\n",
       "  </thead>\n",
       "  <tbody>\n",
       "    <tr>\n",
       "      <td>0</td>\n",
       "      <td>0.25</td>\n",
       "      <td>0.00</td>\n",
       "      <td>0.00</td>\n",
       "      <td>0.00</td>\n",
       "      <td>0.00</td>\n",
       "      <td>0.00</td>\n",
       "      <td>0.00</td>\n",
       "      <td>0.5</td>\n",
       "      <td>0.00</td>\n",
       "      <td>0.00</td>\n",
       "      <td>...</td>\n",
       "      <td>0.00</td>\n",
       "      <td>0.0</td>\n",
       "      <td>0.25</td>\n",
       "      <td>0.00</td>\n",
       "      <td>0.00</td>\n",
       "      <td>0.00</td>\n",
       "      <td>0.00</td>\n",
       "      <td>0.00</td>\n",
       "      <td>0.00</td>\n",
       "      <td>0.00</td>\n",
       "    </tr>\n",
       "    <tr>\n",
       "      <td>1</td>\n",
       "      <td>0.00</td>\n",
       "      <td>0.00</td>\n",
       "      <td>0.00</td>\n",
       "      <td>0.00</td>\n",
       "      <td>0.00</td>\n",
       "      <td>0.25</td>\n",
       "      <td>0.00</td>\n",
       "      <td>0.5</td>\n",
       "      <td>0.25</td>\n",
       "      <td>0.00</td>\n",
       "      <td>...</td>\n",
       "      <td>0.00</td>\n",
       "      <td>0.0</td>\n",
       "      <td>0.00</td>\n",
       "      <td>0.25</td>\n",
       "      <td>0.00</td>\n",
       "      <td>0.00</td>\n",
       "      <td>0.00</td>\n",
       "      <td>0.00</td>\n",
       "      <td>0.25</td>\n",
       "      <td>0.00</td>\n",
       "    </tr>\n",
       "    <tr>\n",
       "      <td>2</td>\n",
       "      <td>0.00</td>\n",
       "      <td>0.00</td>\n",
       "      <td>0.00</td>\n",
       "      <td>0.00</td>\n",
       "      <td>0.00</td>\n",
       "      <td>0.00</td>\n",
       "      <td>0.00</td>\n",
       "      <td>0.0</td>\n",
       "      <td>0.00</td>\n",
       "      <td>0.25</td>\n",
       "      <td>...</td>\n",
       "      <td>0.00</td>\n",
       "      <td>0.5</td>\n",
       "      <td>0.00</td>\n",
       "      <td>0.00</td>\n",
       "      <td>0.25</td>\n",
       "      <td>0.00</td>\n",
       "      <td>0.00</td>\n",
       "      <td>0.00</td>\n",
       "      <td>0.00</td>\n",
       "      <td>0.00</td>\n",
       "    </tr>\n",
       "    <tr>\n",
       "      <td>3</td>\n",
       "      <td>0.00</td>\n",
       "      <td>0.00</td>\n",
       "      <td>0.25</td>\n",
       "      <td>0.00</td>\n",
       "      <td>0.25</td>\n",
       "      <td>0.00</td>\n",
       "      <td>0.00</td>\n",
       "      <td>0.0</td>\n",
       "      <td>0.00</td>\n",
       "      <td>0.00</td>\n",
       "      <td>...</td>\n",
       "      <td>0.00</td>\n",
       "      <td>0.0</td>\n",
       "      <td>0.00</td>\n",
       "      <td>0.00</td>\n",
       "      <td>0.00</td>\n",
       "      <td>0.00</td>\n",
       "      <td>0.00</td>\n",
       "      <td>0.00</td>\n",
       "      <td>0.00</td>\n",
       "      <td>0.00</td>\n",
       "    </tr>\n",
       "    <tr>\n",
       "      <td>4</td>\n",
       "      <td>0.00</td>\n",
       "      <td>0.00</td>\n",
       "      <td>0.00</td>\n",
       "      <td>0.00</td>\n",
       "      <td>0.00</td>\n",
       "      <td>0.00</td>\n",
       "      <td>0.00</td>\n",
       "      <td>0.0</td>\n",
       "      <td>0.00</td>\n",
       "      <td>0.00</td>\n",
       "      <td>...</td>\n",
       "      <td>0.00</td>\n",
       "      <td>0.5</td>\n",
       "      <td>0.00</td>\n",
       "      <td>0.00</td>\n",
       "      <td>0.00</td>\n",
       "      <td>0.00</td>\n",
       "      <td>0.00</td>\n",
       "      <td>0.00</td>\n",
       "      <td>0.00</td>\n",
       "      <td>0.00</td>\n",
       "    </tr>\n",
       "    <tr>\n",
       "      <td>5</td>\n",
       "      <td>0.00</td>\n",
       "      <td>0.25</td>\n",
       "      <td>0.00</td>\n",
       "      <td>0.00</td>\n",
       "      <td>0.00</td>\n",
       "      <td>0.00</td>\n",
       "      <td>0.25</td>\n",
       "      <td>0.0</td>\n",
       "      <td>0.00</td>\n",
       "      <td>0.00</td>\n",
       "      <td>...</td>\n",
       "      <td>0.25</td>\n",
       "      <td>0.0</td>\n",
       "      <td>0.00</td>\n",
       "      <td>0.00</td>\n",
       "      <td>0.00</td>\n",
       "      <td>0.25</td>\n",
       "      <td>0.00</td>\n",
       "      <td>0.00</td>\n",
       "      <td>0.00</td>\n",
       "      <td>0.25</td>\n",
       "    </tr>\n",
       "    <tr>\n",
       "      <td>6</td>\n",
       "      <td>0.00</td>\n",
       "      <td>0.00</td>\n",
       "      <td>0.00</td>\n",
       "      <td>0.25</td>\n",
       "      <td>0.00</td>\n",
       "      <td>0.00</td>\n",
       "      <td>0.00</td>\n",
       "      <td>0.0</td>\n",
       "      <td>0.00</td>\n",
       "      <td>0.00</td>\n",
       "      <td>...</td>\n",
       "      <td>0.00</td>\n",
       "      <td>0.0</td>\n",
       "      <td>0.00</td>\n",
       "      <td>0.00</td>\n",
       "      <td>0.00</td>\n",
       "      <td>0.00</td>\n",
       "      <td>0.25</td>\n",
       "      <td>0.25</td>\n",
       "      <td>0.00</td>\n",
       "      <td>0.00</td>\n",
       "    </tr>\n",
       "  </tbody>\n",
       "</table>\n",
       "<p>7 rows × 54 columns</p>\n",
       "</div>"
      ],
      "text/plain": [
       "   pace  Russian  tumble  thing   fix  problem  value  China  corruption  \\\n",
       "0  0.25     0.00    0.00   0.00  0.00     0.00   0.00    0.5        0.00   \n",
       "1  0.00     0.00    0.00   0.00  0.00     0.25   0.00    0.5        0.25   \n",
       "2  0.00     0.00    0.00   0.00  0.00     0.00   0.00    0.0        0.00   \n",
       "3  0.00     0.00    0.25   0.00  0.25     0.00   0.00    0.0        0.00   \n",
       "4  0.00     0.00    0.00   0.00  0.00     0.00   0.00    0.0        0.00   \n",
       "5  0.00     0.25    0.00   0.00  0.00     0.00   0.25    0.0        0.00   \n",
       "6  0.00     0.00    0.00   0.25  0.00     0.00   0.00    0.0        0.00   \n",
       "\n",
       "   heal  ...  Obama  future  differ  endemic  Japan  sanction  find  deer  \\\n",
       "0  0.00  ...   0.00     0.0    0.25     0.00   0.00      0.00  0.00  0.00   \n",
       "1  0.00  ...   0.00     0.0    0.00     0.25   0.00      0.00  0.00  0.00   \n",
       "2  0.25  ...   0.00     0.5    0.00     0.00   0.25      0.00  0.00  0.00   \n",
       "3  0.00  ...   0.00     0.0    0.00     0.00   0.00      0.00  0.00  0.00   \n",
       "4  0.00  ...   0.00     0.5    0.00     0.00   0.00      0.00  0.00  0.00   \n",
       "5  0.00  ...   0.25     0.0    0.00     0.00   0.00      0.25  0.00  0.00   \n",
       "6  0.00  ...   0.00     0.0    0.00     0.00   0.00      0.00  0.25  0.25   \n",
       "\n",
       "   violence  daily  \n",
       "0      0.00   0.00  \n",
       "1      0.25   0.00  \n",
       "2      0.00   0.00  \n",
       "3      0.00   0.00  \n",
       "4      0.00   0.00  \n",
       "5      0.00   0.25  \n",
       "6      0.00   0.00  \n",
       "\n",
       "[7 rows x 54 columns]"
      ]
     },
     "execution_count": 192,
     "metadata": {},
     "output_type": "execute_result"
    }
   ],
   "source": [
    "tb / tb.max().max()"
   ]
  },
  {
   "cell_type": "code",
   "execution_count": 191,
   "metadata": {
    "colab": {
     "base_uri": "https://localhost:8080/",
     "height": 260
    },
    "colab_type": "code",
    "id": "aBO725HDBKwP",
    "outputId": "336fe2bc-987b-4892-f45f-c41e84f648bc"
   },
   "outputs": [
    {
     "data": {
      "image/png": "[encoded data removed]",
      "text/plain": [
       "<Figure size 1080x216 with 2 Axes>"
      ]
     },
     "metadata": {
      "needs_background": "light"
     },
     "output_type": "display_data"
    }
   ],
   "source": [
    "import seaborn as sns\n",
    "import matplotlib.pyplot as plt\n",
    "%matplotlib inline\n",
    "\n",
    "plt.figure(figsize=(15, 3))\n",
    "sns.heatmap(tb / tb.max().max(), cmap=\"RdYlGn_r\", annot=False);"
   ]
  },
  {
   "cell_type": "markdown",
   "metadata": {
    "colab_type": "text",
    "id": "J7GlccDbHBPD"
   },
   "source": [
    "## Exercise tf-idf\n",
    "\n",
    "Collect at least 6 sentences from political parties in your country. Try to do tf-idf on them so that you can see what are the most common words used between the parties. You neeed to translate the sentences to english, so that I can evaluate :)"
   ]
  },
  {
   "cell_type": "code",
   "execution_count": 193,
   "metadata": {
    "colab": {},
    "colab_type": "code",
    "id": "IC9ko2DtBYd7"
   },
   "outputs": [],
   "source": [
    "te0 = \"German Ambassador: It would be good for those in charge in Tskhinvali and Moscow to learn the lessons of the Berlin Wall.\"\n",
    "te1 = \"Hearing of Supreme Court judicial candidate ongoing in almost empty hall.\"\n",
    "te2 = \"Beka Dochviri appointed as Government’s Parliamentary Secretary.\"\n",
    "te3 = \"Dutch PM: Georgia became an exemplary country for other countries in the region and that is why it is a key partner of the Netherlands and the European Union.\"\n",
    "te4 = \"PM: The Netherlands is a great supporter of our country, we highly appreciate this support.\"\n",
    "te5 = \"Gazelle Fund LP invests in NUTSGE, a leading premium Hazelnut processing plant in Georgia.\"\n",
    "te6 = \"Greek police detain Georgian truck driver, who planned to take 41 migrants to Europe.\""
   ]
  },
  {
   "cell_type": "code",
   "execution_count": 194,
   "metadata": {},
   "outputs": [],
   "source": [
    "from collections import Counter"
   ]
  },
  {
   "cell_type": "code",
   "execution_count": null,
   "metadata": {},
   "outputs": [],
   "source": []
  },
  {
   "cell_type": "code",
   "execution_count": null,
   "metadata": {},
   "outputs": [],
   "source": []
  },
  {
   "cell_type": "code",
   "execution_count": null,
   "metadata": {},
   "outputs": [],
   "source": []
  },
  {
   "cell_type": "code",
   "execution_count": null,
   "metadata": {},
   "outputs": [],
   "source": []
  },
  {
   "cell_type": "code",
   "execution_count": null,
   "metadata": {},
   "outputs": [],
   "source": []
  }
 ],
 "metadata": {
  "accelerator": "GPU",
  "colab": {
   "collapsed_sections": [
    "q5ltWhKMGdbM",
    "hdz3FWI9Gi79",
    "8_xXkO_b7WrG"
   ],
   "machine_shape": "hm",
   "name": "09_Text_processing_continued.ipynb",
   "provenance": []
  },
  "kernelspec": {
   "display_name": "Python 3",
   "language": "python",
   "name": "python3"
  },
  "language_info": {
   "codemirror_mode": {
    "name": "ipython",
    "version": 3
   },
   "file_extension": ".py",
   "mimetype": "text/x-python",
   "name": "python",
   "nbconvert_exporter": "python",
   "pygments_lexer": "ipython3",
   "version": "3.6.7"
  }
 },
 "nbformat": 4,
 "nbformat_minor": 1
}
