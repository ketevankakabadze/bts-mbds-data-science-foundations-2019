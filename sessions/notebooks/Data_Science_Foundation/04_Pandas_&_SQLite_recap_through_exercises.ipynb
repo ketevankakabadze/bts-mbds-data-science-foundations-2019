{
 "cells": [
  {
   "cell_type": "markdown",
   "metadata": {
    "colab_type": "text",
    "id": "aUacJe1qJSCG"
   },
   "source": [
    "![BTS](https://github.com/vfp1/bts-mbds-data-science-foundations-2019/blob/master/sessions/img/Logo-BTS.jpg?raw=1)\n",
    "\n",
    "# Session 4: Pandas and SQLite in depth session\n",
    "\n",
    "### Victor F. Pajuelo Madrigal <victor.pajuelo@bts.tech> - Data Science Foundations (2019-10-10)\n",
    "\n",
    "Open this notebook in Google Colaboratory: [![Open in Colab](https://colab.research.google.com/assets/colab-badge.svg)](https://colab.research.google.com/github/vfp1/bts-mbds-data-science-foundations-2019/blob/master/sessions/04_Pandas_&_SQLite_recap_through_exercises.ipynb)\n"
   ]
  },
  {
   "cell_type": "markdown",
   "metadata": {
    "colab_type": "text",
    "id": "V6LVl9QIJjmw"
   },
   "source": [
    "# OPTIONAL assignements from WEEK one\n",
    "\n",
    "Let's look in depth at the optional assignements from WEEK 1\n",
    "\n",
    "You can find the first week exercise notebook by opening this notebook in Google Colaboratory: \n",
    "[![Open in Colab](https://colab.research.google.com/assets/colab-badge.svg)](https://colab.research.google.com/github/vfp1/bts-mbds-data-science-foundations-2019/blob/master/sessions/DSF_WEEK_1_EXERCISES.ipynb)"
   ]
  },
  {
   "cell_type": "markdown",
   "metadata": {
    "colab_type": "text",
    "id": "F95_2cieLo1Y"
   },
   "source": [
    "# More Pandas!\n",
    "\n",
    "Check a good cheatsheet for Pandas [here](https://www.w3resource.com/python-exercises/pandas/index.php)\n",
    "\n",
    "[Some cool exercise resources for Pandas](https://www.machinelearningplus.com/python/101-pandas-exercises-python/)"
   ]
  },
  {
   "cell_type": "markdown",
   "metadata": {
    "colab_type": "text",
    "id": "5Wc44wNaSCC3"
   },
   "source": [
    "## Groupby exersises\n",
    "\n",
    "Import this [dataset](https://raw.githubusercontent.com/justmarkham/DAT8/master/data/u.user)\n",
    "\n",
    "*   What is the mean age per occupation?\n",
    "*   What is the male ratio per occupation, sort it from the most to the least. Do the same for women\n",
    "*   For each occupation, calculate the minimum and maximum ages\n",
    "* For each combination of occupation and gender, calculate the mean age\n",
    "* For each occupation present the percentage of women and men\n",
    "\n"
   ]
  },
  {
   "cell_type": "code",
   "execution_count": 11,
   "metadata": {},
   "outputs": [
    {
     "data": {
      "text/html": [
       "<div>\n",
       "<style scoped>\n",
       "    .dataframe tbody tr th:only-of-type {\n",
       "        vertical-align: middle;\n",
       "    }\n",
       "\n",
       "    .dataframe tbody tr th {\n",
       "        vertical-align: top;\n",
       "    }\n",
       "\n",
       "    .dataframe thead th {\n",
       "        text-align: right;\n",
       "    }\n",
       "</style>\n",
       "<table border=\"1\" class=\"dataframe\">\n",
       "  <thead>\n",
       "    <tr style=\"text-align: right;\">\n",
       "      <th></th>\n",
       "      <th>age</th>\n",
       "      <th>gender</th>\n",
       "      <th>occupation</th>\n",
       "      <th>zip_code</th>\n",
       "    </tr>\n",
       "    <tr>\n",
       "      <th>user_id</th>\n",
       "      <th></th>\n",
       "      <th></th>\n",
       "      <th></th>\n",
       "      <th></th>\n",
       "    </tr>\n",
       "  </thead>\n",
       "  <tbody>\n",
       "    <tr>\n",
       "      <th>1</th>\n",
       "      <td>24</td>\n",
       "      <td>M</td>\n",
       "      <td>technician</td>\n",
       "      <td>85711</td>\n",
       "    </tr>\n",
       "    <tr>\n",
       "      <th>2</th>\n",
       "      <td>53</td>\n",
       "      <td>F</td>\n",
       "      <td>other</td>\n",
       "      <td>94043</td>\n",
       "    </tr>\n",
       "    <tr>\n",
       "      <th>3</th>\n",
       "      <td>23</td>\n",
       "      <td>M</td>\n",
       "      <td>writer</td>\n",
       "      <td>32067</td>\n",
       "    </tr>\n",
       "    <tr>\n",
       "      <th>4</th>\n",
       "      <td>24</td>\n",
       "      <td>M</td>\n",
       "      <td>technician</td>\n",
       "      <td>43537</td>\n",
       "    </tr>\n",
       "    <tr>\n",
       "      <th>5</th>\n",
       "      <td>33</td>\n",
       "      <td>F</td>\n",
       "      <td>other</td>\n",
       "      <td>15213</td>\n",
       "    </tr>\n",
       "  </tbody>\n",
       "</table>\n",
       "</div>"
      ],
      "text/plain": [
       "         age gender  occupation zip_code\n",
       "user_id                                 \n",
       "1         24      M  technician    85711\n",
       "2         53      F       other    94043\n",
       "3         23      M      writer    32067\n",
       "4         24      M  technician    43537\n",
       "5         33      F       other    15213"
      ]
     },
     "execution_count": 11,
     "metadata": {},
     "output_type": "execute_result"
    }
   ],
   "source": [
    "import pandas as pd\n",
    "\n",
    "url=\"https://raw.githubusercontent.com/justmarkham/DAT8/master/data/u.user\"\n",
    "    \n",
    "workers=pd.read_csv(url,\n",
    "                     sep='|', index_col='user_id')\n",
    "workers.head()"
   ]
  },
  {
   "cell_type": "markdown",
   "metadata": {
    "colab_type": "text",
    "id": "2fCqx8EDTEr5"
   },
   "source": [
    "## Apply exercises\n",
    "\n",
    "Import this [dataset](https://github.com/vfp1/bts-mbds-data-science-foundations-2019/raw/master/sessions/data/US_Crime_Rates_1960_2014.csv)\n",
    "\n",
    "* What is the type of the columns?\n",
    "* Convert the type of the column Year to datetime64\n",
    "* Set the Year column as the index of the dataframe\n",
    "* Delete the Total column\n",
    "* Group the year by decades and sum the values (take care with population values)\n",
    "* What is the most dangerous decade to live in the US?\n"
   ]
  },
  {
   "cell_type": "markdown",
   "metadata": {
    "colab_type": "text",
    "id": "TtTjzzqEKs9W"
   },
   "source": [
    "# SQLite and Pandas"
   ]
  },
  {
   "cell_type": "markdown",
   "metadata": {
    "colab_type": "text",
    "id": "kdc6MV8VPqnI"
   },
   "source": [
    "## SQLite, Pandas and the world of tips"
   ]
  },
  {
   "cell_type": "markdown",
   "metadata": {
    "colab_type": "text",
    "id": "aAl6NWYfP-QR"
   },
   "source": [
    "Given [this](https://raw.github.com/pandas-dev/pandas/master/pandas/tests/data/tips.csv) CSV file. Do the following:\n",
    "\n",
    "* Load it in Pandas\n",
    "* Save the `DataFrame` as SQLite\n",
    "* Reply the following questions by slicing the SQLite database with SQL queries and then using Pandas for analysis:\n",
    "    * Who is most likely to receive a tip during weekday? A Female or a Male? \n",
    "        * And during weekends?\n",
    "    * What is the table size that is most likely to bring a better tip?\n",
    "    * Who are giving more tips, smokers or non smokers? "
   ]
  },
  {
   "cell_type": "code",
   "execution_count": 10,
   "metadata": {},
   "outputs": [
    {
     "ename": "NameError",
     "evalue": "name 'tips' is not defined",
     "output_type": "error",
     "traceback": [
      "\u001b[0;31m---------------------------------------------------------------------------\u001b[0m",
      "\u001b[0;31mNameError\u001b[0m                                 Traceback (most recent call last)",
      "\u001b[0;32m<ipython-input-10-f2b0673dd362>\u001b[0m in \u001b[0;36m<module>\u001b[0;34m\u001b[0m\n\u001b[1;32m      3\u001b[0m \u001b[0;32mimport\u001b[0m \u001b[0msqlite3\u001b[0m\u001b[0;34m\u001b[0m\u001b[0;34m\u001b[0m\u001b[0m\n\u001b[1;32m      4\u001b[0m \u001b[0msnx\u001b[0m\u001b[0;34m=\u001b[0m\u001b[0msqlite3\u001b[0m\u001b[0;34m.\u001b[0m\u001b[0mconnect\u001b[0m\u001b[0;34m(\u001b[0m\u001b[0;34m'tips.db'\u001b[0m\u001b[0;34m)\u001b[0m\u001b[0;34m\u001b[0m\u001b[0;34m\u001b[0m\u001b[0m\n\u001b[0;32m----> 5\u001b[0;31m \u001b[0mtips\u001b[0m\u001b[0;34m.\u001b[0m\u001b[0mto_sql\u001b[0m\u001b[0;34m(\u001b[0m\u001b[0;34m'tips'\u001b[0m\u001b[0;34m,\u001b[0m \u001b[0mcon\u001b[0m\u001b[0;34m=\u001b[0m\u001b[0mcnx\u001b[0m\u001b[0;34m)\u001b[0m\u001b[0;34m\u001b[0m\u001b[0;34m\u001b[0m\u001b[0m\n\u001b[0m",
      "\u001b[0;31mNameError\u001b[0m: name 'tips' is not defined"
     ]
    }
   ],
   "source": [
    "#save the dataFrame\n",
    "\n",
    "import sqlite3\n",
    "snx=sqlite3.connect('tips.db')\n",
    "tips.to_sql('tips', con=cnx)"
   ]
  },
  {
   "cell_type": "code",
   "execution_count": null,
   "metadata": {},
   "outputs": [],
   "source": [
    "#What is the table size that is most likely to bring a better tip?\n",
    "\n",
    "# select avarage "
   ]
  },
  {
   "cell_type": "markdown",
   "metadata": {
    "colab_type": "text",
    "id": "oMFekCoyPvkW"
   },
   "source": [
    "## More airports, this time without spatial fears\n",
    " "
   ]
  },
  {
   "cell_type": "markdown",
   "metadata": {
    "colab_type": "text",
    "id": "a_UsxZ2zQC85"
   },
   "source": [
    "Download [this Sqlite database](https://github.com/vfp1/bts-mbds-data-science-foundations-2019/raw/master/sessions/data/flights.db)\n",
    "\n",
    "Using SQLite database reply the following questions:\n",
    "\n",
    "*   Which is the country that has the least amount of active airlines?\n",
    "*   And which is the country that has the most amount of active airlines?\n",
    "*   Which is the country that has more airports?\n",
    "*   And the country with the least airports?\n",
    "*   Which country has the most outgoing destinations? And the least?\n",
    "*   And which country has the most incoming destinations? And the least?\n",
    "\n"
   ]
  },
  {
   "cell_type": "code",
   "execution_count": 0,
   "metadata": {
    "colab": {},
    "colab_type": "code",
    "id": "8o0sw6WcJY_Z"
   },
   "outputs": [],
   "source": [
    "#Which is the country that has the least amount of active airlines?\n"
   ]
  }
 ],
 "metadata": {
  "colab": {
   "name": "04_Pandas_&_SQLite_recap_through_exercises.ipynb",
   "provenance": []
  },
  "kernelspec": {
   "display_name": "Python 3",
   "language": "python",
   "name": "python3"
  },
  "language_info": {
   "codemirror_mode": {
    "name": "ipython",
    "version": 3
   },
   "file_extension": ".py",
   "mimetype": "text/x-python",
   "name": "python",
   "nbconvert_exporter": "python",
   "pygments_lexer": "ipython3",
   "version": "3.7.3"
  }
 },
 "nbformat": 4,
 "nbformat_minor": 1
}
