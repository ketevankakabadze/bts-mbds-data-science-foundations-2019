{
  "nbformat": 4,
  "nbformat_minor": 0,
  "metadata": {
    "anaconda-cloud": {},
    "kernelspec": {
      "display_name": "Python 3",
      "language": "python",
      "name": "python3"
    },
    "language_info": {
      "codemirror_mode": {
        "name": "ipython",
        "version": 3
      },
      "file_extension": ".py",
      "mimetype": "text/x-python",
      "name": "python",
      "nbconvert_exporter": "python",
      "pygments_lexer": "ipython3",
      "version": "3.5.1"
    },
    "colab": {
      "name": "Session_extra_regression.ipynb",
      "provenance": [],
      "collapsed_sections": [],
      "toc_visible": true
    }
  },
  "cells": [
    {
      "cell_type": "markdown",
      "metadata": {
        "deletable": true,
        "editable": true,
        "id": "M9IWk8Eh4R6m",
        "colab_type": "text"
      },
      "source": [
        "![BTS](https://github.com/vfp1/bts-mbds-data-science-foundations-2019/raw/master/sessions/img/Logo-BTS.jpg)\n",
        "\n",
        "# Session extra: regression\n",
        "\n",
        "### Victor F. Pajuelo Madrigal <victor.pajuelo@bts.tech> - Data Science Foundations (2019-11-21)\n",
        "\n",
        "Open this notebook in Google Colaboratory: [![Open in Colab](https://colab.research.google.com/assets/colab-badge.svg)](https://colab.research.google.com/github/vfp1/bts-mbds-data-science-foundations-2019/blob/master/sessions/12_Data_visualization.ipynb)\n",
        "\n",
        "**Resources:**\n",
        "\n",
        "Jake VanderPlas book"
      ]
    },
    {
      "cell_type": "markdown",
      "metadata": {
        "id": "H5CMNKQE4R6q",
        "colab_type": "text"
      },
      "source": [
        "# In Depth: Linear Regression"
      ]
    },
    {
      "cell_type": "markdown",
      "metadata": {
        "deletable": true,
        "editable": true,
        "id": "Eqxa2oWb4R6r",
        "colab_type": "text"
      },
      "source": [
        "Linear regression models are a good starting point for regression tasks.\n",
        "Such models are popular because they can be fit very quickly, and are very interpretable.\n",
        "You are probably familiar with the simplest form of a linear regression model (i.e., fitting a straight line to data) but such models can be extended to model more complicated data behavior.\n",
        "\n",
        "In this section we will start with a quick intuitive walk-through of the mathematics behind this well-known problem, before seeing how before moving on to see how linear models can be generalized to account for more complicated patterns in data.\n",
        "\n",
        "We begin with the standard imports:"
      ]
    },
    {
      "cell_type": "code",
      "metadata": {
        "deletable": true,
        "editable": true,
        "id": "oJ9-vGJv4R6s",
        "colab_type": "code",
        "colab": {}
      },
      "source": [
        "%matplotlib inline\n",
        "import matplotlib.pyplot as plt\n",
        "import seaborn as sns; sns.set()\n",
        "import numpy as np"
      ],
      "execution_count": 0,
      "outputs": []
    },
    {
      "cell_type": "markdown",
      "metadata": {
        "deletable": true,
        "editable": true,
        "id": "G9X2bzUB4R6x",
        "colab_type": "text"
      },
      "source": [
        "## Simple Linear Regression\n",
        "\n",
        "We will start with the most familiar linear regression, a straight-line fit to data.\n",
        "A straight-line fit is a model of the form\n",
        "$$\n",
        "y = ax + b\n",
        "$$\n",
        "where $a$ is commonly known as the *slope*, and $b$ is commonly known as the *intercept*.\n",
        "\n",
        "Consider the following data, which is scattered about a line with a slope of 2 and an intercept of -5:"
      ]
    },
    {
      "cell_type": "code",
      "metadata": {
        "deletable": true,
        "editable": true,
        "id": "bQYL3mW84R6y",
        "colab_type": "code",
        "outputId": "cae399cc-8c6d-403a-c6ec-56dcc49f5b1b",
        "colab": {
          "base_uri": "https://localhost:8080/",
          "height": 267
        }
      },
      "source": [
        "rng = np.random.RandomState(1)\n",
        "x = 10 * rng.rand(50)\n",
        "y = 2 * x - 5 + rng.randn(50)\n",
        "plt.scatter(x, y);"
      ],
      "execution_count": 10,
      "outputs": [
        {
          "output_type": "display_data",
          "data": {
            "image/png": "[encoded data removed]",
            "text/plain": [
              "<Figure size 432x288 with 1 Axes>"
            ]
          },
          "metadata": {
            "tags": []
          }
        }
      ]
    },
    {
      "cell_type": "markdown",
      "metadata": {
        "id": "1lYRWAKj-HDm",
        "colab_type": "text"
      },
      "source": [
        "### np.newaxis excursus\n",
        "\n",
        "Check this post [link text](https://medium.com/@ian.dzindo01/what-is-numpy-newaxis-and-when-to-use-it-8cb61c7ed6ae)"
      ]
    },
    {
      "cell_type": "code",
      "metadata": {
        "id": "sUwBBp9u-s2I",
        "colab_type": "code",
        "outputId": "57a6d106-a2da-4729-a951-c05390e1562a",
        "colab": {
          "base_uri": "https://localhost:8080/",
          "height": 34
        }
      },
      "source": [
        "# 1D array\n",
        "arr = np.arange(4)\n",
        "arr.shape"
      ],
      "execution_count": 11,
      "outputs": [
        {
          "output_type": "execute_result",
          "data": {
            "text/plain": [
              "(4,)"
            ]
          },
          "metadata": {
            "tags": []
          },
          "execution_count": 11
        }
      ]
    },
    {
      "cell_type": "code",
      "metadata": {
        "id": "1AftbORG-xjQ",
        "colab_type": "code",
        "outputId": "e914bc0c-61db-41d1-9065-2545fc45c518",
        "colab": {
          "base_uri": "https://localhost:8080/",
          "height": 34
        }
      },
      "source": [
        "# make it as column vector by inserting an axis along second dimension\n",
        "col_vec = arr[:, np.newaxis]\n",
        "col_vec.shape"
      ],
      "execution_count": 12,
      "outputs": [
        {
          "output_type": "execute_result",
          "data": {
            "text/plain": [
              "(4, 1)"
            ]
          },
          "metadata": {
            "tags": []
          },
          "execution_count": 12
        }
      ]
    },
    {
      "cell_type": "code",
      "metadata": {
        "id": "qTbwVlxg-0Kx",
        "colab_type": "code",
        "outputId": "cbd48fc1-d8cc-4b16-ce28-0a66fe3a7020",
        "colab": {
          "base_uri": "https://localhost:8080/",
          "height": 34
        }
      },
      "source": [
        "# make it as row vector by inserting an axis along first dimension\n",
        "row_vec = arr[np.newaxis, :]\n",
        "row_vec.shape"
      ],
      "execution_count": 13,
      "outputs": [
        {
          "output_type": "execute_result",
          "data": {
            "text/plain": [
              "(1, 4)"
            ]
          },
          "metadata": {
            "tags": []
          },
          "execution_count": 13
        }
      ]
    },
    {
      "cell_type": "markdown",
      "metadata": {
        "deletable": true,
        "editable": true,
        "id": "sF_Z7tU54R62",
        "colab_type": "text"
      },
      "source": [
        "We can use Scikit-Learn's ``LinearRegression`` estimator to fit this data and construct the best-fit line:"
      ]
    },
    {
      "cell_type": "code",
      "metadata": {
        "deletable": true,
        "editable": true,
        "id": "YD6kcZMx4R63",
        "colab_type": "code",
        "outputId": "da50e7ee-d33a-48df-b641-c64a0baeeb7f",
        "colab": {
          "base_uri": "https://localhost:8080/",
          "height": 267
        }
      },
      "source": [
        "from sklearn.linear_model import LinearRegression\n",
        "\n",
        "model = LinearRegression(fit_intercept=True)\n",
        "\n",
        "\"\"\"\n",
        "whether to calculate the intercept for this model. \n",
        "If set to False, no intercept will be used in calculations (e.g. data is expected to be already centered).\n",
        "\"\"\"\n",
        "\n",
        "model.fit(x[:, np.newaxis], y)\n",
        "\n",
        "xfit = np.linspace(0, 10, 1000)\n",
        "yfit = model.predict(xfit[:, np.newaxis])\n",
        "\n",
        "plt.scatter(x, y)\n",
        "plt.plot(xfit, yfit);"
      ],
      "execution_count": 14,
      "outputs": [
        {
          "output_type": "display_data",
          "data": {
            "image/png": "[encoded data removed]",
            "text/plain": [
              "<Figure size 432x288 with 1 Axes>"
            ]
          },
          "metadata": {
            "tags": []
          }
        }
      ]
    },
    {
      "cell_type": "markdown",
      "metadata": {
        "deletable": true,
        "editable": true,
        "id": "y_FUz_Vk4R66",
        "colab_type": "text"
      },
      "source": [
        "The slope and intercept of the data are contained in the model's fit parameters, which in Scikit-Learn are always marked by a trailing underscore.\n",
        "Here the relevant parameters are ``coef_`` and ``intercept_``:"
      ]
    },
    {
      "cell_type": "code",
      "metadata": {
        "deletable": true,
        "editable": true,
        "id": "_A4XkI2E4R67",
        "colab_type": "code",
        "outputId": "74fa4f19-7d52-421b-e38c-297cb3f924c7",
        "colab": {
          "base_uri": "https://localhost:8080/",
          "height": 52
        }
      },
      "source": [
        "print(\"Model slope:    \", model.coef_[0])\n",
        "print(\"Model intercept:\", model.intercept_)"
      ],
      "execution_count": 15,
      "outputs": [
        {
          "output_type": "stream",
          "text": [
            "Model slope:     2.0272088103606953\n",
            "Model intercept: -4.998577085553204\n"
          ],
          "name": "stdout"
        }
      ]
    },
    {
      "cell_type": "markdown",
      "metadata": {
        "deletable": true,
        "editable": true,
        "id": "YOaIWdqx4R6_",
        "colab_type": "text"
      },
      "source": [
        "We see that the results are very close to the inputs, as we might hope."
      ]
    },
    {
      "cell_type": "markdown",
      "metadata": {
        "deletable": true,
        "editable": true,
        "id": "S8i36VDI4R7A",
        "colab_type": "text"
      },
      "source": [
        "The ``LinearRegression`` estimator is much more capable than this, however—in addition to simple straight-line fits, it can also handle multidimensional linear models of the form\n",
        "$$\n",
        "y = a_0 + a_1 x_1 + a_2 x_2 + \\cdots\n",
        "$$\n",
        "where there are multiple $x$ values.\n",
        "Geometrically, this is akin to fitting a plane to points in three dimensions, or fitting a hyper-plane to points in higher dimensions.\n",
        "\n",
        "The multidimensional nature of such regressions makes them more difficult to visualize, but we can see one of these fits in action by building some example data, using NumPy's matrix multiplication operator:"
      ]
    },
    {
      "cell_type": "code",
      "metadata": {
        "deletable": true,
        "editable": true,
        "id": "KZ0i5wz04R7B",
        "colab_type": "code",
        "outputId": "ede4440d-6ad3-4190-b2f6-e77270eec5b0",
        "colab": {
          "base_uri": "https://localhost:8080/",
          "height": 1000
        }
      },
      "source": [
        "rng = np.random.RandomState(1)\n",
        "X = 10 * rng.rand(100, 3)\n",
        "y = 0.5 + np.dot(X, [1.5, -2., 1.])\n",
        "\n",
        "print(X)\n",
        "print(y)"
      ],
      "execution_count": 17,
      "outputs": [
        {
          "output_type": "stream",
          "text": [
            "[[4.17022005e+00 7.20324493e+00 1.14374817e-03]\n",
            " [3.02332573e+00 1.46755891e+00 9.23385948e-01]\n",
            " [1.86260211e+00 3.45560727e+00 3.96767474e+00]\n",
            " [5.38816734e+00 4.19194514e+00 6.85219500e+00]\n",
            " [2.04452250e+00 8.78117436e+00 2.73875932e-01]\n",
            " [6.70467510e+00 4.17304802e+00 5.58689828e+00]\n",
            " [1.40386939e+00 1.98101489e+00 8.00744569e+00]\n",
            " [9.68261576e+00 3.13424178e+00 6.92322616e+00]\n",
            " [8.76389152e+00 8.94606664e+00 8.50442114e-01]\n",
            " [3.90547832e-01 1.69830420e+00 8.78142503e+00]\n",
            " [9.83468338e-01 4.21107625e+00 9.57889530e+00]\n",
            " [5.33165285e+00 6.91877114e+00 3.15515631e+00]\n",
            " [6.86500928e+00 8.34625672e+00 1.82882773e-01]\n",
            " [7.50144315e+00 9.88861089e+00 7.48165654e+00]\n",
            " [2.80443992e+00 7.89279328e+00 1.03226007e+00]\n",
            " [4.47893526e+00 9.08595503e+00 2.93614148e+00]\n",
            " [2.87775339e+00 1.30028572e+00 1.93669579e-01]\n",
            " [6.78835533e+00 2.11628116e+00 2.65546659e+00]\n",
            " [4.91573159e+00 5.33625451e-01 5.74117605e+00]\n",
            " [1.46728575e+00 5.89305537e+00 6.99758360e+00]\n",
            " [1.02334429e+00 4.14055988e+00 6.94400158e+00]\n",
            " [4.14179270e+00 4.99534589e-01 5.35896406e+00]\n",
            " [6.63794645e+00 5.14889112e+00 9.44594756e+00]\n",
            " [5.86555041e+00 9.03401915e+00 1.37474704e+00]\n",
            " [1.39276347e+00 8.07391289e+00 3.97676837e+00]\n",
            " [1.65354197e+00 9.27508580e+00 3.47765860e+00]\n",
            " [7.50812103e+00 7.25997985e+00 8.83306091e+00]\n",
            " [6.23672207e+00 7.50942434e+00 3.48898342e+00]\n",
            " [2.69927892e+00 8.95886218e+00 4.28091190e+00]\n",
            " [9.64840047e+00 6.63441498e+00 6.21695720e+00]\n",
            " [1.14745973e+00 9.49489259e+00 4.49912133e+00]\n",
            " [5.78389614e+00 4.08136803e+00 2.37026980e+00]\n",
            " [9.03379521e+00 5.73679487e+00 2.87032703e-02]\n",
            " [6.17144914e+00 3.26644902e+00 5.27058102e+00]\n",
            " [8.85942099e+00 3.57269760e+00 9.08535151e+00]\n",
            " [6.23360116e+00 1.58212428e-01 9.29437234e+00]\n",
            " [6.90896918e+00 9.97322850e+00 1.72340508e+00]\n",
            " [1.37135750e+00 9.32595463e+00 6.96818161e+00]\n",
            " [6.60001727e-01 7.55463053e+00 7.53876188e+00]\n",
            " [9.23024536e+00 7.11524759e+00 1.24270962e+00]\n",
            " [1.98801338e-01 2.62109869e-01 2.83064880e-01]\n",
            " [2.46211068e+00 8.60027949e+00 5.38831064e+00]\n",
            " [5.52821979e+00 8.42030892e+00 1.24173315e+00]\n",
            " [2.79183679e+00 5.85759271e+00 9.69595748e+00]\n",
            " [5.61030219e+00 1.86472894e-01 8.00632673e+00]\n",
            " [2.32974274e+00 8.07105196e+00 3.87860644e+00]\n",
            " [8.63541855e+00 7.47121643e+00 5.56240234e+00]\n",
            " [1.36455226e+00 5.99176895e-01 1.21343456e+00]\n",
            " [4.45518785e-01 1.07494129e+00 2.25709339e+00]\n",
            " [7.12988980e+00 5.59716982e+00 1.25559802e-01]\n",
            " [7.19742797e-01 9.67276330e+00 5.68100462e+00]\n",
            " [2.03293235e+00 2.52325745e+00 7.43825854e+00]\n",
            " [1.95429481e+00 5.81358927e+00 9.70019989e+00]\n",
            " [8.46828801e+00 2.39847759e+00 4.93769714e+00]\n",
            " [6.19955718e+00 8.28980900e+00 1.56791395e+00]\n",
            " [1.85762022e-01 7.00221437e-01 4.86345111e+00]\n",
            " [6.06329462e+00 5.68851437e+00 3.17362409e+00]\n",
            " [9.88616154e+00 5.79745219e+00 3.80141173e+00]\n",
            " [5.50948219e+00 7.45334431e+00 6.69232893e+00]\n",
            " [2.64919558e+00 6.63348344e-01 3.70084198e+00]\n",
            " [6.29717507e+00 2.10174010e+00 7.52755554e+00]\n",
            " [6.65364814e-01 2.60315099e+00 8.04754564e+00]\n",
            " [1.93434283e+00 6.39460881e+00 5.24670309e+00]\n",
            " [9.24807970e+00 2.63296770e+00 6.59610907e-01]\n",
            " [7.35065963e+00 7.72178030e+00 9.07815853e+00]\n",
            " [9.31972069e+00 1.39515730e-01 2.34362086e+00]\n",
            " [6.16778357e+00 9.49016321e+00 9.50176119e+00]\n",
            " [5.56653188e+00 9.15606350e+00 6.41566209e+00]\n",
            " [3.90007714e+00 4.85990667e+00 6.04310483e+00]\n",
            " [5.49547922e+00 9.26181427e+00 9.18733436e+00]\n",
            " [3.94875613e+00 9.63262528e+00 1.73955667e+00]\n",
            " [1.26329519e+00 1.35079158e+00 5.05662166e+00]\n",
            " [2.15248053e-01 9.47970211e+00 8.27115471e+00]\n",
            " [1.50189807e-01 1.76196256e+00 3.32063574e+00]\n",
            " [1.30996845e+00 8.09490692e+00 3.44736653e+00]\n",
            " [9.40107482e+00 5.82014180e+00 8.78831984e+00]\n",
            " [8.44734445e+00 9.05392319e+00 4.59880266e+00]\n",
            " [5.46346816e+00 7.98603591e+00 2.85718852e+00]\n",
            " [4.90253523e+00 5.99110308e+00 1.55332756e-01]\n",
            " [5.93481408e+00 4.33676349e+00 8.07360529e+00]\n",
            " [3.15244803e+00 8.92888709e+00 5.77857215e+00]\n",
            " [1.84010202e+00 7.87929234e+00 6.12031177e+00]\n",
            " [5.39092721e-01 4.20193680e+00 6.79068837e+00]\n",
            " [9.18601778e+00 4.02024891e-03 9.76759149e+00]\n",
            " [3.76580315e+00 9.73783538e+00 6.04716101e+00]\n",
            " [8.28845808e+00 5.74711505e+00 6.28076198e+00]\n",
            " [2.85576282e+00 5.86833341e+00 7.50021764e+00]\n",
            " [8.58313836e+00 7.55082188e+00 6.98057248e+00]\n",
            " [8.64479430e+00 3.22680997e+00 6.70788791e+00]\n",
            " [4.50873936e+00 3.82102752e+00 4.10811350e+00]\n",
            " [4.01479583e+00 3.17383946e+00 6.21919368e+00]\n",
            " [4.30247271e+00 9.73802078e+00 6.77800891e+00]\n",
            " [1.98569888e+00 4.26701009e+00 3.43346240e+00]\n",
            " [7.97638804e+00 8.79998289e+00 9.03841956e+00]\n",
            " [6.62719812e+00 2.70208262e+00 2.52366702e+00]\n",
            " [8.54897943e+00 5.27714646e+00 8.02161084e+00]\n",
            " [5.72488517e+00 7.33142525e+00 5.19011627e+00]\n",
            " [7.70883911e+00 5.68857991e+00 4.65709879e+00]\n",
            " [3.42688908e+00 6.82093484e-01 3.77924179e+00]\n",
            " [7.96260777e-01 9.82817114e+00 1.81612851e+00]]\n",
            "[ -7.65001605   3.02325672   0.35036337   7.05055573 -13.72168905\n",
            "   7.79781489   6.65121998  15.67866623  -3.39585387   6.47063839\n",
            "   3.13194531  -2.18490669  -5.71211675  -0.54340051 -10.04666662\n",
            "  -8.01736569   2.40972822   9.10543727  12.54752254  -2.08759851\n",
            "   0.69789825  11.07258392   9.605085    -7.39496566  -9.5819122\n",
            " -12.09220005   6.07528275  -1.67478215  -9.08789409   7.92072795\n",
            " -12.26947425   3.38337796   2.60580635   8.49485669  15.7290878\n",
            "  18.82834922  -7.35959816  -9.1266914   -6.08049658   1.35758248\n",
            "   0.55704715  -7.61908232  -6.80655502   2.66852724  16.54883423\n",
            "  -8.26888336   4.0730973    2.56190915   1.27548898   0.12605487\n",
            " -12.08490779   5.94114217   1.50446356  13.34317398  -5.21236827\n",
            "   4.24165127   1.39153728   7.53574966   0.5498636    6.84793866\n",
            "  13.26983794   4.33929089  -4.14100029   9.76579505   5.16058738\n",
            "  16.54417044   0.27311013  -3.04666708   2.6734072   -0.59307536\n",
            " -11.10255971   4.74998129  -9.86537743   0.52199534 -10.27749464\n",
            "  11.74964848  -0.33802704  -4.41968107  -3.97307056   8.80229943\n",
            "  -6.85052997  -6.37811988  -0.30454615  24.03857766  -7.27980504\n",
            "   7.71921901   0.54719505   5.25363626  13.72145942   3.7291675\n",
            "   6.39370851  -5.74432358  -1.62200946   3.90303585   7.56029896\n",
            "  10.79078705  -0.38540647   5.34319763   8.05538844 -16.1458226 ]\n"
          ],
          "name": "stdout"
        }
      ]
    },
    {
      "cell_type": "code",
      "metadata": {
        "id": "yMk3TeLmArm4",
        "colab_type": "code",
        "colab": {
          "base_uri": "https://localhost:8080/",
          "height": 52
        },
        "outputId": "bd7ee601-23fc-4e26-8df1-127df353b932"
      },
      "source": [
        "model.fit(X, y)\n",
        "print(model.intercept_)\n",
        "print(model.coef_)"
      ],
      "execution_count": 18,
      "outputs": [
        {
          "output_type": "stream",
          "text": [
            "0.50000000000001\n",
            "[ 1.5 -2.   1. ]\n"
          ],
          "name": "stdout"
        }
      ]
    },
    {
      "cell_type": "markdown",
      "metadata": {
        "deletable": true,
        "editable": true,
        "id": "LRI3RLQp4R7E",
        "colab_type": "text"
      },
      "source": [
        "Here the $y$ data is constructed from three random $x$ values, and the linear regression recovers the coefficients used to construct the data.\n",
        "\n",
        "In this way, we can use the single ``LinearRegression`` estimator to fit lines, planes, or hyperplanes to our data.\n",
        "It still appears that this approach would be limited to strictly linear relationships between variables, but it turns out we can relax this as well."
      ]
    },
    {
      "cell_type": "markdown",
      "metadata": {
        "deletable": true,
        "editable": true,
        "id": "VOg2bP4M4R7F",
        "colab_type": "text"
      },
      "source": [
        "## Basis Function Regression\n",
        "\n",
        "One trick you can use to adapt linear regression to nonlinear relationships between variables is to transform the data according to *basis functions*.\n",
        "The idea is to take our multidimensional linear model:\n",
        "$$\n",
        "y = a_0 + a_1 x_1 + a_2 x_2 + a_3 x_3 + \\cdots\n",
        "$$\n",
        "and build the $x_1, x_2, x_3,$ and so on, from our single-dimensional input $x$.\n",
        "That is, we let $x_n = f_n(x)$, where $f_n()$ is some function that transforms our data.\n",
        "\n",
        "For example, if $f_n(x) = x^n$, our model becomes a polynomial regression:\n",
        "$$\n",
        "y = a_0 + a_1 x + a_2 x^2 + a_3 x^3 + \\cdots\n",
        "$$\n",
        "Notice that this is `still a linear model`—the linearity refers to the fact that the coefficients $a_n$ never multiply or divide each other.\n",
        "What we have effectively done is taken our one-dimensional $x$ values and projected them into a higher dimension, so that a linear fit can fit more complicated relationships between $x$ and $y$."
      ]
    },
    {
      "cell_type": "markdown",
      "metadata": {
        "deletable": true,
        "editable": true,
        "id": "JNZfu6Xg4R7G",
        "colab_type": "text"
      },
      "source": [
        "### Polynomial basis functions\n",
        "\n",
        "This polynomial projection is useful enough that it is built into Scikit-Learn, using the ``PolynomialFeatures`` transformer:"
      ]
    },
    {
      "cell_type": "code",
      "metadata": {
        "deletable": true,
        "editable": true,
        "id": "bHgrG-xi4R7H",
        "colab_type": "code",
        "outputId": "522d28ea-de3a-4fb7-9a4f-a08864edd466",
        "colab": {
          "base_uri": "https://localhost:8080/",
          "height": 70
        }
      },
      "source": [
        "from sklearn.preprocessing import PolynomialFeatures\n",
        "x = np.array([2, 3, 4])\n",
        "poly = PolynomialFeatures(3, include_bias=False)\n",
        "poly.fit_transform(x[:, None])"
      ],
      "execution_count": 19,
      "outputs": [
        {
          "output_type": "execute_result",
          "data": {
            "text/plain": [
              "array([[ 2.,  4.,  8.],\n",
              "       [ 3.,  9., 27.],\n",
              "       [ 4., 16., 64.]])"
            ]
          },
          "metadata": {
            "tags": []
          },
          "execution_count": 19
        }
      ]
    },
    {
      "cell_type": "markdown",
      "metadata": {
        "deletable": true,
        "editable": true,
        "id": "j62RPnh-4R7K",
        "colab_type": "text"
      },
      "source": [
        "We see here that the transformer has converted our one-dimensional array into a three-dimensional array by taking the exponent of each value.\n",
        "This new, higher-dimensional data representation can then be plugged into a linear regression.\n",
        "\n",
        "The cleanest way to accomplish this is to use a pipeline.\n",
        "Let's make a 7th-degree polynomial model in this way:"
      ]
    },
    {
      "cell_type": "code",
      "metadata": {
        "deletable": true,
        "editable": true,
        "id": "FwYeBonm4R7L",
        "colab_type": "code",
        "colab": {}
      },
      "source": [
        "from sklearn.pipeline import make_pipeline\n",
        "poly_model = make_pipeline(PolynomialFeatures(7),\n",
        "                           LinearRegression())"
      ],
      "execution_count": 0,
      "outputs": []
    },
    {
      "cell_type": "markdown",
      "metadata": {
        "deletable": true,
        "editable": true,
        "id": "hnoMbT6g4R7P",
        "colab_type": "text"
      },
      "source": [
        "With this transform in place, we can use the linear model to fit much more complicated relationships between $x$ and $y$. \n",
        "For example, here is a sine wave with noise:"
      ]
    },
    {
      "cell_type": "code",
      "metadata": {
        "deletable": true,
        "editable": true,
        "id": "Zy5-Cvj-4R7Q",
        "colab_type": "code",
        "outputId": "c7d898df-499d-45af-e380-1aa0f31dcef6",
        "colab": {
          "base_uri": "https://localhost:8080/",
          "height": 267
        }
      },
      "source": [
        "rng = np.random.RandomState(1)\n",
        "x = 10 * rng.rand(50)\n",
        "y = np.sin(x) + 0.1 * rng.randn(50)\n",
        "\n",
        "poly_model.fit(x[:, np.newaxis], y)\n",
        "yfit = poly_model.predict(xfit[:, np.newaxis])\n",
        "\n",
        "plt.scatter(x, y)\n",
        "plt.plot(xfit, yfit);"
      ],
      "execution_count": 21,
      "outputs": [
        {
          "output_type": "display_data",
          "data": {
            "image/png": "[encoded data removed]",
            "text/plain": [
              "<Figure size 432x288 with 1 Axes>"
            ]
          },
          "metadata": {
            "tags": []
          }
        }
      ]
    },
    {
      "cell_type": "markdown",
      "metadata": {
        "deletable": true,
        "editable": true,
        "id": "aFeh3Zn34R7U",
        "colab_type": "text"
      },
      "source": [
        "Our linear model, through the use of 7th-order polynomial basis functions, can provide an excellent fit to this non-linear data!"
      ]
    },
    {
      "cell_type": "markdown",
      "metadata": {
        "deletable": true,
        "editable": true,
        "id": "0Ng_xa8W4R7V",
        "colab_type": "text"
      },
      "source": [
        "### Gaussian basis functions\n",
        "\n",
        "Of course, other basis functions are possible.\n",
        "For example, one useful pattern is to fit a model that is not a sum of polynomial bases, but a sum of Gaussian bases.\n",
        "The result might look something like the following figure:"
      ]
    },
    {
      "cell_type": "code",
      "metadata": {
        "id": "MH-h5xm1CKoJ",
        "colab_type": "code",
        "colab": {
          "base_uri": "https://localhost:8080/",
          "height": 272
        },
        "outputId": "42f4cd49-c1e4-4402-dc07-946e5e685c60"
      },
      "source": [
        "from sklearn.pipeline import make_pipeline\n",
        "from sklearn.linear_model import LinearRegression\n",
        "\n",
        "from sklearn.base import BaseEstimator, TransformerMixin\n",
        "\n",
        "class GaussianFeatures(BaseEstimator, TransformerMixin):\n",
        "    \"\"\"Uniformly-spaced Gaussian Features for 1D input\"\"\"\n",
        "    \n",
        "    def __init__(self, N, width_factor=2.0):\n",
        "        self.N = N\n",
        "        self.width_factor = width_factor\n",
        "    \n",
        "    @staticmethod\n",
        "    def _gauss_basis(x, y, width, axis=None):\n",
        "        arg = (x - y) / width\n",
        "        return np.exp(-0.5 * np.sum(arg ** 2, axis))\n",
        "        \n",
        "    def fit(self, X, y=None):\n",
        "        # create N centers spread along the data range\n",
        "        self.centers_ = np.linspace(X.min(), X.max(), self.N)\n",
        "        self.width_ = self.width_factor * (self.centers_[1] - self.centers_[0])\n",
        "        return self\n",
        "        \n",
        "    def transform(self, X):\n",
        "        return self._gauss_basis(X[:, :, np.newaxis], self.centers_,\n",
        "                                 self.width_, axis=1)\n",
        "\n",
        "rng = np.random.RandomState(1)\n",
        "x = 10 * rng.rand(50)\n",
        "y = np.sin(x) + 0.1 * rng.randn(50)\n",
        "xfit = np.linspace(0, 10, 1000)\n",
        "\n",
        "gauss_model = make_pipeline(GaussianFeatures(10, 1.0),\n",
        "                            LinearRegression())\n",
        "gauss_model.fit(x[:, np.newaxis], y)\n",
        "yfit = gauss_model.predict(xfit[:, np.newaxis])\n",
        "\n",
        "gf = gauss_model.named_steps['gaussianfeatures']\n",
        "lm = gauss_model.named_steps['linearregression']\n",
        "\n",
        "fig, ax = plt.subplots()\n",
        "\n",
        "for i in range(10):\n",
        "    selector = np.zeros(10)\n",
        "    selector[i] = 1\n",
        "    Xfit = gf.transform(xfit[:, None]) * selector\n",
        "    yfit = lm.predict(Xfit)\n",
        "    ax.fill_between(xfit, yfit.min(), yfit, color='gray', alpha=0.2)\n",
        "\n",
        "ax.scatter(x, y)\n",
        "ax.plot(xfit, gauss_model.predict(xfit[:, np.newaxis]))\n",
        "ax.set_xlim(0, 10)\n",
        "ax.set_ylim(yfit.min(), 1.5)\n",
        "\n",
        "fig.savefig('.05.06-gaussian-basis.png')"
      ],
      "execution_count": 23,
      "outputs": [
        {
          "output_type": "display_data",
          "data": {
            "image/png": "[encoded data removed]",
            "text/plain": [
              "<Figure size 432x288 with 1 Axes>"
            ]
          },
          "metadata": {
            "tags": []
          }
        }
      ]
    },
    {
      "cell_type": "markdown",
      "metadata": {
        "deletable": true,
        "editable": true,
        "id": "1hNZMdFp4R7X",
        "colab_type": "text"
      },
      "source": [
        "The shaded regions in the plot are the scaled basis functions, and when added together they reproduce the smooth curve through the data.\n",
        "These Gaussian basis functions are not built into Scikit-Learn, but we can write a custom transformer that will create them, as shown here and illustrated in the following figure (Scikit-Learn transformers are implemented as Python classes; reading Scikit-Learn's source is a good way to see how they can be created):"
      ]
    },
    {
      "cell_type": "code",
      "metadata": {
        "deletable": true,
        "editable": true,
        "id": "ZQTaIJZl4R7Y",
        "colab_type": "code",
        "outputId": "396a1c16-b4d4-4195-d449-fcd248b9f318",
        "colab": {}
      },
      "source": [
        "from sklearn.base import BaseEstimator, TransformerMixin\n",
        "\n",
        "class GaussianFeatures(BaseEstimator, TransformerMixin):\n",
        "    \"\"\"Uniformly spaced Gaussian features for one-dimensional input\"\"\"\n",
        "    \n",
        "    def __init__(self, N, width_factor=2.0):\n",
        "        self.N = N\n",
        "        self.width_factor = width_factor\n",
        "    \n",
        "    @staticmethod\n",
        "    def _gauss_basis(x, y, width, axis=None):\n",
        "        arg = (x - y) / width\n",
        "        return np.exp(-0.5 * np.sum(arg ** 2, axis))\n",
        "        \n",
        "    def fit(self, X, y=None):\n",
        "        # create N centers spread along the data range\n",
        "        self.centers_ = np.linspace(X.min(), X.max(), self.N)\n",
        "        self.width_ = self.width_factor * (self.centers_[1] - self.centers_[0])\n",
        "        return self\n",
        "        \n",
        "    def transform(self, X):\n",
        "        return self._gauss_basis(X[:, :, np.newaxis], self.centers_,\n",
        "                                 self.width_, axis=1)\n",
        "    \n",
        "gauss_model = make_pipeline(GaussianFeatures(20),\n",
        "                            LinearRegression())\n",
        "gauss_model.fit(x[:, np.newaxis], y)\n",
        "yfit = gauss_model.predict(xfit[:, np.newaxis])\n",
        "\n",
        "plt.scatter(x, y)\n",
        "plt.plot(xfit, yfit)\n",
        "plt.xlim(0, 10);"
      ],
      "execution_count": 0,
      "outputs": [
        {
          "output_type": "display_data",
          "data": {
            "image/png": "[encoded data removed]",
            "text/plain": [
              "<matplotlib.figure.Figure at 0x118997668>"
            ]
          },
          "metadata": {
            "tags": []
          }
        }
      ]
    },
    {
      "cell_type": "markdown",
      "metadata": {
        "deletable": true,
        "editable": true,
        "id": "qTQ2_TBw4R7b",
        "colab_type": "text"
      },
      "source": [
        "We put this example here just to make clear that there is nothing magic about polynomial basis functions: if you have some sort of intuition into the generating process of your data that makes you think one basis or another might be appropriate, you can use them as well."
      ]
    },
    {
      "cell_type": "markdown",
      "metadata": {
        "deletable": true,
        "editable": true,
        "id": "7WvmoEQt4R7c",
        "colab_type": "text"
      },
      "source": [
        "## Regularization\n",
        "\n",
        "The introduction of basis functions into our linear regression makes the model much more flexible, but it also can very quickly lead to over-fitting.\n",
        "For example, if we choose too many Gaussian basis functions, we end up with results that don't look so good:"
      ]
    },
    {
      "cell_type": "code",
      "metadata": {
        "deletable": true,
        "editable": true,
        "id": "cMcBTJg74R7d",
        "colab_type": "code",
        "outputId": "33cebff1-f670-493a-bb06-b1bea4d5e2b4",
        "colab": {
          "base_uri": "https://localhost:8080/",
          "height": 272
        }
      },
      "source": [
        "model = make_pipeline(GaussianFeatures(30),\n",
        "                      LinearRegression())\n",
        "model.fit(x[:, np.newaxis], y)\n",
        "\n",
        "plt.scatter(x, y)\n",
        "plt.plot(xfit, model.predict(xfit[:, np.newaxis]))\n",
        "\n",
        "plt.xlim(0, 10)\n",
        "plt.ylim(-1.5, 1.5);"
      ],
      "execution_count": 26,
      "outputs": [
        {
          "output_type": "display_data",
          "data": {
            "image/png": "[encoded data removed]",
            "text/plain": [
              "<Figure size 432x288 with 1 Axes>"
            ]
          },
          "metadata": {
            "tags": []
          }
        }
      ]
    },
    {
      "cell_type": "markdown",
      "metadata": {
        "deletable": true,
        "editable": true,
        "id": "hX7jtAY_4R7h",
        "colab_type": "text"
      },
      "source": [
        "With the data projected to the 30-dimensional basis, the model has far too much flexibility and goes to extreme values between locations where it is constrained by data.\n",
        "We can see the reason for this if we plot the coefficients of the Gaussian bases with respect to their locations:"
      ]
    },
    {
      "cell_type": "code",
      "metadata": {
        "deletable": true,
        "editable": true,
        "id": "48tddn5s4R7i",
        "colab_type": "code",
        "outputId": "6e92a389-2c40-4cdd-8544-f8c6878c24c7",
        "colab": {
          "base_uri": "https://localhost:8080/",
          "height": 284
        }
      },
      "source": [
        "def basis_plot(model, title=None):\n",
        "    fig, ax = plt.subplots(2, sharex=True)\n",
        "    model.fit(x[:, np.newaxis], y)\n",
        "    ax[0].scatter(x, y)\n",
        "    ax[0].plot(xfit, model.predict(xfit[:, np.newaxis]))\n",
        "    ax[0].set(xlabel='x', ylabel='y', ylim=(-1.5, 1.5))\n",
        "    \n",
        "    if title:\n",
        "        ax[0].set_title(title)\n",
        "\n",
        "    ax[1].plot(model.steps[0][1].centers_,\n",
        "               model.steps[1][1].coef_)\n",
        "    ax[1].set(xlabel='basis location',\n",
        "              ylabel='coefficient',\n",
        "              xlim=(0, 10))\n",
        "    \n",
        "model = make_pipeline(GaussianFeatures(30), LinearRegression())\n",
        "basis_plot(model)"
      ],
      "execution_count": 27,
      "outputs": [
        {
          "output_type": "display_data",
          "data": {
            "image/png": "[encoded data removed]",
            "text/plain": [
              "<Figure size 432x288 with 2 Axes>"
            ]
          },
          "metadata": {
            "tags": []
          }
        }
      ]
    },
    {
      "cell_type": "markdown",
      "metadata": {
        "deletable": true,
        "editable": true,
        "id": "JSNg-4Y04R7m",
        "colab_type": "text"
      },
      "source": [
        "The lower panel of this figure shows the amplitude of the basis function at each location.\n",
        "This is typical over-fitting behavior when basis functions overlap: the coefficients of adjacent basis functions blow up and cancel each other out.\n",
        "We know that such behavior is problematic, and it would be nice if we could limit such spikes expliticly in the model by penalizing large values of the model parameters.\n",
        "Such a penalty is known as *regularization*, and comes in several forms."
      ]
    },
    {
      "cell_type": "markdown",
      "metadata": {
        "deletable": true,
        "editable": true,
        "id": "KrQsjssr4R7n",
        "colab_type": "text"
      },
      "source": [
        "### Ridge regression ($L_2$ Regularization)\n",
        "\n",
        "Perhaps the most common form of regularization is known as *ridge regression* or $L_2$ *regularization*, sometimes also called *Tikhonov regularization*.\n",
        "This proceeds by penalizing the sum of squares (2-norms) of the model coefficients; in this case, the penalty on the model fit would be \n",
        "$$\n",
        "P = \\alpha\\sum_{n=1}^N \\theta_n^2\n",
        "$$\n",
        "where $\\alpha$ is a free parameter that controls the strength of the penalty.\n",
        "This type of penalized model is built into Scikit-Learn with the ``Ridge`` estimator:"
      ]
    },
    {
      "cell_type": "code",
      "metadata": {
        "deletable": true,
        "editable": true,
        "id": "wpIGa29s4R7o",
        "colab_type": "code",
        "outputId": "800282ea-2842-4559-9c0b-4e32a3108ea7",
        "colab": {}
      },
      "source": [
        "from sklearn.linear_model import Ridge\n",
        "model = make_pipeline(GaussianFeatures(30), Ridge(alpha=0.1))\n",
        "basis_plot(model, title='Ridge Regression')"
      ],
      "execution_count": 0,
      "outputs": [
        {
          "output_type": "display_data",
          "data": {
            "image/png": "[encoded data removed]",
            "text/plain": [
              "<matplotlib.figure.Figure at 0x1189f3390>"
            ]
          },
          "metadata": {
            "tags": []
          }
        }
      ]
    },
    {
      "cell_type": "markdown",
      "metadata": {
        "deletable": true,
        "editable": true,
        "id": "R1hIt2OJ4R7r",
        "colab_type": "text"
      },
      "source": [
        "The $\\alpha$ parameter is essentially a knob controlling the complexity of the resulting model.\n",
        "In the limit $\\alpha \\to 0$, we recover the standard linear regression result; in the limit $\\alpha \\to \\infty$, all model responses will be suppressed.\n",
        "One advantage of ridge regression in particular is that it can be computed very efficiently—at hardly more computational cost than the original linear regression model."
      ]
    },
    {
      "cell_type": "markdown",
      "metadata": {
        "deletable": true,
        "editable": true,
        "id": "nTVii-FL4R7s",
        "colab_type": "text"
      },
      "source": [
        "### Lasso regression ($L_1$ regularization)\n",
        "\n",
        "Another very common type of regularization is known as lasso, and involves penalizing the sum of absolute values (1-norms) of regression coefficients:\n",
        "$$\n",
        "P = \\alpha\\sum_{n=1}^N |\\theta_n|\n",
        "$$\n",
        "Though this is conceptually very similar to ridge regression, the results can differ surprisingly: for example, due to geometric reasons lasso regression tends to favor *sparse models* where possible: that is, it preferentially sets model coefficients to exactly zero.\n",
        "\n",
        "We can see this behavior in duplicating the ridge regression figure, but using L1-normalized coefficients:"
      ]
    },
    {
      "cell_type": "code",
      "metadata": {
        "deletable": true,
        "editable": true,
        "id": "8m9c7S-N4R7t",
        "colab_type": "code",
        "outputId": "b35aea31-5a9d-4ba7-cf9f-2620810c6309",
        "colab": {}
      },
      "source": [
        "from sklearn.linear_model import Lasso\n",
        "model = make_pipeline(GaussianFeatures(30), Lasso(alpha=0.001))\n",
        "basis_plot(model, title='Lasso Regression')"
      ],
      "execution_count": 0,
      "outputs": [
        {
          "output_type": "display_data",
          "data": {
            "image/png": "[encoded data removed]",
            "text/plain": [
              "<matplotlib.figure.Figure at 0x1194f3208>"
            ]
          },
          "metadata": {
            "tags": []
          }
        }
      ]
    },
    {
      "cell_type": "markdown",
      "metadata": {
        "deletable": true,
        "editable": true,
        "id": "Z95Br7ep4R7x",
        "colab_type": "text"
      },
      "source": [
        "With the lasso regression penalty, the majority of the coefficients are exactly zero, with the functional behavior being modeled by a small subset of the available basis functions.\n",
        "As with ridge regularization, the $\\alpha$ parameter tunes the strength of the penalty, and should be determined via, for example, cross-validation."
      ]
    },
    {
      "cell_type": "markdown",
      "metadata": {
        "deletable": true,
        "editable": true,
        "id": "KehpshK34R70",
        "colab_type": "text"
      },
      "source": [
        "## Example: Predicting Bicycle Traffic"
      ]
    },
    {
      "cell_type": "markdown",
      "metadata": {
        "collapsed": true,
        "deletable": true,
        "editable": true,
        "id": "26LHDpSz4R71",
        "colab_type": "text"
      },
      "source": [
        "As an example, let's take a look at whether we can predict the number of bicycle trips across Seattle's Fremont Bridge based on weather, season, and other factors.\n",
        "\n",
        "In this section, we will join the bike data with another dataset, and try to determine the extent to which weather and seasonal factors—temperature, precipitation, and daylight hours—affect the volume of bicycle traffic through this corridor.\n",
        "Fortunately, the NOAA makes available their daily [weather station data](http://www.ncdc.noaa.gov/cdo-web/search?datasetid=GHCND) (I used station ID USW00024233) and we can easily use Pandas to join the two data sources.\n",
        "We will perform a simple linear regression to relate weather and other information to bicycle counts, in order to estimate how a change in any one of these parameters affects the number of riders on a given day.\n",
        "\n",
        "In particular, this is an example of how the tools of Scikit-Learn can be used in a statistical modeling framework, in which the parameters of the model are assumed to have interpretable meaning.\n",
        "As discussed previously, this is not a standard approach within machine learning, but such interpretation is possible for some models.\n",
        "\n",
        "Let's start by loading the two datasets, indexing by date:"
      ]
    },
    {
      "cell_type": "code",
      "metadata": {
        "deletable": true,
        "editable": true,
        "id": "mZlZa6V44R72",
        "colab_type": "code",
        "colab": {
          "base_uri": "https://localhost:8080/",
          "height": 90
        },
        "outputId": "f84ef2f1-99e3-4aba-9b7c-33e79fa00146"
      },
      "source": [
        "!curl -o FremontBridge.csv https://data.seattle.gov/api/views/65db-xm6k/rows.csv?accessType=DOWNLOAD"
      ],
      "execution_count": 28,
      "outputs": [
        {
          "output_type": "stream",
          "text": [
            "  % Total    % Received % Xferd  Average Speed   Time    Time     Time  Current\n",
            "                                 Dload  Upload   Total   Spent    Left  Speed\n",
            "100 1934k    0 1934k    0     0  1029k      0 --:--:--  0:00:01 --:--:-- 1029k\n"
          ],
          "name": "stdout"
        }
      ]
    },
    {
      "cell_type": "code",
      "metadata": {
        "id": "DegDCSiNEZtA",
        "colab_type": "code",
        "colab": {}
      },
      "source": [
        "weather_origin = \"https://github.com/vfp1/bts-mbds-data-science-foundations-2019/raw/master/sessions/data/bicycle_weather.csv\""
      ],
      "execution_count": 0,
      "outputs": []
    },
    {
      "cell_type": "code",
      "metadata": {
        "deletable": true,
        "editable": true,
        "id": "MigmeQpb4R75",
        "colab_type": "code",
        "colab": {}
      },
      "source": [
        "import pandas as pd\n",
        "counts = pd.read_csv('FremontBridge.csv', index_col='Date', parse_dates=True)\n",
        "weather = pd.read_csv(weather_origin, index_col='DATE', parse_dates=True)"
      ],
      "execution_count": 0,
      "outputs": []
    },
    {
      "cell_type": "markdown",
      "metadata": {
        "deletable": true,
        "editable": true,
        "id": "r-Xrg2PI4R78",
        "colab_type": "text"
      },
      "source": [
        "Next we will compute the total daily bicycle traffic, and put this in its own dataframe:"
      ]
    },
    {
      "cell_type": "code",
      "metadata": {
        "deletable": true,
        "editable": true,
        "id": "LKfV9WJo4R79",
        "colab_type": "code",
        "colab": {}
      },
      "source": [
        "daily = counts.resample('d').sum()\n",
        "daily['Total'] = daily.sum(axis=1)\n",
        "daily = daily[['Total']] # remove other columns"
      ],
      "execution_count": 0,
      "outputs": []
    },
    {
      "cell_type": "markdown",
      "metadata": {
        "deletable": true,
        "editable": true,
        "id": "rXreAUM84R8A",
        "colab_type": "text"
      },
      "source": [
        "We saw previously that the patterns of use generally vary from day to day; let's account for this in our data by adding binary columns that indicate the day of the week:"
      ]
    },
    {
      "cell_type": "code",
      "metadata": {
        "deletable": true,
        "editable": true,
        "id": "SAQcrdMJ4R8B",
        "colab_type": "code",
        "colab": {}
      },
      "source": [
        "days = ['Mon', 'Tue', 'Wed', 'Thu', 'Fri', 'Sat', 'Sun']\n",
        "for i in range(7):\n",
        "    daily[days[i]] = (daily.index.dayofweek == i).astype(float)"
      ],
      "execution_count": 0,
      "outputs": []
    },
    {
      "cell_type": "markdown",
      "metadata": {
        "deletable": true,
        "editable": true,
        "id": "7KspAKJ54R8F",
        "colab_type": "text"
      },
      "source": [
        "Similarly, we might expect riders to behave differently on holidays; let's add an indicator of this as well:"
      ]
    },
    {
      "cell_type": "code",
      "metadata": {
        "deletable": true,
        "editable": true,
        "id": "kumYdOCU4R8H",
        "colab_type": "code",
        "colab": {}
      },
      "source": [
        "from pandas.tseries.holiday import USFederalHolidayCalendar\n",
        "cal = USFederalHolidayCalendar()\n",
        "holidays = cal.holidays('2012', '2016')\n",
        "daily = daily.join(pd.Series(1, index=holidays, name='holiday'))\n",
        "daily['holiday'].fillna(0, inplace=True)"
      ],
      "execution_count": 0,
      "outputs": []
    },
    {
      "cell_type": "markdown",
      "metadata": {
        "deletable": true,
        "editable": true,
        "id": "cSvnOdX64R8L",
        "colab_type": "text"
      },
      "source": [
        "We also might suspect that the hours of daylight would affect how many people ride; let's use the standard astronomical calculation to add this information:"
      ]
    },
    {
      "cell_type": "code",
      "metadata": {
        "deletable": true,
        "editable": true,
        "id": "JPo1OHBA4R8M",
        "colab_type": "code",
        "outputId": "f0ccb101-4233-43a1-b488-d3fc4be3d4b0",
        "colab": {
          "base_uri": "https://localhost:8080/",
          "height": 306
        }
      },
      "source": [
        "def hours_of_daylight(date, axis=23.44, latitude=47.61):\n",
        "    \"\"\"Compute the hours of daylight for the given date\"\"\"\n",
        "    days = (date - pd.datetime(2000, 12, 21)).days\n",
        "    m = (1. - np.tan(np.radians(latitude))\n",
        "         * np.tan(np.radians(axis) * np.cos(days * 2 * np.pi / 365.25)))\n",
        "    return 24. * np.degrees(np.arccos(1 - np.clip(m, 0, 2))) / 180.\n",
        "\n",
        "daily['daylight_hrs'] = list(map(hours_of_daylight, daily.index))\n",
        "daily[['daylight_hrs']].plot()\n",
        "plt.ylim(8, 17)"
      ],
      "execution_count": 35,
      "outputs": [
        {
          "output_type": "execute_result",
          "data": {
            "text/plain": [
              "(8, 17)"
            ]
          },
          "metadata": {
            "tags": []
          },
          "execution_count": 35
        },
        {
          "output_type": "display_data",
          "data": {
            "image/png": "[encoded data removed]",
            "text/plain": [
              "<Figure size 432x288 with 1 Axes>"
            ]
          },
          "metadata": {
            "tags": []
          }
        }
      ]
    },
    {
      "cell_type": "markdown",
      "metadata": {
        "deletable": true,
        "editable": true,
        "id": "T3dXxs5b4R8P",
        "colab_type": "text"
      },
      "source": [
        "We can also add the average temperature and total precipitation to the data.\n",
        "In addition to the inches of precipitation, let's add a flag that indicates whether a day is dry (has zero precipitation):"
      ]
    },
    {
      "cell_type": "code",
      "metadata": {
        "deletable": true,
        "editable": true,
        "id": "wnIb8lHq4R8Q",
        "colab_type": "code",
        "colab": {}
      },
      "source": [
        "# temperatures are in 1/10 deg C; convert to C\n",
        "weather['TMIN'] /= 10\n",
        "weather['TMAX'] /= 10\n",
        "weather['Temp (C)'] = 0.5 * (weather['TMIN'] + weather['TMAX'])\n",
        "\n",
        "# precip is in 1/10 mm; convert to inches\n",
        "weather['PRCP'] /= 254\n",
        "weather['dry day'] = (weather['PRCP'] == 0).astype(int)\n",
        "\n",
        "daily = daily.join(weather[['PRCP', 'Temp (C)', 'dry day']])"
      ],
      "execution_count": 0,
      "outputs": []
    },
    {
      "cell_type": "markdown",
      "metadata": {
        "deletable": true,
        "editable": true,
        "id": "mMZzTUMV4R8T",
        "colab_type": "text"
      },
      "source": [
        "Finally, let's add a counter that increases from day 1, and measures how many years have passed.\n",
        "This will let us measure any observed annual increase or decrease in daily crossings:"
      ]
    },
    {
      "cell_type": "code",
      "metadata": {
        "deletable": true,
        "editable": true,
        "id": "LE_XAJHx4R8U",
        "colab_type": "code",
        "colab": {}
      },
      "source": [
        "daily['annual'] = (daily.index - daily.index[0]).days / 365."
      ],
      "execution_count": 0,
      "outputs": []
    },
    {
      "cell_type": "markdown",
      "metadata": {
        "deletable": true,
        "editable": true,
        "id": "fXTU1IgI4R8X",
        "colab_type": "text"
      },
      "source": [
        "Now our data is in order, and we can take a look at it:"
      ]
    },
    {
      "cell_type": "code",
      "metadata": {
        "deletable": true,
        "editable": true,
        "id": "BLwYq2HG4R8X",
        "colab_type": "code",
        "outputId": "c20f31b5-9ca7-418b-e81f-c0651e8770f4",
        "colab": {
          "base_uri": "https://localhost:8080/",
          "height": 347
        }
      },
      "source": [
        "daily.head()"
      ],
      "execution_count": 38,
      "outputs": [
        {
          "output_type": "execute_result",
          "data": {
            "text/html": [
              "<div>\n",
              "<style scoped>\n",
              "    .dataframe tbody tr th:only-of-type {\n",
              "        vertical-align: middle;\n",
              "    }\n",
              "\n",
              "    .dataframe tbody tr th {\n",
              "        vertical-align: top;\n",
              "    }\n",
              "\n",
              "    .dataframe thead th {\n",
              "        text-align: right;\n",
              "    }\n",
              "</style>\n",
              "<table border=\"1\" class=\"dataframe\">\n",
              "  <thead>\n",
              "    <tr style=\"text-align: right;\">\n",
              "      <th></th>\n",
              "      <th>Total</th>\n",
              "      <th>Mon</th>\n",
              "      <th>Tue</th>\n",
              "      <th>Wed</th>\n",
              "      <th>Thu</th>\n",
              "      <th>Fri</th>\n",
              "      <th>Sat</th>\n",
              "      <th>Sun</th>\n",
              "      <th>holiday</th>\n",
              "      <th>daylight_hrs</th>\n",
              "      <th>PRCP</th>\n",
              "      <th>Temp (C)</th>\n",
              "      <th>dry day</th>\n",
              "      <th>annual</th>\n",
              "    </tr>\n",
              "    <tr>\n",
              "      <th>Date</th>\n",
              "      <th></th>\n",
              "      <th></th>\n",
              "      <th></th>\n",
              "      <th></th>\n",
              "      <th></th>\n",
              "      <th></th>\n",
              "      <th></th>\n",
              "      <th></th>\n",
              "      <th></th>\n",
              "      <th></th>\n",
              "      <th></th>\n",
              "      <th></th>\n",
              "      <th></th>\n",
              "      <th></th>\n",
              "    </tr>\n",
              "  </thead>\n",
              "  <tbody>\n",
              "    <tr>\n",
              "      <th>2012-10-03</th>\n",
              "      <td>7042.0</td>\n",
              "      <td>0.0</td>\n",
              "      <td>0.0</td>\n",
              "      <td>1.0</td>\n",
              "      <td>0.0</td>\n",
              "      <td>0.0</td>\n",
              "      <td>0.0</td>\n",
              "      <td>0.0</td>\n",
              "      <td>0.0</td>\n",
              "      <td>11.277359</td>\n",
              "      <td>0.0</td>\n",
              "      <td>13.35</td>\n",
              "      <td>1.0</td>\n",
              "      <td>0.000000</td>\n",
              "    </tr>\n",
              "    <tr>\n",
              "      <th>2012-10-04</th>\n",
              "      <td>6950.0</td>\n",
              "      <td>0.0</td>\n",
              "      <td>0.0</td>\n",
              "      <td>0.0</td>\n",
              "      <td>1.0</td>\n",
              "      <td>0.0</td>\n",
              "      <td>0.0</td>\n",
              "      <td>0.0</td>\n",
              "      <td>0.0</td>\n",
              "      <td>11.219142</td>\n",
              "      <td>0.0</td>\n",
              "      <td>13.60</td>\n",
              "      <td>1.0</td>\n",
              "      <td>0.002740</td>\n",
              "    </tr>\n",
              "    <tr>\n",
              "      <th>2012-10-05</th>\n",
              "      <td>6296.0</td>\n",
              "      <td>0.0</td>\n",
              "      <td>0.0</td>\n",
              "      <td>0.0</td>\n",
              "      <td>0.0</td>\n",
              "      <td>1.0</td>\n",
              "      <td>0.0</td>\n",
              "      <td>0.0</td>\n",
              "      <td>0.0</td>\n",
              "      <td>11.161038</td>\n",
              "      <td>0.0</td>\n",
              "      <td>15.30</td>\n",
              "      <td>1.0</td>\n",
              "      <td>0.005479</td>\n",
              "    </tr>\n",
              "    <tr>\n",
              "      <th>2012-10-06</th>\n",
              "      <td>4012.0</td>\n",
              "      <td>0.0</td>\n",
              "      <td>0.0</td>\n",
              "      <td>0.0</td>\n",
              "      <td>0.0</td>\n",
              "      <td>0.0</td>\n",
              "      <td>1.0</td>\n",
              "      <td>0.0</td>\n",
              "      <td>0.0</td>\n",
              "      <td>11.103056</td>\n",
              "      <td>0.0</td>\n",
              "      <td>15.85</td>\n",
              "      <td>1.0</td>\n",
              "      <td>0.008219</td>\n",
              "    </tr>\n",
              "    <tr>\n",
              "      <th>2012-10-07</th>\n",
              "      <td>4284.0</td>\n",
              "      <td>0.0</td>\n",
              "      <td>0.0</td>\n",
              "      <td>0.0</td>\n",
              "      <td>0.0</td>\n",
              "      <td>0.0</td>\n",
              "      <td>0.0</td>\n",
              "      <td>1.0</td>\n",
              "      <td>0.0</td>\n",
              "      <td>11.045208</td>\n",
              "      <td>0.0</td>\n",
              "      <td>15.85</td>\n",
              "      <td>1.0</td>\n",
              "      <td>0.010959</td>\n",
              "    </tr>\n",
              "  </tbody>\n",
              "</table>\n",
              "</div>"
            ],
            "text/plain": [
              "             Total  Mon  Tue  Wed  ...  PRCP  Temp (C)  dry day    annual\n",
              "Date                               ...                                   \n",
              "2012-10-03  7042.0  0.0  0.0  1.0  ...   0.0     13.35      1.0  0.000000\n",
              "2012-10-04  6950.0  0.0  0.0  0.0  ...   0.0     13.60      1.0  0.002740\n",
              "2012-10-05  6296.0  0.0  0.0  0.0  ...   0.0     15.30      1.0  0.005479\n",
              "2012-10-06  4012.0  0.0  0.0  0.0  ...   0.0     15.85      1.0  0.008219\n",
              "2012-10-07  4284.0  0.0  0.0  0.0  ...   0.0     15.85      1.0  0.010959\n",
              "\n",
              "[5 rows x 14 columns]"
            ]
          },
          "metadata": {
            "tags": []
          },
          "execution_count": 38
        }
      ]
    },
    {
      "cell_type": "markdown",
      "metadata": {
        "deletable": true,
        "editable": true,
        "id": "XlWAsWxr4R8a",
        "colab_type": "text"
      },
      "source": [
        "With this in place, we can choose the columns to use, and fit a linear regression model to our data.\n",
        "We will set ``fit_intercept = False``, because the daily flags essentially operate as their own day-specific intercepts:"
      ]
    },
    {
      "cell_type": "code",
      "metadata": {
        "deletable": true,
        "editable": true,
        "id": "kEAzfDlC4R8b",
        "colab_type": "code",
        "colab": {}
      },
      "source": [
        "# Drop any rows with null values\n",
        "daily.dropna(axis=0, how='any', inplace=True)\n",
        "\n",
        "column_names = ['Mon', 'Tue', 'Wed', 'Thu', 'Fri', 'Sat', 'Sun', 'holiday',\n",
        "                'daylight_hrs', 'PRCP', 'dry day', 'Temp (C)', 'annual']\n",
        "X = daily[column_names]\n",
        "y = daily['Total']\n",
        "\n",
        "model = LinearRegression(fit_intercept=False)\n",
        "model.fit(X, y)\n",
        "daily['predicted'] = model.predict(X)"
      ],
      "execution_count": 0,
      "outputs": []
    },
    {
      "cell_type": "markdown",
      "metadata": {
        "deletable": true,
        "editable": true,
        "id": "9T1FaIyU4R8d",
        "colab_type": "text"
      },
      "source": [
        "Finally, we can compare the total and predicted bicycle traffic visually:"
      ]
    },
    {
      "cell_type": "code",
      "metadata": {
        "deletable": true,
        "editable": true,
        "id": "pdDFsG0Z4R8e",
        "colab_type": "code",
        "outputId": "8dc3a626-f5b1-46b6-eda1-cf4b6f7f6925",
        "colab": {
          "base_uri": "https://localhost:8080/",
          "height": 295
        }
      },
      "source": [
        "daily[['Total', 'predicted']].plot(alpha=0.5);"
      ],
      "execution_count": 51,
      "outputs": [
        {
          "output_type": "display_data",
          "data": {
            "image/png": "[encoded data removed]",
            "text/plain": [
              "<Figure size 432x288 with 1 Axes>"
            ]
          },
          "metadata": {
            "tags": []
          }
        }
      ]
    },
    {
      "cell_type": "markdown",
      "metadata": {
        "deletable": true,
        "editable": true,
        "id": "D-FuMkVj4R8h",
        "colab_type": "text"
      },
      "source": [
        "It is evident that we have missed some key features, especially during the summer time.\n",
        "Either our features are not complete (i.e., people decide whether to ride to work based on more than just these) or there are some nonlinear relationships that we have failed to take into account (e.g., perhaps people ride less at both high and low temperatures).\n",
        "Nevertheless, our rough approximation is enough to give us some insights, and we can take a look at the coefficients of the linear model to estimate how much each feature contributes to the daily bicycle count:"
      ]
    },
    {
      "cell_type": "code",
      "metadata": {
        "deletable": true,
        "editable": true,
        "id": "2MbvhJu24R8i",
        "colab_type": "code",
        "outputId": "576b5f5d-4e39-4039-cae1-f99788a7fba8",
        "colab": {
          "base_uri": "https://localhost:8080/",
          "height": 265
        }
      },
      "source": [
        "params = pd.Series(model.coef_, index=X.columns)\n",
        "params"
      ],
      "execution_count": 55,
      "outputs": [
        {
          "output_type": "execute_result",
          "data": {
            "text/plain": [
              "Mon             1009.765512\n",
              "Tue             1220.467872\n",
              "Wed             1185.347283\n",
              "Thu              964.716230\n",
              "Fri              355.960691\n",
              "Sat            -2206.603421\n",
              "Sun            -2267.134492\n",
              "holiday        -2374.802762\n",
              "daylight_hrs     257.703022\n",
              "PRCP           -1329.669764\n",
              "dry day         1095.397185\n",
              "Temp (C)         130.325582\n",
              "annual            53.885426\n",
              "dtype: float64"
            ]
          },
          "metadata": {
            "tags": []
          },
          "execution_count": 55
        }
      ]
    },
    {
      "cell_type": "markdown",
      "metadata": {
        "deletable": true,
        "editable": true,
        "id": "rYU3amAx4R8n",
        "colab_type": "text"
      },
      "source": [
        "These numbers are difficult to interpret without some measure of their uncertainty.\n",
        "We can compute these uncertainties quickly using bootstrap resamplings of the data:"
      ]
    },
    {
      "cell_type": "code",
      "metadata": {
        "deletable": true,
        "editable": true,
        "id": "uzT95qsd4R8o",
        "colab_type": "code",
        "colab": {}
      },
      "source": [
        "from sklearn.utils import resample\n",
        "np.random.seed(1)\n",
        "err = np.std([model.fit(*resample(X, y)).coef_\n",
        "              for i in range(1000)], 0)"
      ],
      "execution_count": 0,
      "outputs": []
    },
    {
      "cell_type": "markdown",
      "metadata": {
        "deletable": true,
        "editable": true,
        "id": "ToXmF0PD4R8q",
        "colab_type": "text"
      },
      "source": [
        "With these errors estimated, let's again look at the results:"
      ]
    },
    {
      "cell_type": "code",
      "metadata": {
        "deletable": true,
        "editable": true,
        "id": "K-pu8e-74R8r",
        "colab_type": "code",
        "outputId": "425af132-9221-44f0-e4bc-27c1b2c0d2c7",
        "colab": {
          "base_uri": "https://localhost:8080/",
          "height": 265
        }
      },
      "source": [
        "print(pd.DataFrame({'effect': params.round(0),\n",
        "                    'error': err.round(0)}))"
      ],
      "execution_count": 57,
      "outputs": [
        {
          "output_type": "stream",
          "text": [
            "              effect  error\n",
            "Mon           1010.0  173.0\n",
            "Tue           1220.0  166.0\n",
            "Wed           1185.0  166.0\n",
            "Thu            965.0  170.0\n",
            "Fri            356.0  162.0\n",
            "Sat          -2207.0  159.0\n",
            "Sun          -2267.0  166.0\n",
            "holiday      -2375.0  326.0\n",
            "daylight_hrs   258.0   18.0\n",
            "PRCP         -1330.0  125.0\n",
            "dry day       1095.0   66.0\n",
            "Temp (C)       130.0    7.0\n",
            "annual          54.0   35.0\n"
          ],
          "name": "stdout"
        }
      ]
    },
    {
      "cell_type": "markdown",
      "metadata": {
        "deletable": true,
        "editable": true,
        "id": "COduPwYG4R8u",
        "colab_type": "text"
      },
      "source": [
        "We first see that there is a relatively stable trend in the weekly baseline: there are many more riders on weekdays than on weekends and holidays.\n",
        "We see that for each additional hour of daylight, 258 ± 18 more people choose to ride; a temperature increase of one degree Celsius encourages 130 ± 7 people to grab their bicycle; a dry day means an average of 1095 ± 66 more riders, and each inch of precipitation means 1330 ± 125 more people leave their bike at home.\n",
        "Once all these effects are accounted for, we see a modest increase of 54 ± 1835\n",
        "\n",
        "Our model is almost certainly missing some relevant information. For example, nonlinear effects (such as effects of precipitation *and* cold temperature) and nonlinear trends within each variable (such as disinclination to ride at very cold and very hot temperatures) cannot be accounted for in this model.\n",
        "Additionally, we have thrown away some of the finer-grained information (such as the difference between a rainy morning and a rainy afternoon), and we have ignored correlations between days (such as the possible effect of a rainy Tuesday on Wednesday's numbers, or the effect of an unexpected sunny day after a streak of rainy days).\n",
        "These are all potentially interesting effects, and you now have the tools to begin exploring them if you wish!"
      ]
    },
    {
      "cell_type": "code",
      "metadata": {
        "id": "pjZ5Ln6jF9-T",
        "colab_type": "code",
        "colab": {}
      },
      "source": [
        ""
      ],
      "execution_count": 0,
      "outputs": []
    }
  ]
}