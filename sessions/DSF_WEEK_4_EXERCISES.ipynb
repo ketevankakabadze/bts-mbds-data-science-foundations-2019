{
  "nbformat": 4,
  "nbformat_minor": 0,
  "metadata": {
    "colab": {
      "name": "DSF_WEEK_4_EXERCISES.ipynb",
      "provenance": [],
      "collapsed_sections": []
    },
    "kernelspec": {
      "name": "python3",
      "display_name": "Python 3"
    }
  },
  "cells": [
    {
      "cell_type": "markdown",
      "metadata": {
        "id": "_a2hajcA99-K",
        "colab_type": "text"
      },
      "source": [
        "![BTS](https://github.com/vfp1/bts-mbds-data-science-foundations-2019/blob/master/sessions/img/Logo-BTS.jpg?raw=1)\n",
        "\n",
        "# WEEK 4: Assignements\n",
        "\n",
        "### Victor F. Pajuelo Madrigal <victor.pajuelo@bts.tech> - Data Science Foundations (2019-11-07)\n",
        "\n",
        "Open this notebook in Google Colaboratory: [![Open in Colab](https://colab.research.google.com/assets/colab-badge.svg)](https://colab.research.google.com/github/vfp1/bts-mbds-data-science-foundations-2019/blob/master/sessions/DSF_WEEK_4_EXERCISES.ipynb)"
      ]
    },
    {
      "cell_type": "markdown",
      "metadata": {
        "id": "HCvH2cLM_1Cq",
        "colab_type": "text"
      },
      "source": [
        "# Exercise 1: dispersion plots [OBLIGATORY]\n",
        "\n",
        "1. Load the `holy_grail.txt` dataset and create a dictionary of names and indexes like `{\"NAME\": [1, 2, 5, 10, ...]}` to store when does each NOUN appears among the 5 most frequent ones.\n",
        "3. Visualize in the same graph the appearances of the top 5 characters to compare them.\n",
        "4. **OPTIONAL**: Try the same exercise with [this file in the GitHub repo](https://github.com/vfp1/bts-mbds-data-science-foundations-2019/raw/master/sessions/data/pride_and_prejudice.txt)"
      ]
    },
    {
      "cell_type": "markdown",
      "metadata": {
        "id": "XrA3YsGkQVY4",
        "colab_type": "text"
      },
      "source": [
        "# Exercise 2: clustering words [OBLIGATORY]\n",
        "\n",
        "Generate a scatter plot with the distance of the words in [this file](https://github.com/vfp1/bts-mbds-data-science-foundations-2019/raw/master/sessions/data/1-1000.txt). Load it correctly, beware not to load it as html! Use either PCA or t-SNE to cluster the words, play with different language models. For extra points, find the way to annotate the labels without clustering them, using arrows for instance. [Hint](https://stackoverflow.com/questions/40021676/pyplot-label-scatter-plot-with-coincident-points-overlapping-annotations)."
      ]
    },
    {
      "cell_type": "markdown",
      "metadata": {
        "id": "kRIP0xZeYrvn",
        "colab_type": "text"
      },
      "source": [
        "# Exercise 3: Jaccard Similairty and TF-IDF [OBLIGATORY]\n",
        "\n",
        "Collect at least 7 sentences from political parties in your country. Try to do Jaccard Similarity and tf-idf on them so that you can see what are the most common words used between the parties. You neeed to translate the sentences to english, so that I can evaluate :)\n",
        "\n",
        "Why Jaccard Similarity tends to fail? [Hint](https://medium.com/@adriensieg/text-similarities-da019229c894)\n",
        "\n",
        "If you do not want to collect those sentences use the following:\n",
        "\n"
      ]
    },
    {
      "cell_type": "code",
      "metadata": {
        "id": "pScF0XDi0ps3",
        "colab_type": "code",
        "colab": {}
      },
      "source": [
        "t0 = \"President Trump greets the press in Chicago addressing the Cambridge Analytica release\"\n",
        "t1 = \"Trump speaks in front of the press in Chicago, regarding the Cambridge Analytica scandal\"\n",
        "t2 = \"Vladimir Putin, president of Russia, denies any involvement with electoral hacking through Cambridge Analytica\"\n",
        "t3 = \"Democrats accuse Russia of interfernig the United States elections using hacking methods\"\n",
        "t4 = \"Republicans deny any interference from Russia into the elections, and mock democrats about it\"\n",
        "t5 = \"Vladimir Putin attends a press conference about the issues occurring in Crimea\"\n",
        "t6 = \"The president of Russia, Vladimir Putin, replied questions regarding the scandal around Crimea\""
      ],
      "execution_count": 0,
      "outputs": []
    },
    {
      "cell_type": "code",
      "metadata": {
        "id": "Xn_3i2LchlI6",
        "colab_type": "code",
        "colab": {}
      },
      "source": [
        ""
      ],
      "execution_count": 0,
      "outputs": []
    }
  ]
}