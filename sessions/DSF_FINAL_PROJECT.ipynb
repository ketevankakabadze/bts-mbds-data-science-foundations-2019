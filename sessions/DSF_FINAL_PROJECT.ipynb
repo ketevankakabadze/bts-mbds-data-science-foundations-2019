{
  "nbformat": 4,
  "nbformat_minor": 0,
  "metadata": {
    "colab": {
      "name": "DSF_FINAL_PROJECT.ipynb",
      "provenance": []
    },
    "kernelspec": {
      "name": "python3",
      "display_name": "Python 3"
    }
  },
  "cells": [
    {
      "cell_type": "code",
      "metadata": {
        "id": "KSVTyV_iStJv",
        "colab_type": "code",
        "colab": {}
      },
      "source": [
        "![BTS](https://github.com/vfp1/bts-mbds-data-science-foundations-2019/raw/master/sessions/img/Logo-BTS.jpg)\n",
        "\n",
        "# FINAL PROJECT\n",
        "\n",
        "### Victor F. Pajuelo Madrigal <victor.pajuelo@bts.tech> - Data Science Foundations (2019-11-19)\n",
        "\n",
        "Open this notebook in Google Colaboratory: [![Open in Colab](https://colab.research.google.com/assets/colab-badge.svg)](https://colab.research.google.com/github/vfp1/bts-mbds-data-science-foundations-2019/blob/master/sessions/DSF_FINAL_PROJECT.ipynb)"
      ],
      "execution_count": 0,
      "outputs": []
    },
    {
      "cell_type": "markdown",
      "metadata": {
        "id": "vM0SM4jCS1bS",
        "colab_type": "text"
      },
      "source": [
        "# Regarding the final project for the class\n",
        "\n",
        "You will not have more assignements from now, you will only need to work on your final project. For that you will need to choose a topic. You will be using **the image and text** datasets that we have seen on our sessions. \n",
        "\n",
        "It doesn't need to be a super revolutionary idea, but at least have in mind the issue of reducing the time between information and action. And you will need to send it to me. \n",
        "\n",
        "The project will need to contain the following steps:\n",
        "\n",
        "1. Ingesting, exploring and cleaning data for your project\n",
        "2. Choosing/testing of algorithm approach\n",
        "3. Visualizing the results\n",
        "4. Packaging the project into a product\n",
        "\n",
        "You will be using codes from class to support you on the second, third and forth parts of the project. \n",
        "\n",
        "I am not looking for excellence, and I do not mind that you copy/paste code, but always try to understand why. \n",
        "\n",
        "Afternoon sessions will be used to solve project issues."
      ]
    },
    {
      "cell_type": "code",
      "metadata": {
        "id": "5qAFxroDTP4J",
        "colab_type": "code",
        "colab": {}
      },
      "source": [
        ""
      ],
      "execution_count": 0,
      "outputs": []
    }
  ]
}